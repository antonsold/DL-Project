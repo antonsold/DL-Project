{
 "cells": [
  {
   "cell_type": "markdown",
   "metadata": {},
   "source": [
    "## Imports"
   ]
  },
  {
   "cell_type": "code",
   "execution_count": 1,
   "metadata": {},
   "outputs": [],
   "source": [
    "import torch\n",
    "from torch import nn\n",
    "from torch.nn import functional as F\n",
    "\n",
    "import dlc_practical_prologue"
   ]
  },
  {
   "cell_type": "markdown",
   "metadata": {},
   "source": [
    "## Load data"
   ]
  },
  {
   "cell_type": "code",
   "execution_count": 2,
   "metadata": {},
   "outputs": [],
   "source": [
    "N = 1000\n",
    "\n",
    "x_train, y_train, y_train_classes, x_test, y_test, y_test_classes = \\\n",
    "dlc_practical_prologue.generate_pair_sets(N)\n",
    "\n",
    "assert x_train.shape == torch.Size([N, 2, 14, 14])\n",
    "assert y_train.shape == torch.Size([N])\n",
    "assert y_train_classes.shape == torch.Size([N, 2])\n",
    "assert x_test.shape == torch.Size([N, 2, 14, 14])\n",
    "assert y_test.shape == torch.Size([N])\n",
    "assert y_test_classes.shape == torch.Size([N, 2])"
   ]
  },
  {
   "cell_type": "markdown",
   "metadata": {},
   "source": [
    "## Define model"
   ]
  },
  {
   "cell_type": "code",
   "execution_count": 63,
   "metadata": {},
   "outputs": [],
   "source": [
    "class model_1(nn.Module):\n",
    "    def __init__(self):\n",
    "        super(model_1, self).__init__()\n",
    "        self.conv1 = nn.Conv2d(2, 16, kernel_size=3)        \n",
    "        self.conv2 = nn.Conv2d(16, 32, kernel_size=3)\n",
    "\n",
    "        self.dense1 = nn.Linear(288, 10)\n",
    "        self.dense2 = nn.Linear(10, 1)\n",
    "        \n",
    "    def forward(self, x):\n",
    "        x = F.max_pool2d(self.conv1(x), kernel_size=2)\n",
    "        x = F.max_pool2d(self.conv2(x), kernel_size=2)\n",
    "        x = F.relu(self.dense1(torch.flatten(x, 1)))\n",
    "        x = F.sigmoid(self.dense2(x))\n",
    "        return x"
   ]
  },
  {
   "cell_type": "code",
   "execution_count": 75,
   "metadata": {},
   "outputs": [],
   "source": [
    "class model_2(nn.Module):\n",
    "    def __init__(self):\n",
    "        super(model_1, self).__init__()\n",
    "        self.conv1 = nn.Conv2d(2, 10, kernel_size=3, padding=2)        \n",
    "        self.conv2 = nn.Conv2d(10, 20, kernel_size=3, padding=2)\n",
    "        self.conv3 = nn.Conv2d(20, 10, kernel_size=3, padding=2)\n",
    "        self.conv4 = nn.Conv2d(10, 5, kernel_size=3, padding=2)\n",
    "        self.conv5 = nn.Conv2d(5, 2, kernel_size=3, padding=2)\n",
    "\n",
    "        self.dense1 = nn.Linear(72, 10)\n",
    "        self.dense2 = nn.Linear(10, 1)\n",
    "        \n",
    "    def forward(self, x):\n",
    "        x = F.relu(self.conv1(x))\n",
    "        x = F.relu(self.conv2(x))\n",
    "        x = F.relu(self.conv3(x))\n",
    "        x = F.max_pool2d(self.conv4(x), kernel_size=2)\n",
    "        x = F.max_pool2d(self.conv5(x), kernel_size=2)\n",
    "        \n",
    "        x = F.relu(self.dense1(torch.flatten(x, 1)))\n",
    "        x = torch.flatten(torch.sigmoid(self.dense2(x))) # Last flatten to have [batch_size] instead of [batch_size, 1]\n",
    "        return x"
   ]
  },
  {
   "cell_type": "code",
   "execution_count": 76,
   "metadata": {},
   "outputs": [],
   "source": [
    "class model_weight_sharing(nn.Module):\n",
    "    def __init__(self):\n",
    "        super(model_weight_sharing, self).__init__()\n",
    "        self.conv1 = nn.Conv2d(1, 20, kernel_size=3)        \n",
    "        self.conv2 = nn.Conv2d(20, 40, kernel_size=3)\n",
    "\n",
    "        self.dense1 = nn.Linear(320, 40)\n",
    "        self.dense2 = nn.Linear(40, 1)\n",
    "        \n",
    "    def forward(self, x):\n",
    "        d1 = F.max_pool2d(self.conv1(x[:, 0:1, ...]), kernel_size=2)\n",
    "        d1 = F.max_pool2d(self.conv2(d1), kernel_size=2)\n",
    "        d1 = torch.flatten(d1, 1)\n",
    "        \n",
    "        d2 = F.max_pool2d(self.conv1(x[:, 1:2, ...]), kernel_size=2)\n",
    "        d2 = F.max_pool2d(self.conv2(d2), kernel_size=2)\n",
    "        d2 = torch.flatten(d2, 1)\n",
    "\n",
    "        x = torch.cat((d1, d2), 1)\n",
    "        x = F.relu(self.dense1(torch.flatten(x, 1)))\n",
    "        x = torch.flatten(F.sigmoid(self.dense2(x)))\n",
    "        return x"
   ]
  },
  {
   "cell_type": "code",
   "execution_count": 78,
   "metadata": {},
   "outputs": [],
   "source": [
    "class model_auxiliary_loss(nn.Module):\n",
    "    def __init__(self):\n",
    "        super(model_auxiliary_loss, self).__init__()\n",
    "        self.conv1 = nn.Conv2d(2, 10, kernel_size=3)   #2*14*14 => 10*12*12  (Maxpool => 10*6*6)  \n",
    "        self.conv2 = nn.Conv2d(10, 10, kernel_size=3)  #10*6*6 => 10* 4 * 4 (Maxpool => 10*2*2)\n",
    "\n",
    "        self.dense_digits1 = nn.Linear(40, 10)\n",
    "        self.dense_digits2 = nn.Linear(40, 10)\n",
    "        \n",
    "        self.dense1 = nn.Linear(40, 10)\n",
    "        self.dense2 = nn.Linear(10, 1)\n",
    "        \n",
    "    def forward(self, x):\n",
    "        x = F.max_pool2d(self.conv1(x), kernel_size=2)\n",
    "        x = F.max_pool2d(self.conv2(x), kernel_size=2)\n",
    "        \n",
    "        x = torch.flatten(x, 1)\n",
    "        \n",
    "        self.digits1 = F.softmax((self.dense_digits1(x)), -1)\n",
    "        self.digits2 = F.softmax((self.dense_digits2(x)), -1)\n",
    "        \n",
    "        x = F.relu(self.dense1(x))\n",
    "        x = torch.flatten(torch.sigmoid(self.dense2(x)))\n",
    "        return x"
   ]
  },
  {
   "cell_type": "markdown",
   "metadata": {},
   "source": [
    "## Training/Evaluation function"
   ]
  },
  {
   "cell_type": "code",
   "execution_count": 55,
   "metadata": {},
   "outputs": [],
   "source": [
    "def train_model(model, train_input, train_target, epochs, optimizer, loss_function = nn.BCELoss(), batch_size=10):\n",
    "    # Inspired by exercise corrige \n",
    "    model.train()\n",
    "    \n",
    "    losses = []\n",
    "    \n",
    "    for e in range(epochs):\n",
    "        sum_loss = 0\n",
    "        \n",
    "        for x_batch, y_batch in zip(x_train.split(batch_size),\n",
    "                                    y_train.split(batch_size)):\n",
    "            \n",
    "            output = model(x_batch)\n",
    "            loss = loss_function(output, y_batch.float())\n",
    "            \n",
    "            optimizer.zero_grad()\n",
    "            loss.backward()\n",
    "            optimizer.step()\n",
    "            \n",
    "            sum_loss = sum_loss + loss.item()\n",
    "            \n",
    "            \n",
    "        losses.append(sum_loss)\n",
    "        print(\"Epoch %i : loss %.2f\" % (e, sum_loss), end = \"\\r\")\n",
    "        \n",
    "    return losses"
   ]
  },
  {
   "cell_type": "code",
   "execution_count": 56,
   "metadata": {},
   "outputs": [],
   "source": [
    "def train_auxiliary_model(model, train_input, train_target, digit_target,\n",
    "                          epochs, optimizer, loss_function = nn.BCELoss(), batch_size=10):\n",
    "    # Inspired by exercise corrige \n",
    "    model.train()\n",
    "    \n",
    "    losses = []\n",
    "    digit_loss = nn.CrossEntropyLoss()\n",
    "    \n",
    "    for e in range(epochs):\n",
    "        sum_loss = 0\n",
    "        sum_loss_digit1 = 0\n",
    "        sum_loss_digit2 = 0\n",
    "        \n",
    "        for x_batch, y_batch, y_digit_batch in zip(x_train.split(batch_size),\n",
    "                                                    y_train.split(batch_size),\n",
    "                                                    digit_target.split(batch_size)):\n",
    "            \n",
    "            output = model(x_batch)\n",
    "\n",
    "            loss_digit1 = digit_loss(model.digits1, y_digit_batch[..., 0])\n",
    "            loss_digit2 = digit_loss(model.digits2, y_digit_batch[..., 1])\n",
    "            loss = loss_function(output, y_batch.float())\n",
    "            \n",
    "            loss_total = loss_digit1 + loss_digit2 + loss\n",
    "\n",
    "            optimizer.zero_grad()\n",
    "            loss_total.backward()  \n",
    "            optimizer.step()\n",
    "            \n",
    "            sum_loss_digit1 = sum_loss_digit1 + loss_digit1.item()\n",
    "            sum_loss_digit2 = sum_loss_digit2 + loss_digit2.item()\n",
    "            sum_loss = sum_loss + loss.item()\n",
    "            \n",
    "            \n",
    "        losses.append(sum_loss)\n",
    "        print(\"Epoch %i : loss %.2f --- loss_digit1 %.2f --- loss_digit2 %.2f\" \\\n",
    "              % (e,sum_loss, sum_loss_digit1, sum_loss_digit2))\n",
    "        \n",
    "    return losses"
   ]
  },
  {
   "cell_type": "code",
   "execution_count": 35,
   "metadata": {},
   "outputs": [],
   "source": [
    "def evaluate_model(model, test_input, test_target):\n",
    "    model.eval()\n",
    "    criterion = nn.BCELoss()\n",
    "    preds_proba = model(test_input).view(-1)\n",
    "    preds = preds_proba.masked_fill((preds_proba > 0.5), 1).masked_fill((preds_proba<0.5), 0)\n",
    "    \n",
    "    loss = criterion(preds_proba, test_target.float()).item()\n",
    "    accuracy = (preds == test_target).sum().item()/preds.size(0)\n",
    "    #accuracy = sum([pred == truth for pred, truth in zip(preds, test_target)])\n",
    "    return loss, accuracy"
   ]
  },
  {
   "cell_type": "code",
   "execution_count": 36,
   "metadata": {},
   "outputs": [],
   "source": [
    "def mean(x):\n",
    "    return sum(x)/len(x)\n",
    "\n",
    "def var(x):\n",
    "    u = mean(x)\n",
    "    return sum([(v-u)**2 for v in x])/len(x)"
   ]
  },
  {
   "cell_type": "code",
   "execution_count": 112,
   "metadata": {},
   "outputs": [],
   "source": [
    "def number_parameters(model):\n",
    "    return sum(p.numel() for p in model.parameters())"
   ]
  },
  {
   "cell_type": "markdown",
   "metadata": {},
   "source": [
    "## Experiment"
   ]
  },
  {
   "cell_type": "code",
   "execution_count": 106,
   "metadata": {},
   "outputs": [],
   "source": [
    "class model_1(nn.Module):\n",
    "    def __init__(self):\n",
    "        super(model_1, self).__init__()\n",
    "        self.conv1 = nn.Conv2d(2, 20, kernel_size=3)        \n",
    "        self.conv2 = nn.Conv2d(20, 40, kernel_size=3)\n",
    "        self.conv3 = nn.Conv2d(40, 40, kernel_size=3)\n",
    "        self.conv4 = nn.Conv2d(40, 40, kernel_size=3)\n",
    "\n",
    "        self.dense1 = nn.Linear(360, 40)\n",
    "        self.dense2 = nn.Linear(40, 1)\n",
    "        \n",
    "    def forward(self, x):\n",
    "        x = F.relu(self.conv1(x))\n",
    "        x = F.relu(self.conv2(x))\n",
    "        x = F.relu(self.conv3(x))\n",
    "        x = F.max_pool2d(self.conv4(x), kernel_size=2)\n",
    "        \n",
    "        x = F.relu(self.dense1(torch.flatten(x, 1)))\n",
    "        x = torch.flatten(F.sigmoid(self.dense2(x)))\n",
    "        return x"
   ]
  },
  {
   "cell_type": "code",
   "execution_count": 111,
   "metadata": {},
   "outputs": [
    {
     "data": {
      "text/plain": [
       "4"
      ]
     },
     "execution_count": 111,
     "metadata": {},
     "output_type": "execute_result"
    }
   ],
   "source": [
    "torch.numel(torch.Tensor([2, 3, 4, 5]))"
   ]
  },
  {
   "cell_type": "code",
   "execution_count": 113,
   "metadata": {
    "scrolled": false
   },
   "outputs": [
    {
     "name": "stdout",
     "output_type": "stream",
     "text": [
      "Starting 10 training of 25 epochs, with model containing 50981 parameters.\n",
      "Attempt 1 : loss 0.7726807594299316 - accuracy 81.0%\n",
      "Attempt 2 : loss 0.8199782371520996 - accuracy 82.3%\n",
      "Attempt 3 : loss 0.7827103734016418 - accuracy 81.9%\n",
      "Attempt 4 : loss 0.770609438419342 - accuracy 82.6%\n",
      "Attempt 5 : loss 0.8177830576896667 - accuracy 81.8%\n",
      "Attempt 6 : loss 0.8201889991760254 - accuracy 81.0%\n",
      "Attempt 7 : loss 0.7858431935310364 - accuracy 81.1%\n",
      "Attempt 8 : loss 0.8350706100463867 - accuracy 80.5%\n",
      "Attempt 9 : loss 0.7542928457260132 - accuracy 81.8%\n",
      "Attempt 10 : loss 0.9408116340637207 - accuracy 81.3%\n",
      "Experiment results :\n",
      "Loss mean : 0.81 (0.003)\n",
      "Accuracy mean : 81.53% (0.4)\n"
     ]
    }
   ],
   "source": [
    "number_training = 10\n",
    "epochs = 25\n",
    "\n",
    "losses = []\n",
    "train_losses = []\n",
    "accuracies = []\n",
    "\n",
    "auxiliary = False\n",
    "\n",
    "build_model = model_1\n",
    "# build_model = model_2\n",
    "# build_model = model_weight_sharing\n",
    "\n",
    "if auxiliary:\n",
    "    build_model = model_auxiliary_loss\n",
    "\n",
    "print(\"Starting %i training of %i epochs, with model containing %i parameters.\" % \n",
    "      (number_training, epochs, number_parameters(build_model())))\n",
    "    \n",
    "for i_train in range(number_training):\n",
    "    \n",
    "    model = build_model()\n",
    "    optimizer = torch.optim.Adam(model.parameters(), lr=0.0005)\n",
    "\n",
    "    indices_shuffle = torch.randperm(N)\n",
    "    \n",
    "    if not auxiliary :\n",
    "        train_loss = train_model(model, \n",
    "                                x_train[indices_shuffle],\n",
    "                                y_train[indices_shuffle],  \n",
    "                                epochs = epochs,\n",
    "                                optimizer=optimizer,\n",
    "                                batch_size = 32)\n",
    "\n",
    "    else :\n",
    "        train_loss = train_auxiliary_model(model, \n",
    "                                        x_train[indices_shuffle],\n",
    "                                        y_train[indices_shuffle], \n",
    "                                        y_train_classes[indices_shuffle],\n",
    "                                        epochs = epochs,\n",
    "                                        optimizer=optimizer,\n",
    "                                        batch_size = 32)\n",
    "    \n",
    "    loss, accuracy = evaluate_model(model, x_test, y_test)\n",
    "    accuracy *= 100\n",
    "    print(\"Attempt\", i_train + 1, \": loss\", loss, \"- accuracy %.1f%%\" % accuracy)\n",
    "    losses.append(loss)\n",
    "    train_losses.append(train_loss)\n",
    "    accuracies.append(accuracy)\n",
    "\n",
    "print(\"Experiment results :\")\n",
    "print(\"Loss mean : %.2f (%.3f)\" % (mean(losses), var(losses)))\n",
    "print(\"Accuracy mean : %.2f%% (%.1f)\" % (mean(accuracies), var(accuracies)))"
   ]
  }
 ],
 "metadata": {
  "kernelspec": {
   "display_name": "pytorch",
   "language": "python",
   "name": "pytorch"
  },
  "language_info": {
   "codemirror_mode": {
    "name": "ipython",
    "version": 3
   },
   "file_extension": ".py",
   "mimetype": "text/x-python",
   "name": "python",
   "nbconvert_exporter": "python",
   "pygments_lexer": "ipython3",
   "version": "3.8.2"
  }
 },
 "nbformat": 4,
 "nbformat_minor": 4
}
