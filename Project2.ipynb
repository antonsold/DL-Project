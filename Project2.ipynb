{
 "cells": [
  {
   "cell_type": "markdown",
   "metadata": {},
   "source": [
    "# Project 2"
   ]
  },
  {
   "cell_type": "code",
   "execution_count": 1,
   "metadata": {},
   "outputs": [
    {
     "data": {
      "text/plain": [
       "<torch.autograd.grad_mode.set_grad_enabled at 0x1d22221c588>"
      ]
     },
     "execution_count": 1,
     "metadata": {},
     "output_type": "execute_result"
    }
   ],
   "source": [
    "import torch\n",
    "import math\n",
    "torch.set_grad_enabled(False)"
   ]
  },
  {
   "cell_type": "code",
   "execution_count": 2,
   "metadata": {},
   "outputs": [],
   "source": [
    "class Module(object):\n",
    "    def __init__(self):\n",
    "        self.parameters = []\n",
    "        \n",
    "    def forward(self, *input):\n",
    "        raise NotImplementedError\n",
    "        \n",
    "    def backward(self, *gradwrtoutput):\n",
    "        raise NotImplementedError\n",
    "        \n",
    "    def param(self):\n",
    "        return self.parameters"
   ]
  },
  {
   "cell_type": "code",
   "execution_count": 72,
   "metadata": {},
   "outputs": [],
   "source": [
    "class Linear(Module):\n",
    "    def __init__(self, in_features, out_features, bias=False):\n",
    "        init_range = math.sqrt(in_features)\n",
    "        self.weights = torch.Tensor(in_features, out_features).uniform_(-init_range, init_range)\n",
    "        self.grad_w = torch.zeros((in_features, out_features))\n",
    "        self.parameters = [(self.weights, self.grad_w)]\n",
    "        if bias:\n",
    "            self.bias = torch.Tensor(out_features).uniform_(-init_range, init_range)\n",
    "            self.grad_b = torch.zeros(out_features)\n",
    "            self.parameters.append((self.bias, self.grad_b))\n",
    "        else:\n",
    "            self.bias = None\n",
    "        \n",
    "    def forward(self, input_):\n",
    "        self.input = input_\n",
    "        if self.bias != None:\n",
    "            return torch.addmm(self.bias, input_, self.weights)\n",
    "        else:\n",
    "            return input_.matmul(self.weights)\n",
    "        \n",
    "    def backward(self, grad_output):\n",
    "        self.grad_w += self.input.t().matmul(grad_output)\n",
    "        grad_input = grad_output.matmul(self.weights.t())\n",
    "        if self.bias != None:\n",
    "            self.grad_b += grad_output.sum(dim=0)\n",
    "        return grad_input"
   ]
  },
  {
   "cell_type": "code",
   "execution_count": 70,
   "metadata": {},
   "outputs": [],
   "source": [
    "class ReLU(Module):\n",
    "    \n",
    "    def forward(self, input_):\n",
    "        self.input = input_\n",
    "        return torch.relu(input_)\n",
    "    \n",
    "    def backward(self, grad_output):\n",
    "        return torch.mul((self.input > 0).int(), grad_output)"
   ]
  },
  {
   "cell_type": "code",
   "execution_count": 66,
   "metadata": {},
   "outputs": [],
   "source": [
    "class MSELoss(Module):\n",
    "    def __init__(self):\n",
    "        pass\n",
    "    \n",
    "    def forward(self, input_, target):\n",
    "        return (input_ - target).pow(2)\n",
    "    \n",
    "    def backward(self, input_, target):\n",
    "        return (input_ - target).mul(2)"
   ]
  },
  {
   "cell_type": "code",
   "execution_count": 63,
   "metadata": {},
   "outputs": [],
   "source": [
    "def generate_set(size):\n",
    "    input_ = torch.Tensor(size, 2).uniform_(0, 1)\n",
    "    target = input_.sub(0.5).pow(2).sum(axis=1).sub(1 / math.pi ** 2).sign().add(1).div(2)\n",
    "    return input_, target\n",
    "\n",
    "train_input, train_target = generate_set(1000)\n",
    "test_input, test_target = generate_set(1000)"
   ]
  },
  {
   "cell_type": "code",
   "execution_count": 69,
   "metadata": {},
   "outputs": [],
   "source": [
    "class Model:\n",
    "    def __init__(self, layers, loss):\n",
    "        self.layers = layers\n",
    "        self.loss = loss\n",
    "        self.parameters = []\n",
    "        for layer in layers:\n",
    "            self.parameters += layer.parameters\n",
    "    \n",
    "    def zero_grad(self):\n",
    "        for param in self.parameters:\n",
    "            param[1].zero_()\n",
    "    \n",
    "    def forward(self, input_):\n",
    "        x = input_\n",
    "        for layer in self.layers:\n",
    "            x = layer.forward(x)\n",
    "        return x\n",
    "    \n",
    "    "
   ]
  },
  {
   "cell_type": "code",
   "execution_count": null,
   "metadata": {},
   "outputs": [],
   "source": []
  }
 ],
 "metadata": {
  "kernelspec": {
   "display_name": "Python 3",
   "language": "python",
   "name": "python3"
  },
  "language_info": {
   "codemirror_mode": {
    "name": "ipython",
    "version": 3
   },
   "file_extension": ".py",
   "mimetype": "text/x-python",
   "name": "python",
   "nbconvert_exporter": "python",
   "pygments_lexer": "ipython3",
   "version": "3.7.5"
  }
 },
 "nbformat": 4,
 "nbformat_minor": 2
}
