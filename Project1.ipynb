{
 "cells": [
  {
   "cell_type": "markdown",
   "metadata": {},
   "source": [
    "## Imports"
   ]
  },
  {
   "cell_type": "code",
   "execution_count": 3,
   "metadata": {},
   "outputs": [],
   "source": [
    "import torch\n",
    "from torch import nn\n",
    "from torch.nn import functional as F\n",
    "\n",
    "import dlc_practical_prologue"
   ]
  },
  {
   "cell_type": "markdown",
   "metadata": {},
   "source": [
    "## Load data"
   ]
  },
  {
   "cell_type": "code",
   "execution_count": 4,
   "metadata": {},
   "outputs": [],
   "source": [
    "N = 1000\n",
    "\n",
    "x_train, y_train, y_train_classes, x_test, y_test, y_test_classes = \\\n",
    "dlc_practical_prologue.generate_pair_sets(N)\n",
    "\n",
    "assert x_train.shape == torch.Size([N, 2, 14, 14])\n",
    "assert y_train.shape == torch.Size([N])\n",
    "assert y_train_classes.shape == torch.Size([N, 2])\n",
    "assert x_test.shape == torch.Size([N, 2, 14, 14])\n",
    "assert y_test.shape == torch.Size([N])\n",
    "assert y_test_classes.shape == torch.Size([N, 2])"
   ]
  },
  {
   "cell_type": "markdown",
   "metadata": {},
   "source": [
    "## Define model"
   ]
  },
  {
   "cell_type": "code",
   "execution_count": 79,
   "metadata": {},
   "outputs": [],
   "source": [
    "class model_1(nn.Module):\n",
    "    def __init__(self):\n",
    "        super(model_1, self).__init__()\n",
    "        self.conv1 = nn.Conv2d(2, 10, kernel_size=3)\n",
    "#         self.maxpool1 = nn.MaxPool2d(2)\n",
    "        \n",
    "        self.conv2 = nn.Conv2d(10, 10, kernel_size=3)\n",
    "#         self.maxpool2 = nn.MaxPool2d(2)\n",
    "\n",
    "        self.dense1 = nn.Linear(40, 10)\n",
    "        self.dense2 = nn.Linear(10, 1)\n",
    "        \n",
    "    def forward(self, x):\n",
    "#         x = self.maxpool1(self.conv1(x))\n",
    "#         x = self.maxpool2(self.conv2(x))\n",
    "\n",
    "        x = F.max_pool2d(self.conv1(x), kernel_size=2)\n",
    "        x = F.max_pool2d(self.conv2(x), kernel_size=2)\n",
    "        x = F.relu(self.dense1(x.view(-1)))\n",
    "        x = F.sigmoid(self.dense2(x))\n",
    "        return x"
   ]
  },
  {
   "cell_type": "markdown",
   "metadata": {},
   "source": [
    "## Training/Evaluation function"
   ]
  },
  {
   "cell_type": "code",
   "execution_count": 80,
   "metadata": {},
   "outputs": [],
   "source": [
    "def train_model(model, train_input, train_target, epochs):\n",
    "    # Inspired by exercise corrige \n",
    "    model.train()\n",
    "    \n",
    "    criterion = nn.BCELoss()\n",
    "    eta = 0.01\n",
    "\n",
    "    for e in range(epochs):\n",
    "        sum_loss = 0\n",
    "        for i in range(0, train_input.size(0)):\n",
    "            output = model(train_input[i:i+1])[0]\n",
    "            loss = criterion(output, train_target[i:i+1].float())\n",
    "            model.zero_grad()\n",
    "            loss.backward()\n",
    "            sum_loss = sum_loss + loss.item()\n",
    "\n",
    "            for p in model.parameters():\n",
    "                p -= eta * p.grad"
   ]
  },
  {
   "cell_type": "code",
   "execution_count": 81,
   "metadata": {},
   "outputs": [],
   "source": [
    "def evaluate_model(model, test_input, test_target):\n",
    "    model.eval()\n",
    "    criterion = nn.BCELoss()\n",
    "    preds_proba = model(test_input)\n",
    "    print(preds_proba.shape)\n",
    "    \n",
    "    loss = criterion(preds_proba, test_target.float()).item()\n",
    "    \n",
    "    accuracy = (preds == test_target).sum().item()/preds.size(0)\n",
    "    #accuracy = sum([pred == truth for pred, truth in zip(preds, test_target)])\n",
    "    return loss, accuracy"
   ]
  },
  {
   "cell_type": "code",
   "execution_count": 82,
   "metadata": {},
   "outputs": [],
   "source": [
    "def mean(x):\n",
    "    return sum(x)/len(x)\n",
    "\n",
    "def var(x):\n",
    "    u = mean(x)\n",
    "    return sum([(loss-u)**2 for loss in x])/len(x)"
   ]
  },
  {
   "cell_type": "markdown",
   "metadata": {},
   "source": [
    "## Experiment"
   ]
  },
  {
   "cell_type": "code",
   "execution_count": 86,
   "metadata": {},
   "outputs": [
    {
     "name": "stdout",
     "output_type": "stream",
     "text": [
      "torch.Size([10, 2, 3, 3])\n",
      "torch.Size([10])\n",
      "torch.Size([10, 10, 3, 3])\n",
      "torch.Size([10])\n",
      "torch.Size([10, 40])\n",
      "torch.Size([10])\n",
      "torch.Size([1, 10])\n",
      "torch.Size([1])\n"
     ]
    }
   ],
   "source": [
    "for p in model.parameters():\n",
    "    print(p.shape)"
   ]
  },
  {
   "cell_type": "code",
   "execution_count": 83,
   "metadata": {},
   "outputs": [
    {
     "name": "stderr",
     "output_type": "stream",
     "text": [
      "C:\\Users\\SimonRoquette\\Anaconda3\\envs\\pytorch\\lib\\site-packages\\torch\\nn\\functional.py:1569: UserWarning: nn.functional.sigmoid is deprecated. Use torch.sigmoid instead.\n",
      "  warnings.warn(\"nn.functional.sigmoid is deprecated. Use torch.sigmoid instead.\")\n",
      "C:\\Users\\SimonRoquette\\Anaconda3\\envs\\pytorch\\lib\\site-packages\\torch\\nn\\modules\\loss.py:516: UserWarning: Using a target size (torch.Size([1])) that is different to the input size (torch.Size([])) is deprecated. Please ensure they have the same size.\n",
      "  return F.binary_cross_entropy(input, target, weight=self.weight, reduction=self.reduction)\n"
     ]
    },
    {
     "ename": "RuntimeError",
     "evalue": "a leaf Variable that requires grad is being used in an in-place operation.",
     "output_type": "error",
     "traceback": [
      "\u001b[1;31m---------------------------------------------------------------------------\u001b[0m",
      "\u001b[1;31mRuntimeError\u001b[0m                              Traceback (most recent call last)",
      "\u001b[1;32m<ipython-input-83-0546e27f6f57>\u001b[0m in \u001b[0;36m<module>\u001b[1;34m\u001b[0m\n\u001b[0;32m      9\u001b[0m     \u001b[0mindices_shuffle\u001b[0m \u001b[1;33m=\u001b[0m \u001b[0mtorch\u001b[0m\u001b[1;33m.\u001b[0m\u001b[0mrandperm\u001b[0m\u001b[1;33m(\u001b[0m\u001b[0mN\u001b[0m\u001b[1;33m)\u001b[0m\u001b[1;33m\u001b[0m\u001b[1;33m\u001b[0m\u001b[0m\n\u001b[0;32m     10\u001b[0m \u001b[1;33m\u001b[0m\u001b[0m\n\u001b[1;32m---> 11\u001b[1;33m     train_model(model, \n\u001b[0m\u001b[0;32m     12\u001b[0m                 \u001b[0mx_train\u001b[0m\u001b[1;33m[\u001b[0m\u001b[0mindices_shuffle\u001b[0m\u001b[1;33m]\u001b[0m\u001b[1;33m,\u001b[0m\u001b[1;33m\u001b[0m\u001b[1;33m\u001b[0m\u001b[0m\n\u001b[0;32m     13\u001b[0m                 \u001b[0my_train\u001b[0m\u001b[1;33m[\u001b[0m\u001b[0mindices_shuffle\u001b[0m\u001b[1;33m]\u001b[0m\u001b[1;33m,\u001b[0m\u001b[1;33m\u001b[0m\u001b[1;33m\u001b[0m\u001b[0m\n",
      "\u001b[1;32m<ipython-input-80-c8b14e85860d>\u001b[0m in \u001b[0;36mtrain_model\u001b[1;34m(model, train_input, train_target, epochs)\u001b[0m\n\u001b[0;32m     16\u001b[0m \u001b[1;33m\u001b[0m\u001b[0m\n\u001b[0;32m     17\u001b[0m             \u001b[1;32mfor\u001b[0m \u001b[0mp\u001b[0m \u001b[1;32min\u001b[0m \u001b[0mmodel\u001b[0m\u001b[1;33m.\u001b[0m\u001b[0mparameters\u001b[0m\u001b[1;33m(\u001b[0m\u001b[1;33m)\u001b[0m\u001b[1;33m:\u001b[0m\u001b[1;33m\u001b[0m\u001b[1;33m\u001b[0m\u001b[0m\n\u001b[1;32m---> 18\u001b[1;33m                 \u001b[0mp\u001b[0m \u001b[1;33m-=\u001b[0m \u001b[0meta\u001b[0m \u001b[1;33m*\u001b[0m \u001b[0mp\u001b[0m\u001b[1;33m.\u001b[0m\u001b[0mgrad\u001b[0m\u001b[1;33m\u001b[0m\u001b[1;33m\u001b[0m\u001b[0m\n\u001b[0m",
      "\u001b[1;31mRuntimeError\u001b[0m: a leaf Variable that requires grad is being used in an in-place operation."
     ]
    }
   ],
   "source": [
    "number_training = 10\n",
    "epochs = 25\n",
    "\n",
    "losses = []\n",
    "accuracies = []\n",
    "for i_train in range(number_training):\n",
    "    \n",
    "    model = model_1()\n",
    "    indices_shuffle = torch.randperm(N)\n",
    "    \n",
    "    train_model(model, \n",
    "                x_train[indices_shuffle],\n",
    "                y_train[indices_shuffle],  \n",
    "                epochs = epochs)\n",
    "    \n",
    "    loss, accuracy = evaluate_model(model, x_test, y_test)\n",
    "    print(\"Attempt\", i_train, \": loss\", loss, \"- accuracy\", accuracy)\n",
    "    losses.append(loss)\n",
    "    accuracies.append(accuracy)\n",
    "\n",
    "print(\"Experiment results :\")\n",
    "print(\"Loss mean : %.2f (%.2f)\" % (mean(losses), var(losses)))\n",
    "print(\"Accuracy mean : %.2f (%.2f)\" % (mean(accuracies), var(accuracies)))"
   ]
  }
 ],
 "metadata": {
  "kernelspec": {
   "display_name": "pytorch",
   "language": "python",
   "name": "pytorch"
  },
  "language_info": {
   "codemirror_mode": {
    "name": "ipython",
    "version": 3
   },
   "file_extension": ".py",
   "mimetype": "text/x-python",
   "name": "python",
   "nbconvert_exporter": "python",
   "pygments_lexer": "ipython3",
   "version": "3.8.2"
  }
 },
 "nbformat": 4,
 "nbformat_minor": 4
}
