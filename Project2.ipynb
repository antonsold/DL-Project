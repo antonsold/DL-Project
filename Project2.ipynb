{
 "cells": [
  {
   "cell_type": "markdown",
   "metadata": {},
   "source": [
    "# Project 2"
   ]
  },
  {
   "cell_type": "code",
   "execution_count": 1,
   "metadata": {},
   "outputs": [
    {
     "data": {
      "text/plain": [
       "<torch.autograd.grad_mode.set_grad_enabled at 0x25b39560e88>"
      ]
     },
     "execution_count": 1,
     "metadata": {},
     "output_type": "execute_result"
    }
   ],
   "source": [
    "import torch\n",
    "import math\n",
    "torch.set_grad_enabled(False)"
   ]
  },
  {
   "cell_type": "code",
   "execution_count": 2,
   "metadata": {},
   "outputs": [],
   "source": [
    "class Module(object):\n",
    "    def __init__(self):\n",
    "        self.parameters = []\n",
    "        \n",
    "    def forward(self, *input):\n",
    "        raise NotImplementedError\n",
    "        \n",
    "    def backward(self, *gradwrtoutput):\n",
    "        raise NotImplementedError\n",
    "        \n",
    "    def param(self):\n",
    "        return self.parameters"
   ]
  },
  {
   "cell_type": "code",
   "execution_count": 3,
   "metadata": {},
   "outputs": [],
   "source": [
    "class Linear(Module):\n",
    "    def __init__(self, in_features, out_features, bias=False):\n",
    "        init_range = math.sqrt(in_features)\n",
    "        self.weights = torch.Tensor(in_features, out_features).uniform_(-init_range, init_range)\n",
    "        self.grad_w = torch.zeros((in_features, out_features))\n",
    "        self.parameters = [(self.weights, self.grad_w)]\n",
    "        if bias:\n",
    "            self.bias = torch.Tensor(out_features).uniform_(-init_range, init_range)\n",
    "            self.grad_b = torch.zeros(out_features)\n",
    "            self.parameters.append((self.bias, self.grad_b))\n",
    "        else:\n",
    "            self.bias = None\n",
    "        \n",
    "    def forward(self, input_):\n",
    "        self.input = input_\n",
    "        if self.bias != None:\n",
    "            return torch.addmm(self.bias, input_, self.weights)\n",
    "        else:\n",
    "            return input_.matmul(self.weights)\n",
    "        \n",
    "    def backward(self, grad_output):\n",
    "        self.grad_w += self.input.t().matmul(grad_output)\n",
    "        grad_input = grad_output.matmul(self.weights.t())\n",
    "        if self.bias != None:\n",
    "            self.grad_b += grad_output.sum(dim=0)\n",
    "        return grad_input"
   ]
  },
  {
   "cell_type": "code",
   "execution_count": 4,
   "metadata": {},
   "outputs": [],
   "source": [
    "class ReLU(Module):\n",
    "    \n",
    "    def forward(self, input_):\n",
    "        self.input = input_\n",
    "        return torch.relu(input_)\n",
    "    \n",
    "    def backward(self, grad_output):\n",
    "        return torch.mul((self.input > 0).int(), grad_output)"
   ]
  },
  {
   "cell_type": "code",
   "execution_count": 5,
   "metadata": {},
   "outputs": [],
   "source": [
    "class MSELoss(Module):\n",
    "    def __init__(self):\n",
    "        pass\n",
    "    \n",
    "    def forward(self, input_, target):\n",
    "        if target.dim() == 1:\n",
    "            target = target.view(target.size(0), 1)\n",
    "        return (input_ - target).pow(2).sum()\n",
    "    \n",
    "    def backward(self, input_, target):\n",
    "        if target.dim() == 1:\n",
    "            target = target.view(target.size(0), 1)\n",
    "        \n",
    "        return (input_ - target).mul(2)"
   ]
  },
  {
   "cell_type": "code",
   "execution_count": 6,
   "metadata": {},
   "outputs": [],
   "source": [
    "class Sequential(Module):\n",
    "    def __init__(self, *args):\n",
    "        self.parameters = []\n",
    "        for module in args:\n",
    "            self.parameters += module.parameters\n",
    "# TODO !!!"
   ]
  },
  {
   "cell_type": "code",
   "execution_count": 7,
   "metadata": {},
   "outputs": [],
   "source": [
    "def generate_set(size):\n",
    "    input_ = torch.Tensor(size, 2).uniform_(0, 1)\n",
    "    target = input_.sub(0.5).pow(2).sum(axis=1).sub(1 / math.pi ** 2).sign().add(1).div(2)\n",
    "    return input_, target\n",
    "\n",
    "train_input, train_target = generate_set(200)\n",
    "test_input, test_target = generate_set(200)"
   ]
  },
  {
   "cell_type": "code",
   "execution_count": 8,
   "metadata": {},
   "outputs": [],
   "source": [
    "class Model:\n",
    "    def __init__(self, layers):\n",
    "        self.layers = layers\n",
    "        self.parameters = []\n",
    "        for layer in layers:\n",
    "            self.parameters += layer.parameters\n",
    "    \n",
    "    def zero_grad(self):\n",
    "        for w, dw in self.parameters:\n",
    "            dw.zero_()\n",
    "    \n",
    "    def forward(self, input_):\n",
    "        x = input_\n",
    "        for layer in self.layers:\n",
    "            x = layer.forward(x)\n",
    "        return x\n",
    "    \n",
    "    def backward(self, loss_grad):\n",
    "        y = loss_grad\n",
    "        for layer in reversed(self.layers):\n",
    "            y = layer.backward(y)\n",
    "        return"
   ]
  },
  {
   "cell_type": "code",
   "execution_count": 9,
   "metadata": {},
   "outputs": [],
   "source": [
    "class SGD:\n",
    "    def __init__(self, parameters, learning_rate):\n",
    "        self.parameters = parameters\n",
    "        self.learning_rate = learning_rate\n",
    "        \n",
    "    def step(self):\n",
    "        for w, dw in self.parameters:\n",
    "            w -= self.learning_rate * dw"
   ]
  },
  {
   "cell_type": "code",
   "execution_count": 10,
   "metadata": {},
   "outputs": [],
   "source": [
    "layers = [Linear(2, 10), ReLU(), Linear(10, 5), ReLU(), Linear(5, 1)]\n",
    "model = Model(layers)\n",
    "sgd = SGD(model.parameters, 0.0001)\n",
    "loss = MSELoss()"
   ]
  },
  {
   "cell_type": "code",
   "execution_count": 11,
   "metadata": {},
   "outputs": [
    {
     "name": "stdout",
     "output_type": "stream",
     "text": [
      "0\n",
      "156.3612518310547\n",
      "1\n",
      "143.93032836914062\n",
      "2\n",
      "134.49656677246094\n",
      "3\n",
      "127.0963134765625\n",
      "4\n",
      "121.004638671875\n",
      "5\n",
      "115.86997985839844\n",
      "6\n",
      "111.46519470214844\n",
      "7\n",
      "107.68602752685547\n",
      "8\n",
      "104.46123504638672\n",
      "9\n",
      "101.69342041015625\n",
      "10\n",
      "99.25413513183594\n",
      "11\n",
      "97.1548843383789\n",
      "12\n",
      "95.36774444580078\n",
      "13\n",
      "93.86734771728516\n",
      "14\n",
      "92.60344696044922\n",
      "15\n",
      "91.55255126953125\n",
      "16\n",
      "90.67800903320312\n",
      "17\n",
      "89.94464874267578\n",
      "18\n",
      "89.31330871582031\n",
      "19\n",
      "88.79692840576172\n",
      "20\n",
      "88.37225341796875\n",
      "21\n",
      "88.02761840820312\n",
      "22\n",
      "87.74763488769531\n",
      "23\n",
      "87.51737976074219\n",
      "24\n",
      "87.32195281982422\n"
     ]
    }
   ],
   "source": [
    "for epoch in range(25):\n",
    "    print(epoch)\n",
    "    model.zero_grad()\n",
    "    output = model.forward(train_input)\n",
    "    print(loss.forward(output, train_target).item())\n",
    "    loss_grad = loss.backward(output, train_target)\n",
    "    model.backward(loss_grad)\n",
    "    sgd.step()"
   ]
  },
  {
   "cell_type": "code",
   "execution_count": null,
   "metadata": {},
   "outputs": [],
   "source": []
  }
 ],
 "metadata": {
  "kernelspec": {
   "display_name": "Python 3",
   "language": "python",
   "name": "python3"
  },
  "language_info": {
   "codemirror_mode": {
    "name": "ipython",
    "version": 3
   },
   "file_extension": ".py",
   "mimetype": "text/x-python",
   "name": "python",
   "nbconvert_exporter": "python",
   "pygments_lexer": "ipython3",
   "version": "3.7.5"
  }
 },
 "nbformat": 4,
 "nbformat_minor": 2
}
