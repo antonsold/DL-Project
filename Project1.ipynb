{
 "cells": [
  {
   "cell_type": "markdown",
   "metadata": {},
   "source": [
    "## Imports"
   ]
  },
  {
   "cell_type": "code",
   "execution_count": 245,
   "metadata": {},
   "outputs": [],
   "source": [
    "import torch\n",
    "from torch import nn\n",
    "from torch.nn import functional as F\n",
    "import time\n",
    "from math import sqrt\n",
    "\n",
    "import matplotlib.pyplot as plt\n",
    "\n",
    "import dlc_practical_prologue"
   ]
  },
  {
   "cell_type": "markdown",
   "metadata": {},
   "source": [
    "## Useful functions"
   ]
  },
  {
   "cell_type": "code",
   "execution_count": 246,
   "metadata": {},
   "outputs": [],
   "source": [
    "def mean(x):\n",
    "    return sum(x)/len(x)\n",
    "\n",
    "def var(x):\n",
    "    u = mean(x)\n",
    "    return sum([(v-u)**2 for v in x])/len(x)"
   ]
  },
  {
   "cell_type": "code",
   "execution_count": 247,
   "metadata": {},
   "outputs": [],
   "source": [
    "def number_parameters(model):   # Returns the number of parameter of a given model\n",
    "    return sum(p.numel() for p in model.parameters())"
   ]
  },
  {
   "cell_type": "markdown",
   "metadata": {},
   "source": [
    "## Load data"
   ]
  },
  {
   "cell_type": "code",
   "execution_count": 248,
   "metadata": {},
   "outputs": [],
   "source": [
    "N = 1000\n",
    "\n",
    "x_train, y_train, y_train_classes, x_test, y_test, y_test_classes = \\\n",
    "dlc_practical_prologue.generate_pair_sets(N)\n",
    "\n",
    "assert x_train.shape == torch.Size([N, 2, 14, 14])    # float32\n",
    "assert y_train.shape == torch.Size([N])               # int64\n",
    "assert y_train_classes.shape == torch.Size([N, 2])    # int64\n",
    "\n",
    "assert x_test.shape == torch.Size([N, 2, 14, 14])\n",
    "assert y_test.shape == torch.Size([N])\n",
    "assert y_test_classes.shape == torch.Size([N, 2])"
   ]
  },
  {
   "cell_type": "code",
   "execution_count": 249,
   "metadata": {},
   "outputs": [],
   "source": [
    "if torch.cuda.is_available():  \n",
    "    dev = \"cuda:0\"\n",
    "else:  \n",
    "    dev = \"cpu\"  \n",
    "device = torch.device(dev)\n",
    "# x_train = x_train.to(device)\n",
    "# y_train = y_train.to(device)\n",
    "# y_train_classes = y_train_classes.to(device)\n",
    "# x_test = x_test.to(device)\n",
    "# y_test = y_test.to(device)\n",
    "# y_test_classes = y_test_classes.to(device)"
   ]
  },
  {
   "cell_type": "markdown",
   "metadata": {},
   "source": [
    "## Normalize input"
   ]
  },
  {
   "cell_type": "code",
   "execution_count": 250,
   "metadata": {},
   "outputs": [],
   "source": [
    "tmp_list = torch.flatten(x_train).tolist()\n",
    "\n",
    "x_train = x_train.sub(mean(tmp_list)).div(sqrt(var(tmp_list)))\n",
    "x_test = x_test.sub(mean(tmp_list)).div(sqrt(var(tmp_list)))"
   ]
  },
  {
   "cell_type": "markdown",
   "metadata": {},
   "source": [
    "## -----------------------------------------------------------------------------------------------"
   ]
  },
  {
   "cell_type": "markdown",
   "metadata": {},
   "source": [
    "## Define models "
   ]
  },
  {
   "cell_type": "markdown",
   "metadata": {},
   "source": [
    "# Model 0\n",
    "Is a naive MLP"
   ]
  },
  {
   "cell_type": "code",
   "execution_count": 151,
   "metadata": {},
   "outputs": [
    {
     "name": "stdout",
     "output_type": "stream",
     "text": [
      "117186\n"
     ]
    }
   ],
   "source": [
    "## Is a naive Multi Layer Perceptron, composed of fully connected linear layers.\n",
    "\n",
    "class model_0(nn.Module):   \n",
    "    def __init__(self, ns = [392,256,64,2]):\n",
    "        super().__init__()\n",
    "        layers = [nn.Linear(n_in, n_out) for n_in, n_out in zip(ns[:-1], ns[1:])]   \n",
    "        self.layers = nn.ModuleList(layers)\n",
    "\n",
    "    def forward(self, x):\n",
    "        x = torch.flatten(x,1)          # flatten the 2 images in one vector (but keeping batch size)\n",
    "        for layer in self.layers[:-1]:\n",
    "            x = layer(x).relu()\n",
    "            \n",
    "        x = self.layers[-1](x) \n",
    "        return x\n",
    "\n",
    "model_test = model_0()\n",
    "model_test(x_train[0:2])    \n",
    "print(number_parameters(model_0()))"
   ]
  },
  {
   "cell_type": "markdown",
   "metadata": {},
   "source": [
    "# MODEL 1\n",
    "\n",
    "Is a simple CNN of **2 Conv Layers** -- \n",
    "4 versions of it are implemented:\n",
    " * straightforward CNN (model_1)\n",
    " * **Finally, I think this one is to simple to justify an intermediate loss without digit prediction** -> Not present\n",
    " * with the two images composing the input treated identically and independently (model_1_ws)\n",
    " * with the two images composing the input treated identically and independently + Digit predictions for aux loss (model_1_ws_aux2)"
   ]
  },
  {
   "cell_type": "code",
   "execution_count": 217,
   "metadata": {},
   "outputs": [
    {
     "name": "stdout",
     "output_type": "stream",
     "text": [
      "27362\n"
     ]
    }
   ],
   "source": [
    "## Is a convolutional neural network poorly paramztrized    \n",
    "\n",
    "class model_1(nn.Module):                 \n",
    "    def __init__(self):\n",
    "        super(model_1, self).__init__()\n",
    "        self.conv1 = nn.Conv2d(2, 16, kernel_size=2, padding=1)        \n",
    "        self.conv2 = nn.Conv2d(16, 32, kernel_size=2)\n",
    "\n",
    "        self.dense1 = nn.Linear(1568, 16)\n",
    "        self.dense2 = nn.Linear(16, 2)\n",
    "        \n",
    "    def forward(self, x):\n",
    "        x = F.leaky_relu(self.conv1(x))\n",
    "        x = F.leaky_relu(self.conv2(x))\n",
    "        x = F.max_pool2d(x, kernel_size=2) \n",
    "        \n",
    "        x = torch.flatten(x, 1)\n",
    "        \n",
    "        x = F.leaky_relu(self.dense1(x))\n",
    "        x = self.dense2(x)\n",
    "        return x\n",
    "\n",
    "model_test = model_1()\n",
    "model_test(x_train[0:2])\n",
    "print(number_parameters(model_test))"
   ]
  },
  {
   "cell_type": "code",
   "execution_count": null,
   "metadata": {},
   "outputs": [],
   "source": [
    "model_list = [('Model_1 ', model_1)]\n",
    "\n",
    "for model_params in model_list :\n",
    "    results.append((experiment_model(*model_params), model_params))"
   ]
  },
  {
   "cell_type": "code",
   "execution_count": null,
   "metadata": {},
   "outputs": [],
   "source": []
  },
  {
   "cell_type": "code",
   "execution_count": 230,
   "metadata": {},
   "outputs": [
    {
     "name": "stdout",
     "output_type": "stream",
     "text": [
      "20820\n"
     ]
    }
   ],
   "source": [
    "## Is a convolutional neural network poorly paramztrized    \n",
    "\n",
    "class model_1_ws(nn.Module):                 \n",
    "    def __init__(self):\n",
    "        super(model_1_ws, self).__init__()\n",
    "        self.conv1 = nn.Conv2d(1, 16, kernel_size=2, padding=1)        \n",
    "        self.conv2 = nn.Conv2d(16, 32, kernel_size=2)\n",
    "\n",
    "        self.dense1 = nn.Linear(1152, 16)\n",
    "        self.dense_digits = nn.Linear(16, 10)\n",
    "        self.dense2 = nn.Linear(20, 2)\n",
    "        \n",
    "    def forward(self, x):\n",
    "        d1 = F.leaky_relu(self.conv1(x[:, 0:1, ...]))\n",
    "        d1 = F.max_pool2d(d1, kernel_size=2) \n",
    "        d1 = F.leaky_relu(self.conv2(d1))\n",
    "        d1 = torch.flatten(d1, 1)\n",
    "        d1 = F.leaky_relu(self.dense1(d1))\n",
    "        d1 = self.dense_digits(d1)\n",
    "        \n",
    "        d2 = F.leaky_relu(self.conv1(x[:, 1:2, ...]))\n",
    "        d2 = F.max_pool2d(d2, kernel_size=2) \n",
    "        d2 = F.leaky_relu(self.conv2(d2))\n",
    "        d2 = torch.flatten(d2, 1)\n",
    "        d2 = F.leaky_relu(self.dense1(d2))\n",
    "        d2 = self.dense_digits(d2)\n",
    "        \n",
    "        x = F.leaky_relu(torch.cat((torch.softmax(d1, -1), torch.softmax(d2, -1)), 1))\n",
    "        x = torch.flatten(x, 1)\n",
    "        \n",
    "        x = F.leaky_relu(self.dense2(x))\n",
    "        \n",
    "        return x\n",
    "\n",
    "model_test = model_1_ws()\n",
    "model_test(x_train[0:2])\n",
    "print(number_parameters(model_test))"
   ]
  },
  {
   "cell_type": "code",
   "execution_count": 231,
   "metadata": {
    "collapsed": true
   },
   "outputs": [
    {
     "name": "stdout",
     "output_type": "stream",
     "text": [
      "Starting 10 training of 25 epochs, with model 'Model_1 ' containing 20820 parameters. \n",
      "\n",
      "Attempt 1 - accuracy 53.80%\n",
      "Epoch 12 : loss 8.701\r"
     ]
    },
    {
     "ename": "KeyboardInterrupt",
     "evalue": "",
     "output_type": "error",
     "traceback": [
      "\u001b[0;31m---------------------------------------------------------------------------\u001b[0m",
      "\u001b[0;31mKeyboardInterrupt\u001b[0m                         Traceback (most recent call last)",
      "\u001b[0;32m<ipython-input-231-27c56325e32c>\u001b[0m in \u001b[0;36m<module>\u001b[0;34m\u001b[0m\n\u001b[1;32m      2\u001b[0m \u001b[0;34m\u001b[0m\u001b[0m\n\u001b[1;32m      3\u001b[0m \u001b[0;32mfor\u001b[0m \u001b[0mmodel_params\u001b[0m \u001b[0;32min\u001b[0m \u001b[0mmodel_list\u001b[0m \u001b[0;34m:\u001b[0m\u001b[0;34m\u001b[0m\u001b[0;34m\u001b[0m\u001b[0m\n\u001b[0;32m----> 4\u001b[0;31m     \u001b[0mresults\u001b[0m\u001b[0;34m.\u001b[0m\u001b[0mappend\u001b[0m\u001b[0;34m(\u001b[0m\u001b[0;34m(\u001b[0m\u001b[0mexperiment_model\u001b[0m\u001b[0;34m(\u001b[0m\u001b[0;34m*\u001b[0m\u001b[0mmodel_params\u001b[0m\u001b[0;34m)\u001b[0m\u001b[0;34m,\u001b[0m \u001b[0mmodel_params\u001b[0m\u001b[0;34m)\u001b[0m\u001b[0;34m)\u001b[0m\u001b[0;34m\u001b[0m\u001b[0;34m\u001b[0m\u001b[0m\n\u001b[0m",
      "\u001b[0;32m<ipython-input-176-b4cabe076d4d>\u001b[0m in \u001b[0;36mexperiment_model\u001b[0;34m(model_name, build_model)\u001b[0m\n\u001b[1;32m     32\u001b[0m                                  \u001b[0my_train\u001b[0m\u001b[0;34m[\u001b[0m\u001b[0mindices_shuffle\u001b[0m\u001b[0;34m]\u001b[0m\u001b[0;34m.\u001b[0m\u001b[0mto\u001b[0m\u001b[0;34m(\u001b[0m\u001b[0mdevice\u001b[0m\u001b[0;34m)\u001b[0m\u001b[0;34m,\u001b[0m\u001b[0;34m\u001b[0m\u001b[0;34m\u001b[0m\u001b[0m\n\u001b[1;32m     33\u001b[0m                                  \u001b[0my_train_classes\u001b[0m\u001b[0;34m[\u001b[0m\u001b[0mindices_shuffle\u001b[0m\u001b[0;34m]\u001b[0m\u001b[0;34m.\u001b[0m\u001b[0mto\u001b[0m\u001b[0;34m(\u001b[0m\u001b[0mdevice\u001b[0m\u001b[0;34m)\u001b[0m\u001b[0;34m,\u001b[0m\u001b[0;34m\u001b[0m\u001b[0;34m\u001b[0m\u001b[0m\n\u001b[0;32m---> 34\u001b[0;31m                                  epochs = epochs, optimizer=optimizer, batch_size = 64, auxiliary = auxiliary)\n\u001b[0m\u001b[1;32m     35\u001b[0m \u001b[0;34m\u001b[0m\u001b[0m\n\u001b[1;32m     36\u001b[0m         \u001b[0;32mif\u001b[0m \u001b[0mauxiliary\u001b[0m \u001b[0;34m:\u001b[0m\u001b[0;34m\u001b[0m\u001b[0;34m\u001b[0m\u001b[0m\n",
      "\u001b[0;32m<ipython-input-42-d51fa3089a30>\u001b[0m in \u001b[0;36mtrain_model\u001b[0;34m(model, train_input, train_target, digit_target, epochs, optimizer, loss_function, digit_loss, batch_size, auxiliary, verbose)\u001b[0m\n\u001b[1;32m     38\u001b[0m \u001b[0;34m\u001b[0m\u001b[0m\n\u001b[1;32m     39\u001b[0m             \u001b[0moptimizer\u001b[0m\u001b[0;34m.\u001b[0m\u001b[0mzero_grad\u001b[0m\u001b[0;34m(\u001b[0m\u001b[0;34m)\u001b[0m\u001b[0;34m\u001b[0m\u001b[0;34m\u001b[0m\u001b[0m\n\u001b[0;32m---> 40\u001b[0;31m             \u001b[0mloss_total\u001b[0m\u001b[0;34m.\u001b[0m\u001b[0mbackward\u001b[0m\u001b[0;34m(\u001b[0m\u001b[0;34m)\u001b[0m\u001b[0;34m\u001b[0m\u001b[0;34m\u001b[0m\u001b[0m\n\u001b[0m\u001b[1;32m     41\u001b[0m             \u001b[0moptimizer\u001b[0m\u001b[0;34m.\u001b[0m\u001b[0mstep\u001b[0m\u001b[0;34m(\u001b[0m\u001b[0;34m)\u001b[0m\u001b[0;34m\u001b[0m\u001b[0;34m\u001b[0m\u001b[0m\n\u001b[1;32m     42\u001b[0m \u001b[0;34m\u001b[0m\u001b[0m\n",
      "\u001b[0;32m/anaconda3/lib/python3.7/site-packages/torch/tensor.py\u001b[0m in \u001b[0;36mbackward\u001b[0;34m(self, gradient, retain_graph, create_graph)\u001b[0m\n\u001b[1;32m    116\u001b[0m                 \u001b[0mproducts\u001b[0m\u001b[0;34m.\u001b[0m \u001b[0mDefaults\u001b[0m \u001b[0mto\u001b[0m\u001b[0;31m \u001b[0m\u001b[0;31m`\u001b[0m\u001b[0;31m`\u001b[0m\u001b[0;32mFalse\u001b[0m\u001b[0;31m`\u001b[0m\u001b[0;31m`\u001b[0m\u001b[0;34m.\u001b[0m\u001b[0;34m\u001b[0m\u001b[0;34m\u001b[0m\u001b[0m\n\u001b[1;32m    117\u001b[0m         \"\"\"\n\u001b[0;32m--> 118\u001b[0;31m         \u001b[0mtorch\u001b[0m\u001b[0;34m.\u001b[0m\u001b[0mautograd\u001b[0m\u001b[0;34m.\u001b[0m\u001b[0mbackward\u001b[0m\u001b[0;34m(\u001b[0m\u001b[0mself\u001b[0m\u001b[0;34m,\u001b[0m \u001b[0mgradient\u001b[0m\u001b[0;34m,\u001b[0m \u001b[0mretain_graph\u001b[0m\u001b[0;34m,\u001b[0m \u001b[0mcreate_graph\u001b[0m\u001b[0;34m)\u001b[0m\u001b[0;34m\u001b[0m\u001b[0;34m\u001b[0m\u001b[0m\n\u001b[0m\u001b[1;32m    119\u001b[0m \u001b[0;34m\u001b[0m\u001b[0m\n\u001b[1;32m    120\u001b[0m     \u001b[0;32mdef\u001b[0m \u001b[0mregister_hook\u001b[0m\u001b[0;34m(\u001b[0m\u001b[0mself\u001b[0m\u001b[0;34m,\u001b[0m \u001b[0mhook\u001b[0m\u001b[0;34m)\u001b[0m\u001b[0;34m:\u001b[0m\u001b[0;34m\u001b[0m\u001b[0;34m\u001b[0m\u001b[0m\n",
      "\u001b[0;32m/anaconda3/lib/python3.7/site-packages/torch/autograd/__init__.py\u001b[0m in \u001b[0;36mbackward\u001b[0;34m(tensors, grad_tensors, retain_graph, create_graph, grad_variables)\u001b[0m\n\u001b[1;32m     91\u001b[0m     Variable._execution_engine.run_backward(\n\u001b[1;32m     92\u001b[0m         \u001b[0mtensors\u001b[0m\u001b[0;34m,\u001b[0m \u001b[0mgrad_tensors\u001b[0m\u001b[0;34m,\u001b[0m \u001b[0mretain_graph\u001b[0m\u001b[0;34m,\u001b[0m \u001b[0mcreate_graph\u001b[0m\u001b[0;34m,\u001b[0m\u001b[0;34m\u001b[0m\u001b[0;34m\u001b[0m\u001b[0m\n\u001b[0;32m---> 93\u001b[0;31m         allow_unreachable=True)  # allow_unreachable flag\n\u001b[0m\u001b[1;32m     94\u001b[0m \u001b[0;34m\u001b[0m\u001b[0m\n\u001b[1;32m     95\u001b[0m \u001b[0;34m\u001b[0m\u001b[0m\n",
      "\u001b[0;31mKeyboardInterrupt\u001b[0m: "
     ]
    }
   ],
   "source": [
    "model_list = [('Model_1 ', model_1_ws)]\n",
    "\n",
    "for model_params in model_list :\n",
    "    results.append((experiment_model(*model_params), model_params))"
   ]
  },
  {
   "cell_type": "code",
   "execution_count": 236,
   "metadata": {},
   "outputs": [
    {
     "name": "stdout",
     "output_type": "stream",
     "text": [
      "20820\n"
     ]
    }
   ],
   "source": [
    "## Is a convolutional neural network poorly paramztrized    \n",
    "\n",
    "class model_1_ws_aux2(nn.Module):                 \n",
    "    def __init__(self):\n",
    "        super(model_1_ws_aux2, self).__init__()\n",
    "        self.conv1 = nn.Conv2d(1, 16, kernel_size=2, padding=1)        \n",
    "        self.conv2 = nn.Conv2d(16, 32, kernel_size=2)\n",
    "\n",
    "        self.dense1 = nn.Linear(1152, 16)\n",
    "        self.dense_digits = nn.Linear(16, 10)\n",
    "        self.dense2 = nn.Linear(20, 2)\n",
    "        \n",
    "    def forward(self, x):\n",
    "        d1 = F.leaky_relu(self.conv1(x[:, 0:1, ...]))\n",
    "        d1 = F.max_pool2d(d1, kernel_size=2) \n",
    "        d1 = F.leaky_relu(self.conv2(d1))\n",
    "        d1 = torch.flatten(d1, 1)\n",
    "        d1 = F.leaky_relu(self.dense1(d1))\n",
    "        d1 = self.dense_digits(d1)\n",
    "        \n",
    "        d2 = F.leaky_relu(self.conv1(x[:, 1:2, ...]))\n",
    "        d2 = F.max_pool2d(d2, kernel_size=2) \n",
    "        d2 = F.leaky_relu(self.conv2(d2))\n",
    "        d2 = torch.flatten(d2, 1)\n",
    "        d2 = F.leaky_relu(self.dense1(d2))\n",
    "        d2 = self.dense_digits(d2)\n",
    "        \n",
    "        x = F.leaky_relu(torch.cat((torch.softmax(d1, -1), torch.softmax(d2, -1)), 1))\n",
    "        x = torch.flatten(x, 1)\n",
    "        \n",
    "        x = F.leaky_relu(self.dense2(x))\n",
    "        \n",
    "        return x,d1,d2\n",
    "\n",
    "model_test = model_1_ws()\n",
    "model_test(x_train[0:2])\n",
    "print(number_parameters(model_test))"
   ]
  },
  {
   "cell_type": "markdown",
   "metadata": {},
   "source": [
    "# MODEL 2\n",
    "\n",
    "Is a more complex CNN, of **3 conv Layers** -- \n",
    "4 versions of it are implemented:\n",
    " * straightforward CNN (model_2)\n",
    " * !!NOT WORKING!! with intermediate output for auxiliary loss (model_2_aux1)\n",
    " * with the two images composing the input treated identically and independently (model_2_ws)\n",
    " * with the two images composing the input treated identically and independently + Digit predictions for aux loss (model_2_ws_aux2) **currently our best model**"
   ]
  },
  {
   "cell_type": "code",
   "execution_count": 207,
   "metadata": {},
   "outputs": [
    {
     "name": "stdout",
     "output_type": "stream",
     "text": [
      "247110\n"
     ]
    }
   ],
   "source": [
    "class model_2(nn.Module):\n",
    "    def __init__(self):\n",
    "        super(model_2, self).__init__()\n",
    "        self.conv1 = nn.Conv2d(2, 32, kernel_size=2)        \n",
    "        self.conv2 = nn.Conv2d(32, 64, kernel_size=2) # NEW size\n",
    "        self.conv3 = nn.Conv2d(64, 128, kernel_size=2)\n",
    "        \n",
    "        self.dense1 = nn.Linear(3200, 64)\n",
    "        self.dense2 = nn.Linear(64, 12)\n",
    "        self.dense3 = nn.Linear(12, 2) \n",
    "\n",
    "        \n",
    "    def forward(self, x):\n",
    "        x = F.leaky_relu(self.conv1(x))\n",
    "        x = F.leaky_relu(self.conv2(x))\n",
    "        x = F.max_pool2d(x, kernel_size=2) \n",
    "        x = self.conv3(x)\n",
    "        \n",
    "        x = torch.flatten(x, 1)\n",
    "        x = F.leaky_relu(self.dense1(x))\n",
    "        x = self.dense2(x)\n",
    "        x = F.dropout(x)\n",
    "        x = self.dense3(x)\n",
    "\n",
    "        return x\n",
    "\n",
    "model_test = model_2()\n",
    "model_test(x_train[0:2])\n",
    "print(number_parameters(model_test))"
   ]
  },
  {
   "cell_type": "code",
   "execution_count": null,
   "metadata": {},
   "outputs": [],
   "source": [
    "model_list = [('Model_2 ', model_2)]\n",
    "\n",
    "for model_params in model_list :\n",
    "    results.append((experiment_model(*model_params), model_params))"
   ]
  },
  {
   "cell_type": "code",
   "execution_count": null,
   "metadata": {},
   "outputs": [],
   "source": []
  },
  {
   "cell_type": "code",
   "execution_count": 186,
   "metadata": {},
   "outputs": [
    {
     "name": "stdout",
     "output_type": "stream",
     "text": [
      "837534\n"
     ]
    }
   ],
   "source": [
    "# Early output for an auxiliary loss (without digit prediction)\n",
    "\n",
    "class model_2_aux1(nn.Module): # NOT WORKING MODEL -> NO TRAIN-MODEL() WITH INTERMEDIATE RESULTS (AND NOT DIGITS)\n",
    "    def __init__(self):\n",
    "        super(model_2_aux1, self).__init__()\n",
    "        self.conv1 = nn.Conv2d(2, 32, kernel_size=2)        \n",
    "        self.conv2 = nn.Conv2d(32, 64, kernel_size=2) \n",
    "        self.conv3 = nn.Conv2d(64, 128, kernel_size=2)\n",
    "        \n",
    "        self.dense1 = nn.Linear(3200, 64)\n",
    "        self.dense1_intermediate = nn.Linear(9216, 64)\n",
    "        self.dense2 = nn.Linear(64, 20)\n",
    "        self.dense3 = nn.Linear(20, 2)\n",
    "\n",
    "        \n",
    "    def forward(self, x):\n",
    "        x = F.leaky_relu(self.conv1(x))\n",
    "        x = F.leaky_relu(self.conv2(x))\n",
    "                         \n",
    "        x_ = torch.flatten(x, 1)\n",
    "        x_ = self.dense1_intermediate(x_)\n",
    "        x_ = F.dropout(x_)  \n",
    "        x_ = self.dense2(x_)   # For intermediate output   \n",
    "        x_ = F.dropout(x_)\n",
    "        x_ = self.dense3(x_)                 \n",
    "                         \n",
    "        x = F.max_pool2d(x, kernel_size=2) \n",
    "        x = self.conv3(x)\n",
    "                         \n",
    "        x = torch.flatten(x, 1)\n",
    "        x = F.leaky_relu(self.dense1(x))\n",
    "        x = F.dropout(x)\n",
    "        x = self.dense2(x)\n",
    "        x = F.dropout(x) \n",
    "        x = self.dense3(x)\n",
    "\n",
    "\n",
    "        return x,x_\n",
    "\n",
    "model_test = model_2_aux1()\n",
    "model_test(x_train[0:2])\n",
    "print(number_parameters(model_test))"
   ]
  },
  {
   "cell_type": "code",
   "execution_count": 187,
   "metadata": {
    "collapsed": true
   },
   "outputs": [
    {
     "name": "stdout",
     "output_type": "stream",
     "text": [
      "Starting 10 training of 25 epochs, with model 'Model_2 ws + aux 2' containing 837534 parameters. \n",
      "\n"
     ]
    },
    {
     "ename": "ValueError",
     "evalue": "not enough values to unpack (expected 3, got 2)",
     "output_type": "error",
     "traceback": [
      "\u001b[0;31m---------------------------------------------------------------------------\u001b[0m",
      "\u001b[0;31mValueError\u001b[0m                                Traceback (most recent call last)",
      "\u001b[0;32m<ipython-input-187-5ffa79e3dc24>\u001b[0m in \u001b[0;36m<module>\u001b[0;34m\u001b[0m\n\u001b[1;32m      2\u001b[0m \u001b[0;34m\u001b[0m\u001b[0m\n\u001b[1;32m      3\u001b[0m \u001b[0;32mfor\u001b[0m \u001b[0mmodel_params\u001b[0m \u001b[0;32min\u001b[0m \u001b[0mmodel_list\u001b[0m \u001b[0;34m:\u001b[0m\u001b[0;34m\u001b[0m\u001b[0;34m\u001b[0m\u001b[0m\n\u001b[0;32m----> 4\u001b[0;31m     \u001b[0mresults\u001b[0m\u001b[0;34m.\u001b[0m\u001b[0mappend\u001b[0m\u001b[0;34m(\u001b[0m\u001b[0;34m(\u001b[0m\u001b[0mexperiment_model\u001b[0m\u001b[0;34m(\u001b[0m\u001b[0;34m*\u001b[0m\u001b[0mmodel_params\u001b[0m\u001b[0;34m)\u001b[0m\u001b[0;34m,\u001b[0m \u001b[0mmodel_params\u001b[0m\u001b[0;34m)\u001b[0m\u001b[0;34m)\u001b[0m\u001b[0;34m\u001b[0m\u001b[0;34m\u001b[0m\u001b[0m\n\u001b[0m",
      "\u001b[0;32m<ipython-input-176-b4cabe076d4d>\u001b[0m in \u001b[0;36mexperiment_model\u001b[0;34m(model_name, build_model)\u001b[0m\n\u001b[1;32m     32\u001b[0m                                  \u001b[0my_train\u001b[0m\u001b[0;34m[\u001b[0m\u001b[0mindices_shuffle\u001b[0m\u001b[0;34m]\u001b[0m\u001b[0;34m.\u001b[0m\u001b[0mto\u001b[0m\u001b[0;34m(\u001b[0m\u001b[0mdevice\u001b[0m\u001b[0;34m)\u001b[0m\u001b[0;34m,\u001b[0m\u001b[0;34m\u001b[0m\u001b[0;34m\u001b[0m\u001b[0m\n\u001b[1;32m     33\u001b[0m                                  \u001b[0my_train_classes\u001b[0m\u001b[0;34m[\u001b[0m\u001b[0mindices_shuffle\u001b[0m\u001b[0;34m]\u001b[0m\u001b[0;34m.\u001b[0m\u001b[0mto\u001b[0m\u001b[0;34m(\u001b[0m\u001b[0mdevice\u001b[0m\u001b[0;34m)\u001b[0m\u001b[0;34m,\u001b[0m\u001b[0;34m\u001b[0m\u001b[0;34m\u001b[0m\u001b[0m\n\u001b[0;32m---> 34\u001b[0;31m                                  epochs = epochs, optimizer=optimizer, batch_size = 64, auxiliary = auxiliary)\n\u001b[0m\u001b[1;32m     35\u001b[0m \u001b[0;34m\u001b[0m\u001b[0m\n\u001b[1;32m     36\u001b[0m         \u001b[0;32mif\u001b[0m \u001b[0mauxiliary\u001b[0m \u001b[0;34m:\u001b[0m\u001b[0;34m\u001b[0m\u001b[0;34m\u001b[0m\u001b[0m\n",
      "\u001b[0;32m<ipython-input-42-d51fa3089a30>\u001b[0m in \u001b[0;36mtrain_model\u001b[0;34m(model, train_input, train_target, digit_target, epochs, optimizer, loss_function, digit_loss, batch_size, auxiliary, verbose)\u001b[0m\n\u001b[1;32m     22\u001b[0m \u001b[0;34m\u001b[0m\u001b[0m\n\u001b[1;32m     23\u001b[0m             \u001b[0;32mif\u001b[0m \u001b[0mauxiliary\u001b[0m \u001b[0;34m:\u001b[0m\u001b[0;34m\u001b[0m\u001b[0;34m\u001b[0m\u001b[0m\n\u001b[0;32m---> 24\u001b[0;31m                 \u001b[0moutput\u001b[0m\u001b[0;34m,\u001b[0m \u001b[0md1\u001b[0m\u001b[0;34m,\u001b[0m \u001b[0md2\u001b[0m \u001b[0;34m=\u001b[0m \u001b[0mmodel\u001b[0m\u001b[0;34m(\u001b[0m\u001b[0mx_batch\u001b[0m\u001b[0;34m)\u001b[0m\u001b[0;34m\u001b[0m\u001b[0;34m\u001b[0m\u001b[0m\n\u001b[0m\u001b[1;32m     25\u001b[0m \u001b[0;34m\u001b[0m\u001b[0m\n\u001b[1;32m     26\u001b[0m                 \u001b[0mloss_digit1\u001b[0m \u001b[0;34m=\u001b[0m \u001b[0mdigit_loss\u001b[0m\u001b[0;34m(\u001b[0m\u001b[0md1\u001b[0m\u001b[0;34m,\u001b[0m \u001b[0my_digit_batch\u001b[0m\u001b[0;34m[\u001b[0m\u001b[0;34m...\u001b[0m\u001b[0;34m,\u001b[0m \u001b[0;36m0\u001b[0m\u001b[0;34m]\u001b[0m\u001b[0;34m)\u001b[0m\u001b[0;34m\u001b[0m\u001b[0;34m\u001b[0m\u001b[0m\n",
      "\u001b[0;31mValueError\u001b[0m: not enough values to unpack (expected 3, got 2)"
     ]
    }
   ],
   "source": [
    "model_list = [('Model_2 + aux 1', model_2_aux1)]\n",
    "\n",
    "for model_params in model_list :\n",
    "    results.append((experiment_model(*model_params), model_params))"
   ]
  },
  {
   "cell_type": "code",
   "execution_count": null,
   "metadata": {},
   "outputs": [],
   "source": []
  },
  {
   "cell_type": "code",
   "execution_count": 197,
   "metadata": {},
   "outputs": [
    {
     "name": "stdout",
     "output_type": "stream",
     "text": [
      "68832\n"
     ]
    }
   ],
   "source": [
    "class model_2_ws(nn.Module):  \n",
    "    def __init__(self):\n",
    "        super(model_2_ws, self).__init__()\n",
    "        self.conv1 = nn.Conv2d(1, 32, kernel_size=2)        \n",
    "        self.conv2 = nn.Conv2d(32, 64, kernel_size=2) \n",
    "        self.conv3 = nn.Conv2d(64, 32, kernel_size=2)\n",
    "        \n",
    "        self.dense1 = nn.Linear(800, 64)\n",
    "        self.dense2 = nn.Linear(64, 10)\n",
    "        \n",
    "        self.dense3 = nn.Linear(20, 12)\n",
    "        self.dense4 = nn.Linear(12, 2) \n",
    "\n",
    "        \n",
    "    def forward(self, x):\n",
    "        d1 = F.leaky_relu(self.conv1(x[:, 0:1, ...]))\n",
    "        d1 = F.leaky_relu(self.conv2(d1))\n",
    "        d1 = F.max_pool2d(d1, kernel_size=2) \n",
    "        d1 = self.conv3(d1)\n",
    "        d1 = torch.flatten(d1, 1)\n",
    "        d1 = F.leaky_relu(self.dense1(d1))\n",
    "        d1 = self.dense2(d1)\n",
    "\n",
    "        d2 = F.leaky_relu(self.conv1(x[:, 1:2, ...]))\n",
    "        d2 = F.leaky_relu(self.conv2(d2))\n",
    "        d2 = F.max_pool2d(d2, kernel_size=2)\n",
    "        d2 = self.conv3(d2)\n",
    "        d2 = torch.flatten(d2, 1)\n",
    "        d2 = F.leaky_relu(self.dense1(d2))\n",
    "        d2 = self.dense2(d2)\n",
    "        \n",
    "        x = F.leaky_relu(torch.cat((torch.softmax(d1, -1), torch.softmax(d2, -1)), 1))\n",
    "        x = self.dense3(x)\n",
    "        x = F.dropout(x)  \n",
    "        x = self.dense4(x) \n",
    "        return x\n",
    "\n",
    "model_test = model_2_ws()\n",
    "model_test(x_train[0:2])\n",
    "print(number_parameters(model_test))"
   ]
  },
  {
   "cell_type": "code",
   "execution_count": null,
   "metadata": {},
   "outputs": [],
   "source": [
    "model_list = [('Model_2 ws', model_2_ws)]\n",
    "\n",
    "for model_params in model_list :\n",
    "    results.append((experiment_model(*model_params), model_params))"
   ]
  },
  {
   "cell_type": "code",
   "execution_count": null,
   "metadata": {},
   "outputs": [],
   "source": []
  },
  {
   "cell_type": "code",
   "execution_count": 179,
   "metadata": {},
   "outputs": [
    {
     "name": "stdout",
     "output_type": "stream",
     "text": [
      "247104\n"
     ]
    }
   ],
   "source": [
    "class model_2_ws_aux2(nn.Module):  # Previously :  model BEST\n",
    "    def __init__(self):\n",
    "        super(model_2_ws_aux2, self).__init__()\n",
    "        self.conv1 = nn.Conv2d(1, 32, kernel_size=2)        \n",
    "        self.conv2 = nn.Conv2d(32, 64, kernel_size=2) # NEW size\n",
    "        self.conv3 = nn.Conv2d(64, 128, kernel_size=2)\n",
    "        \n",
    "        self.dense1 = nn.Linear(3200, 64)\n",
    "        self.dense2 = nn.Linear(64, 10)\n",
    "        \n",
    "        self.dense3 = nn.Linear(20, 12)\n",
    "        self.dense4 = nn.Linear(12, 2) # NEW\n",
    "\n",
    "        \n",
    "    def forward(self, x):\n",
    "        d1 = F.leaky_relu(self.conv1(x[:, 0:1, ...]))\n",
    "        d1 = F.leaky_relu(self.conv2(d1))\n",
    "        d1 = F.max_pool2d(d1, kernel_size=2) #NEW\n",
    "        d1 = self.conv3(d1)\n",
    "        d1 = torch.flatten(d1, 1)\n",
    "        d1 = F.leaky_relu(self.dense1(d1))\n",
    "        d1 = self.dense2(d1)\n",
    "\n",
    "        d2 = F.leaky_relu(self.conv1(x[:, 1:2, ...]))\n",
    "        d2 = F.leaky_relu(self.conv2(d2))\n",
    "        d2 = F.max_pool2d(d2, kernel_size=2) #NEW\n",
    "        d2 = self.conv3(d2)\n",
    "        d2 = torch.flatten(d2, 1)\n",
    "        d2 = F.leaky_relu(self.dense1(d2))\n",
    "        d2 = self.dense2(d2)\n",
    "        \n",
    "        x = F.leaky_relu(torch.cat((torch.softmax(d1, -1), torch.softmax(d2, -1)), 1))\n",
    "        x = self.dense3(x)\n",
    "        x = F.dropout(x)  #NEW\n",
    "        x = self.dense4(x) #NEW\n",
    "        return x, d1, d2\n",
    "\n",
    "model_test = model_2_ws_aux2()\n",
    "model_test(x_train[0:2])\n",
    "print(number_parameters(model_test))"
   ]
  },
  {
   "cell_type": "code",
   "execution_count": null,
   "metadata": {},
   "outputs": [],
   "source": [
    "model_list = [('Model_2 ws + aux 2', model_2_ws_aux2)]\n",
    "\n",
    "for model_params in model_list :\n",
    "    results.append((experiment_model(*model_params), model_params))"
   ]
  },
  {
   "cell_type": "code",
   "execution_count": null,
   "metadata": {},
   "outputs": [],
   "source": []
  },
  {
   "cell_type": "code",
   "execution_count": null,
   "metadata": {},
   "outputs": [],
   "source": []
  },
  {
   "cell_type": "code",
   "execution_count": null,
   "metadata": {},
   "outputs": [],
   "source": []
  },
  {
   "cell_type": "code",
   "execution_count": null,
   "metadata": {},
   "outputs": [],
   "source": []
  },
  {
   "cell_type": "code",
   "execution_count": null,
   "metadata": {},
   "outputs": [],
   "source": []
  },
  {
   "cell_type": "code",
   "execution_count": null,
   "metadata": {},
   "outputs": [],
   "source": []
  },
  {
   "cell_type": "markdown",
   "metadata": {},
   "source": [
    "## Training/Evaluation function"
   ]
  },
  {
   "cell_type": "code",
   "execution_count": 42,
   "metadata": {},
   "outputs": [],
   "source": [
    "def train_model(model, train_input, train_target, digit_target,\n",
    "                 epochs, optimizer,\n",
    "                 loss_function = nn.CrossEntropyLoss(), digit_loss = nn.CrossEntropyLoss(),\n",
    "                 batch_size=10,\n",
    "                 auxiliary = False,\n",
    "                 verbose = True):\n",
    "    \n",
    "    # Inspired by exercise corrige \n",
    "    model.train()\n",
    "    losses = []\n",
    "    \n",
    "    for e in range(epochs):\n",
    "        sum_loss = 0\n",
    "        \n",
    "        if auxiliary:\n",
    "            sum_loss_digit1 = 0\n",
    "            sum_loss_digit2 = 0\n",
    "        \n",
    "        for x_batch, y_batch, y_digit_batch in zip(train_input.split(batch_size),\n",
    "                                                    train_target.split(batch_size),\n",
    "                                                    digit_target.split(batch_size)):\n",
    "            \n",
    "            if auxiliary :\n",
    "                \n",
    "                output, d1, d2 = model(x_batch)\n",
    "\n",
    "                loss_digit1 = digit_loss(d1, y_digit_batch[..., 0])\n",
    "                loss_digit2 = digit_loss(d2, y_digit_batch[..., 1])\n",
    "                loss_final  = loss_function(output, y_batch)\n",
    "\n",
    "                loss_total = loss_final + 0.4*(loss_digit1 + loss_digit2)\n",
    "                \n",
    "                sum_loss_digit1 += loss_digit1.item()\n",
    "                sum_loss_digit2 += loss_digit2.item()\n",
    "                \n",
    "            else :\n",
    "                output = model(x_batch)\n",
    "                loss_total = loss_function(output, y_batch)\n",
    "                \n",
    "            optimizer.zero_grad()\n",
    "            loss_total.backward()  \n",
    "            optimizer.step()\n",
    "\n",
    "            sum_loss += loss_total.item()\n",
    "            \n",
    "        losses.append(sum_loss)\n",
    "        \n",
    "        if verbose : \n",
    "            if auxiliary :\n",
    "                print(\"Epoch %i: loss %.3f --- loss_d1 %.2f --- loss_d2 %.2f\" \\\n",
    "                      % (e,sum_loss, sum_loss_digit1, sum_loss_digit2), end=\"\\r\")  \n",
    "            else :\n",
    "                print(\"Epoch %i : loss %.3f\" % (e, sum_loss), end = \"\\r\")\n",
    "    return losses"
   ]
  },
  {
   "cell_type": "code",
   "execution_count": 43,
   "metadata": {},
   "outputs": [],
   "source": [
    "def evaluate_model(model, test_input, test_target):\n",
    "    model.eval()\n",
    "    \n",
    "    with torch.no_grad():\n",
    "        out = model(test_input)   \n",
    "        preds = torch.argmax(out, -1)\n",
    "        accuracy = (preds.float() == test_target.float()).sum().item()/preds.size(0)\n",
    "    return accuracy * 100"
   ]
  },
  {
   "cell_type": "code",
   "execution_count": 44,
   "metadata": {},
   "outputs": [],
   "source": [
    "def evaluate_model_aux(model, test_input, test_target, test_digits = None):\n",
    "    model.eval()\n",
    "    \n",
    "    with torch.no_grad():\n",
    "        out = model(test_input) \n",
    "        \n",
    "        preds = torch.argmax(torch.softmax(out[0], -1), axis = -1)\n",
    "        d1 = torch.argmax(torch.softmax(out[1], -1), axis = -1)\n",
    "        d2 = torch.argmax(torch.softmax(out[2], -1), axis = -1)\n",
    "        \n",
    "        accuracy = (preds.float() == test_target.float()).sum().item()/preds.size(0)\n",
    "        accuracy_d1 = (d1.float() == test_digits[:, 0].float()).sum().item()/preds.size(0)\n",
    "        accuracy_d2 = (d2.float() == test_digits[:, 1].float()).sum().item()/preds.size(0)\n",
    "    return accuracy * 100, accuracy_d1 * 100, accuracy_d2 * 100"
   ]
  },
  {
   "cell_type": "markdown",
   "metadata": {},
   "source": [
    "## GridSearch"
   ]
  },
  {
   "cell_type": "code",
   "execution_count": 332,
   "metadata": {
    "scrolled": true
   },
   "outputs": [
    {
     "name": "stdout",
     "output_type": "stream",
     "text": [
      "Starting 2 parameter grid search 2 times each over 25 epochs, with model 'model 1' containing 33552 parameters. \n",
      "\n",
      "Grid Search 1/2 : \n",
      "Fold 1/5: 79.250% mean accuracy\n",
      "Fold 2/5: 81.100% mean accuracy\n",
      "Fold 3/5: 80.350% mean accuracy\n",
      "Fold 4/5: 81.300% mean accuracy\n",
      "Fold 5/5: 80.800% mean accuracy\n",
      "All folds : 80.560% mean accuracy\n",
      "Grid Search 2/2 : \n",
      "Fold 1/5: 77.050% mean accuracy\n",
      "Fold 2/5: 80.100% mean accuracy\n",
      "Fold 3/5: 80.450% mean accuracy\n",
      "Fold 4/5: 81.550% mean accuracy\n",
      "Fold 5/5: 80.200% mean accuracy\n",
      "All folds : 79.870% mean accuracy\n",
      "\n",
      "Starting 2 parameter grid search 2 times each over 25 epochs, with model 'model best' containing 506788 parameters. \n",
      "\n",
      "Grid Search 1/2 : \n",
      "Fold 1/5"
     ]
    },
    {
     "ename": "KeyboardInterrupt",
     "evalue": "",
     "output_type": "error",
     "traceback": [
      "\u001b[1;31m---------------------------------------------------------------------------\u001b[0m",
      "\u001b[1;31mKeyboardInterrupt\u001b[0m                         Traceback (most recent call last)",
      "\u001b[1;32m<ipython-input-332-cb3e0c7e643f>\u001b[0m in \u001b[0;36m<module>\u001b[1;34m\u001b[0m\n\u001b[0;32m     64\u001b[0m \u001b[1;31m#                         indices_shuffle = torch.randperm(N)\u001b[0m\u001b[1;33m\u001b[0m\u001b[1;33m\u001b[0m\u001b[1;33m\u001b[0m\u001b[0m\n\u001b[0;32m     65\u001b[0m \u001b[1;33m\u001b[0m\u001b[0m\n\u001b[1;32m---> 66\u001b[1;33m                         train_loss = train_model(model, x_train[i_train].to(device),\n\u001b[0m\u001b[0;32m     67\u001b[0m                                      \u001b[0my_train\u001b[0m\u001b[1;33m[\u001b[0m\u001b[0mi_train\u001b[0m\u001b[1;33m]\u001b[0m\u001b[1;33m.\u001b[0m\u001b[0mto\u001b[0m\u001b[1;33m(\u001b[0m\u001b[0mdevice\u001b[0m\u001b[1;33m)\u001b[0m\u001b[1;33m,\u001b[0m\u001b[1;33m\u001b[0m\u001b[1;33m\u001b[0m\u001b[0m\n\u001b[0;32m     68\u001b[0m                                      \u001b[0my_train_classes\u001b[0m\u001b[1;33m[\u001b[0m\u001b[0mi_train\u001b[0m\u001b[1;33m]\u001b[0m\u001b[1;33m.\u001b[0m\u001b[0mto\u001b[0m\u001b[1;33m(\u001b[0m\u001b[0mdevice\u001b[0m\u001b[1;33m)\u001b[0m\u001b[1;33m,\u001b[0m\u001b[1;33m\u001b[0m\u001b[1;33m\u001b[0m\u001b[0m\n",
      "\u001b[1;32m<ipython-input-293-d51fa3089a30>\u001b[0m in \u001b[0;36mtrain_model\u001b[1;34m(model, train_input, train_target, digit_target, epochs, optimizer, loss_function, digit_loss, batch_size, auxiliary, verbose)\u001b[0m\n\u001b[0;32m     39\u001b[0m             \u001b[0moptimizer\u001b[0m\u001b[1;33m.\u001b[0m\u001b[0mzero_grad\u001b[0m\u001b[1;33m(\u001b[0m\u001b[1;33m)\u001b[0m\u001b[1;33m\u001b[0m\u001b[1;33m\u001b[0m\u001b[0m\n\u001b[0;32m     40\u001b[0m             \u001b[0mloss_total\u001b[0m\u001b[1;33m.\u001b[0m\u001b[0mbackward\u001b[0m\u001b[1;33m(\u001b[0m\u001b[1;33m)\u001b[0m\u001b[1;33m\u001b[0m\u001b[1;33m\u001b[0m\u001b[0m\n\u001b[1;32m---> 41\u001b[1;33m             \u001b[0moptimizer\u001b[0m\u001b[1;33m.\u001b[0m\u001b[0mstep\u001b[0m\u001b[1;33m(\u001b[0m\u001b[1;33m)\u001b[0m\u001b[1;33m\u001b[0m\u001b[1;33m\u001b[0m\u001b[0m\n\u001b[0m\u001b[0;32m     42\u001b[0m \u001b[1;33m\u001b[0m\u001b[0m\n\u001b[0;32m     43\u001b[0m             \u001b[0msum_loss\u001b[0m \u001b[1;33m+=\u001b[0m \u001b[0mloss_total\u001b[0m\u001b[1;33m.\u001b[0m\u001b[0mitem\u001b[0m\u001b[1;33m(\u001b[0m\u001b[1;33m)\u001b[0m\u001b[1;33m\u001b[0m\u001b[1;33m\u001b[0m\u001b[0m\n",
      "\u001b[1;32m~\\Anaconda3\\envs\\pytorch\\lib\\site-packages\\torch\\autograd\\grad_mode.py\u001b[0m in \u001b[0;36mdecorate_context\u001b[1;34m(*args, **kwargs)\u001b[0m\n\u001b[0;32m     13\u001b[0m         \u001b[1;32mdef\u001b[0m \u001b[0mdecorate_context\u001b[0m\u001b[1;33m(\u001b[0m\u001b[1;33m*\u001b[0m\u001b[0margs\u001b[0m\u001b[1;33m,\u001b[0m \u001b[1;33m**\u001b[0m\u001b[0mkwargs\u001b[0m\u001b[1;33m)\u001b[0m\u001b[1;33m:\u001b[0m\u001b[1;33m\u001b[0m\u001b[1;33m\u001b[0m\u001b[0m\n\u001b[0;32m     14\u001b[0m             \u001b[1;32mwith\u001b[0m \u001b[0mself\u001b[0m\u001b[1;33m:\u001b[0m\u001b[1;33m\u001b[0m\u001b[1;33m\u001b[0m\u001b[0m\n\u001b[1;32m---> 15\u001b[1;33m                 \u001b[1;32mreturn\u001b[0m \u001b[0mfunc\u001b[0m\u001b[1;33m(\u001b[0m\u001b[1;33m*\u001b[0m\u001b[0margs\u001b[0m\u001b[1;33m,\u001b[0m \u001b[1;33m**\u001b[0m\u001b[0mkwargs\u001b[0m\u001b[1;33m)\u001b[0m\u001b[1;33m\u001b[0m\u001b[1;33m\u001b[0m\u001b[0m\n\u001b[0m\u001b[0;32m     16\u001b[0m         \u001b[1;32mreturn\u001b[0m \u001b[0mdecorate_context\u001b[0m\u001b[1;33m\u001b[0m\u001b[1;33m\u001b[0m\u001b[0m\n\u001b[0;32m     17\u001b[0m \u001b[1;33m\u001b[0m\u001b[0m\n",
      "\u001b[1;32m~\\Anaconda3\\envs\\pytorch\\lib\\site-packages\\torch\\optim\\adam.py\u001b[0m in \u001b[0;36mstep\u001b[1;34m(self, closure)\u001b[0m\n\u001b[0;32m    105\u001b[0m                     \u001b[0mdenom\u001b[0m \u001b[1;33m=\u001b[0m \u001b[1;33m(\u001b[0m\u001b[0mmax_exp_avg_sq\u001b[0m\u001b[1;33m.\u001b[0m\u001b[0msqrt\u001b[0m\u001b[1;33m(\u001b[0m\u001b[1;33m)\u001b[0m \u001b[1;33m/\u001b[0m \u001b[0mmath\u001b[0m\u001b[1;33m.\u001b[0m\u001b[0msqrt\u001b[0m\u001b[1;33m(\u001b[0m\u001b[0mbias_correction2\u001b[0m\u001b[1;33m)\u001b[0m\u001b[1;33m)\u001b[0m\u001b[1;33m.\u001b[0m\u001b[0madd_\u001b[0m\u001b[1;33m(\u001b[0m\u001b[0mgroup\u001b[0m\u001b[1;33m[\u001b[0m\u001b[1;34m'eps'\u001b[0m\u001b[1;33m]\u001b[0m\u001b[1;33m)\u001b[0m\u001b[1;33m\u001b[0m\u001b[1;33m\u001b[0m\u001b[0m\n\u001b[0;32m    106\u001b[0m                 \u001b[1;32melse\u001b[0m\u001b[1;33m:\u001b[0m\u001b[1;33m\u001b[0m\u001b[1;33m\u001b[0m\u001b[0m\n\u001b[1;32m--> 107\u001b[1;33m                     \u001b[0mdenom\u001b[0m \u001b[1;33m=\u001b[0m \u001b[1;33m(\u001b[0m\u001b[0mexp_avg_sq\u001b[0m\u001b[1;33m.\u001b[0m\u001b[0msqrt\u001b[0m\u001b[1;33m(\u001b[0m\u001b[1;33m)\u001b[0m \u001b[1;33m/\u001b[0m \u001b[0mmath\u001b[0m\u001b[1;33m.\u001b[0m\u001b[0msqrt\u001b[0m\u001b[1;33m(\u001b[0m\u001b[0mbias_correction2\u001b[0m\u001b[1;33m)\u001b[0m\u001b[1;33m)\u001b[0m\u001b[1;33m.\u001b[0m\u001b[0madd_\u001b[0m\u001b[1;33m(\u001b[0m\u001b[0mgroup\u001b[0m\u001b[1;33m[\u001b[0m\u001b[1;34m'eps'\u001b[0m\u001b[1;33m]\u001b[0m\u001b[1;33m)\u001b[0m\u001b[1;33m\u001b[0m\u001b[1;33m\u001b[0m\u001b[0m\n\u001b[0m\u001b[0;32m    108\u001b[0m \u001b[1;33m\u001b[0m\u001b[0m\n\u001b[0;32m    109\u001b[0m                 \u001b[0mstep_size\u001b[0m \u001b[1;33m=\u001b[0m \u001b[0mgroup\u001b[0m\u001b[1;33m[\u001b[0m\u001b[1;34m'lr'\u001b[0m\u001b[1;33m]\u001b[0m \u001b[1;33m/\u001b[0m \u001b[0mbias_correction1\u001b[0m\u001b[1;33m\u001b[0m\u001b[1;33m\u001b[0m\u001b[0m\n",
      "\u001b[1;31mKeyboardInterrupt\u001b[0m: "
     ]
    }
   ],
   "source": [
    "models = [model_1, model_best]\n",
    "models_names = [\"model 1\", \"model best\"]\n",
    "models_best_cfg = []\n",
    "\n",
    "lrs = dict()\n",
    "\n",
    "# lrs[\"Adam\"] = [0.003, 0.002, 0.001, 0.0005]\n",
    "# lrs[\"SGD\"] = [0.1, 0.05, 0.01]\n",
    "# batchsizes = [16, 32, 64]\n",
    "\n",
    "lrs[\"Adam\"] = [0.002]\n",
    "lrs[\"SGD\"] = [0.2]\n",
    "batchsizes = [16]\n",
    "\n",
    "epochs = 25\n",
    "number_training = 2\n",
    "\n",
    "gridsearch_number = len(lrs[\"Adam\"]) * len(batchsizes) + len(lrs[\"SGD\"]) * len(batchsizes)\n",
    "\n",
    "model_accuracies = []\n",
    "model_vars = []\n",
    "model_parameters = []\n",
    "\n",
    "nfold = 5\n",
    "perm = torch.randperm(len(x_train))\n",
    "folds = perm.split(int(len(x_train) / nfold))\n",
    "\n",
    "for build_model, model_name in zip(models, models_names):\n",
    "    \n",
    "    dummy_model = build_model()\n",
    "    auxiliary = (type(dummy_model(x_train[0:1])) == tuple)\n",
    "    print(\"Starting %i parameter grid search %i times each over %i epochs, with model '%s' containing %i parameters. \\n\" % \n",
    "      (gridsearch_number, number_training, epochs, model_name, number_parameters(dummy_model)))\n",
    "    del dummy_model\n",
    "    \n",
    "    mean_accuracies = []\n",
    "    var_accuracies = []\n",
    "    parameters = []\n",
    "    \n",
    "    i_param = 0\n",
    "    for optim in [(torch.optim.Adam, \"Adam\"), (torch.optim.SGD, \"SGD\")]:\n",
    "        for lr in lrs[optim[1]]:\n",
    "            for batchsize in batchsizes :               \n",
    "                exp_accuracies = []\n",
    "                \n",
    "                print(\"\\rGrid Search %i/%i : \" % (i_param, gridsearch_number))\n",
    "                \n",
    "                for i_fold in range(nfold):\n",
    "                    print(\"Fold %i/%i\" % (i_fold+1, nfold), end = \"\")\n",
    "                    i_valid = folds[i_fold]\n",
    "                    i_train = torch.cat((*folds[:i_fold], *folds[i_fold+1:]))\n",
    "                    \n",
    "                    for i, rnd_exp in enumerate(range(number_training)):\n",
    "\n",
    "                        model = build_model()\n",
    "                        optimizer = optim[0](model.parameters(), lr)\n",
    "\n",
    "                        if torch.cuda.is_available():\n",
    "                            model.cuda()\n",
    "\n",
    "                        train_loss = train_model(model, x_train[i_train].to(device),\n",
    "                                     y_train[i_train].to(device),\n",
    "                                     y_train_classes[i_train].to(device),\n",
    "                                     epochs = epochs, optimizer=optimizer, batch_size=batchsize, \n",
    "                                                 auxiliary = auxiliary, verbose = False)\n",
    "\n",
    "\n",
    "                        if auxiliary :\n",
    "                            accuracy, accuracy_d1, accuracy_d2 = evaluate_model_aux(model, x_train[i_valid].to(device),\n",
    "                                                                                    y_train[i_valid].to(device),\n",
    "                                                                                    y_train_classes[i_valid].to(device))\n",
    "                        else :\n",
    "                            accuracy = evaluate_model(model,\n",
    "                                                      x_train[i_valid].to(device),\n",
    "                                                      y_train[i_valid].to(device))\n",
    "\n",
    "                        exp_accuracies.append(accuracy)\n",
    "                    \n",
    "                    print(\": %.2f%% mean accuracy\" % (mean(exp_accuracies[-number_training:])))\n",
    "                \n",
    "                print(\"All folds : %.2f%% mean accuracy\" % (mean(exp_accuracies)))\n",
    "                mean_accuracies.append(mean(exp_accuracies))\n",
    "                var_accuracies.append(var(exp_accuracies))\n",
    "                parameters.append((optim[1], lr, batchsize))\n",
    "    \n",
    "    print()\n",
    "    model_accuracies.append(mean_accuracies)\n",
    "    model_vars.append(var_accuracies)\n",
    "    model_parameters.append(parameters)\n"
   ]
  },
  {
   "cell_type": "markdown",
   "metadata": {},
   "source": [
    "## Experiment parametrization"
   ]
  },
  {
   "cell_type": "code",
   "execution_count": 176,
   "metadata": {},
   "outputs": [],
   "source": [
    "def experiment_model(model_name, build_model):\n",
    "    ################################ TRAINING PARAMETERS ################################################ \n",
    "\n",
    "    number_training = 10\n",
    "    epochs = 25\n",
    "\n",
    "    accuracies = []\n",
    "    times = []\n",
    "    \n",
    "    dummy_model = build_model()\n",
    "    auxiliary = (type(dummy_model(x_train[0:1])) == tuple)\n",
    "\n",
    "    print(\"Starting %i training of %i epochs, with model '%s' containing %i parameters. \\n\" % \n",
    "      (number_training, epochs, model_name, number_parameters(dummy_model)))\n",
    "\n",
    "    del dummy_model\n",
    "    \n",
    "    ################################ TRAINING  ################################################ \n",
    "    \n",
    "    for i_train in range(number_training):  \n",
    "        start = time.time()\n",
    "\n",
    "        model = build_model()\n",
    "        if torch.cuda.is_available():\n",
    "            model.cuda()\n",
    "        optimizer = torch.optim.Adam(model.parameters(), lr=0.001)\n",
    "        #optimizer = torch.optim.SGD(model.parameters(), lr=0.005, momentum=.9, weight_decay=0)\n",
    "        indices_shuffle = torch.randperm(N)\n",
    "#         indices_shuffle = list(range(N))\n",
    "        \n",
    "        train_loss = train_model(model, x_train[indices_shuffle].to(device),\n",
    "                                 y_train[indices_shuffle].to(device),\n",
    "                                 y_train_classes[indices_shuffle].to(device),\n",
    "                                 epochs = epochs, optimizer=optimizer, batch_size = 64, auxiliary = auxiliary)\n",
    "                \n",
    "        if auxiliary :\n",
    "            accuracy, accuracy_d1, accuracy_d2 = evaluate_model_aux(model, x_test.to(device),\n",
    "                                                                    y_test.to(device),\n",
    "                                                                    y_test_classes.to(device))\n",
    "            print(\"Attempt\", i_train + 1, \"- accuracy %.2f%%\"%accuracy,\n",
    "                  \" -- d1 : %.2f%% , d2 : %.2f%%\" % (accuracy_d1, accuracy_d2))\n",
    "        else :\n",
    "            accuracy = evaluate_model(model, x_test.to(device), y_test.to(device))\n",
    "            print(\"Attempt\", i_train + 1, \"- accuracy %.2f%%\"%accuracy)\n",
    "\n",
    "        accuracies.append(accuracy)\n",
    "\n",
    "        times.append(time.time() - start)\n",
    "\n",
    "    print(\"\\nExperiment results :\")\n",
    "    print(\"Accuracy mean : %.2f%% (%.1f)\" % (mean(accuracies), var(accuracies)))\n",
    "    print(\"Average training time : %.1f seconds (%.1f)\\n\\n\" % (mean(times), var(times)))\n",
    "    \n",
    "    return accuracies"
   ]
  },
  {
   "cell_type": "markdown",
   "metadata": {},
   "source": [
    "## Run experiments"
   ]
  },
  {
   "cell_type": "code",
   "execution_count": 46,
   "metadata": {},
   "outputs": [],
   "source": [
    "results = []\n",
    "model_list = [('Simple Net', model_0),\n",
    "             ('Auxiliary Loss', model_auxiliary_loss),\n",
    "             ('Weight Sharing', model_weight_sharing),\n",
    "             ('Auxiliary Loss + Weight Sharing', model_weight_sharing_with_auxiliary_loss)]"
   ]
  },
  {
   "cell_type": "code",
   "execution_count": 54,
   "metadata": {},
   "outputs": [
    {
     "name": "stdout",
     "output_type": "stream",
     "text": [
      "Starting 10 training of 25 epochs, with model 'Model simple' containing 71845 parameters. \n",
      "\n"
     ]
    },
    {
     "ename": "RuntimeError",
     "evalue": "Assertion `cur_target >= 0 && cur_target < n_classes' failed.  at /Users/distiller/project/conda/conda-bld/pytorch_1565272526878/work/aten/src/THNN/generic/ClassNLLCriterion.c:94",
     "output_type": "error",
     "traceback": [
      "\u001b[0;31m---------------------------------------------------------------------------\u001b[0m",
      "\u001b[0;31mRuntimeError\u001b[0m                              Traceback (most recent call last)",
      "\u001b[0;32m<ipython-input-54-98615922ba8c>\u001b[0m in \u001b[0;36m<module>\u001b[0;34m\u001b[0m\n\u001b[1;32m      2\u001b[0m \u001b[0;34m\u001b[0m\u001b[0m\n\u001b[1;32m      3\u001b[0m \u001b[0;32mfor\u001b[0m \u001b[0mmodel_params\u001b[0m \u001b[0;32min\u001b[0m \u001b[0mmodel_list\u001b[0m \u001b[0;34m:\u001b[0m\u001b[0;34m\u001b[0m\u001b[0;34m\u001b[0m\u001b[0m\n\u001b[0;32m----> 4\u001b[0;31m     \u001b[0mresults\u001b[0m\u001b[0;34m.\u001b[0m\u001b[0mappend\u001b[0m\u001b[0;34m(\u001b[0m\u001b[0;34m(\u001b[0m\u001b[0mexperiment_model\u001b[0m\u001b[0;34m(\u001b[0m\u001b[0;34m*\u001b[0m\u001b[0mmodel_params\u001b[0m\u001b[0;34m)\u001b[0m\u001b[0;34m,\u001b[0m \u001b[0mmodel_params\u001b[0m\u001b[0;34m)\u001b[0m\u001b[0;34m)\u001b[0m\u001b[0;34m\u001b[0m\u001b[0;34m\u001b[0m\u001b[0m\n\u001b[0m",
      "\u001b[0;32m<ipython-input-45-4d4713248d56>\u001b[0m in \u001b[0;36mexperiment_model\u001b[0;34m(model_name, build_model)\u001b[0m\n\u001b[1;32m     32\u001b[0m                                  \u001b[0my_train\u001b[0m\u001b[0;34m[\u001b[0m\u001b[0mindices_shuffle\u001b[0m\u001b[0;34m]\u001b[0m\u001b[0;34m.\u001b[0m\u001b[0mto\u001b[0m\u001b[0;34m(\u001b[0m\u001b[0mdevice\u001b[0m\u001b[0;34m)\u001b[0m\u001b[0;34m,\u001b[0m\u001b[0;34m\u001b[0m\u001b[0;34m\u001b[0m\u001b[0m\n\u001b[1;32m     33\u001b[0m                                  \u001b[0my_train_classes\u001b[0m\u001b[0;34m[\u001b[0m\u001b[0mindices_shuffle\u001b[0m\u001b[0;34m]\u001b[0m\u001b[0;34m.\u001b[0m\u001b[0mto\u001b[0m\u001b[0;34m(\u001b[0m\u001b[0mdevice\u001b[0m\u001b[0;34m)\u001b[0m\u001b[0;34m,\u001b[0m\u001b[0;34m\u001b[0m\u001b[0;34m\u001b[0m\u001b[0m\n\u001b[0;32m---> 34\u001b[0;31m                                  epochs = epochs, optimizer=optimizer, batch_size = 64, auxiliary = auxiliary)\n\u001b[0m\u001b[1;32m     35\u001b[0m \u001b[0;34m\u001b[0m\u001b[0m\n\u001b[1;32m     36\u001b[0m         \u001b[0;32mif\u001b[0m \u001b[0mauxiliary\u001b[0m \u001b[0;34m:\u001b[0m\u001b[0;34m\u001b[0m\u001b[0;34m\u001b[0m\u001b[0m\n",
      "\u001b[0;32m<ipython-input-42-d51fa3089a30>\u001b[0m in \u001b[0;36mtrain_model\u001b[0;34m(model, train_input, train_target, digit_target, epochs, optimizer, loss_function, digit_loss, batch_size, auxiliary, verbose)\u001b[0m\n\u001b[1;32m     26\u001b[0m                 \u001b[0mloss_digit1\u001b[0m \u001b[0;34m=\u001b[0m \u001b[0mdigit_loss\u001b[0m\u001b[0;34m(\u001b[0m\u001b[0md1\u001b[0m\u001b[0;34m,\u001b[0m \u001b[0my_digit_batch\u001b[0m\u001b[0;34m[\u001b[0m\u001b[0;34m...\u001b[0m\u001b[0;34m,\u001b[0m \u001b[0;36m0\u001b[0m\u001b[0;34m]\u001b[0m\u001b[0;34m)\u001b[0m\u001b[0;34m\u001b[0m\u001b[0;34m\u001b[0m\u001b[0m\n\u001b[1;32m     27\u001b[0m                 \u001b[0mloss_digit2\u001b[0m \u001b[0;34m=\u001b[0m \u001b[0mdigit_loss\u001b[0m\u001b[0;34m(\u001b[0m\u001b[0md2\u001b[0m\u001b[0;34m,\u001b[0m \u001b[0my_digit_batch\u001b[0m\u001b[0;34m[\u001b[0m\u001b[0;34m...\u001b[0m\u001b[0;34m,\u001b[0m \u001b[0;36m1\u001b[0m\u001b[0;34m]\u001b[0m\u001b[0;34m)\u001b[0m\u001b[0;34m\u001b[0m\u001b[0;34m\u001b[0m\u001b[0m\n\u001b[0;32m---> 28\u001b[0;31m                 \u001b[0mloss_final\u001b[0m  \u001b[0;34m=\u001b[0m \u001b[0mloss_function\u001b[0m\u001b[0;34m(\u001b[0m\u001b[0moutput\u001b[0m\u001b[0;34m,\u001b[0m \u001b[0my_batch\u001b[0m\u001b[0;34m)\u001b[0m\u001b[0;34m\u001b[0m\u001b[0;34m\u001b[0m\u001b[0m\n\u001b[0m\u001b[1;32m     29\u001b[0m \u001b[0;34m\u001b[0m\u001b[0m\n\u001b[1;32m     30\u001b[0m                 \u001b[0mloss_total\u001b[0m \u001b[0;34m=\u001b[0m \u001b[0mloss_final\u001b[0m \u001b[0;34m+\u001b[0m \u001b[0;36m0.4\u001b[0m\u001b[0;34m*\u001b[0m\u001b[0;34m(\u001b[0m\u001b[0mloss_digit1\u001b[0m \u001b[0;34m+\u001b[0m \u001b[0mloss_digit2\u001b[0m\u001b[0;34m)\u001b[0m\u001b[0;34m\u001b[0m\u001b[0;34m\u001b[0m\u001b[0m\n",
      "\u001b[0;32m/anaconda3/lib/python3.7/site-packages/torch/nn/modules/module.py\u001b[0m in \u001b[0;36m__call__\u001b[0;34m(self, *input, **kwargs)\u001b[0m\n\u001b[1;32m    545\u001b[0m             \u001b[0mresult\u001b[0m \u001b[0;34m=\u001b[0m \u001b[0mself\u001b[0m\u001b[0;34m.\u001b[0m\u001b[0m_slow_forward\u001b[0m\u001b[0;34m(\u001b[0m\u001b[0;34m*\u001b[0m\u001b[0minput\u001b[0m\u001b[0;34m,\u001b[0m \u001b[0;34m**\u001b[0m\u001b[0mkwargs\u001b[0m\u001b[0;34m)\u001b[0m\u001b[0;34m\u001b[0m\u001b[0;34m\u001b[0m\u001b[0m\n\u001b[1;32m    546\u001b[0m         \u001b[0;32melse\u001b[0m\u001b[0;34m:\u001b[0m\u001b[0;34m\u001b[0m\u001b[0;34m\u001b[0m\u001b[0m\n\u001b[0;32m--> 547\u001b[0;31m             \u001b[0mresult\u001b[0m \u001b[0;34m=\u001b[0m \u001b[0mself\u001b[0m\u001b[0;34m.\u001b[0m\u001b[0mforward\u001b[0m\u001b[0;34m(\u001b[0m\u001b[0;34m*\u001b[0m\u001b[0minput\u001b[0m\u001b[0;34m,\u001b[0m \u001b[0;34m**\u001b[0m\u001b[0mkwargs\u001b[0m\u001b[0;34m)\u001b[0m\u001b[0;34m\u001b[0m\u001b[0;34m\u001b[0m\u001b[0m\n\u001b[0m\u001b[1;32m    548\u001b[0m         \u001b[0;32mfor\u001b[0m \u001b[0mhook\u001b[0m \u001b[0;32min\u001b[0m \u001b[0mself\u001b[0m\u001b[0;34m.\u001b[0m\u001b[0m_forward_hooks\u001b[0m\u001b[0;34m.\u001b[0m\u001b[0mvalues\u001b[0m\u001b[0;34m(\u001b[0m\u001b[0;34m)\u001b[0m\u001b[0;34m:\u001b[0m\u001b[0;34m\u001b[0m\u001b[0;34m\u001b[0m\u001b[0m\n\u001b[1;32m    549\u001b[0m             \u001b[0mhook_result\u001b[0m \u001b[0;34m=\u001b[0m \u001b[0mhook\u001b[0m\u001b[0;34m(\u001b[0m\u001b[0mself\u001b[0m\u001b[0;34m,\u001b[0m \u001b[0minput\u001b[0m\u001b[0;34m,\u001b[0m \u001b[0mresult\u001b[0m\u001b[0;34m)\u001b[0m\u001b[0;34m\u001b[0m\u001b[0;34m\u001b[0m\u001b[0m\n",
      "\u001b[0;32m/anaconda3/lib/python3.7/site-packages/torch/nn/modules/loss.py\u001b[0m in \u001b[0;36mforward\u001b[0;34m(self, input, target)\u001b[0m\n\u001b[1;32m    914\u001b[0m     \u001b[0;32mdef\u001b[0m \u001b[0mforward\u001b[0m\u001b[0;34m(\u001b[0m\u001b[0mself\u001b[0m\u001b[0;34m,\u001b[0m \u001b[0minput\u001b[0m\u001b[0;34m,\u001b[0m \u001b[0mtarget\u001b[0m\u001b[0;34m)\u001b[0m\u001b[0;34m:\u001b[0m\u001b[0;34m\u001b[0m\u001b[0;34m\u001b[0m\u001b[0m\n\u001b[1;32m    915\u001b[0m         return F.cross_entropy(input, target, weight=self.weight,\n\u001b[0;32m--> 916\u001b[0;31m                                ignore_index=self.ignore_index, reduction=self.reduction)\n\u001b[0m\u001b[1;32m    917\u001b[0m \u001b[0;34m\u001b[0m\u001b[0m\n\u001b[1;32m    918\u001b[0m \u001b[0;34m\u001b[0m\u001b[0m\n",
      "\u001b[0;32m/anaconda3/lib/python3.7/site-packages/torch/nn/functional.py\u001b[0m in \u001b[0;36mcross_entropy\u001b[0;34m(input, target, weight, size_average, ignore_index, reduce, reduction)\u001b[0m\n\u001b[1;32m   1993\u001b[0m     \u001b[0;32mif\u001b[0m \u001b[0msize_average\u001b[0m \u001b[0;32mis\u001b[0m \u001b[0;32mnot\u001b[0m \u001b[0;32mNone\u001b[0m \u001b[0;32mor\u001b[0m \u001b[0mreduce\u001b[0m \u001b[0;32mis\u001b[0m \u001b[0;32mnot\u001b[0m \u001b[0;32mNone\u001b[0m\u001b[0;34m:\u001b[0m\u001b[0;34m\u001b[0m\u001b[0;34m\u001b[0m\u001b[0m\n\u001b[1;32m   1994\u001b[0m         \u001b[0mreduction\u001b[0m \u001b[0;34m=\u001b[0m \u001b[0m_Reduction\u001b[0m\u001b[0;34m.\u001b[0m\u001b[0mlegacy_get_string\u001b[0m\u001b[0;34m(\u001b[0m\u001b[0msize_average\u001b[0m\u001b[0;34m,\u001b[0m \u001b[0mreduce\u001b[0m\u001b[0;34m)\u001b[0m\u001b[0;34m\u001b[0m\u001b[0;34m\u001b[0m\u001b[0m\n\u001b[0;32m-> 1995\u001b[0;31m     \u001b[0;32mreturn\u001b[0m \u001b[0mnll_loss\u001b[0m\u001b[0;34m(\u001b[0m\u001b[0mlog_softmax\u001b[0m\u001b[0;34m(\u001b[0m\u001b[0minput\u001b[0m\u001b[0;34m,\u001b[0m \u001b[0;36m1\u001b[0m\u001b[0;34m)\u001b[0m\u001b[0;34m,\u001b[0m \u001b[0mtarget\u001b[0m\u001b[0;34m,\u001b[0m \u001b[0mweight\u001b[0m\u001b[0;34m,\u001b[0m \u001b[0;32mNone\u001b[0m\u001b[0;34m,\u001b[0m \u001b[0mignore_index\u001b[0m\u001b[0;34m,\u001b[0m \u001b[0;32mNone\u001b[0m\u001b[0;34m,\u001b[0m \u001b[0mreduction\u001b[0m\u001b[0;34m)\u001b[0m\u001b[0;34m\u001b[0m\u001b[0;34m\u001b[0m\u001b[0m\n\u001b[0m\u001b[1;32m   1996\u001b[0m \u001b[0;34m\u001b[0m\u001b[0m\n\u001b[1;32m   1997\u001b[0m \u001b[0;34m\u001b[0m\u001b[0m\n",
      "\u001b[0;32m/anaconda3/lib/python3.7/site-packages/torch/nn/functional.py\u001b[0m in \u001b[0;36mnll_loss\u001b[0;34m(input, target, weight, size_average, ignore_index, reduce, reduction)\u001b[0m\n\u001b[1;32m   1822\u001b[0m                          .format(input.size(0), target.size(0)))\n\u001b[1;32m   1823\u001b[0m     \u001b[0;32mif\u001b[0m \u001b[0mdim\u001b[0m \u001b[0;34m==\u001b[0m \u001b[0;36m2\u001b[0m\u001b[0;34m:\u001b[0m\u001b[0;34m\u001b[0m\u001b[0;34m\u001b[0m\u001b[0m\n\u001b[0;32m-> 1824\u001b[0;31m         \u001b[0mret\u001b[0m \u001b[0;34m=\u001b[0m \u001b[0mtorch\u001b[0m\u001b[0;34m.\u001b[0m\u001b[0m_C\u001b[0m\u001b[0;34m.\u001b[0m\u001b[0m_nn\u001b[0m\u001b[0;34m.\u001b[0m\u001b[0mnll_loss\u001b[0m\u001b[0;34m(\u001b[0m\u001b[0minput\u001b[0m\u001b[0;34m,\u001b[0m \u001b[0mtarget\u001b[0m\u001b[0;34m,\u001b[0m \u001b[0mweight\u001b[0m\u001b[0;34m,\u001b[0m \u001b[0m_Reduction\u001b[0m\u001b[0;34m.\u001b[0m\u001b[0mget_enum\u001b[0m\u001b[0;34m(\u001b[0m\u001b[0mreduction\u001b[0m\u001b[0;34m)\u001b[0m\u001b[0;34m,\u001b[0m \u001b[0mignore_index\u001b[0m\u001b[0;34m)\u001b[0m\u001b[0;34m\u001b[0m\u001b[0;34m\u001b[0m\u001b[0m\n\u001b[0m\u001b[1;32m   1825\u001b[0m     \u001b[0;32melif\u001b[0m \u001b[0mdim\u001b[0m \u001b[0;34m==\u001b[0m \u001b[0;36m4\u001b[0m\u001b[0;34m:\u001b[0m\u001b[0;34m\u001b[0m\u001b[0;34m\u001b[0m\u001b[0m\n\u001b[1;32m   1826\u001b[0m         \u001b[0mret\u001b[0m \u001b[0;34m=\u001b[0m \u001b[0mtorch\u001b[0m\u001b[0;34m.\u001b[0m\u001b[0m_C\u001b[0m\u001b[0;34m.\u001b[0m\u001b[0m_nn\u001b[0m\u001b[0;34m.\u001b[0m\u001b[0mnll_loss2d\u001b[0m\u001b[0;34m(\u001b[0m\u001b[0minput\u001b[0m\u001b[0;34m,\u001b[0m \u001b[0mtarget\u001b[0m\u001b[0;34m,\u001b[0m \u001b[0mweight\u001b[0m\u001b[0;34m,\u001b[0m \u001b[0m_Reduction\u001b[0m\u001b[0;34m.\u001b[0m\u001b[0mget_enum\u001b[0m\u001b[0;34m(\u001b[0m\u001b[0mreduction\u001b[0m\u001b[0;34m)\u001b[0m\u001b[0;34m,\u001b[0m \u001b[0mignore_index\u001b[0m\u001b[0;34m)\u001b[0m\u001b[0;34m\u001b[0m\u001b[0;34m\u001b[0m\u001b[0m\n",
      "\u001b[0;31mRuntimeError\u001b[0m: Assertion `cur_target >= 0 && cur_target < n_classes' failed.  at /Users/distiller/project/conda/conda-bld/pytorch_1565272526878/work/aten/src/THNN/generic/ClassNLLCriterion.c:94"
     ]
    }
   ],
   "source": [
    "model_list = [('Model simple', model_1_aux)]\n",
    "\n",
    "for model_params in model_list :\n",
    "    results.append((experiment_model(*model_params), model_params))"
   ]
  },
  {
   "cell_type": "code",
   "execution_count": 53,
   "metadata": {
    "scrolled": true
   },
   "outputs": [
    {
     "name": "stdout",
     "output_type": "stream",
     "text": [
      "Epoch 7: loss 10.562 --- loss_d1 1.74 --- loss_d2 1.5917\r"
     ]
    },
    {
     "ename": "KeyboardInterrupt",
     "evalue": "",
     "output_type": "error",
     "traceback": [
      "\u001b[0;31m---------------------------------------------------------------------------\u001b[0m",
      "\u001b[0;31mKeyboardInterrupt\u001b[0m                         Traceback (most recent call last)",
      "\u001b[0;32m<ipython-input-53-b61f4e92fc11>\u001b[0m in \u001b[0;36m<module>\u001b[0;34m\u001b[0m\n\u001b[1;32m      6\u001b[0m \u001b[0moptimizer\u001b[0m \u001b[0;34m=\u001b[0m \u001b[0mtorch\u001b[0m\u001b[0;34m.\u001b[0m\u001b[0moptim\u001b[0m\u001b[0;34m.\u001b[0m\u001b[0mAdam\u001b[0m\u001b[0;34m(\u001b[0m\u001b[0mmodel\u001b[0m\u001b[0;34m.\u001b[0m\u001b[0mparameters\u001b[0m\u001b[0;34m(\u001b[0m\u001b[0;34m)\u001b[0m\u001b[0;34m,\u001b[0m \u001b[0mlr\u001b[0m\u001b[0;34m=\u001b[0m\u001b[0;36m0.001\u001b[0m\u001b[0;34m)\u001b[0m\u001b[0;34m\u001b[0m\u001b[0;34m\u001b[0m\u001b[0m\n\u001b[1;32m      7\u001b[0m train_model(model, x_train[indices_shuffle], y_train[indices_shuffle], y_train_classes[indices_shuffle],\n\u001b[0;32m----> 8\u001b[0;31m                     epochs = 25, optimizer=optimizer, batch_size = 64, auxiliary = True)\n\u001b[0m\u001b[1;32m      9\u001b[0m \u001b[0mevaluate_model_aux\u001b[0m\u001b[0;34m(\u001b[0m\u001b[0mmodel\u001b[0m\u001b[0;34m,\u001b[0m \u001b[0mx_test\u001b[0m\u001b[0;34m,\u001b[0m \u001b[0my_test\u001b[0m\u001b[0;34m,\u001b[0m \u001b[0my_test_classes\u001b[0m\u001b[0;34m)\u001b[0m\u001b[0;34m\u001b[0m\u001b[0;34m\u001b[0m\u001b[0m\n",
      "\u001b[0;32m<ipython-input-42-d51fa3089a30>\u001b[0m in \u001b[0;36mtrain_model\u001b[0;34m(model, train_input, train_target, digit_target, epochs, optimizer, loss_function, digit_loss, batch_size, auxiliary, verbose)\u001b[0m\n\u001b[1;32m     38\u001b[0m \u001b[0;34m\u001b[0m\u001b[0m\n\u001b[1;32m     39\u001b[0m             \u001b[0moptimizer\u001b[0m\u001b[0;34m.\u001b[0m\u001b[0mzero_grad\u001b[0m\u001b[0;34m(\u001b[0m\u001b[0;34m)\u001b[0m\u001b[0;34m\u001b[0m\u001b[0;34m\u001b[0m\u001b[0m\n\u001b[0;32m---> 40\u001b[0;31m             \u001b[0mloss_total\u001b[0m\u001b[0;34m.\u001b[0m\u001b[0mbackward\u001b[0m\u001b[0;34m(\u001b[0m\u001b[0;34m)\u001b[0m\u001b[0;34m\u001b[0m\u001b[0;34m\u001b[0m\u001b[0m\n\u001b[0m\u001b[1;32m     41\u001b[0m             \u001b[0moptimizer\u001b[0m\u001b[0;34m.\u001b[0m\u001b[0mstep\u001b[0m\u001b[0;34m(\u001b[0m\u001b[0;34m)\u001b[0m\u001b[0;34m\u001b[0m\u001b[0;34m\u001b[0m\u001b[0m\n\u001b[1;32m     42\u001b[0m \u001b[0;34m\u001b[0m\u001b[0m\n",
      "\u001b[0;32m/anaconda3/lib/python3.7/site-packages/torch/tensor.py\u001b[0m in \u001b[0;36mbackward\u001b[0;34m(self, gradient, retain_graph, create_graph)\u001b[0m\n\u001b[1;32m    116\u001b[0m                 \u001b[0mproducts\u001b[0m\u001b[0;34m.\u001b[0m \u001b[0mDefaults\u001b[0m \u001b[0mto\u001b[0m\u001b[0;31m \u001b[0m\u001b[0;31m`\u001b[0m\u001b[0;31m`\u001b[0m\u001b[0;32mFalse\u001b[0m\u001b[0;31m`\u001b[0m\u001b[0;31m`\u001b[0m\u001b[0;34m.\u001b[0m\u001b[0;34m\u001b[0m\u001b[0;34m\u001b[0m\u001b[0m\n\u001b[1;32m    117\u001b[0m         \"\"\"\n\u001b[0;32m--> 118\u001b[0;31m         \u001b[0mtorch\u001b[0m\u001b[0;34m.\u001b[0m\u001b[0mautograd\u001b[0m\u001b[0;34m.\u001b[0m\u001b[0mbackward\u001b[0m\u001b[0;34m(\u001b[0m\u001b[0mself\u001b[0m\u001b[0;34m,\u001b[0m \u001b[0mgradient\u001b[0m\u001b[0;34m,\u001b[0m \u001b[0mretain_graph\u001b[0m\u001b[0;34m,\u001b[0m \u001b[0mcreate_graph\u001b[0m\u001b[0;34m)\u001b[0m\u001b[0;34m\u001b[0m\u001b[0;34m\u001b[0m\u001b[0m\n\u001b[0m\u001b[1;32m    119\u001b[0m \u001b[0;34m\u001b[0m\u001b[0m\n\u001b[1;32m    120\u001b[0m     \u001b[0;32mdef\u001b[0m \u001b[0mregister_hook\u001b[0m\u001b[0;34m(\u001b[0m\u001b[0mself\u001b[0m\u001b[0;34m,\u001b[0m \u001b[0mhook\u001b[0m\u001b[0;34m)\u001b[0m\u001b[0;34m:\u001b[0m\u001b[0;34m\u001b[0m\u001b[0;34m\u001b[0m\u001b[0m\n",
      "\u001b[0;32m/anaconda3/lib/python3.7/site-packages/torch/autograd/__init__.py\u001b[0m in \u001b[0;36mbackward\u001b[0;34m(tensors, grad_tensors, retain_graph, create_graph, grad_variables)\u001b[0m\n\u001b[1;32m     91\u001b[0m     Variable._execution_engine.run_backward(\n\u001b[1;32m     92\u001b[0m         \u001b[0mtensors\u001b[0m\u001b[0;34m,\u001b[0m \u001b[0mgrad_tensors\u001b[0m\u001b[0;34m,\u001b[0m \u001b[0mretain_graph\u001b[0m\u001b[0;34m,\u001b[0m \u001b[0mcreate_graph\u001b[0m\u001b[0;34m,\u001b[0m\u001b[0;34m\u001b[0m\u001b[0;34m\u001b[0m\u001b[0m\n\u001b[0;32m---> 93\u001b[0;31m         allow_unreachable=True)  # allow_unreachable flag\n\u001b[0m\u001b[1;32m     94\u001b[0m \u001b[0;34m\u001b[0m\u001b[0m\n\u001b[1;32m     95\u001b[0m \u001b[0;34m\u001b[0m\u001b[0m\n",
      "\u001b[0;31mKeyboardInterrupt\u001b[0m: "
     ]
    }
   ],
   "source": [
    "model = model_best()\n",
    "# indices_shuffle = torch.randperm(N)\n",
    "# indices_shuffle = list(range(999, -1, -1))\n",
    "indices_shuffle = list(range(1000))\n",
    "epochs = 25\n",
    "optimizer = torch.optim.Adam(model.parameters(), lr=0.001)\n",
    "train_model(model, x_train[indices_shuffle], y_train[indices_shuffle], y_train_classes[indices_shuffle],\n",
    "                    epochs = 25, optimizer=optimizer, batch_size = 64, auxiliary = True)\n",
    "evaluate_model_aux(model, x_test, y_test, y_test_classes)"
   ]
  },
  {
   "cell_type": "code",
   "execution_count": 100,
   "metadata": {},
   "outputs": [
    {
     "name": "stdout",
     "output_type": "stream",
     "text": [
      "[1, 0, 0, 1, 1, 0, 1, 1, 1, 1]\n",
      "[1, 0, 0, 1, 0, 1, 0, 1, 1, 1]\n",
      "\n",
      "[0, 4, 8, 2, 5, 0, 7, 1, 6, 1]\n",
      "[0, 4, 8, 2, 5, 0, 7, 1, 6, 1]\n",
      "\n",
      "[7, 1, 7, 9, 4, 0, 6, 5, 8, 0]\n",
      "[7, 1, 7, 9, 4, 0, 6, 9, 8, 7]\n"
     ]
    }
   ],
   "source": [
    "x, d1, d2 = model(x_test[:10])\n",
    "print(torch.argmax(x, -1).tolist())\n",
    "print(y_test[:10].tolist())\n",
    "print()\n",
    "print(torch.argmax(d1, -1).tolist())\n",
    "print(y_test_classes[:10, 0].tolist())\n",
    "print()\n",
    "print(torch.argmax(d2, -1).tolist())\n",
    "print(y_test_classes[:10, 1].tolist())"
   ]
  },
  {
   "cell_type": "markdown",
   "metadata": {},
   "source": [
    "## Results comparision between models"
   ]
  },
  {
   "cell_type": "code",
   "execution_count": null,
   "metadata": {
    "scrolled": true
   },
   "outputs": [],
   "source": [
    "for i, (result, model_params) in enumerate(results):\n",
    "    plt.plot(result, label = model_params[0] + \"_\" + str(i))\n",
    "    plt.legend()\n",
    "    \n",
    "plt.show()"
   ]
  }
 ],
 "metadata": {
  "kernelspec": {
   "display_name": "Python 3",
   "language": "python",
   "name": "python3"
  },
  "language_info": {
   "codemirror_mode": {
    "name": "ipython",
    "version": 3
   },
   "file_extension": ".py",
   "mimetype": "text/x-python",
   "name": "python",
   "nbconvert_exporter": "python",
   "pygments_lexer": "ipython3",
   "version": "3.7.3"
  }
 },
 "nbformat": 4,
 "nbformat_minor": 4
}
