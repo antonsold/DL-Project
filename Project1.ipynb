{
 "cells": [
  {
   "cell_type": "markdown",
   "metadata": {},
   "source": [
    "## Imports"
   ]
  },
  {
   "cell_type": "code",
   "execution_count": 37,
   "metadata": {},
   "outputs": [],
   "source": [
    "import torch\n",
    "from torch import nn\n",
    "from torch.nn import functional as F\n",
    "import time\n",
    "from math import sqrt\n",
    "\n",
    "import matplotlib.pyplot as plt\n",
    "\n",
    "import dlc_practical_prologue"
   ]
  },
  {
   "cell_type": "markdown",
   "metadata": {},
   "source": [
    "## Useful functions"
   ]
  },
  {
   "cell_type": "code",
   "execution_count": 4,
   "metadata": {},
   "outputs": [],
   "source": [
    "def mean(x):\n",
    "    return sum(x)/len(x)\n",
    "\n",
    "def var(x):\n",
    "    u = mean(x)\n",
    "    return sum([(v-u)**2 for v in x])/len(x)"
   ]
  },
  {
   "cell_type": "code",
   "execution_count": 5,
   "metadata": {},
   "outputs": [],
   "source": [
    "def number_parameters(model):   # Returns the number of parameter of a given model\n",
    "    return sum(p.numel() for p in model.parameters())"
   ]
  },
  {
   "cell_type": "markdown",
   "metadata": {},
   "source": [
    "## Load data"
   ]
  },
  {
   "cell_type": "code",
   "execution_count": 2,
   "metadata": {},
   "outputs": [],
   "source": [
    "N = 1000\n",
    "\n",
    "x_train, y_train, y_train_classes, x_test, y_test, y_test_classes = \\\n",
    "dlc_practical_prologue.generate_pair_sets(N)\n",
    "\n",
    "assert x_train.shape == torch.Size([N, 2, 14, 14])    # float32\n",
    "assert y_train.shape == torch.Size([N])               # int64\n",
    "assert y_train_classes.shape == torch.Size([N, 2])    # int64\n",
    "\n",
    "assert x_test.shape == torch.Size([N, 2, 14, 14])\n",
    "assert y_test.shape == torch.Size([N])\n",
    "assert y_test_classes.shape == torch.Size([N, 2])"
   ]
  },
  {
   "cell_type": "code",
   "execution_count": 3,
   "metadata": {},
   "outputs": [],
   "source": [
    "# if torch.cuda.is_available():  \n",
    "#     dev = \"cuda:0\"\n",
    "# else:  \n",
    "#     dev = \"cpu\"  \n",
    "# device = torch.device(dev)\n",
    "# x_train = x_train.to(device)\n",
    "# y_train = y_train.to(device)\n",
    "# y_train_classes = y_train_classes.to(device)\n",
    "# x_test = x_test.to(device)\n",
    "# y_test = y_test.to(device)\n",
    "# y_test_classes = y_test_classes.to(device)"
   ]
  },
  {
   "cell_type": "markdown",
   "metadata": {},
   "source": [
    "## Normalize input"
   ]
  },
  {
   "cell_type": "code",
   "execution_count": 46,
   "metadata": {},
   "outputs": [],
   "source": [
    "tmp_list = torch.flatten(x_train).tolist()\n",
    "\n",
    "x_train = x_train.sub(mean(tmp_list)).div(sqrt(var(tmp_list)))\n",
    "x_test = x_test.sub(mean(tmp_list)).div(sqrt(var(tmp_list)))"
   ]
  },
  {
   "cell_type": "markdown",
   "metadata": {},
   "source": [
    "## Define models"
   ]
  },
  {
   "cell_type": "code",
   "execution_count": 6,
   "metadata": {},
   "outputs": [
    {
     "name": "stdout",
     "output_type": "stream",
     "text": [
      "61935\n"
     ]
    }
   ],
   "source": [
    "## Is a Multi Layer Perceptron, composed of fully connected linear layers.\n",
    "## works well with lr=0.001  \n",
    "\n",
    "class model_0(nn.Module):   \n",
    "    def __init__(self, ns = [392,138,55,1]):\n",
    "        super().__init__()\n",
    "        layers = [nn.Linear(n_in, n_out) for n_in, n_out in zip(ns[:-1], ns[1:])]   \n",
    "        self.layers = nn.ModuleList(layers)\n",
    "\n",
    "    def forward(self, x):\n",
    "        x = torch.flatten(x,1)          # flatten the 2 images in one vector (but keeping batch size)\n",
    "        for layer in self.layers[:-1]:\n",
    "            x = layer(x).relu()\n",
    "            \n",
    "        x = self.layers[-1](x) \n",
    "        x = torch.flatten(torch.sigmoid(x))\n",
    "        return x\n",
    "print(number_parameters(model_0()))"
   ]
  },
  {
   "cell_type": "code",
   "execution_count": 7,
   "metadata": {},
   "outputs": [
    {
     "name": "stdout",
     "output_type": "stream",
     "text": [
      "46501\n"
     ]
    }
   ],
   "source": [
    "## Is a convolutional neural network poorly paramztrized\n",
    "## works well with lr=0.0001      \n",
    "\n",
    "class model_1(nn.Module):                 \n",
    "    def __init__(self):\n",
    "        super(model_1, self).__init__()\n",
    "        self.conv1 = nn.Conv2d(2, 16, kernel_size=3, padding=2)        \n",
    "        self.conv2 = nn.Conv2d(16, 32, kernel_size=3)\n",
    "        self.conv3 = nn.Conv2d(32, 64, kernel_size=3)\n",
    "\n",
    "        self.dense1 = nn.Linear(2304, 10)\n",
    "        self.dense2 = nn.Linear(10, 1)\n",
    "        \n",
    "    def forward(self, x):\n",
    "        x = F.leaky_relu(self.conv1(x))\n",
    "        x = F.leaky_relu(self.conv2(x))\n",
    "        x = F.leaky_relu(self.conv3(x))\n",
    "        x = F.max_pool2d(x, kernel_size=2) \n",
    "        \n",
    "        x = torch.flatten(x, 1)\n",
    "        \n",
    "        x = F.leaky_relu(self.dense1(x))\n",
    "        x = torch.sigmoid(self.dense2(x))\n",
    "        return x\n",
    "\n",
    "model_test = model_1()\n",
    "model_test(x_train[0:2])\n",
    "print(number_parameters(model_test))"
   ]
  },
  {
   "cell_type": "code",
   "execution_count": 8,
   "metadata": {
    "scrolled": true
   },
   "outputs": [
    {
     "name": "stdout",
     "output_type": "stream",
     "text": [
      "107557\n"
     ]
    }
   ],
   "source": [
    "## Is a convolutional neural network more paramztrized\n",
    "## works well with lr=0.0001      \n",
    "\n",
    "\n",
    "class model_2(nn.Module):\n",
    "    def __init__(self):\n",
    "        super(model_2, self).__init__()\n",
    "        self.conv1 = nn.Conv2d(2, 16, kernel_size=3, padding=2)        \n",
    "        self.conv2 = nn.Conv2d(16, 32, kernel_size=3)\n",
    "        self.conv3 = nn.Conv2d(32, 64, kernel_size=3)\n",
    "        self.conv4 = nn.Conv2d(64, 64, kernel_size=3)\n",
    "        self.conv5 = nn.Conv2d(64, 64, kernel_size=3)\n",
    "\n",
    "        self.dense1 = nn.Linear(1024, 10)\n",
    "        self.dense2 = nn.Linear(10, 1)\n",
    "        \n",
    "    def forward(self, x):\n",
    "        x = F.leaky_relu(self.conv1(x))\n",
    "        x = F.leaky_relu(self.conv2(x))\n",
    "        x = F.leaky_relu(self.conv3(x))\n",
    "        x = F.leaky_relu(self.conv4(x))\n",
    "        x = F.leaky_relu(self.conv5(x))\n",
    "        x = F.max_pool2d(x, kernel_size=2) \n",
    "        \n",
    "        x = torch.flatten(x, 1)\n",
    "        \n",
    "        x = F.leaky_relu(self.dense1(x))\n",
    "        x = torch.sigmoid(self.dense2(x))\n",
    "        return x\n",
    "\n",
    "model_test = model_2()\n",
    "model_test(x_train[0:2])\n",
    "print(number_parameters(model_test))"
   ]
  },
  {
   "cell_type": "code",
   "execution_count": 9,
   "metadata": {},
   "outputs": [
    {
     "name": "stdout",
     "output_type": "stream",
     "text": [
      "48381\n"
     ]
    }
   ],
   "source": [
    "class model_weight_sharing(nn.Module):\n",
    "    def __init__(self):\n",
    "        super(model_weight_sharing, self).__init__()        \n",
    "        self.conv1 = nn.Conv2d(1, 20, kernel_size=3, padding = 2)\n",
    "        self.conv2 = nn.Conv2d(20, 40, kernel_size=3)       \n",
    "        self.conv3 = nn.Conv2d(40, 60, kernel_size=3)       \n",
    "\n",
    "        self.dense1 = nn.Linear(480, 40)                     \n",
    "        self.dense2 = nn.Linear(40, 1)\n",
    "        \n",
    "    def forward(self, x):\n",
    "        d1 = F.leaky_relu(self.conv1(x[:, 0:1, ...]))\n",
    "        d1 = F.max_pool2d(self.conv2(d1), kernel_size=2)\n",
    "        d1 = F.max_pool2d(self.conv3(d1), kernel_size=2)\n",
    "        d1 = torch.flatten(d1, 1)\n",
    "        \n",
    "        d2 = F.leaky_relu(self.conv1(x[:, 1:2, ...]))\n",
    "        d2 = F.max_pool2d(self.conv2(d2), kernel_size=2)\n",
    "        d2 = F.max_pool2d(self.conv3(d2), kernel_size=2)\n",
    "        d2 = torch.flatten(d2, 1)\n",
    "\n",
    "        x = torch.cat((d1, d2), 1)\n",
    "        x = F.leaky_relu(self.dense1(torch.flatten(x, 1)))\n",
    "        x = torch.flatten(torch.sigmoid(self.dense2(x)))\n",
    "        return x \n",
    "    \n",
    "model_test = model_weight_sharing()\n",
    "model_test(x_train[0:2])\n",
    "print(number_parameters(model_test))"
   ]
  },
  {
   "cell_type": "code",
   "execution_count": 10,
   "metadata": {},
   "outputs": [
    {
     "name": "stdout",
     "output_type": "stream",
     "text": [
      "69397\n"
     ]
    }
   ],
   "source": [
    "## Is a convolutional neural network that splits the input in 2 images\n",
    "##   and treats them identically and independantly \n",
    "## works well with lr=0.0001    \n",
    "\n",
    "\n",
    "class model_1_ws(nn.Module):                 \n",
    "    def __init__(self):\n",
    "        super(model_1_ws, self).__init__()\n",
    "        self.conv1 = nn.Conv2d(1, 16, kernel_size=3, padding=2)        \n",
    "        self.conv2 = nn.Conv2d(16, 32, kernel_size=3)\n",
    "        self.conv3 = nn.Conv2d(32, 64, kernel_size=3)\n",
    "\n",
    "        self.dense1 = nn.Linear(4608, 10)\n",
    "        self.dense2 = nn.Linear(10, 1)\n",
    "        \n",
    "    def forward(self, x):\n",
    "        x1 = x[:, 0:1, ...]\n",
    "        x2 = x[:, 1:2, ...]\n",
    "        \n",
    "        x1 = F.leaky_relu(self.conv1(x1))\n",
    "        x1 = F.leaky_relu(self.conv2(x1))\n",
    "        x1 = F.leaky_relu(self.conv3(x1))\n",
    "        x1 = F.max_pool2d(x1, kernel_size=2)\n",
    "        x1 = torch.flatten(x1, 1)\n",
    "        \n",
    "        x2 = F.leaky_relu(self.conv1(x2))\n",
    "        x2 = F.leaky_relu(self.conv2(x2))\n",
    "        x2 = F.leaky_relu(self.conv3(x2))\n",
    "        x2 = F.max_pool2d(x2, kernel_size=2) \n",
    "        x2 = torch.flatten(x2, 1)\n",
    "        \n",
    "        x = torch.cat((x1, x2), 1)\n",
    "        x = F.leaky_relu(self.dense1(torch.flatten(x, 1)))\n",
    "        x = torch.sigmoid(self.dense2(x))\n",
    "        return x\n",
    "    \n",
    "model_test = model_1_ws()\n",
    "model_test(x_train[0:2])\n",
    "print(number_parameters(model_test))"
   ]
  },
  {
   "cell_type": "code",
   "execution_count": 11,
   "metadata": {},
   "outputs": [
    {
     "name": "stdout",
     "output_type": "stream",
     "text": [
      "25983\n"
     ]
    }
   ],
   "source": [
    "## Is a convolutional neural network that splits the input in 2 images\n",
    "#    and trat them identically and independantly \n",
    "#    additionally, predictions about digits are returned for auxiliary losses\n",
    "## works well with lr=0.0001    \n",
    "\n",
    "class model_weight_sharing_with_auxiliary_loss(nn.Module):\n",
    "    def __init__(self):\n",
    "        super(model_weight_sharing_with_auxiliary_loss, self).__init__()\n",
    "        self.conv1 = nn.Conv2d(1, 20, kernel_size=3)        \n",
    "        self.conv2 = nn.Conv2d(20, 40, kernel_size=3)\n",
    "        self.conv3 = nn.Conv2d(40, 40, kernel_size=3)\n",
    "        \n",
    "        #Treatment of the auxiliary outputs (classifier for both digits)\n",
    "        self.dense1_digit = nn.Linear(40, 32)\n",
    "        self.dense2_digit = nn.Linear(32, 10)\n",
    "        \n",
    "        #Tratment of the final output \n",
    "        self.dense1 = nn.Linear(80, 30)\n",
    "        self.dense2 = nn.Linear(30, 1)\n",
    "        \n",
    "    def forward(self, x):\n",
    "        d1 = F.leaky_relu(self.conv1(x[:, 0:1, ...]))\n",
    "        d1 = F.max_pool2d(self.conv2(d1), kernel_size=2)\n",
    "        d1 = F.max_pool2d(self.conv3(d1), kernel_size=2)\n",
    "        d1 = torch.flatten(d1, 1)\n",
    "\n",
    "        d2 = F.leaky_relu(self.conv1(x[:, 1:2, ...]))\n",
    "        d2 = F.max_pool2d(self.conv2(d2), kernel_size=2)\n",
    "        d2 = F.max_pool2d(self.conv3(d2), kernel_size=2)\n",
    "        d2 = torch.flatten(d2, 1)\n",
    "        \n",
    "        x = torch.cat((d1, d2), 1)\n",
    "        \n",
    "        d1 = F.leaky_relu(self.dense1_digit(d1))\n",
    "        d1 = F.softmax(self.dense2_digit(d1), -1)\n",
    "        d2 = F.leaky_relu(self.dense1_digit(d2))\n",
    "        d2 = F.softmax(self.dense2_digit(d2), -1)\n",
    "\n",
    "        x = F.leaky_relu(self.dense1(torch.flatten(x, 1)))\n",
    "        x = torch.flatten(torch.sigmoid(self.dense2(x)))\n",
    "        \n",
    "        return x, d1, d2 \n",
    "    \n",
    "print(number_parameters(model_weight_sharing_with_auxiliary_loss()))"
   ]
  },
  {
   "cell_type": "code",
   "execution_count": 12,
   "metadata": {},
   "outputs": [
    {
     "name": "stdout",
     "output_type": "stream",
     "text": [
      "84362\n"
     ]
    }
   ],
   "source": [
    "## Is a convolutional neural network more paramztrized\n",
    "## works well with lr=0.0001      \n",
    "# Makes sense for deep networks !!! (to avoid vanishing gradient) <TODO> with or without WS for classifier ??\n",
    "\n",
    "class model_auxiliary_loss(nn.Module):\n",
    "    def __init__(self):\n",
    "        super(model_auxiliary_loss, self).__init__()\n",
    "        self.conv1 = nn.Conv2d(2, 20, kernel_size=5, padding=2)        \n",
    "        self.conv2 = nn.Conv2d(20, 40, kernel_size=5, padding=2)\n",
    "        self.conv3 = nn.Conv2d(40, 20, kernel_size=5, padding=2)\n",
    "        self.conv4 = nn.Conv2d(20, 40, kernel_size=5, padding=2)\n",
    "        \n",
    "        self.dense1_ = nn.Linear(1960, 10)\n",
    "        self.dense2_ = nn.Linear(10, 1)\n",
    "        \n",
    "        self.dense1 = nn.Linear(360, 10)\n",
    "        self.dense2 = nn.Linear(10, 1)\n",
    "        \n",
    "    def forward(self, x):\n",
    "        x = F.leaky_relu(self.conv1(x))\n",
    "        x = F.max_pool2d(F.leaky_relu(self.conv2(x)), kernel_size=2)\n",
    "        \n",
    "        x_ = F.leaky_relu(self.dense1_(torch.flatten(x, 1)))       #For the auxiliary output\n",
    "        x_ = torch.flatten(torch.sigmoid(self.dense2_(x_)))\n",
    "        \n",
    "        x = F.leaky_relu(self.conv3(x))\n",
    "        x = F.max_pool2d(self.conv4(x), kernel_size=2)        \n",
    "        \n",
    "        x = F.leaky_relu(self.dense1(torch.flatten(x, 1)))\n",
    "        x = torch.flatten(torch.sigmoid(self.dense2(x)))\n",
    "        return x, x_\n",
    "\n",
    "print(number_parameters(model_auxiliary_loss()))"
   ]
  },
  {
   "cell_type": "code",
   "execution_count": 13,
   "metadata": {},
   "outputs": [
    {
     "name": "stdout",
     "output_type": "stream",
     "text": [
      "71845\n"
     ]
    }
   ],
   "source": [
    "class model_1_aux(nn.Module):                 \n",
    "    def __init__(self):\n",
    "        super(model_1_aux, self).__init__()\n",
    "        self.conv1 = nn.Conv2d(2, 16, kernel_size=3, padding=2)        \n",
    "        self.conv2 = nn.Conv2d(16, 32, kernel_size=3)\n",
    "        self.conv3 = nn.Conv2d(32, 64, kernel_size=3)\n",
    "\n",
    "        self.dense_final = nn.Linear(2304, 1)\n",
    "        self.dense_d1 = nn.Linear(2304, 10)\n",
    "        self.dense_d2 = nn.Linear(2304, 10)\n",
    "        \n",
    "    def forward(self, x):\n",
    "        x = F.leaky_relu(self.conv1(x))\n",
    "        x = F.leaky_relu(self.conv2(x))\n",
    "        x = F.leaky_relu(self.conv3(x))\n",
    "        x = F.max_pool2d(x, kernel_size=2) \n",
    "        \n",
    "        x = torch.flatten(x, 1)\n",
    "        \n",
    "        d1 = torch.softmax(self.dense_d1(x), -1)\n",
    "        d2 = torch.softmax(self.dense_d2(x), -1)\n",
    "        x = torch.sigmoid(self.dense_final(x))\n",
    "        \n",
    "        return x, d1, d2\n",
    "\n",
    "model_test = model_1_aux()\n",
    "model_test(x_train[0:2])\n",
    "print(number_parameters(model_test))"
   ]
  },
  {
   "cell_type": "code",
   "execution_count": 23,
   "metadata": {},
   "outputs": [
    {
     "name": "stdout",
     "output_type": "stream",
     "text": [
      "613855\n"
     ]
    }
   ],
   "source": [
    "class model_best(nn.Module):\n",
    "    def __init__(self):\n",
    "        super(model_best, self).__init__()\n",
    "        self.conv1 = nn.Conv2d(1, 16, kernel_size=3, padding=2)        \n",
    "        self.conv2 = nn.Conv2d(16, 32, kernel_size=3)\n",
    "        self.conv3 = nn.Conv2d(32, 64, kernel_size=3)\n",
    "        \n",
    "        self.dense1 = nn.Linear(9216, 64)\n",
    "        self.dense2 = nn.Linear(64, 10)\n",
    "        \n",
    "        self.dense3 = nn.Linear(20, 1)\n",
    "\n",
    "        \n",
    "    def forward(self, x):\n",
    "        d1 = F.leaky_relu(self.conv1(x[:, 0:1, ...]))\n",
    "        d1 = F.leaky_relu(self.conv2(d1))\n",
    "        d1 = F.leaky_relu(self.conv3(d1))\n",
    "        d1 = torch.flatten(d1, 1)\n",
    "        d1 = F.leaky_relu(self.dense1(d1))\n",
    "        d1 = self.dense2(d1)\n",
    "\n",
    "        d2 = F.leaky_relu(self.conv1(x[:, 1:2, ...]))\n",
    "        d2 = F.leaky_relu(self.conv2(d2))\n",
    "        d2 = F.leaky_relu(self.conv3(d2))\n",
    "        d2 = torch.flatten(d2, 1)\n",
    "        d2 = F.leaky_relu(self.dense1(d2))\n",
    "        d2 = self.dense2(d2)\n",
    "        \n",
    "        x = F.leaky_relu(torch.cat((d1, d2), 1))\n",
    "        \n",
    "        d1 = torch.softmax(d1, -1)\n",
    "        d2 = torch.softmax(d2, -1)\n",
    "        x = torch.sigmoid(self.dense3(x))\n",
    "        return x, d1, d2\n",
    "\n",
    "model_test = model_best()\n",
    "model_test(x_train[0:2])\n",
    "print(number_parameters(model_test))"
   ]
  },
  {
   "cell_type": "markdown",
   "metadata": {},
   "source": [
    "## Training/Evaluation function"
   ]
  },
  {
   "cell_type": "code",
   "execution_count": 48,
   "metadata": {},
   "outputs": [],
   "source": [
    "def train_model(model, train_input, train_target, digit_target,\n",
    "                 epochs, optimizer,\n",
    "                 loss_function = nn.BCELoss(), digit_loss = nn.CrossEntropyLoss(),\n",
    "                 batch_size=10,\n",
    "                 auxiliary = False):\n",
    "    \n",
    "    # Inspired by exercise corrige \n",
    "    model.train()\n",
    "    losses = []\n",
    "    \n",
    "    for e in range(epochs):\n",
    "        sum_loss = 0\n",
    "        \n",
    "        if auxiliary:\n",
    "            sum_loss_digit1 = 0\n",
    "            sum_loss_digit2 = 0\n",
    "        \n",
    "        for x_batch, y_batch, y_digit_batch in zip(x_train.split(batch_size),\n",
    "                                                    y_train.split(batch_size),\n",
    "                                                    digit_target.split(batch_size)):\n",
    "            \n",
    "            if auxiliary :\n",
    "                output, d1, d2 = model(x_batch)\n",
    "\n",
    "                loss_digit1 = digit_loss(d1, y_digit_batch[..., 0])\n",
    "                loss_digit2 = digit_loss(d2, y_digit_batch[..., 1])\n",
    "                loss_final  = loss_function(torch.flatten(output), y_batch.float())\n",
    "\n",
    "                loss_total = loss_final + 0.4*(loss_digit1 + loss_digit2)\n",
    "                \n",
    "                sum_loss_digit1 += loss_digit1.item()\n",
    "                sum_loss_digit2 += loss_digit2.item()\n",
    "                \n",
    "            else :\n",
    "                output = torch.flatten(model(x_batch))\n",
    "                loss_total = loss_function(output, y_batch.float())\n",
    "                \n",
    "            optimizer.zero_grad()\n",
    "            loss_total.backward()  \n",
    "            optimizer.step()\n",
    "\n",
    "            sum_loss += loss_total.item()\n",
    "            \n",
    "        losses.append(sum_loss)\n",
    "        \n",
    "        if auxiliary :\n",
    "            print(\"Epoch %i: loss %.3f --- loss_d1 %.2f --- loss_d2 %.2f\" \\\n",
    "                  % (e,sum_loss, sum_loss_digit1, sum_loss_digit2), end=\"\\r\")  \n",
    "        else :\n",
    "            print(\"Epoch %i : loss %.3f\" % (e, sum_loss), end = \"\\r\")\n",
    "    return losses"
   ]
  },
  {
   "cell_type": "code",
   "execution_count": 49,
   "metadata": {},
   "outputs": [],
   "source": [
    "def evaluate_model(model, test_input, test_target, auxiliary = False):\n",
    "    model.eval()\n",
    "    \n",
    "    with torch.no_grad():\n",
    "        out = model(test_input) \n",
    "        if auxiliary:\n",
    "            out = out[0]\n",
    "        preds_proba = out.view(-1)   \n",
    "        preds = preds_proba.masked_fill((preds_proba > 0.5), 1).masked_fill((preds_proba<0.5), 0)\n",
    "        accuracy = (preds.float() == test_target.float()).sum().item()/preds.size(0)\n",
    "    return accuracy"
   ]
  },
  {
   "cell_type": "markdown",
   "metadata": {},
   "source": [
    "## Experiment parametrization"
   ]
  },
  {
   "cell_type": "code",
   "execution_count": 56,
   "metadata": {},
   "outputs": [],
   "source": [
    "def experiment_model(model_name, build_model):\n",
    "    ################################ TRAINING PARAMETERS ################################################ \n",
    "\n",
    "    number_training = 10\n",
    "    epochs = 25\n",
    "\n",
    "    accuracies = []\n",
    "    times = []\n",
    "    \n",
    "    dummy_model = build_model()\n",
    "    auxiliary = (type(dummy_model(x_train[0:1])) == tuple)\n",
    "\n",
    "    ################################ TRAINING  ################################################ \n",
    "\n",
    "    print(\"Starting %i training of %i epochs, with model '%s' containing %i parameters. \\n\" % \n",
    "          (number_training, epochs, model_name, number_parameters(dummy_model)))\n",
    "\n",
    "    del dummy_model\n",
    "    \n",
    "    for i_train in range(number_training):  \n",
    "        start = time.time()\n",
    "\n",
    "        model = build_model()\n",
    "#         if torch.cuda.is_available():\n",
    "#             model.cuda()\n",
    "        \n",
    "        optimizer = torch.optim.Adam(model.parameters(), lr=0.001\n",
    "                                    )\n",
    "        indices_shuffle = torch.randperm(N)\n",
    "\n",
    "\n",
    "        train_loss = train_model(model, x_train[indices_shuffle], y_train[indices_shuffle], y_train_classes[indices_shuffle],\n",
    "                                 epochs = epochs, optimizer=optimizer, batch_size = 50, auxiliary = auxiliary)\n",
    "        \n",
    "        accuracy = evaluate_model(model, x_test, y_test, auxiliary = auxiliary)\n",
    "\n",
    "        accuracy*=100\n",
    "        print(\"Attempt\", i_train + 1, \"- accuracy %.2f%%\"%accuracy)\n",
    "        accuracies.append(accuracy)\n",
    "\n",
    "        times.append(time.time() - start)\n",
    "\n",
    "    print(\"\\nExperiment results :\")\n",
    "    print(\"Accuracy mean : %.2f%% (%.1f)\" % (mean(accuracies), var(accuracies)))\n",
    "    print(\"Average training time : %.1f seconds (%.1f)\\n\\n\" % (mean(times), var(times)))\n",
    "    \n",
    "    return accuracies"
   ]
  },
  {
   "cell_type": "markdown",
   "metadata": {},
   "source": [
    "## Run experiments"
   ]
  },
  {
   "cell_type": "code",
   "execution_count": 51,
   "metadata": {},
   "outputs": [],
   "source": [
    "# results = []\n",
    "model_list = [('Simple Net', model_0),\n",
    "             ('Auxiliary Loss', model_auxiliary_loss),\n",
    "             ('Weight Sharing', model_weight_sharing),\n",
    "             ('Auxiliary Loss + Weight Sharing', model_weight_sharing_with_auxiliary_loss)]"
   ]
  },
  {
   "cell_type": "code",
   "execution_count": 57,
   "metadata": {},
   "outputs": [
    {
     "name": "stdout",
     "output_type": "stream",
     "text": [
      "Starting 10 training of 25 epochs, with model 'Model best' containing 46501 parameters. \n",
      "\n",
      "Attempt 1 - accuracy 81.50%\n",
      "Attempt 2 - accuracy 81.10%\n",
      "Attempt 3 - accuracy 82.30%\n",
      "Attempt4 : loss 0.990 4 - accuracy 82.00%\n",
      "Attempt 5 - accuracy 83.00%\n",
      "Attempt4 : loss 1.300 6 - accuracy 79.40%\n",
      "Attempt 7 - accuracy 82.40%\n",
      "Attempt 8 - accuracy 83.10%\n",
      "Attempt 9 - accuracy 73.90%\n",
      "Attempt 10 - accuracy 83.20%\n",
      "\n",
      "Experiment results :\n",
      "Accuracy mean : 81.19% (7.1)\n",
      "Average training time : 13.3 seconds (5.0)\n",
      "\n",
      "\n"
     ]
    }
   ],
   "source": [
    "model_list = [('Model best', model_1)]\n",
    "\n",
    "for model_params in model_list :\n",
    "    results.append((experiment_model(*model_params), model_params))"
   ]
  },
  {
   "cell_type": "markdown",
   "metadata": {},
   "source": [
    "## Results comparision between models"
   ]
  },
  {
   "cell_type": "code",
   "execution_count": null,
   "metadata": {
    "scrolled": true
   },
   "outputs": [],
   "source": [
    "for i, (result, model_params) in enumerate(results):\n",
    "    plt.plot(result, label = model_params[0] + \"_\" + str(i))\n",
    "    plt.legend()\n",
    "    \n",
    "plt.show()"
   ]
  }
 ],
 "metadata": {
  "kernelspec": {
   "display_name": "pytorch",
   "language": "python",
   "name": "pytorch"
  },
  "language_info": {
   "codemirror_mode": {
    "name": "ipython",
    "version": 3
   },
   "file_extension": ".py",
   "mimetype": "text/x-python",
   "name": "python",
   "nbconvert_exporter": "python",
   "pygments_lexer": "ipython3",
   "version": "3.8.2"
  }
 },
 "nbformat": 4,
 "nbformat_minor": 4
}
