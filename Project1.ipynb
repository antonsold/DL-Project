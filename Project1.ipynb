{
 "cells": [
  {
   "cell_type": "markdown",
   "metadata": {},
   "source": [
    "## Imports"
   ]
  },
  {
   "cell_type": "code",
   "execution_count": 3,
   "metadata": {},
   "outputs": [],
   "source": [
    "import torch\n",
    "from torch import nn\n",
    "from torch.nn import functional as F\n",
    "\n",
    "import dlc_practical_prologue"
   ]
  },
  {
   "cell_type": "markdown",
   "metadata": {},
   "source": [
    "## Load data"
   ]
  },
  {
   "cell_type": "code",
   "execution_count": 181,
   "metadata": {},
   "outputs": [],
   "source": [
    "N = 1000\n",
    "\n",
    "x_train, y_train, y_train_classes, x_test, y_test, y_test_classes = \\\n",
    "dlc_practical_prologue.generate_pair_sets(N)\n",
    "\n",
    "assert x_train.shape == torch.Size([N, 2, 14, 14])\n",
    "assert y_train.shape == torch.Size([N])\n",
    "assert y_train_classes.shape == torch.Size([N, 2])\n",
    "assert x_test.shape == torch.Size([N, 2, 14, 14])\n",
    "assert y_test.shape == torch.Size([N])\n",
    "assert y_test_classes.shape == torch.Size([N, 2])"
   ]
  },
  {
   "cell_type": "markdown",
   "metadata": {},
   "source": [
    "## Define model"
   ]
  },
  {
   "cell_type": "code",
   "execution_count": 172,
   "metadata": {},
   "outputs": [],
   "source": [
    "class model_1(nn.Module):\n",
    "    def __init__(self):\n",
    "        super(model_1, self).__init__()\n",
    "        self.conv1 = nn.Conv2d(2, 10, kernel_size=3)        \n",
    "        self.conv2 = nn.Conv2d(10, 10, kernel_size=3)\n",
    "\n",
    "        self.dense1 = nn.Linear(40, 10)\n",
    "        self.dense2 = nn.Linear(10, 1)\n",
    "        \n",
    "    def forward(self, x):\n",
    "        x = F.max_pool2d(self.conv1(x), kernel_size=2)\n",
    "        x = F.max_pool2d(self.conv2(x), kernel_size=2)\n",
    "        x = F.relu(self.dense1(torch.flatten(x, 1)))\n",
    "        x = F.sigmoid(self.dense2(x))\n",
    "        return x"
   ]
  },
  {
   "cell_type": "code",
   "execution_count": 177,
   "metadata": {},
   "outputs": [],
   "source": [
    "class model_weight_sharing(nn.Module):\n",
    "    def __init__(self):\n",
    "        super(model_weight_sharing, self).__init__()\n",
    "        self.conv1 = nn.Conv2d(1, 10, kernel_size=3)        \n",
    "        self.conv2 = nn.Conv2d(10, 10, kernel_size=3)\n",
    "\n",
    "        self.dense1 = nn.Linear(80, 10)\n",
    "        self.dense2 = nn.Linear(10, 1)\n",
    "        \n",
    "    def forward(self, x):\n",
    "        d1 = F.max_pool2d(self.conv1(x[:, 0:1, ...]), kernel_size=2)\n",
    "        d1 = F.max_pool2d(self.conv2(d1), kernel_size=2)\n",
    "        d1 = torch.flatten(d1, 1)\n",
    "        \n",
    "        d2 = F.max_pool2d(self.conv1(x[:, 1:2, ...]), kernel_size=2)\n",
    "        d2 = F.max_pool2d(self.conv2(d2), kernel_size=2)\n",
    "        d2 = torch.flatten(d2, 1)\n",
    "\n",
    "        x = torch.cat((d1, d2), 1)\n",
    "        x = F.relu(self.dense1(torch.flatten(x, 1)))\n",
    "        x = F.sigmoid(self.dense2(x))\n",
    "        return x"
   ]
  },
  {
   "cell_type": "code",
   "execution_count": 207,
   "metadata": {},
   "outputs": [],
   "source": [
    "class model_auxiliary_loss(nn.Module):\n",
    "    def __init__(self):\n",
    "        super(model_auxiliary_loss, self).__init__()\n",
    "        self.conv1 = nn.Conv2d(2, 10, kernel_size=3)   #2*14*14 => 10*12*12  (Maxpool => 10*6*6)  \n",
    "        self.conv2 = nn.Conv2d(10, 10, kernel_size=3)  #10*6*6 => 10* 4 * 4 (Maxpool => 10*2*2)\n",
    "\n",
    "        self.dense_digits1 = nn.Linear(40, 10)\n",
    "        self.dense_digits2 = nn.Linear(40, 10)\n",
    "        \n",
    "        self.dense1 = nn.Linear(40, 10)\n",
    "        self.dense2 = nn.Linear(10, 1)\n",
    "        \n",
    "    def forward(self, x):\n",
    "        x = F.max_pool2d(self.conv1(x), kernel_size=2)\n",
    "        x = F.max_pool2d(self.conv2(x), kernel_size=2)\n",
    "        \n",
    "        x = torch.flatten(x, 1)\n",
    "        \n",
    "        self.digits1 = F.softmax((self.dense_digits1(x)), -1)\n",
    "        self.digits2 = F.softmax((self.dense_digits2(x)), -1)\n",
    "        \n",
    "        x = F.relu(self.dense1(x))\n",
    "        x = torch.sigmoid(self.dense2(x))\n",
    "        return x"
   ]
  },
  {
   "cell_type": "markdown",
   "metadata": {},
   "source": [
    "## Training/Evaluation function"
   ]
  },
  {
   "cell_type": "code",
   "execution_count": 152,
   "metadata": {},
   "outputs": [],
   "source": [
    "def train_model(model, train_input, train_target, epochs, optimizer, loss_function = nn.BCELoss(), batch_size=10):\n",
    "    # Inspired by exercise corrige \n",
    "    model.train()\n",
    "    \n",
    "    for e in range(epochs):\n",
    "        sum_loss = 0\n",
    "        \n",
    "        for x_batch, y_batch in zip(x_train.split(batch_size),\n",
    "                                    y_train.split(batch_size)):\n",
    "            \n",
    "            output = model(x_batch)\n",
    "            loss = loss_function(output, y_batch.float())\n",
    "            \n",
    "            optimizer.zero_grad()\n",
    "            loss.backward()\n",
    "            optimizer.step()\n",
    "            \n",
    "            sum_loss = sum_loss + loss.item()\n",
    "            \n",
    "            \n",
    "        losses.append(sum_loss)\n",
    "        print(\"Epoch %i : loss %.2f\" % (e, sum_loss), end = \"\\r\")\n",
    "        \n",
    "    return losses"
   ]
  },
  {
   "cell_type": "code",
   "execution_count": 245,
   "metadata": {},
   "outputs": [],
   "source": [
    "def train_auxiliary_model(model, train_input, train_target, digit_target,\n",
    "                          epochs, optimizer, loss_function = nn.BCELoss(), batch_size=10):\n",
    "    # Inspired by exercise corrige \n",
    "    model.train()\n",
    "    \n",
    "    digit_loss = nn.CrossEntropyLoss()\n",
    "    \n",
    "    for e in range(epochs):\n",
    "        sum_loss = 0\n",
    "        sum_loss_digit1 = 0\n",
    "        sum_loss_digit2 = 0\n",
    "        \n",
    "        for x_batch, y_batch, y_digit_batch in zip(x_train.split(batch_size),\n",
    "                                                    y_train.split(batch_size),\n",
    "                                                    digit_target.split(batch_size)):\n",
    "            \n",
    "            output = model(x_batch)\n",
    "\n",
    "            loss_digit1 = digit_loss(model.digits1, y_digit_batch[..., 0])\n",
    "            loss_digit2 = digit_loss(model.digits2, y_digit_batch[..., 1])\n",
    "            loss = loss_function(output, y_batch.float())\n",
    "            \n",
    "            loss_total = loss_digit1 + loss_digit2 + loss\n",
    "\n",
    "            optimizer.zero_grad()\n",
    "            loss_total.backward()  \n",
    "            optimizer.step()\n",
    "            \n",
    "            sum_loss_digit1 = sum_loss_digit1 + loss_digit1.item()\n",
    "            sum_loss_digit2 = sum_loss_digit2 + loss_digit2.item()\n",
    "            sum_loss = sum_loss + loss.item()\n",
    "            \n",
    "            \n",
    "        losses.append(sum_loss)\n",
    "        print(\"Epoch %i : loss %.2f --- loss_digit1 %.2f --- loss_digit2 %.2f\" \\\n",
    "              % (e,sum_loss, sum_loss_digit1, sum_loss_digit2))\n",
    "        \n",
    "    return losses"
   ]
  },
  {
   "cell_type": "code",
   "execution_count": 149,
   "metadata": {},
   "outputs": [],
   "source": [
    "def evaluate_model(model, test_input, test_target):\n",
    "    model.eval()\n",
    "    criterion = nn.BCELoss()\n",
    "    preds_proba = model(test_input).view(-1)\n",
    "    preds = preds_proba.masked_fill((preds_proba > 0.5), 1).masked_fill((preds_proba<0.5), 0)\n",
    "    \n",
    "    loss = criterion(preds_proba, test_target.float()).item()\n",
    "    accuracy = (preds == test_target).sum().item()/preds.size(0)\n",
    "    #accuracy = sum([pred == truth for pred, truth in zip(preds, test_target)])\n",
    "    return loss, accuracy"
   ]
  },
  {
   "cell_type": "code",
   "execution_count": 132,
   "metadata": {},
   "outputs": [],
   "source": [
    "def mean(x):\n",
    "    return sum(x)/len(x)\n",
    "\n",
    "def var(x):\n",
    "    u = mean(x)\n",
    "    return sum([(v-u)**2 for v in x])/len(x)"
   ]
  },
  {
   "cell_type": "markdown",
   "metadata": {},
   "source": [
    "## Experiment"
   ]
  },
  {
   "cell_type": "code",
   "execution_count": 246,
   "metadata": {
    "scrolled": true
   },
   "outputs": [
    {
     "ename": "RuntimeError",
     "evalue": "Trying to backward through the graph a second time, but the buffers have already been freed. Specify retain_graph=True when calling backward the first time.",
     "output_type": "error",
     "traceback": [
      "\u001b[1;31m---------------------------------------------------------------------------\u001b[0m",
      "\u001b[1;31mRuntimeError\u001b[0m                              Traceback (most recent call last)",
      "\u001b[1;32m<ipython-input-246-bcadb874578e>\u001b[0m in \u001b[0;36m<module>\u001b[1;34m\u001b[0m\n\u001b[0;32m     23\u001b[0m     \"\"\"\n\u001b[0;32m     24\u001b[0m \u001b[1;33m\u001b[0m\u001b[0m\n\u001b[1;32m---> 25\u001b[1;33m     train_loss = train_auxiliary_model(model, \n\u001b[0m\u001b[0;32m     26\u001b[0m                         \u001b[0mx_train\u001b[0m\u001b[1;33m[\u001b[0m\u001b[0mindices_shuffle\u001b[0m\u001b[1;33m]\u001b[0m\u001b[1;33m,\u001b[0m\u001b[1;33m\u001b[0m\u001b[1;33m\u001b[0m\u001b[0m\n\u001b[0;32m     27\u001b[0m                         \u001b[0my_train\u001b[0m\u001b[1;33m[\u001b[0m\u001b[0mindices_shuffle\u001b[0m\u001b[1;33m]\u001b[0m\u001b[1;33m,\u001b[0m\u001b[1;33m\u001b[0m\u001b[1;33m\u001b[0m\u001b[0m\n",
      "\u001b[1;32m<ipython-input-245-6630d48c95bc>\u001b[0m in \u001b[0;36mtrain_auxiliary_model\u001b[1;34m(model, train_input, train_target, digit_target, epochs, optimizer, loss_function, batch_size)\u001b[0m\n\u001b[0;32m     26\u001b[0m \u001b[1;33m\u001b[0m\u001b[0m\n\u001b[0;32m     27\u001b[0m             \u001b[0mloss_digit1\u001b[0m\u001b[1;33m.\u001b[0m\u001b[0mbackward\u001b[0m\u001b[1;33m(\u001b[0m\u001b[1;33m)\u001b[0m\u001b[1;33m\u001b[0m\u001b[1;33m\u001b[0m\u001b[0m\n\u001b[1;32m---> 28\u001b[1;33m             \u001b[0mloss_digit2\u001b[0m\u001b[1;33m.\u001b[0m\u001b[0mbackward\u001b[0m\u001b[1;33m(\u001b[0m\u001b[1;33m)\u001b[0m\u001b[1;33m\u001b[0m\u001b[1;33m\u001b[0m\u001b[0m\n\u001b[0m\u001b[0;32m     29\u001b[0m             \u001b[0mloss\u001b[0m\u001b[1;33m.\u001b[0m\u001b[0mbackward\u001b[0m\u001b[1;33m(\u001b[0m\u001b[1;33m)\u001b[0m\u001b[1;33m\u001b[0m\u001b[1;33m\u001b[0m\u001b[0m\n\u001b[0;32m     30\u001b[0m \u001b[1;33m\u001b[0m\u001b[0m\n",
      "\u001b[1;32m~\\Anaconda3\\envs\\pytorch\\lib\\site-packages\\torch\\tensor.py\u001b[0m in \u001b[0;36mbackward\u001b[1;34m(self, gradient, retain_graph, create_graph)\u001b[0m\n\u001b[0;32m    196\u001b[0m                 \u001b[0mproducts\u001b[0m\u001b[1;33m.\u001b[0m \u001b[0mDefaults\u001b[0m \u001b[0mto\u001b[0m\u001b[0;31m \u001b[0m\u001b[0;31m`\u001b[0m\u001b[0;31m`\u001b[0m\u001b[1;32mFalse\u001b[0m\u001b[0;31m`\u001b[0m\u001b[0;31m`\u001b[0m\u001b[1;33m.\u001b[0m\u001b[1;33m\u001b[0m\u001b[1;33m\u001b[0m\u001b[0m\n\u001b[0;32m    197\u001b[0m         \"\"\"\n\u001b[1;32m--> 198\u001b[1;33m         \u001b[0mtorch\u001b[0m\u001b[1;33m.\u001b[0m\u001b[0mautograd\u001b[0m\u001b[1;33m.\u001b[0m\u001b[0mbackward\u001b[0m\u001b[1;33m(\u001b[0m\u001b[0mself\u001b[0m\u001b[1;33m,\u001b[0m \u001b[0mgradient\u001b[0m\u001b[1;33m,\u001b[0m \u001b[0mretain_graph\u001b[0m\u001b[1;33m,\u001b[0m \u001b[0mcreate_graph\u001b[0m\u001b[1;33m)\u001b[0m\u001b[1;33m\u001b[0m\u001b[1;33m\u001b[0m\u001b[0m\n\u001b[0m\u001b[0;32m    199\u001b[0m \u001b[1;33m\u001b[0m\u001b[0m\n\u001b[0;32m    200\u001b[0m     \u001b[1;32mdef\u001b[0m \u001b[0mregister_hook\u001b[0m\u001b[1;33m(\u001b[0m\u001b[0mself\u001b[0m\u001b[1;33m,\u001b[0m \u001b[0mhook\u001b[0m\u001b[1;33m)\u001b[0m\u001b[1;33m:\u001b[0m\u001b[1;33m\u001b[0m\u001b[1;33m\u001b[0m\u001b[0m\n",
      "\u001b[1;32m~\\Anaconda3\\envs\\pytorch\\lib\\site-packages\\torch\\autograd\\__init__.py\u001b[0m in \u001b[0;36mbackward\u001b[1;34m(tensors, grad_tensors, retain_graph, create_graph, grad_variables)\u001b[0m\n\u001b[0;32m     96\u001b[0m         \u001b[0mretain_graph\u001b[0m \u001b[1;33m=\u001b[0m \u001b[0mcreate_graph\u001b[0m\u001b[1;33m\u001b[0m\u001b[1;33m\u001b[0m\u001b[0m\n\u001b[0;32m     97\u001b[0m \u001b[1;33m\u001b[0m\u001b[0m\n\u001b[1;32m---> 98\u001b[1;33m     Variable._execution_engine.run_backward(\n\u001b[0m\u001b[0;32m     99\u001b[0m         \u001b[0mtensors\u001b[0m\u001b[1;33m,\u001b[0m \u001b[0mgrad_tensors\u001b[0m\u001b[1;33m,\u001b[0m \u001b[0mretain_graph\u001b[0m\u001b[1;33m,\u001b[0m \u001b[0mcreate_graph\u001b[0m\u001b[1;33m,\u001b[0m\u001b[1;33m\u001b[0m\u001b[1;33m\u001b[0m\u001b[0m\n\u001b[0;32m    100\u001b[0m         allow_unreachable=True)  # allow_unreachable flag\n",
      "\u001b[1;31mRuntimeError\u001b[0m: Trying to backward through the graph a second time, but the buffers have already been freed. Specify retain_graph=True when calling backward the first time."
     ]
    }
   ],
   "source": [
    "number_training = 10\n",
    "epochs = 25\n",
    "\n",
    "losses = []\n",
    "train_losses = []\n",
    "accuracies = []\n",
    "for i_train in range(number_training):\n",
    "    \n",
    "#     model = model_1()\n",
    "#     model = model_weight_sharing()\n",
    "\n",
    "    auxiliary = True\n",
    "    model = model_auxiliary_loss()\n",
    "    \n",
    "    optimizer = torch.optim.Adam(model.parameters(), lr=0.001)\n",
    "\n",
    "    indices_shuffle = torch.randperm(N)\n",
    "    \n",
    "    if not auxiliary :\n",
    "        train_loss = train_model(model, \n",
    "                            x_train[indices_shuffle],\n",
    "                            y_train[indices_shuffle],  \n",
    "                            epochs = epochs,\n",
    "                           optimizer=optimizer)\n",
    "\n",
    "    else :\n",
    "        train_loss = train_auxiliary_model(model, \n",
    "                            x_train[indices_shuffle],\n",
    "                            y_train[indices_shuffle], \n",
    "                            y_train_classes[indices_shuffle],\n",
    "                            epochs = epochs,\n",
    "                           optimizer=optimizer)\n",
    "    \n",
    "    loss, accuracy = evaluate_model(model, x_test, y_test)\n",
    "    print(\"Attempt\", i_train, \": loss\", loss, \"- accuracy\", accuracy)\n",
    "    losses.append(loss)\n",
    "    train_losses.append(train_loss)\n",
    "    accuracies.append(accuracy)\n",
    "\n",
    "print(\"Experiment results :\")\n",
    "print(\"Loss mean : %.2f (%.3f)\" % (mean(losses), var(losses)))\n",
    "print(\"Accuracy mean : %.2f (%.3f)\" % (mean(accuracies), var(accuracies)))"
   ]
  }
 ],
 "metadata": {
  "kernelspec": {
   "display_name": "pytorch",
   "language": "python",
   "name": "pytorch"
  },
  "language_info": {
   "codemirror_mode": {
    "name": "ipython",
    "version": 3
   },
   "file_extension": ".py",
   "mimetype": "text/x-python",
   "name": "python",
   "nbconvert_exporter": "python",
   "pygments_lexer": "ipython3",
   "version": "3.8.2"
  }
 },
 "nbformat": 4,
 "nbformat_minor": 4
}
