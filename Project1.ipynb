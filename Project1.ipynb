{
 "cells": [
  {
   "cell_type": "markdown",
   "metadata": {},
   "source": [
    "## Imports"
   ]
  },
  {
   "cell_type": "code",
   "execution_count": 1,
   "metadata": {},
   "outputs": [],
   "source": [
    "import torch\n",
    "from torch import nn\n",
    "from torch.nn import functional as F\n",
    "import time\n",
    "from math import sqrt\n",
    "\n",
    "import matplotlib.pyplot as plt\n",
    "\n",
    "import dlc_practical_prologue"
   ]
  },
  {
   "cell_type": "markdown",
   "metadata": {},
   "source": [
    "## Useful functions"
   ]
  },
  {
   "cell_type": "code",
   "execution_count": 26,
   "metadata": {},
   "outputs": [],
   "source": [
    "def mean(x):\n",
    "    return sum(x)/len(x)\n",
    "\n",
    "def var(x):\n",
    "    u = mean(x)\n",
    "    return sum([(v-u)**2 for v in x])/len(x)"
   ]
  },
  {
   "cell_type": "code",
   "execution_count": 3,
   "metadata": {},
   "outputs": [],
   "source": [
    "def number_parameters(model):   # Returns the number of parameter of a given model\n",
    "    return sum(p.numel() for p in model.parameters())"
   ]
  },
  {
   "cell_type": "markdown",
   "metadata": {},
   "source": [
    "## Load data"
   ]
  },
  {
   "cell_type": "code",
   "execution_count": 4,
   "metadata": {},
   "outputs": [],
   "source": [
    "N = 1000\n",
    "\n",
    "x_train, y_train, y_train_classes, x_test, y_test, y_test_classes = \\\n",
    "dlc_practical_prologue.generate_pair_sets(N)\n",
    "\n",
    "assert x_train.shape == torch.Size([N, 2, 14, 14])    # float32\n",
    "assert y_train.shape == torch.Size([N])               # int64\n",
    "assert y_train_classes.shape == torch.Size([N, 2])    # int64\n",
    "\n",
    "assert x_test.shape == torch.Size([N, 2, 14, 14])\n",
    "assert y_test.shape == torch.Size([N])\n",
    "assert y_test_classes.shape == torch.Size([N, 2])"
   ]
  },
  {
   "cell_type": "code",
   "execution_count": 5,
   "metadata": {},
   "outputs": [],
   "source": [
    "if torch.cuda.is_available():  \n",
    "    dev = \"cuda:0\"\n",
    "else:  \n",
    "    dev = \"cpu\"  \n",
    "device = torch.device(dev)"
   ]
  },
  {
   "cell_type": "markdown",
   "metadata": {},
   "source": [
    "## Normalize input"
   ]
  },
  {
   "cell_type": "code",
   "execution_count": 6,
   "metadata": {},
   "outputs": [],
   "source": [
    "# Normalizing using ONLY x_train data\n",
    "\n",
    "x_list = torch.flatten(x_train).tolist()\n",
    "\n",
    "m = mean(x_list)\n",
    "v = var(x_list)\n",
    "x_train = x_train.sub(m).div(sqrt(v))\n",
    "x_test = x_test.sub(m).div(sqrt(v))"
   ]
  },
  {
   "cell_type": "markdown",
   "metadata": {},
   "source": [
    "## -----------------------------------------------------------------------------------------------"
   ]
  },
  {
   "cell_type": "markdown",
   "metadata": {},
   "source": [
    "## Define models "
   ]
  },
  {
   "cell_type": "markdown",
   "metadata": {},
   "source": [
    "# Model 0\n",
    "Is a naive MLP"
   ]
  },
  {
   "cell_type": "code",
   "execution_count": 7,
   "metadata": {},
   "outputs": [
    {
     "name": "stdout",
     "output_type": "stream",
     "text": [
      "117186\n"
     ]
    }
   ],
   "source": [
    "## Is a naive Multi Layer Perceptron, composed of fully connected linear layers.\n",
    "\n",
    "class model_0(nn.Module):   \n",
    "    def __init__(self, ns = [392,256,64,2]):\n",
    "        super().__init__()\n",
    "        layers = [nn.Linear(n_in, n_out) for n_in, n_out in zip(ns[:-1], ns[1:])]   \n",
    "        self.layers = nn.ModuleList(layers)\n",
    "\n",
    "    def forward(self, x):\n",
    "        x = torch.flatten(x,1)          # flatten the 2 images in one vector (but keeping batch size)\n",
    "        for layer in self.layers[:-1]:\n",
    "            x = layer(x).relu()\n",
    "            \n",
    "        x = self.layers[-1](x) \n",
    "        return x\n",
    "\n",
    "model_test = model_0()\n",
    "model_test(x_train[0:2])    \n",
    "print(number_parameters(model_0()))"
   ]
  },
  {
   "cell_type": "markdown",
   "metadata": {},
   "source": [
    "# MODEL 1\n",
    "\n",
    "Is a simple CNN of **2 Conv Layers** -- \n",
    "4 versions of it are implemented:\n",
    " * straightforward CNN (model_1)\n",
    " * **Finally, I think this one is to simple to justify an intermediate loss without digit prediction** -> Not present\n",
    " * with the two images composing the input treated identically and independently (model_1_ws)\n",
    " * with the two images composing the input treated identically and independently + Digit predictions for aux loss (model_1_ws_aux2)"
   ]
  },
  {
   "cell_type": "code",
   "execution_count": null,
   "metadata": {},
   "outputs": [],
   "source": [
    "## Is a convolutional neural network poorly paramztrized    \n",
    "\n",
    "class model_1_ws_aux2(nn.Module):                 \n",
    "    def __init__(self):\n",
    "        super(model_1_ws_aux2, self).__init__()\n",
    "        self.conv1 = nn.Conv2d(1, 16, kernel_size=2, padding=1)        \n",
    "        self.conv2 = nn.Conv2d(16, 32, kernel_size=2)\n",
    "\n",
    "        self.dense1 = nn.Linear(1152, 16)\n",
    "        self.dense_digits = nn.Linear(16, 10)\n",
    "        self.dense2 = nn.Linear(20, 2)\n",
    "        \n",
    "    def forward(self, x):\n",
    "        d1 = F.leaky_relu(self.conv1(x[:, 0:1, ...]))\n",
    "        d1 = F.max_pool2d(d1, kernel_size=2) \n",
    "        d1 = F.leaky_relu(self.conv2(d1))\n",
    "        d1 = torch.flatten(d1, 1)\n",
    "        d1 = F.leaky_relu(self.dense1(d1))\n",
    "        d1 = self.dense_digits(d1)\n",
    "        \n",
    "        d2 = F.leaky_relu(self.conv1(x[:, 1:2, ...]))\n",
    "        d2 = F.max_pool2d(d2, kernel_size=2) \n",
    "        d2 = F.leaky_relu(self.conv2(d2))\n",
    "        d2 = torch.flatten(d2, 1)\n",
    "        d2 = F.leaky_relu(self.dense1(d2))\n",
    "        d2 = self.dense_digits(d2)\n",
    "        \n",
    "        x = F.leaky_relu(torch.cat((torch.softmax(d1, -1), torch.softmax(d2, -1)), 1))\n",
    "        x = torch.flatten(x, 1)\n",
    "        \n",
    "        x = F.leaky_relu(self.dense2(x))\n",
    "        \n",
    "        return x,d1,d2"
   ]
  },
  {
   "cell_type": "code",
   "execution_count": 23,
   "metadata": {},
   "outputs": [
    {
     "name": "stdout",
     "output_type": "stream",
     "text": [
      "20706\n"
     ]
    }
   ],
   "source": [
    "## Is a convolutional neural network of small depth \n",
    "\n",
    "class model_1(nn.Module):                 \n",
    "    def __init__(self):\n",
    "        super(model_1, self).__init__()\n",
    "        self.conv1 = nn.Conv2d(2, 16, kernel_size=2, padding=1)        \n",
    "        self.conv2 = nn.Conv2d(16, 32, kernel_size=2)\n",
    "\n",
    "        self.dense1 = nn.Linear(1152, 16)\n",
    "        self.dense2 = nn.Linear(16, 2)\n",
    "        \n",
    "    def forward(self, x):\n",
    "        x = F.leaky_relu(self.conv1(x))\n",
    "        x = F.max_pool2d(x, kernel_size=2)\n",
    "        x = F.leaky_relu(self.conv2(x))\n",
    "        \n",
    "        x = torch.flatten(x, 1)\n",
    "        \n",
    "        x = F.leaky_relu(self.dense1(x))\n",
    "        x = self.dense2(x)\n",
    "        return x\n",
    "\n",
    "model_test = model_1()\n",
    "model_test(x_train[0:2])\n",
    "print(number_parameters(model_test))"
   ]
  },
  {
   "cell_type": "code",
   "execution_count": 8,
   "metadata": {},
   "outputs": [
    {
     "name": "stdout",
     "output_type": "stream",
     "text": [
      "20820\n"
     ]
    }
   ],
   "source": [
    "## Is a convolutional neural network poorly paramztrized    \n",
    "\n",
    "class model_1_ws(nn.Module):                 \n",
    "    def __init__(self):\n",
    "        super(model_1_ws, self).__init__()\n",
    "        self.conv1 = nn.Conv2d(1, 16, kernel_size=2, padding=1)        \n",
    "        self.conv2 = nn.Conv2d(16, 32, kernel_size=2)\n",
    "\n",
    "        self.dense1 = nn.Linear(1152, 16)\n",
    "        self.dense_digits = nn.Linear(16, 10)\n",
    "        self.dense2 = nn.Linear(20, 2)\n",
    "        \n",
    "    def forward(self, x):\n",
    "        d1 = F.leaky_relu(self.conv1(x[:, 0:1, ...]))\n",
    "        d1 = F.max_pool2d(d1, kernel_size=2) \n",
    "        d1 = F.leaky_relu(self.conv2(d1))\n",
    "        d1 = torch.flatten(d1, 1)\n",
    "        d1 = F.leaky_relu(self.dense1(d1))\n",
    "        d1 = self.dense_digits(d1)\n",
    "        \n",
    "        d2 = F.leaky_relu(self.conv1(x[:, 1:2, ...]))\n",
    "        d2 = F.max_pool2d(d2, kernel_size=2) \n",
    "        d2 = F.leaky_relu(self.conv2(d2))\n",
    "        d2 = torch.flatten(d2, 1)\n",
    "        d2 = F.leaky_relu(self.dense1(d2))\n",
    "        d2 = self.dense_digits(d2)\n",
    "        \n",
    "        x = F.leaky_relu(torch.cat((torch.softmax(d1, -1), torch.softmax(d2, -1)), 1))\n",
    "        x = torch.flatten(x, 1)\n",
    "        \n",
    "        x = F.leaky_relu(self.dense2(x))\n",
    "        \n",
    "        return x\n",
    "\n",
    "model_test = model_1_ws()\n",
    "model_test(x_train[0:2])\n",
    "print(number_parameters(model_test))"
   ]
  },
  {
   "cell_type": "code",
   "execution_count": 9,
   "metadata": {},
   "outputs": [
    {
     "name": "stdout",
     "output_type": "stream",
     "text": [
      "25232\n"
     ]
    }
   ],
   "source": [
    "class model_1_ws_2(nn.Module):                 \n",
    "    def __init__(self):\n",
    "        super(model_1_ws_2, self).__init__()\n",
    "        self.conv1 = nn.Conv2d(1, 16, kernel_size=2, padding=1)        \n",
    "        self.conv2 = nn.Conv2d(16, 32, kernel_size=2)\n",
    "\n",
    "        self.dense1 = nn.Linear(2304, 10)\n",
    "        self.dense2 = nn.Linear(10, 2)\n",
    "        \n",
    "    def forward(self, x):\n",
    "        d1 = F.leaky_relu(self.conv1(x[:, 0:1, ...]))\n",
    "        d1 = F.max_pool2d(d1, kernel_size=2) \n",
    "        d1 = F.leaky_relu(self.conv2(d1))\n",
    "        d1 = torch.flatten(d1, 1)\n",
    "#         d1 = F.leaky_relu(self.dense1(d1))\n",
    "#         d1 = self.dense_digits(d1)\n",
    "        \n",
    "        d2 = F.leaky_relu(self.conv1(x[:, 1:2, ...]))\n",
    "        d2 = F.max_pool2d(d2, kernel_size=2) \n",
    "        d2 = F.leaky_relu(self.conv2(d2))\n",
    "        d2 = torch.flatten(d2, 1)\n",
    "#         d2 = F.leaky_relu(self.dense1(d2))\n",
    "#         d2 = self.dense_digits(d2)\n",
    "        \n",
    "        x = F.leaky_relu(torch.cat((d1, d2), 1))\n",
    "        x = torch.flatten(x, 1)\n",
    "        \n",
    "        x = F.leaky_relu(self.dense1(x))\n",
    "        x = self.dense2(x)\n",
    "        \n",
    "        return x\n",
    "\n",
    "model_test = model_1_ws_2()\n",
    "model_test(x_train[0:2])\n",
    "print(number_parameters(model_test))"
   ]
  },
  {
   "cell_type": "code",
   "execution_count": 10,
   "metadata": {},
   "outputs": [
    {
     "name": "stdout",
     "output_type": "stream",
     "text": [
      "20820\n"
     ]
    }
   ],
   "source": [
    "## Is a convolutional neural network poorly paramztrized    \n",
    "\n",
    "class model_1_ws_aux2(nn.Module):                 \n",
    "    def __init__(self):\n",
    "        super(model_1_ws_aux2, self).__init__()\n",
    "        self.conv1 = nn.Conv2d(1, 16, kernel_size=2, padding=1)        \n",
    "        self.conv2 = nn.Conv2d(16, 32, kernel_size=2)\n",
    "\n",
    "        self.dense1 = nn.Linear(1152, 16)\n",
    "        self.dense_digits = nn.Linear(16, 10)\n",
    "        self.dense2 = nn.Linear(20, 2)\n",
    "        \n",
    "    def forward(self, x):\n",
    "        d1 = F.leaky_relu(self.conv1(x[:, 0:1, ...]))\n",
    "        d1 = F.max_pool2d(d1, kernel_size=2) \n",
    "        d1 = F.leaky_relu(self.conv2(d1))\n",
    "        d1 = torch.flatten(d1, 1)\n",
    "        d1 = F.leaky_relu(self.dense1(d1))\n",
    "        d1 = self.dense_digits(d1)\n",
    "        \n",
    "        d2 = F.leaky_relu(self.conv1(x[:, 1:2, ...]))\n",
    "        d2 = F.max_pool2d(d2, kernel_size=2) \n",
    "        d2 = F.leaky_relu(self.conv2(d2))\n",
    "        d2 = torch.flatten(d2, 1)\n",
    "        d2 = F.leaky_relu(self.dense1(d2))\n",
    "        d2 = self.dense_digits(d2)\n",
    "        \n",
    "        x = F.leaky_relu(torch.cat((torch.softmax(d1, -1), torch.softmax(d2, -1)), 1))\n",
    "        x = torch.flatten(x, 1)\n",
    "        \n",
    "        x = F.leaky_relu(self.dense2(x))\n",
    "        \n",
    "        return x,d1,d2\n",
    "\n",
    "model_test = model_1_ws()\n",
    "model_test(x_train[0:2])\n",
    "print(number_parameters(model_test))"
   ]
  },
  {
   "cell_type": "markdown",
   "metadata": {},
   "source": [
    "# MODEL 2\n",
    "\n",
    "Is a more complex CNN, of **3 conv Layers** -- \n",
    "4 versions of it are implemented:\n",
    " * straightforward CNN (model_2)\n",
    " * !!NOT WORKING!! with intermediate output for auxiliary loss (model_2_aux1)\n",
    " * with the two images composing the input treated identically and independently (model_2_ws)\n",
    " * with the two images composing the input treated identically and independently + Digit predictions for aux loss (model_2_ws_aux2) **currently our best model**"
   ]
  },
  {
   "cell_type": "code",
   "execution_count": 11,
   "metadata": {},
   "outputs": [
    {
     "name": "stdout",
     "output_type": "stream",
     "text": [
      "337222\n"
     ]
    }
   ],
   "source": [
    "class model_2(nn.Module):\n",
    "    def __init__(self):\n",
    "        super(model_2, self).__init__()\n",
    "        self.conv1 = nn.Conv2d(2, 32, kernel_size=2, padding = 1)        \n",
    "        self.conv2 = nn.Conv2d(32, 64, kernel_size=2) # NEW size\n",
    "        self.conv3 = nn.Conv2d(64, 128, kernel_size=2)\n",
    "        \n",
    "        self.dense1 = nn.Linear(4608, 64)\n",
    "        self.dense2 = nn.Linear(64, 12)\n",
    "        self.dense3 = nn.Linear(12, 2) \n",
    "\n",
    "        \n",
    "    def forward(self, x):\n",
    "        x = F.leaky_relu(self.conv1(x))\n",
    "        x = F.leaky_relu(self.conv2(x))\n",
    "        x = F.max_pool2d(x, kernel_size=2) \n",
    "        x = self.conv3(x)\n",
    "        \n",
    "        x = torch.flatten(x, 1)\n",
    "        x = F.leaky_relu(self.dense1(x))\n",
    "        x = self.dense2(x)\n",
    "        x = F.dropout(x)\n",
    "        x = self.dense3(x)\n",
    "\n",
    "        return x\n",
    "\n",
    "model_test = model_2()\n",
    "model_test(x_train[0:2])\n",
    "print(number_parameters(model_test))"
   ]
  },
  {
   "cell_type": "code",
   "execution_count": 60,
   "metadata": {},
   "outputs": [
    {
     "name": "stdout",
     "output_type": "stream",
     "text": [
      "538526\n"
     ]
    }
   ],
   "source": [
    "# Early output for an auxiliary loss (without digit prediction)\n",
    "\n",
    "class model_2_aux1(nn.Module): # NOT WORKING MODEL -> NO TRAIN-MODEL() WITH INTERMEDIATE RESULTS (AND NOT DIGITS)\n",
    "    def __init__(self):\n",
    "        super(model_2_aux1, self).__init__()\n",
    "        self.conv1 = nn.Conv2d(2, 32, kernel_size=2, padding = 1)        \n",
    "        self.conv2 = nn.Conv2d(32, 64, kernel_size=2) \n",
    "        self.conv3 = nn.Conv2d(64, 128, kernel_size=2)\n",
    "        \n",
    "        self.dense1 = nn.Linear(4608, 64)\n",
    "        self.dense1_intermediate = nn.Linear(3136, 64)\n",
    "        self.dense2 = nn.Linear(64, 20)\n",
    "        self.dense3 = nn.Linear(20, 2)\n",
    "\n",
    "        \n",
    "    def forward(self, x):\n",
    "        x = F.leaky_relu(self.conv1(x))\n",
    "        x = F.leaky_relu(self.conv2(x))\n",
    "        x = F.max_pool2d(x, kernel_size=2)\n",
    "                         \n",
    "        x_ = torch.flatten(x, 1)\n",
    "        x_ = F.leaky_relu(self.dense1_intermediate(x_))\n",
    "        x_ = F.leaky_relu(self.dense2(x_))   # For intermediate output   \n",
    "        x_ = self.dense3(x_)                         \n",
    "         \n",
    "        x = F.leaky_relu(self.conv3(x))\n",
    "                         \n",
    "        x = torch.flatten(x, 1)\n",
    "        x = F.leaky_relu(self.dense1(x))\n",
    "        x = F.leaky_relu(self.dense2(x))\n",
    "        x = self.dense3(x)\n",
    "\n",
    "        return x,x_\n",
    "\n",
    "model_test = model_2_aux1()\n",
    "model_test(x_train[0:2])\n",
    "print(number_parameters(model_test))"
   ]
  },
  {
   "cell_type": "code",
   "execution_count": 62,
   "metadata": {},
   "outputs": [
    {
     "name": "stdout",
     "output_type": "stream",
     "text": [
      "337216\n"
     ]
    }
   ],
   "source": [
    "class model_2_ws(nn.Module):  \n",
    "    def __init__(self):\n",
    "        super(model_2_ws, self).__init__()\n",
    "        self.conv1 = nn.Conv2d(1, 32, kernel_size=2, padding = 1)        \n",
    "        self.conv2 = nn.Conv2d(32, 64, kernel_size=2) \n",
    "        self.conv3 = nn.Conv2d(64, 128, kernel_size=2)\n",
    "        \n",
    "        self.dense1 = nn.Linear(4608, 64)\n",
    "        self.dense2 = nn.Linear(64, 10)\n",
    "        \n",
    "        self.dense3 = nn.Linear(20, 12)\n",
    "        self.dense4 = nn.Linear(12, 2) \n",
    "\n",
    "        \n",
    "    def forward(self, x):\n",
    "        d1 = F.leaky_relu(self.conv1(x[:, 0:1, ...]))\n",
    "        d1 = F.leaky_relu(self.conv2(d1))\n",
    "        d1 = F.max_pool2d(d1, kernel_size=2) \n",
    "        d1 = self.conv3(d1)\n",
    "        d1 = torch.flatten(d1, 1)\n",
    "        d1 = F.leaky_relu(self.dense1(d1))\n",
    "        d1 = self.dense2(d1)\n",
    "\n",
    "        d2 = F.leaky_relu(self.conv1(x[:, 1:2, ...]))\n",
    "        d2 = F.leaky_relu(self.conv2(d2))\n",
    "        d2 = F.max_pool2d(d2, kernel_size=2)\n",
    "        d2 = self.conv3(d2)\n",
    "        d2 = torch.flatten(d2, 1)\n",
    "        d2 = F.leaky_relu(self.dense1(d2))\n",
    "        d2 = self.dense2(d2)\n",
    "        \n",
    "        x = F.leaky_relu(torch.cat((torch.softmax(d1, -1), torch.softmax(d2, -1)), 1))\n",
    "        x = self.dense3(x)\n",
    "        x = F.dropout(x)  \n",
    "        x = self.dense4(x) \n",
    "        return x\n",
    "\n",
    "model_test = model_2_ws()\n",
    "model_test(x_train[0:2])\n",
    "print(number_parameters(model_test))"
   ]
  },
  {
   "cell_type": "code",
   "execution_count": 14,
   "metadata": {},
   "outputs": [
    {
     "name": "stdout",
     "output_type": "stream",
     "text": [
      "337216\n"
     ]
    }
   ],
   "source": [
    "class model_2_ws_aux2(nn.Module):  # Previously :  model BEST\n",
    "    def __init__(self):\n",
    "        super(model_2_ws_aux2, self).__init__()\n",
    "        self.conv1 = nn.Conv2d(1, 32, kernel_size=2, padding = 1)        \n",
    "        self.conv2 = nn.Conv2d(32, 64, kernel_size=2) # NEW size\n",
    "        self.conv3 = nn.Conv2d(64, 128, kernel_size=2)\n",
    "        \n",
    "        self.dense1 = nn.Linear(4608, 64)\n",
    "        self.dense2 = nn.Linear(64, 10)\n",
    "        \n",
    "        self.dense3 = nn.Linear(20, 12)\n",
    "        self.dense4 = nn.Linear(12, 2) # NEW\n",
    "\n",
    "        \n",
    "    def forward(self, x):\n",
    "        d1 = F.leaky_relu(self.conv1(x[:, 0:1, ...]))\n",
    "        d1 = F.leaky_relu(self.conv2(d1))\n",
    "        d1 = F.max_pool2d(d1, kernel_size=2) #NEW\n",
    "        d1 = self.conv3(d1)\n",
    "        d1 = torch.flatten(d1, 1)\n",
    "        d1 = F.leaky_relu(self.dense1(d1))\n",
    "        d1 = self.dense2(d1)\n",
    "\n",
    "        d2 = F.leaky_relu(self.conv1(x[:, 1:2, ...]))\n",
    "        d2 = F.leaky_relu(self.conv2(d2))\n",
    "        d2 = F.max_pool2d(d2, kernel_size=2) #NEW\n",
    "        d2 = self.conv3(d2)\n",
    "        d2 = torch.flatten(d2, 1)\n",
    "        d2 = F.leaky_relu(self.dense1(d2))\n",
    "        d2 = self.dense2(d2)\n",
    "        \n",
    "        x = F.leaky_relu(torch.cat((torch.softmax(d1, -1), torch.softmax(d2, -1)), 1))\n",
    "        x = self.dense3(x)\n",
    "        x = F.dropout(x)  #NEW\n",
    "        x = self.dense4(x) #NEW\n",
    "        return x, d1, d2\n",
    "\n",
    "model_test = model_2_ws_aux2()\n",
    "model_test(x_train[0:2])\n",
    "print(number_parameters(model_test))"
   ]
  },
  {
   "cell_type": "markdown",
   "metadata": {},
   "source": [
    "## Training/Evaluation function"
   ]
  },
  {
   "cell_type": "code",
   "execution_count": 81,
   "metadata": {},
   "outputs": [],
   "source": [
    "def train_model(model, train_input, train_target, digit_target,\n",
    "                 epochs, optimizer,\n",
    "                 loss_function = nn.CrossEntropyLoss(), digit_loss = nn.CrossEntropyLoss(),\n",
    "                 batch_size=10,\n",
    "                 auxiliary = False,\n",
    "                 auxiliary_v1 = False,\n",
    "                 verbose = True):\n",
    "    \n",
    "    model.train()\n",
    "    losses = []\n",
    "    \n",
    "    for e in range(epochs):\n",
    "        sum_loss = 0\n",
    "        \n",
    "        if auxiliary:\n",
    "            sum_loss_digit1 = 0\n",
    "            sum_loss_digit2 = 0\n",
    "        \n",
    "        for x_batch, y_batch, y_digit_batch in zip(train_input.split(batch_size),\n",
    "                                                    train_target.split(batch_size),\n",
    "                                                    digit_target.split(batch_size)):\n",
    "            \n",
    "            if auxiliary :\n",
    "                \n",
    "                if auxiliary_v1:\n",
    "                    output, output_intermed = model(x_batch)\n",
    "                    loss_intermed = loss_function(output_intermed, y_batch)\n",
    "                    loss_final  = loss_function(output, y_batch)\n",
    "\n",
    "                    loss_total = loss_final + 0.3*loss_intermed\n",
    "                    \n",
    "                else:\n",
    "                \n",
    "                    output, d1, d2 = model(x_batch)\n",
    "\n",
    "                    loss_digit1 = digit_loss(d1, y_digit_batch[..., 0])\n",
    "                    loss_digit2 = digit_loss(d2, y_digit_batch[..., 1])\n",
    "                    loss_final  = loss_function(output, y_batch)\n",
    "\n",
    "                    loss_total = loss_final + 0.5*(loss_digit1 + loss_digit2)\n",
    "\n",
    "                    sum_loss_digit1 += loss_digit1.item()\n",
    "                    sum_loss_digit2 += loss_digit2.item()\n",
    "         \n",
    "            else :\n",
    "                output = model(x_batch)\n",
    "                loss_total = loss_function(output, y_batch)\n",
    "                \n",
    "            optimizer.zero_grad()\n",
    "            loss_total.backward()  \n",
    "            optimizer.step()\n",
    "\n",
    "            sum_loss += loss_total.item()\n",
    "            \n",
    "        losses.append(sum_loss)\n",
    "        \n",
    "        if verbose : \n",
    "            if auxiliary and not auxiliary_v1 :\n",
    "                print(\"Epoch %i: loss %.3f --- loss_d1 %.2f --- loss_d2 %.2f\" \\\n",
    "                      % (e,sum_loss, sum_loss_digit1, sum_loss_digit2), end=\"\\r\")  \n",
    "            else :\n",
    "                print(\"Epoch %i : loss %.3f\" % (e, sum_loss), end = \"\\r\")\n",
    "    return losses"
   ]
  },
  {
   "cell_type": "code",
   "execution_count": 73,
   "metadata": {},
   "outputs": [],
   "source": [
    "def evaluate_model(model, test_input, test_target):\n",
    "    model.eval()\n",
    "    \n",
    "    with torch.no_grad():\n",
    "        out = model(test_input)   \n",
    "        preds = torch.argmax(out, -1)\n",
    "        accuracy = (preds.float() == test_target.float()).sum().item()/preds.size(0)\n",
    "    return accuracy * 100"
   ]
  },
  {
   "cell_type": "code",
   "execution_count": 74,
   "metadata": {},
   "outputs": [],
   "source": [
    "def evaluate_model_aux1(model, test_input, test_target):\n",
    "    model.eval()\n",
    "    \n",
    "    with torch.no_grad():\n",
    "        out = model(test_input) \n",
    "        \n",
    "        preds = torch.argmax(torch.softmax(out[0], -1), axis = -1)\n",
    "        intermed_preds = torch.argmax(torch.softmax(out[1], -1), axis = -1)\n",
    "        \n",
    "        accuracy = (preds.float() == test_target.float()).sum().item()/preds.size(0)\n",
    "        accuracy_intermed = (intermed_preds.float() == test_target.float()).sum().item()/preds.size(0)\n",
    "    return accuracy * 100, accuracy_intermed * 100"
   ]
  },
  {
   "cell_type": "code",
   "execution_count": 75,
   "metadata": {},
   "outputs": [],
   "source": [
    "def evaluate_model_aux2(model, test_input, test_target, test_digits = None):\n",
    "    model.eval()\n",
    "    \n",
    "    with torch.no_grad():\n",
    "        out = model(test_input) \n",
    "        \n",
    "        preds = torch.argmax(torch.softmax(out[0], -1), axis = -1)\n",
    "        d1 = torch.argmax(torch.softmax(out[1], -1), axis = -1)\n",
    "        d2 = torch.argmax(torch.softmax(out[2], -1), axis = -1)\n",
    "        \n",
    "        accuracy = (preds.float() == test_target.float()).sum().item()/preds.size(0)\n",
    "        accuracy_d1 = (d1.float() == test_digits[:, 0].float()).sum().item()/preds.size(0)\n",
    "        accuracy_d2 = (d2.float() == test_digits[:, 1].float()).sum().item()/preds.size(0)\n",
    "    return accuracy * 100, accuracy_d1 * 100, accuracy_d2 * 100"
   ]
  },
  {
   "cell_type": "markdown",
   "metadata": {},
   "source": [
    "## GridSearch"
   ]
  },
  {
   "cell_type": "code",
   "execution_count": null,
   "metadata": {
    "scrolled": true
   },
   "outputs": [
    {
     "name": "stdout",
     "output_type": "stream",
     "text": [
      "Starting 18 parameter grid search 2 times each over 25 epochs, with model 'Model 2 AUX1' containing 538526 parameters. \n",
      "\n",
      "Grid Search 1/18 : \n",
      "Fold 1/5: 77.25% mean accuracyFold 2/5: 76.75% mean accuracyFold 3/5: 81.00% mean accuracyFold 4/5: 80.25% mean accuracyFold 5/5: 73.50% mean accuracy\n",
      "All folds : 77.75% mean accuracy\n",
      "Grid Search 2/18 : \n",
      "Fold 1/5: 76.75% mean accuracyFold 2/5: 76.50% mean accuracyFold 3/5: 79.50% mean accuracyFold 4/5: 78.75% mean accuracyFold 5/5: 75.00% mean accuracy\n",
      "All folds : 77.30% mean accuracy\n",
      "Grid Search 3/18 : \n",
      "Fold 1/5: 80.00% mean accuracyFold 2/5: 76.50% mean accuracyFold 3/5: 83.00% mean accuracyFold 4/5: 83.75% mean accuracyFold 5/5: 73.50% mean accuracy\n",
      "All folds : 79.35% mean accuracy\n",
      "Grid Search 4/18 : \n",
      "Fold 1/5: 82.50% mean accuracyFold 2/5: 83.50% mean accuracyFold 3/5: 81.25% mean accuracyFold 4/5: 84.00% mean accuracyFold 5/5: 75.00% mean accuracy\n",
      "All folds : 81.25% mean accuracy\n",
      "Grid Search 5/18 : \n",
      "Fold 1/5: 79.50% mean accuracyFold 2/5: 82.00% mean accuracyFold 3/5: 81.25% mean accuracyFold 4/5: 84.00% mean accuracyFold 5/5: 77.75% mean accuracy\n",
      "All folds : 80.90% mean accuracy\n",
      "Grid Search 6/18 : \n",
      "Fold 1/5: 77.25% mean accuracyFold 2/5: 82.00% mean accuracyFold 3/5: 81.75% mean accuracyFold 4/5: 85.75% mean accuracyFold 5/5: 79.00% mean accuracy\n",
      "All folds : 81.15% mean accuracy\n",
      "Grid Search 7/18 : \n",
      "Fold 1/5: 80.50% mean accuracyFold 2/5: 82.75% mean accuracyFold 3/5: 82.00% mean accuracyFold 4/5: 83.75% mean accuracyFold 5/5: 77.00% mean accuracy\n",
      "All folds : 81.20% mean accuracy\n",
      "Grid Search 8/18 : \n",
      "Fold 1/5: 79.75% mean accuracyFold 2/5: 81.75% mean accuracyFold 3/5: 82.50% mean accuracyFold 4/5: 85.25% mean accuracyFold 5/5: 76.25% mean accuracy\n",
      "All folds : 81.10% mean accuracy\n",
      "Grid Search 9/18 : \n",
      "Fold 1/5: 80.25% mean accuracyFold 2/5: 82.00% mean accuracyFold 3/5: 81.50% mean accuracyFold 4/5: 84.75% mean accuracyFold 5/5: 78.00% mean accuracy\n",
      "All folds : 81.30% mean accuracy\n",
      "Grid Search 10/18 : \n",
      "Fold 1/5: 79.50% mean accuracyFold 2/5: 83.00% mean accuracyFold 3/5: 80.00% mean accuracyFold 4/5: 84.50% mean accuracyFold 5/5: 71.75% mean accuracy\n",
      "All folds : 79.75% mean accuracy\n",
      "Grid Search 11/18 : \n",
      "Fold 1/5: 79.50% mean accuracyFold 2/5: 82.75% mean accuracyFold 3/5: 81.25% mean accuracyFold 4/5: 83.00% mean accuracyFold 5/5: 74.00% mean accuracy\n",
      "All folds : 80.10% mean accuracy\n",
      "Grid Search 12/18 : \n",
      "Fold 1/5: 77.00% mean accuracyFold 2/5: 80.25% mean accuracyFold 3/5: 80.75% mean accuracyFold 4/5: 83.25% mean accuracyFold 5/5: 73.00% mean accuracy\n",
      "All folds : 78.85% mean accuracy\n",
      "Grid Search 13/18 : \n",
      "Fold 1/5: 79.25% mean accuracyFold 2/5: 82.25% mean accuracyFold 3/5: 84.50% mean accuracyFold 4/5: 81.25% mean accuracyFold 5/5: 76.75% mean accuracy\n",
      "All folds : 80.80% mean accuracy\n",
      "Grid Search 14/18 : \n",
      "Fold 1/5: 78.50% mean accuracyFold 2/5: 82.75% mean accuracyFold 3/5: 81.25% mean accuracyFold 4/5: 83.00% mean accuracyFold 5/5: 74.00% mean accuracy\n",
      "All folds : 79.90% mean accuracy\n",
      "Grid Search 15/18 : \n",
      "Fold 1/5: 79.00% mean accuracyFold 2/5: 80.00% mean accuracyFold 3/5: 80.50% mean accuracyFold 4/5: 83.25% mean accuracyFold 5/5: 74.25% mean accuracy\n",
      "All folds : 79.40% mean accuracy\n",
      "Grid Search 16/18 : \n",
      "Fold 1/5: 78.50% mean accuracyFold 2/5: 71.00% mean accuracyFold 3/5: 79.25% mean accuracyFold 4/5: 75.75% mean accuracyFold 5/5: 75.00% mean accuracy\n",
      "All folds : 75.90% mean accuracy\n",
      "Grid Search 17/18 : \n",
      "Fold 1/5: 69.00% mean accuracyFold 2/5: 72.75% mean accuracyFold 3/5: 79.00% mean accuracyFold 4/5: 80.00% mean accuracyFold 5/5: 69.25% mean accuracy\n",
      "All folds : 74.00% mean accuracy\n",
      "Grid Search 18/18 : \n",
      "Fold 1/5: 70.25% mean accuracyFold 2/5: 59.25% mean accuracyFold 3/5: 62.75% mean accuracyFold 4/5: 67.50% mean accuracyFold 5/5: 69.50% mean accuracy\n",
      "All folds : 65.85% mean accuracy\n",
      "\n",
      "Starting 18 parameter grid search 2 times each over 25 epochs, with model 'Model 1 WS' containing 20820 parameters. \n",
      "\n",
      "Grid Search 1/18 : \n",
      "Fold 1/5: 54.00% mean accuracyFold 2/5: 69.25% mean accuracyFold 3/5: 52.50% mean accuracyFold 4/5: 69.75% mean accuracyFold 5/5: 63.00% mean accuracy\n",
      "All folds : 61.70% mean accuracy\n",
      "Grid Search 2/18 : \n",
      "Fold 1/5: 81.25% mean accuracyFold 2/5: 81.00% mean accuracyFold 3/5: 68.25% mean accuracyFold 4/5: 84.00% mean accuracyFold 5/5: 67.25% mean accuracy\n",
      "All folds : 76.35% mean accuracy\n",
      "Grid Search 3/18 : \n",
      "Fold 1/5: 78.25% mean accuracyFold 2/5: 79.50% mean accuracyFold 3/5: 81.75% mean accuracyFold 4/5: 53.00% mean accuracyFold 5/5: 66.25% mean accuracy\n",
      "All folds : 71.75% mean accuracy\n",
      "Grid Search 4/18 : \n",
      "Fold 1/5: 65.25% mean accuracyFold 2/5: 82.25% mean accuracyFold 3/5: 84.50% mean accuracyFold 4/5: 83.75% mean accuracyFold 5/5: 67.25% mean accuracy\n",
      "All folds : 76.60% mean accuracy\n",
      "Grid Search 5/18 : \n",
      "Fold 1/5: 78.25% mean accuracyFold 2/5: 82.00% mean accuracyFold 3/5: 82.00% mean accuracyFold 4/5: 78.00% mean accuracyFold 5/5: 74.00% mean accuracy\n",
      "All folds : 78.85% mean accuracy\n",
      "Grid Search 6/18 : \n",
      "Fold 1/5: 78.75% mean accuracyFold 2/5: 80.50% mean accuracyFold 3/5: 80.25% mean accuracyFold 4/5: 81.25% mean accuracyFold 5/5: 78.25% mean accuracy\n",
      "All folds : 79.80% mean accuracy\n",
      "Grid Search 7/18 : \n",
      "Fold 1/5: 76.50% mean accuracyFold 2/5: 81.50% mean accuracyFold 3/5: 80.50% mean accuracyFold 4/5: 80.00% mean accuracyFold 5/5: 79.75% mean accuracy\n",
      "All folds : 79.65% mean accuracy\n",
      "Grid Search 8/18 : \n",
      "Fold 1/5: 74.00% mean accuracyFold 2/5: 80.25% mean accuracyFold 3/5: 81.00% mean accuracyFold 4/5: 81.00% mean accuracyFold 5/5: 77.50% mean accuracy\n",
      "All folds : 78.75% mean accuracy\n",
      "Grid Search 9/18 : \n",
      "Fold 1/5: 74.75% mean accuracyFold 2/5: 78.25% mean accuracyFold 3/5: 79.25% mean accuracyFold 4/5: 82.00% mean accuracyFold 5/5: 77.25% mean accuracy\n",
      "All folds : 78.30% mean accuracy\n",
      "Grid Search 10/18 : \n",
      "Fold 1/5: 76.50% mean accuracyFold 2/5: 76.50% mean accuracyFold 3/5: 80.75% mean accuracyFold 4/5: 79.25% mean accuracyFold 5/5: 73.75% mean accuracy\n",
      "All folds : 77.35% mean accuracy\n",
      "Grid Search 11/18 : \n",
      "Fold 1/5: 79.25% mean accuracyFold 2/5: 79.25% mean accuracyFold 3/5: 79.25% mean accuracyFold 4/5: 81.25% mean accuracyFold 5/5: 79.00% mean accuracy\n",
      "All folds : 79.60% mean accuracy\n",
      "Grid Search 12/18 : \n",
      "Fold 1/5: 77.50% mean accuracyFold 2/5: 75.50% mean accuracyFold 3/5: 78.75% mean accuracyFold 4/5: 80.75% mean accuracyFold 5/5: 76.50% mean accuracy\n",
      "All folds : 77.80% mean accuracy\n",
      "Grid Search 13/18 : \n",
      "Fold 1/5: 46.00% mean accuracyFold 2/5: 68.75% mean accuracyFold 3/5: 78.25% mean accuracyFold 4/5: 81.50% mean accuracyFold 5/5: 77.00% mean accuracy\n",
      "All folds : 70.30% mean accuracy\n",
      "Grid Search 14/18 : \n",
      "Fold 1/5: 54.00% mean accuracyFold 2/5: 71.00% mean accuracyFold 3/5: 65.00% mean accuracyFold 4/5: 65.00% mean accuracyFold 5/5: 72.50% mean accuracy\n",
      "All folds : 65.50% mean accuracy\n",
      "Grid Search 15/18 : \n",
      "Fold 1/5: 63.00% mean accuracyFold 2/5: 41.00% mean accuracyFold 3/5: 80.50% mean accuracyFold 4/5: 73.25% mean accuracyFold 5/5: 65.75% mean accuracy\n",
      "All folds : 64.70% mean accuracy\n",
      "Grid Search 16/18 : \n",
      "Fold 1/5: 55.25% mean accuracyFold 2/5: 50.00% mean accuracyFold 3/5: 50.00% mean accuracyFold 4/5: 53.00% mean accuracyFold 5/5: 62.25% mean accuracy\n",
      "All folds : 54.10% mean accuracy\n",
      "Grid Search 17/18 : \n",
      "Fold 1/5: 50.00% mean accuracyFold 2/5: 50.00% mean accuracyFold 3/5: 50.00% mean accuracyFold 4/5: 50.00% mean accuracyFold 5/5: 50.00% mean accuracy\n",
      "All folds : 50.00% mean accuracy\n",
      "Grid Search 18/18 : \n",
      "Fold 1/5: 50.00% mean accuracyFold 2/5: 50.00% mean accuracyFold 3/5: 50.00% mean accuracyFold 4/5: 50.00% mean accuracyFold 5/5: 57.00% mean accuracy\n",
      "All folds : 51.40% mean accuracy\n",
      "\n",
      "Starting 18 parameter grid search 2 times each over 25 epochs, with model 'Model 2 WS' containing 337216 parameters. \n",
      "\n",
      "Grid Search 1/18 : \n",
      "Fold 1/5: 54.00% mean accuracyFold 2/5: 59.00% mean accuracyFold 3/5: 52.50% mean accuracyFold 4/5: 53.00% mean accuracyFold 5/5: 54.00% mean accuracy\n",
      "All folds : 54.50% mean accuracy\n",
      "Grid Search 2/18 : \n",
      "Fold 1/5: 54.00% mean accuracyFold 2/5: 59.00% mean accuracyFold 3/5: 52.50% mean accuracyFold 4/5: 53.00% mean accuracyFold 5/5: 57.00% mean accuracy\n",
      "All folds : 55.10% mean accuracy\n",
      "Grid Search 3/18 : \n"
     ]
    },
    {
     "name": "stdout",
     "output_type": "stream",
     "text": [
      "Fold 1/5: 54.00% mean accuracyFold 2/5: 59.00% mean accuracyFold 3/5: 52.50% mean accuracyFold 4/5: 53.00% mean accuracyFold 5/5: 57.00% mean accuracy\n",
      "All folds : 55.10% mean accuracy\n",
      "Grid Search 4/18 : \n",
      "Fold 1/5: 54.00% mean accuracyFold 2/5: 59.00% mean accuracyFold 3/5: 52.50% mean accuracyFold 4/5: 52.75% mean accuracyFold 5/5: 57.00% mean accuracy\n",
      "All folds : 55.05% mean accuracy\n",
      "Grid Search 5/18 : \n",
      "Fold 1/5: 54.00% mean accuracyFold 2/5: 58.50% mean accuracyFold 3/5: 52.50% mean accuracyFold 4/5: 53.00% mean accuracyFold 5/5: 57.00% mean accuracy\n",
      "All folds : 55.00% mean accuracy\n",
      "Grid Search 6/18 : \n",
      "Fold 1/5: 54.00% mean accuracyFold 2/5: 59.00% mean accuracyFold 3/5: 52.50% mean accuracyFold 4/5: 52.25% mean accuracyFold 5/5: 57.00% mean accuracy\n",
      "All folds : 54.95% mean accuracy\n",
      "Grid Search 7/18 : \n",
      "Fold 1/5: 54.00% mean accuracyFold 2/5: 59.00% mean accuracyFold 3/5: 52.50% mean accuracyFold 4/5: 53.00% mean accuracyFold 5/5"
     ]
    }
   ],
   "source": [
    "# models = [model_1, model_1_ws_2, model_1_ws_aux2, model_2, model_2_ws, model_2_ws_aux2]\n",
    "models = [model_2_aux1, model_1_ws, model_2_ws]\n",
    "models_names = [\"Model 2 AUX1\", \"Model 1 WS\", \"Model 2 WS\"]\n",
    "# models_names = [\"model 1\", \"model 1 WS\", \"model 1 WS AUX 2\", \"model 2\", \"model 2 WS\", \"model 2 WS AUX 2\"]\n",
    "models_best_cfg = []\n",
    "\n",
    "lrs = dict()\n",
    "\n",
    "lrs[\"Adam\"] = [0.01, 0.005, 0.003, 0.002, 0.001, 0.0005]\n",
    "lrs[\"SGD\"] = [0.1, 0.05, 0.01]\n",
    "batchsizes = [16, 32]\n",
    "\n",
    "# lrs[\"Adam\"] = [0.002]\n",
    "# lrs[\"SGD\"] = [0.2]\n",
    "# batchsizes = [16]\n",
    "\n",
    "epochs = 25\n",
    "number_training = 2\n",
    "\n",
    "gridsearch_number = len(lrs[\"Adam\"]) * len(batchsizes) + len(lrs[\"SGD\"]) * len(batchsizes)\n",
    "\n",
    "model_accuracies = []\n",
    "model_vars = []\n",
    "model_parameters = []\n",
    "\n",
    "nfold = 5\n",
    "perm = torch.randperm(len(x_train))\n",
    "folds = perm.split(int(len(x_train) / nfold))\n",
    "\n",
    "for build_model, model_name in zip(models, models_names):\n",
    "    \n",
    "    # Just to evaluate model parameters / output shape\n",
    "    dummy_model = build_model()\n",
    "    dummy_output = dummy_model(x_train[0:1])\n",
    "    auxiliary = (type(dummy_output) == tuple)\n",
    "    if auxiliary:\n",
    "        output_length = len(dummy_output)\n",
    "    print(\"Starting %i parameter grid search %i times each over %i epochs, with model '%s' containing %i parameters. \\n\" % \n",
    "      (gridsearch_number, number_training, epochs, model_name, number_parameters(dummy_model)))\n",
    "    del dummy_model\n",
    "    \n",
    "    mean_accuracies = []\n",
    "    var_accuracies = []\n",
    "    parameters = []\n",
    "    \n",
    "    i_param = 0\n",
    "    for optim in [(torch.optim.Adam, \"Adam\"), (torch.optim.SGD, \"SGD\")]:\n",
    "        for lr in lrs[optim[1]]:\n",
    "            for batchsize in batchsizes :               \n",
    "                exp_accuracies = []\n",
    "                \n",
    "                i_param+=1\n",
    "                print(\"\\rGrid Search %i/%i : \" % (i_param, gridsearch_number))\n",
    "                \n",
    "                for i_fold in range(nfold):\n",
    "                    print(\"Fold %i/%i\" % (i_fold+1, nfold), end = \"\")\n",
    "                    i_valid = folds[i_fold]\n",
    "                    i_train = torch.cat((*folds[:i_fold], *folds[i_fold+1:]))\n",
    "                    \n",
    "                    for i, rnd_exp in enumerate(range(number_training)):\n",
    "\n",
    "                        model = build_model()\n",
    "                        optimizer = optim[0](model.parameters(), lr)\n",
    "\n",
    "                        if torch.cuda.is_available():\n",
    "                            model.cuda()\n",
    "\n",
    "                        train_loss = train_model(model, \n",
    "                                                 x_train[i_train].to(device),\n",
    "                                                 y_train[i_train].to(device),\n",
    "                                                 y_train_classes[i_train].to(device),\n",
    "                                                 epochs = epochs, optimizer=optimizer, batch_size=batchsize, \n",
    "                                                 auxiliary = auxiliary, auxiliary_v1 = (output_length==2),\n",
    "                                                 verbose = False)\n",
    "\n",
    "\n",
    "                        if auxiliary :\n",
    "                            if output_length == 2:\n",
    "                                accuracy, _ = evaluate_model_aux1(model, \n",
    "                                                                  x_train[i_valid].to(device),\n",
    "                                                                  y_train[i_valid].to(device))\n",
    "                            else :\n",
    "                                accuracy, _, _ = evaluate_model_aux2(model, \n",
    "                                                                     x_train[i_valid].to(device),\n",
    "                                                                     y_train[i_valid].to(device),\n",
    "                                                                     y_train_classes[i_valid].to(device))\n",
    "                        else :\n",
    "                            accuracy = evaluate_model(model,\n",
    "                                                      x_train[i_valid].to(device),\n",
    "                                                      y_train[i_valid].to(device))\n",
    "\n",
    "                        exp_accuracies.append(accuracy)\n",
    "                    \n",
    "                    print(\": %.2f%% mean accuracy\" % (mean(exp_accuracies[-number_training:])), end = \"\")\n",
    "                \n",
    "                print(\"\\nAll folds : %.2f%% mean accuracy\" % (mean(exp_accuracies)))\n",
    "                mean_accuracies.append(mean(exp_accuracies))\n",
    "                var_accuracies.append(var(exp_accuracies))\n",
    "                parameters.append((optim[1], lr, batchsize))\n",
    "    \n",
    "    print()\n",
    "    model_accuracies.append(mean_accuracies)\n",
    "    model_vars.append(var_accuracies)\n",
    "    model_parameters.append(parameters)\n"
   ]
  },
  {
   "cell_type": "code",
   "execution_count": null,
   "metadata": {},
   "outputs": [],
   "source": [
    "for model, model_accs, model_vars, params in zip(models_names, model_accuracies, model_vars, model_parameters):\n",
    "    i_max = acc.index(max(acc))\n",
    "    print(\"Best accuracy %.2f (%.3f) with params for model %s :\" % (model_accs[i_max], model_vars[i_max], model),\n",
    "          \"optim : %s, lr : %.4f, batchsize : %i\" % (params[i_max]))"
   ]
  },
  {
   "cell_type": "markdown",
   "metadata": {},
   "source": [
    "## Experiment parametrization"
   ]
  },
  {
   "cell_type": "code",
   "execution_count": 83,
   "metadata": {},
   "outputs": [],
   "source": [
    "def experiment_model(model_name, build_model, params):\n",
    "    ################################ TRAINING PARAMETERS ################################################ \n",
    "    \n",
    "    number_training = 20\n",
    "    epochs = 25\n",
    "\n",
    "    accuracies = []\n",
    "    times = []\n",
    "    \n",
    "    # Just to evaluate model parameters / output shape\n",
    "    dummy_model = build_model()\n",
    "    dummy_output = dummy_model(x_train[0:1])\n",
    "    auxiliary = (type(dummy_output) == tuple)\n",
    "    if auxiliary:\n",
    "        output_length = len(dummy_output)\n",
    "\n",
    "    print(\"Starting %i training of %i epochs, with model '%s' containing %i parameters. \\n\" % \n",
    "      (number_training, epochs, model_name, number_parameters(dummy_model)))\n",
    "\n",
    "    del dummy_model\n",
    "    \n",
    "    ################################ TRAINING  ################################################ \n",
    "    \n",
    "    for i_train in range(number_training):  \n",
    "        start = time.time()\n",
    "\n",
    "        model = build_model()\n",
    "        if torch.cuda.is_available():\n",
    "            model.cuda()\n",
    "            \n",
    "        if params[0] == \"Adam\":\n",
    "            optimizer = torch.optim.Adam(model.parameters(), lr=params[1])\n",
    "        else :\n",
    "            optimizer = torch.optim.SGD(model.parameters(), lr=params[1], momentum=0.9, weight_decay=0)\n",
    "            \n",
    "        indices_shuffle = torch.randperm(N)\n",
    "#         indices_shuffle = list(range(N))\n",
    "        \n",
    "        train_loss = train_model(model, x_train[indices_shuffle].to(device),\n",
    "                                 y_train[indices_shuffle].to(device),\n",
    "                                 y_train_classes[indices_shuffle].to(device),\n",
    "                                 epochs = epochs, optimizer=optimizer, batch_size = params[2],\n",
    "                                 auxiliary = auxiliary, auxiliary_v1 = (output_length==2))\n",
    "                \n",
    "        if auxiliary :\n",
    "            if output_length == 2:\n",
    "                accuracy, intermed_accuracy = evaluate_model_aux1(model, x_test.to(device),\n",
    "                                                                        y_test.to(device))\n",
    "                print(\"Attempt\", i_train + 1, \"- accuracy %.2f%%\" % accuracy,\n",
    "                      \" -- intermed_accuracy : %.2f%%\" % intermed_accuracy)\n",
    "            else :\n",
    "                accuracy, accuracy_d1, accuracy_d2 = evaluate_model_aux2(model, x_test.to(device),\n",
    "                                                                        y_test.to(device),\n",
    "                                                                        y_test_classes.to(device))\n",
    "                print(\"Attempt\", i_train + 1, \"- accuracy %.2f%%\"%accuracy,\n",
    "                      \" -- d1 : %.2f%% , d2 : %.2f%%\" % (accuracy_d1, accuracy_d2))\n",
    "        else :\n",
    "            accuracy = evaluate_model(model, x_test.to(device), y_test.to(device))\n",
    "            print(\"Attempt\", i_train + 1, \"- accuracy %.2f%%\"%accuracy)\n",
    "\n",
    "        accuracies.append(accuracy)\n",
    "\n",
    "        times.append(time.time() - start)\n",
    "\n",
    "    print(\"\\nExperiment results :\")\n",
    "    print(\"Accuracy mean : %.2f%% (%.1f)\" % (mean(accuracies), var(accuracies)))\n",
    "    print(\"Average training time : %.1f seconds (%.1f)\\n\\n\" % (mean(times), var(times)))\n",
    "    \n",
    "    return accuracies"
   ]
  },
  {
   "cell_type": "markdown",
   "metadata": {},
   "source": [
    "## Run experiments"
   ]
  },
  {
   "cell_type": "code",
   "execution_count": 49,
   "metadata": {},
   "outputs": [],
   "source": [
    "results = []\n",
    "model_list = [\n",
    "#             ('Simple Net', model_0),\n",
    "             ('Model 1', model_1, (\"Adam\", 0.0005, 32)),\n",
    "             ('Model 1 WS', model_1_ws, (\"Adam\", 0.003, 32)),\n",
    "             ('Model 1 WS AUX2', model_1_ws_aux2, (\"Adam\", 0.003, 16)),\n",
    "             ('Model 2', model_2, (\"Adam\", 0.002, 16)),\n",
    "             ('Model 2 WS', model_2_ws, (\"Adam\", 0.001, 32)),\n",
    "             ('Model 2 WS AUX2', model_2_ws_aux2, (\"Adam\", 0.003, 32)),\n",
    "            ]"
   ]
  },
  {
   "cell_type": "code",
   "execution_count": 84,
   "metadata": {
    "scrolled": false
   },
   "outputs": [
    {
     "name": "stdout",
     "output_type": "stream",
     "text": [
      "Starting 20 training of 25 epochs, with model 'Model 2 AUX1' containing 538526 parameters. \n",
      "\n",
      "Attempt 1 - accuracy 83.10%  -- intermed_accuracy : 82.80%\n",
      "Attempt 2 - accuracy 82.10%  -- intermed_accuracy : 82.20%\n",
      "Attempt 3 - accuracy 80.90%  -- intermed_accuracy : 81.20%\n",
      "Attempt 4 - accuracy 82.50%  -- intermed_accuracy : 83.40%\n",
      "Attempt 5 - accuracy 83.80%  -- intermed_accuracy : 81.40%\n",
      "Attempt 6 - accuracy 82.30%  -- intermed_accuracy : 83.70%\n",
      "Attempt 7 - accuracy 83.90%  -- intermed_accuracy : 83.80%\n",
      "Attempt 8 - accuracy 84.30%  -- intermed_accuracy : 82.50%\n",
      "Attempt 9 - accuracy 82.40%  -- intermed_accuracy : 83.70%\n",
      "Attempt 10 - accuracy 81.90%  -- intermed_accuracy : 78.70%\n",
      "Attempt 11 - accuracy 82.60%  -- intermed_accuracy : 83.50%\n",
      "Attempt 12 - accuracy 82.50%  -- intermed_accuracy : 81.70%\n",
      "Attempt 13 - accuracy 83.80%  -- intermed_accuracy : 82.60%\n",
      "Attempt 14 - accuracy 82.60%  -- intermed_accuracy : 83.30%\n",
      "Attempt 15 - accuracy 83.60%  -- intermed_accuracy : 83.60%\n",
      "Attempt 16 - accuracy 82.40%  -- intermed_accuracy : 81.60%\n",
      "Attempt 17 - accuracy 83.30%  -- intermed_accuracy : 83.30%\n",
      "Attempt 18 - accuracy 83.60%  -- intermed_accuracy : 84.30%\n",
      "Epoch 6 : loss 6.9578\r"
     ]
    },
    {
     "ename": "KeyboardInterrupt",
     "evalue": "",
     "output_type": "error",
     "traceback": [
      "\u001b[1;31m---------------------------------------------------------------------------\u001b[0m",
      "\u001b[1;31mKeyboardInterrupt\u001b[0m                         Traceback (most recent call last)",
      "\u001b[1;32m<ipython-input-84-b1e3daf45379>\u001b[0m in \u001b[0;36m<module>\u001b[1;34m\u001b[0m\n\u001b[0;32m     11\u001b[0m \u001b[1;33m\u001b[0m\u001b[0m\n\u001b[0;32m     12\u001b[0m \u001b[1;32mfor\u001b[0m \u001b[0mmodel_params\u001b[0m \u001b[1;32min\u001b[0m \u001b[0mmodel_list\u001b[0m \u001b[1;33m:\u001b[0m\u001b[1;33m\u001b[0m\u001b[1;33m\u001b[0m\u001b[0m\n\u001b[1;32m---> 13\u001b[1;33m     \u001b[0mresults\u001b[0m\u001b[1;33m.\u001b[0m\u001b[0mappend\u001b[0m\u001b[1;33m(\u001b[0m\u001b[1;33m(\u001b[0m\u001b[0mexperiment_model\u001b[0m\u001b[1;33m(\u001b[0m\u001b[1;33m*\u001b[0m\u001b[0mmodel_params\u001b[0m\u001b[1;33m)\u001b[0m\u001b[1;33m,\u001b[0m \u001b[0mmodel_params\u001b[0m\u001b[1;33m)\u001b[0m\u001b[1;33m)\u001b[0m\u001b[1;33m\u001b[0m\u001b[1;33m\u001b[0m\u001b[0m\n\u001b[0m",
      "\u001b[1;32m<ipython-input-83-7d6e9626138a>\u001b[0m in \u001b[0;36mexperiment_model\u001b[1;34m(model_name, build_model, params)\u001b[0m\n\u001b[0;32m     37\u001b[0m \u001b[1;31m#         indices_shuffle = list(range(N))\u001b[0m\u001b[1;33m\u001b[0m\u001b[1;33m\u001b[0m\u001b[1;33m\u001b[0m\u001b[0m\n\u001b[0;32m     38\u001b[0m \u001b[1;33m\u001b[0m\u001b[0m\n\u001b[1;32m---> 39\u001b[1;33m         train_loss = train_model(model, x_train[indices_shuffle].to(device),\n\u001b[0m\u001b[0;32m     40\u001b[0m                                  \u001b[0my_train\u001b[0m\u001b[1;33m[\u001b[0m\u001b[0mindices_shuffle\u001b[0m\u001b[1;33m]\u001b[0m\u001b[1;33m.\u001b[0m\u001b[0mto\u001b[0m\u001b[1;33m(\u001b[0m\u001b[0mdevice\u001b[0m\u001b[1;33m)\u001b[0m\u001b[1;33m,\u001b[0m\u001b[1;33m\u001b[0m\u001b[1;33m\u001b[0m\u001b[0m\n\u001b[0;32m     41\u001b[0m                                  \u001b[0my_train_classes\u001b[0m\u001b[1;33m[\u001b[0m\u001b[0mindices_shuffle\u001b[0m\u001b[1;33m]\u001b[0m\u001b[1;33m.\u001b[0m\u001b[0mto\u001b[0m\u001b[1;33m(\u001b[0m\u001b[0mdevice\u001b[0m\u001b[1;33m)\u001b[0m\u001b[1;33m,\u001b[0m\u001b[1;33m\u001b[0m\u001b[1;33m\u001b[0m\u001b[0m\n",
      "\u001b[1;32m<ipython-input-81-1ef5d1796086>\u001b[0m in \u001b[0;36mtrain_model\u001b[1;34m(model, train_input, train_target, digit_target, epochs, optimizer, loss_function, digit_loss, batch_size, auxiliary, auxiliary_v1, verbose)\u001b[0m\n\u001b[0;32m     48\u001b[0m \u001b[1;33m\u001b[0m\u001b[0m\n\u001b[0;32m     49\u001b[0m             \u001b[0moptimizer\u001b[0m\u001b[1;33m.\u001b[0m\u001b[0mzero_grad\u001b[0m\u001b[1;33m(\u001b[0m\u001b[1;33m)\u001b[0m\u001b[1;33m\u001b[0m\u001b[1;33m\u001b[0m\u001b[0m\n\u001b[1;32m---> 50\u001b[1;33m             \u001b[0mloss_total\u001b[0m\u001b[1;33m.\u001b[0m\u001b[0mbackward\u001b[0m\u001b[1;33m(\u001b[0m\u001b[1;33m)\u001b[0m\u001b[1;33m\u001b[0m\u001b[1;33m\u001b[0m\u001b[0m\n\u001b[0m\u001b[0;32m     51\u001b[0m             \u001b[0moptimizer\u001b[0m\u001b[1;33m.\u001b[0m\u001b[0mstep\u001b[0m\u001b[1;33m(\u001b[0m\u001b[1;33m)\u001b[0m\u001b[1;33m\u001b[0m\u001b[1;33m\u001b[0m\u001b[0m\n\u001b[0;32m     52\u001b[0m \u001b[1;33m\u001b[0m\u001b[0m\n",
      "\u001b[1;32m~\\Anaconda3\\envs\\pytorch\\lib\\site-packages\\torch\\tensor.py\u001b[0m in \u001b[0;36mbackward\u001b[1;34m(self, gradient, retain_graph, create_graph)\u001b[0m\n\u001b[0;32m    196\u001b[0m                 \u001b[0mproducts\u001b[0m\u001b[1;33m.\u001b[0m \u001b[0mDefaults\u001b[0m \u001b[0mto\u001b[0m\u001b[0;31m \u001b[0m\u001b[0;31m`\u001b[0m\u001b[0;31m`\u001b[0m\u001b[1;32mFalse\u001b[0m\u001b[0;31m`\u001b[0m\u001b[0;31m`\u001b[0m\u001b[1;33m.\u001b[0m\u001b[1;33m\u001b[0m\u001b[1;33m\u001b[0m\u001b[0m\n\u001b[0;32m    197\u001b[0m         \"\"\"\n\u001b[1;32m--> 198\u001b[1;33m         \u001b[0mtorch\u001b[0m\u001b[1;33m.\u001b[0m\u001b[0mautograd\u001b[0m\u001b[1;33m.\u001b[0m\u001b[0mbackward\u001b[0m\u001b[1;33m(\u001b[0m\u001b[0mself\u001b[0m\u001b[1;33m,\u001b[0m \u001b[0mgradient\u001b[0m\u001b[1;33m,\u001b[0m \u001b[0mretain_graph\u001b[0m\u001b[1;33m,\u001b[0m \u001b[0mcreate_graph\u001b[0m\u001b[1;33m)\u001b[0m\u001b[1;33m\u001b[0m\u001b[1;33m\u001b[0m\u001b[0m\n\u001b[0m\u001b[0;32m    199\u001b[0m \u001b[1;33m\u001b[0m\u001b[0m\n\u001b[0;32m    200\u001b[0m     \u001b[1;32mdef\u001b[0m \u001b[0mregister_hook\u001b[0m\u001b[1;33m(\u001b[0m\u001b[0mself\u001b[0m\u001b[1;33m,\u001b[0m \u001b[0mhook\u001b[0m\u001b[1;33m)\u001b[0m\u001b[1;33m:\u001b[0m\u001b[1;33m\u001b[0m\u001b[1;33m\u001b[0m\u001b[0m\n",
      "\u001b[1;32m~\\Anaconda3\\envs\\pytorch\\lib\\site-packages\\torch\\autograd\\__init__.py\u001b[0m in \u001b[0;36mbackward\u001b[1;34m(tensors, grad_tensors, retain_graph, create_graph, grad_variables)\u001b[0m\n\u001b[0;32m     96\u001b[0m         \u001b[0mretain_graph\u001b[0m \u001b[1;33m=\u001b[0m \u001b[0mcreate_graph\u001b[0m\u001b[1;33m\u001b[0m\u001b[1;33m\u001b[0m\u001b[0m\n\u001b[0;32m     97\u001b[0m \u001b[1;33m\u001b[0m\u001b[0m\n\u001b[1;32m---> 98\u001b[1;33m     Variable._execution_engine.run_backward(\n\u001b[0m\u001b[0;32m     99\u001b[0m         \u001b[0mtensors\u001b[0m\u001b[1;33m,\u001b[0m \u001b[0mgrad_tensors\u001b[0m\u001b[1;33m,\u001b[0m \u001b[0mretain_graph\u001b[0m\u001b[1;33m,\u001b[0m \u001b[0mcreate_graph\u001b[0m\u001b[1;33m,\u001b[0m\u001b[1;33m\u001b[0m\u001b[1;33m\u001b[0m\u001b[0m\n\u001b[0;32m    100\u001b[0m         allow_unreachable=True)  # allow_unreachable flag\n",
      "\u001b[1;31mKeyboardInterrupt\u001b[0m: "
     ]
    }
   ],
   "source": [
    "model_list = [\n",
    "#             ('Simple Net', model_0),\n",
    "#              ('Model 1', model_1, (\"Adam\", 0.0005, 32)),\n",
    "#              ('Model 1 WS', model_1_ws, (\"Adam\", 0.003, 32)),\n",
    "#              ('Model 1 WS AUX2', model_1_ws_aux2, (\"Adam\", 0.003, 16)),\n",
    "#              ('Model 2', model_2, (\"Adam\", 0.002, 16)),\n",
    "#              ('Model 2 WS', model_2_ws, (\"Adam\", 0.001, 32)),\n",
    "#              ('Model 2 WS AUX2', model_2_ws_aux2, (\"Adam\", 0.003, 32)),\n",
    "                ('Model 2 AUX1', model_2_aux1, (\"Adam\", 0.003, 32)),\n",
    "            ]\n",
    "\n",
    "for model_params in model_list :\n",
    "    results.append((experiment_model(*model_params), model_params))"
   ]
  },
  {
   "cell_type": "markdown",
   "metadata": {},
   "source": [
    "## Results comparision between models"
   ]
  },
  {
   "cell_type": "code",
   "execution_count": 72,
   "metadata": {},
   "outputs": [
    {
     "name": "stdout",
     "output_type": "stream",
     "text": [
      "[80.465, 77.77, 95.755, 81.675, 78.00000000000001, 96.85000000000001]\n",
      "[1.9132749999999923, 73.58409999999998, 0.4764750000000001, 0.9948749999999927, 161.65799999999996, 0.27850000000000175]\n",
      "['Model 1', 'Model 1 WS', 'Model 1 WS AUX2', 'Model 2', 'Model 2 WS', 'Model 2 WS AUX2']\n"
     ]
    }
   ],
   "source": [
    "print([mean(x[0]) for x in results])\n",
    "print([var(x[0]) for x in results])\n",
    "print([x[1][0] for x in results])"
   ]
  },
  {
   "cell_type": "code",
   "execution_count": 68,
   "metadata": {},
   "outputs": [
    {
     "data": {
      "image/png": "[encoded data removed]",
      "text/plain": [
       "<Figure size 864x576 with 1 Axes>"
      ]
     },
     "metadata": {
      "needs_background": "light"
     },
     "output_type": "display_data"
    }
   ],
   "source": [
    "plt.figure(figsize=(12, 8))\n",
    "plt.boxplot([x[0] for x in results], labels = [x[1][0] for x in results])\n",
    "\n",
    "plt.show()"
   ]
  }
 ],
 "metadata": {
  "kernelspec": {
   "display_name": "Python 3",
   "language": "python",
   "name": "python3"
  },
  "language_info": {
   "codemirror_mode": {
    "name": "ipython",
    "version": 3
   },
   "file_extension": ".py",
   "mimetype": "text/x-python",
   "name": "python",
   "nbconvert_exporter": "python",
   "pygments_lexer": "ipython3",
   "version": "3.8.2"
  }
 },
 "nbformat": 4,
 "nbformat_minor": 4
}
