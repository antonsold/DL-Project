{
 "cells": [
  {
   "cell_type": "markdown",
   "metadata": {},
   "source": [
    "## Imports"
   ]
  },
  {
   "cell_type": "code",
   "execution_count": 1,
   "metadata": {},
   "outputs": [],
   "source": [
    "import torch\n",
    "from torch import nn\n",
    "from torch.nn import functional as F\n",
    "import time\n",
    "import matplotlib.pyplot as plt\n",
    "\n",
    "import dlc_practical_prologue"
   ]
  },
  {
   "cell_type": "markdown",
   "metadata": {},
   "source": [
    "## Load data"
   ]
  },
  {
   "cell_type": "code",
   "execution_count": 2,
   "metadata": {},
   "outputs": [],
   "source": [
    "N = 1000\n",
    "\n",
    "x_train, y_train, y_train_classes, x_test, y_test, y_test_classes = \\\n",
    "dlc_practical_prologue.generate_pair_sets(N)\n",
    "\n",
    "assert x_train.shape == torch.Size([N, 2, 14, 14])    # float32\n",
    "assert y_train.shape == torch.Size([N])               # int64\n",
    "assert y_train_classes.shape == torch.Size([N, 2])    # int64\n",
    "\n",
    "assert x_test.shape == torch.Size([N, 2, 14, 14])\n",
    "assert y_test.shape == torch.Size([N])\n",
    "assert y_test_classes.shape == torch.Size([N, 2])"
   ]
  },
  {
   "cell_type": "code",
   "execution_count": null,
   "metadata": {},
   "outputs": [],
   "source": []
  },
  {
   "cell_type": "code",
   "execution_count": null,
   "metadata": {},
   "outputs": [],
   "source": []
  },
  {
   "cell_type": "markdown",
   "metadata": {},
   "source": [
    "## Useful functions"
   ]
  },
  {
   "cell_type": "code",
   "execution_count": 3,
   "metadata": {},
   "outputs": [],
   "source": [
    "def mean(x):\n",
    "    return sum(x)/len(x)\n",
    "\n",
    "def var(x):\n",
    "    u = mean(x)\n",
    "    return sum([(v-u)**2 for v in x])/len(x)"
   ]
  },
  {
   "cell_type": "code",
   "execution_count": 4,
   "metadata": {},
   "outputs": [],
   "source": [
    "def number_parameters(model):   # Returns the number of parameter of a given model\n",
    "    return sum(p.numel() for p in model.parameters())"
   ]
  },
  {
   "cell_type": "code",
   "execution_count": null,
   "metadata": {},
   "outputs": [],
   "source": []
  },
  {
   "cell_type": "code",
   "execution_count": null,
   "metadata": {},
   "outputs": [],
   "source": []
  },
  {
   "cell_type": "markdown",
   "metadata": {},
   "source": [
    "## Define models"
   ]
  },
  {
   "cell_type": "code",
   "execution_count": 5,
   "metadata": {},
   "outputs": [
    {
     "name": "stdout",
     "output_type": "stream",
     "text": [
      "61935\n"
     ]
    }
   ],
   "source": [
    "## Is a Multi Layer Perceptron, composed of fully connected linear layers.\n",
    "## works well with lr=0.001  \n",
    "\n",
    "class model_0(nn.Module):   \n",
    "    def __init__(self, ns = [392,138,55,1]):\n",
    "        super().__init__()\n",
    "        layers = [nn.Linear(n_in, n_out) for n_in, n_out in zip(ns[:-1], ns[1:])]   \n",
    "        self.layers = nn.ModuleList(layers)\n",
    "\n",
    "    def forward(self, x):\n",
    "        x = torch.flatten(x,1)          # flatten the 2 images in one vector (but keeping batch size)\n",
    "        for layer in self.layers[:-1]:\n",
    "            x = layer(x).relu()\n",
    "            \n",
    "        x = self.layers[-1](x) \n",
    "        x = torch.flatten(torch.sigmoid(x))\n",
    "        return x\n",
    "print(number_parameters(model_0()))"
   ]
  },
  {
   "cell_type": "code",
   "execution_count": 6,
   "metadata": {},
   "outputs": [
    {
     "name": "stdout",
     "output_type": "stream",
     "text": [
      "56273\n"
     ]
    }
   ],
   "source": [
    "## Is a convolutional neural network poorly paramztrized\n",
    "## works well with lr=0.0001      \n",
    "\n",
    "class model_1(nn.Module):                 \n",
    "    def __init__(self):\n",
    "        super(model_1, self).__init__()\n",
    "        self.conv1 = nn.Conv2d(2, 16, kernel_size=3, stride =1)        \n",
    "        self.conv2 = nn.Conv2d(16, 32, kernel_size=3, stride =1) \n",
    "\n",
    "        self.dense1 = nn.Linear(800, 64)\n",
    "        self.dense2 = nn.Linear(64, 1)\n",
    "        \n",
    "    def forward(self, x):\n",
    "        x = F.relu(self.conv1(x))\n",
    "        x = F.relu(self.conv2(x))\n",
    "        x = F.max_pool2d(x, kernel_size=2)        \n",
    "        \n",
    "        x = F.relu(self.dense1(torch.flatten(x, 1)))\n",
    "        x = torch.flatten(torch.sigmoid(self.dense2(x)))\n",
    "        return x\n",
    "    \n",
    "print(number_parameters(model_1()))"
   ]
  },
  {
   "cell_type": "code",
   "execution_count": 7,
   "metadata": {
    "scrolled": true
   },
   "outputs": [
    {
     "name": "stdout",
     "output_type": "stream",
     "text": [
      "64741\n"
     ]
    }
   ],
   "source": [
    "## Is a convolutional neural network more paramztrized\n",
    "## works well with lr=0.0001      \n",
    "\n",
    "\n",
    "class model_2(nn.Module):\n",
    "    def __init__(self):\n",
    "        super(model_2, self).__init__()\n",
    "        self.conv1 = nn.Conv2d(2, 20, kernel_size=5, padding=2)        \n",
    "        self.conv2 = nn.Conv2d(20, 40, kernel_size=5, padding=2)\n",
    "        self.conv3 = nn.Conv2d(40, 20, kernel_size=5, padding=2)\n",
    "        self.conv4 = nn.Conv2d(20, 40, kernel_size=5, padding=2)\n",
    "\n",
    "        self.dense1 = nn.Linear(360, 10)\n",
    "        self.dense2 = nn.Linear(10, 1)\n",
    "        \n",
    "    def forward(self, x):\n",
    "        x = F.relu(self.conv1(x))\n",
    "        x = F.max_pool2d(F.relu(self.conv2(x)), kernel_size=2)\n",
    "        x = F.relu(self.conv3(x))\n",
    "        x = F.max_pool2d(self.conv4(x), kernel_size=2)        \n",
    "        \n",
    "        x = F.relu(self.dense1(torch.flatten(x, 1)))\n",
    "        x = torch.flatten(torch.sigmoid(self.dense2(x)))\n",
    "        return x\n",
    "\n",
    "print(number_parameters(model_2()))"
   ]
  },
  {
   "cell_type": "code",
   "execution_count": 8,
   "metadata": {},
   "outputs": [
    {
     "name": "stdout",
     "output_type": "stream",
     "text": [
      "25161\n"
     ]
    }
   ],
   "source": [
    "## Is a convolutional neural network that splits the input in 2 images\n",
    "##   and treats them identically and independantly \n",
    "## works well with lr=0.0001    \n",
    "\n",
    "class model_weight_sharing(nn.Module):\n",
    "    def __init__(self):\n",
    "        super(model_weight_sharing, self).__init__()        \n",
    "        self.conv1 = nn.Conv2d(1, 20, kernel_size=3)\n",
    "        self.conv2 = nn.Conv2d(20, 40, kernel_size=3)       \n",
    "        self.conv3 = nn.Conv2d(40, 40, kernel_size=3)       \n",
    "\n",
    "        self.dense1 = nn.Linear(80, 40)                     \n",
    "        self.dense2 = nn.Linear(40, 1)\n",
    "        \n",
    "    def forward(self, x):\n",
    "        d1 = F.relu(self.conv1(x[:, 0:1, ...]))\n",
    "        d1 = F.max_pool2d(self.conv2(d1), kernel_size=2)\n",
    "        d1 = F.max_pool2d(self.conv3(d1), kernel_size=2)\n",
    "        d1 = torch.flatten(d1, 1)\n",
    "        \n",
    "        d2 = F.relu(self.conv1(x[:, 1:2, ...]))\n",
    "        d2 = F.max_pool2d(self.conv2(d2), kernel_size=2)\n",
    "        d2 = F.max_pool2d(self.conv3(d2), kernel_size=2)\n",
    "        d2 = torch.flatten(d2, 1)\n",
    "\n",
    "        x = torch.cat((d1, d2), 1)\n",
    "        x = F.relu(self.dense1(torch.flatten(x, 1)))\n",
    "        x = torch.flatten(torch.sigmoid(self.dense2(x)))\n",
    "        return x\n",
    "    \n",
    "print(number_parameters(model_weight_sharing()))"
   ]
  },
  {
   "cell_type": "code",
   "execution_count": 9,
   "metadata": {},
   "outputs": [
    {
     "name": "stdout",
     "output_type": "stream",
     "text": [
      "25983\n"
     ]
    }
   ],
   "source": [
    "## Is a convolutional neural network that splits the input in 2 images\n",
    "#    and trat them identically and independantly \n",
    "#    additionally, predictions about digits are returned for auxiliary losses\n",
    "## works well with lr=0.0001    \n",
    "\n",
    "class model_weight_sharing_with_auxiliary_loss(nn.Module):\n",
    "    def __init__(self):\n",
    "        super(model_weight_sharing_with_auxiliary_loss, self).__init__()\n",
    "        self.conv1 = nn.Conv2d(1, 20, kernel_size=3)        \n",
    "        self.conv2 = nn.Conv2d(20, 40, kernel_size=3)\n",
    "        self.conv3 = nn.Conv2d(40, 40, kernel_size=3)\n",
    "        \n",
    "        #Treatment of the auxiliary outputs (classifier for both digits)\n",
    "        self.dense1_digit = nn.Linear(40, 32)\n",
    "        self.dense2_digit = nn.Linear(32, 10)\n",
    "        \n",
    "        #Tratment of the final output \n",
    "        self.dense1 = nn.Linear(80, 30)\n",
    "        self.dense2 = nn.Linear(30, 1)\n",
    "        \n",
    "    def forward(self, x):\n",
    "        d1 = F.relu(self.conv1(x[:, 0:1, ...]))\n",
    "        d1 = F.max_pool2d(self.conv2(d1), kernel_size=2)\n",
    "        d1 = F.max_pool2d(self.conv3(d1), kernel_size=2)\n",
    "        d1 = torch.flatten(d1, 1)\n",
    "\n",
    "        d2 = F.relu(self.conv1(x[:, 1:2, ...]))\n",
    "        d2 = F.max_pool2d(self.conv2(d2), kernel_size=2)\n",
    "        d2 = F.max_pool2d(self.conv3(d2), kernel_size=2)\n",
    "        d2 = torch.flatten(d2, 1)\n",
    "        \n",
    "        x = torch.cat((d1, d2), 1)\n",
    "        \n",
    "        d1 = F.relu(self.dense1_digit(d1))\n",
    "        d1 = F.softmax(self.dense2_digit(d1), -1)\n",
    "        d2 = F.relu(self.dense1_digit(d2))\n",
    "        d2 = F.softmax(self.dense2_digit(d2), -1)\n",
    "\n",
    "        x = F.relu(self.dense1(torch.flatten(x, 1)))\n",
    "        x = torch.flatten(torch.sigmoid(self.dense2(x)))\n",
    "        \n",
    "        return x, d1, d2 \n",
    "    \n",
    "print(number_parameters(model_weight_sharing_with_auxiliary_loss()))"
   ]
  },
  {
   "cell_type": "code",
   "execution_count": 10,
   "metadata": {},
   "outputs": [
    {
     "name": "stdout",
     "output_type": "stream",
     "text": [
      "84362\n"
     ]
    }
   ],
   "source": [
    "## Is a convolutional neural network more paramztrized\n",
    "## works well with lr=0.0001      \n",
    "# Makes sense for deep networks !!! (to avoid vanishing gradient) <TODO> with or without WS for classifier ??\n",
    "\n",
    "class model_auxiliary_loss(nn.Module):\n",
    "    def __init__(self):\n",
    "        super(model_auxiliary_loss, self).__init__()\n",
    "        self.conv1 = nn.Conv2d(2, 20, kernel_size=5, padding=2)        \n",
    "        self.conv2 = nn.Conv2d(20, 40, kernel_size=5, padding=2)\n",
    "        self.conv3 = nn.Conv2d(40, 20, kernel_size=5, padding=2)\n",
    "        self.conv4 = nn.Conv2d(20, 40, kernel_size=5, padding=2)\n",
    "        \n",
    "        self.dense1_ = nn.Linear(1960, 10)\n",
    "        self.dense2_ = nn.Linear(10, 1)\n",
    "        \n",
    "        self.dense1 = nn.Linear(360, 10)\n",
    "        self.dense2 = nn.Linear(10, 1)\n",
    "        \n",
    "    def forward(self, x):\n",
    "        x = F.relu(self.conv1(x))\n",
    "        x = F.max_pool2d(F.relu(self.conv2(x)), kernel_size=2)\n",
    "        \n",
    "        x_ = F.relu(self.dense1_(torch.flatten(x, 1)))       #For the auxiliary output\n",
    "        x_ = torch.flatten(torch.sigmoid(self.dense2_(x_)))\n",
    "        \n",
    "        x = F.relu(self.conv3(x))\n",
    "        x = F.max_pool2d(self.conv4(x), kernel_size=2)        \n",
    "        \n",
    "        x = F.relu(self.dense1(torch.flatten(x, 1)))\n",
    "        x = torch.flatten(torch.sigmoid(self.dense2(x)))\n",
    "        return x, x_\n",
    "\n",
    "print(number_parameters(model_auxiliary_loss()))"
   ]
  },
  {
   "cell_type": "code",
   "execution_count": 11,
   "metadata": {},
   "outputs": [],
   "source": [
    "#class model_auxiliary_loss_ws(nn.Module):\n",
    "#    def __init__(self):\n",
    "#        super(model_auxiliary_loss_ws, self).__init__()\n",
    "#        self.conv1 = nn.Conv2d(1, 20, kernel_size=3)   #2*14*14 => 10*12*12  (Maxpool => 10*6*6)  \n",
    "#        self.conv2 = nn.Conv2d(20, 40, kernel_size=3)  #10*6*6 => 10* 4 * 4 (Maxpool => 10*2*2)\n",
    "#        self.conv3 = nn.Conv2d(40, 60, kernel_size=3)\n",
    "#        self.conv4 = nn.Conv2d(60, 40, kernel_size=3)\n",
    "#        \n",
    "#        self.dense_digits = nn.Linear(360, 10)\n",
    "#        \n",
    "#        self.dense1 = nn.Linear(360, 10)\n",
    "#        self.dense2 = nn.Linear(10, 1)\n",
    "#        \n",
    "#    def forward(self, x):\n",
    "#        x1 = F.relu(self.conv1(x[:, 0:1, ...]))\n",
    "#        x1 = F.relu(self.conv2(x1))\n",
    "#        x1 = F.relu(self.conv3(x1))\n",
    "#        x1 = F.max_pool2d(self.conv4(x1), kernel_size=2)\n",
    "#        x1 = torch.flatten(x1, 1)\n",
    "#        \n",
    "#        x2 = F.relu(self.conv1(x[:, 1:2, ...]))\n",
    "#        x2 = F.relu(self.conv2(x2))\n",
    "#        x2 = F.relu(self.conv3(x2))\n",
    "#        x2 = F.max_pool2d(self.conv4(x2), kernel_size=2)\n",
    "#        x2 = torch.flatten(x1, 1)\n",
    "#        \n",
    "#        x = torch.flatten(x, 1)\n",
    "#        \n",
    "#        self.digits1 = F.softmax((self.dense_digits(x1)), -1)\n",
    "#        self.digits2 = F.softmax((self.dense_digits(x2)), -1)\n",
    "#        \n",
    "#        return (torch.argmax(self.digits1, axis = 1) < torch.argmax(self.digits2, axis = 1)).type(torch.float32)"
   ]
  },
  {
   "cell_type": "code",
   "execution_count": 12,
   "metadata": {},
   "outputs": [],
   "source": [
    "#class model_auxiliary_loss_2(nn.Module):\n",
    "#    def __init__(self):\n",
    "#        super(model_auxiliary_loss_2, self).__init__()\n",
    "#        self.conv1 = nn.Conv2d(2, 20, kernel_size=3, padding=2)   #2*14*14 => 10*12*12  (Maxpool => 10*6*6)  \n",
    "#        self.conv2 = nn.Conv2d(20, 20, kernel_size=3, padding=2)  #10*6*6 => 10* 4 * 4 (Maxpool => 10*2*2)\n",
    "#        self.conv3 = nn.Conv2d(20, 20, kernel_size=3)\n",
    "#        self.conv4 = nn.Conv2d(20, 20, kernel_size=3)\n",
    "#        \n",
    "#        self.dense1 = nn.Linear(980, 50)\n",
    "#        \n",
    "#        self.conv5 = nn.Conv2d(20, 20, kernel_size=3, padding=2)\n",
    "#        self.conv6 = nn.Conv2d(20, 20, kernel_size=3, padding=2)\n",
    "#        self.conv7 = nn.Conv2d(20, 20, kernel_size=3)\n",
    "#        self.conv8 = nn.Conv2d(20, 20, kernel_size=3)\n",
    "#        \n",
    "#        self.dense2 = nn.Linear(980, 50)\n",
    "#        \n",
    "#        self.pred = nn.Linear(50, 1)\n",
    "#        \n",
    "#        \n",
    "#    def forward(self, x):\n",
    "#        x = F.relu(self.conv1(x))\n",
    "#        x = F.relu(self.conv2(x))\n",
    "#        x = F.relu(self.conv3(x))\n",
    "#        x = F.relu(self.conv4(x))\n",
    "#        \n",
    "#        self.pred1 = torch.flatten(F.max_pool2d(x, kernel_size = 2), 1)\n",
    "#        self.pred1 = F.relu(self.dense1(self.pred1))\n",
    "#        self.pred1 = torch.flatten(F.sigmoid(self.pred(self.pred1)))\n",
    "#        \n",
    "#        x = F.relu(self.conv5(x))\n",
    "#        x = F.relu(self.conv6(x))\n",
    "#        x = F.relu(self.conv7(x))\n",
    "#        x = F.relu(self.conv8(x))\n",
    "#        \n",
    "#        self.pred2 = torch.flatten(F.max_pool2d(x, kernel_size = 2), 1)\n",
    "#        self.pred2 = F.relu(self.dense2(self.pred2))\n",
    "#        self.pred2 = torch.flatten(F.sigmoid(self.pred(self.pred2)))\n",
    "#        \n",
    "#        return self.pred2"
   ]
  },
  {
   "cell_type": "code",
   "execution_count": null,
   "metadata": {},
   "outputs": [],
   "source": []
  },
  {
   "cell_type": "code",
   "execution_count": null,
   "metadata": {},
   "outputs": [],
   "source": []
  },
  {
   "cell_type": "code",
   "execution_count": null,
   "metadata": {},
   "outputs": [],
   "source": []
  },
  {
   "cell_type": "markdown",
   "metadata": {},
   "source": [
    "## Training/Evaluation function"
   ]
  },
  {
   "cell_type": "code",
   "execution_count": 13,
   "metadata": {},
   "outputs": [],
   "source": [
    "def train_model(model, train_input, train_target, epochs, optimizer, loss_function = nn.BCELoss(), batch_size=10):\n",
    "\n",
    "    model.train()\n",
    "    losses = []\n",
    "    \n",
    "    for e in range(epochs):\n",
    "        sum_loss = 0\n",
    "        \n",
    "        for x_batch, y_batch in zip(x_train.split(batch_size),\n",
    "                                    y_train.split(batch_size)):\n",
    "            \n",
    "            output = model(x_batch)\n",
    "            loss = loss_function(output, y_batch.float())\n",
    "            \n",
    "            optimizer.zero_grad()\n",
    "            loss.backward()\n",
    "            optimizer.step()\n",
    "            \n",
    "            sum_loss = sum_loss + loss.item()\n",
    "            \n",
    "            \n",
    "        losses.append(sum_loss)\n",
    "        print(\"Epoch %i : loss %.2f\" % (e, sum_loss), end = \"\\r\")\n",
    "        \n",
    "    return losses"
   ]
  },
  {
   "cell_type": "code",
   "execution_count": 14,
   "metadata": {},
   "outputs": [],
   "source": [
    "def train_auxiliary_model(model, train_input, train_target,\n",
    "                          epochs, optimizer, loss_function = nn.BCELoss(), batch_size=10):\n",
    "    # Inspired by exercise corrige \n",
    "    model.train()\n",
    "    \n",
    "    losses = []\n",
    "    \n",
    "    for e in range(epochs):\n",
    "        sum_loss = 0\n",
    "        sum_loss_ = 0\n",
    "        \n",
    "        for x_batch, y_batch in zip(x_train.split(batch_size),\n",
    "                                                    y_train.split(batch_size)):\n",
    "            \n",
    "            output, output_ = model(x_batch)\n",
    "            \n",
    "            auxiliary_loss = loss_function(output_, y_batch.float())\n",
    "            loss_final     = loss_function(output , y_batch.float())\n",
    "            \n",
    "            loss_total = loss_final + 0.5*(auxiliary_loss)\n",
    "\n",
    "            optimizer.zero_grad()\n",
    "            loss_total.backward()  \n",
    "            optimizer.step()\n",
    "            \n",
    "            sum_loss_ += auxiliary_loss.item()\n",
    "            sum_loss  += loss_final.item()\n",
    "            \n",
    "            \n",
    "        losses.append(sum_loss)\n",
    "        print(\"Epoch %i: loss_F %.2f --- loss_Int %.2f \" \\\n",
    "              % (e,sum_loss, sum_loss_), end=\"\\r\")  \n",
    "    return losses"
   ]
  },
  {
   "cell_type": "code",
   "execution_count": 15,
   "metadata": {},
   "outputs": [],
   "source": [
    "def train_auxiliary_model_WS(model, train_input, train_target, digit_target,\n",
    "                          epochs, optimizer, loss_function = nn.BCELoss(), batch_size=10):\n",
    "    # Inspired by exercise corrige \n",
    "    model.train()\n",
    "    \n",
    "    losses = []\n",
    "    digit_loss = nn.CrossEntropyLoss()\n",
    "    \n",
    "    for e in range(epochs):\n",
    "        sum_loss = 0\n",
    "        sum_loss_digit1 = 0\n",
    "        sum_loss_digit2 = 0\n",
    "        \n",
    "        for x_batch, y_batch, y_digit_batch in zip(x_train.split(batch_size),\n",
    "                                                    y_train.split(batch_size),\n",
    "                                                    digit_target.split(batch_size)):\n",
    "            \n",
    "            output,d1,d2 = model(x_batch)\n",
    "\n",
    "            loss_digit1 = digit_loss(d1, y_digit_batch[..., 0])\n",
    "            loss_digit2 = digit_loss(d2, y_digit_batch[..., 1])\n",
    "            loss_final  = loss_function(output, y_batch.float())\n",
    "            \n",
    "            loss_total = loss_final + 0.5*(loss_digit1 + loss_digit2)\n",
    "\n",
    "            optimizer.zero_grad()\n",
    "            loss_total.backward()  \n",
    "            optimizer.step()\n",
    "            \n",
    "            sum_loss_digit1 += loss_digit1.item()\n",
    "            sum_loss_digit2 += loss_digit2.item()\n",
    "            sum_loss += loss_final.item()\n",
    "            \n",
    "            \n",
    "        losses.append(sum_loss)\n",
    "        print(\"Epoch %i: loss %.2f --- loss_d1 %.2f --- loss_d2 %.2f\" \\\n",
    "              % (e,sum_loss, sum_loss_digit1, sum_loss_digit2), end=\"\\r\")  \n",
    "    return losses"
   ]
  },
  {
   "cell_type": "code",
   "execution_count": null,
   "metadata": {},
   "outputs": [],
   "source": []
  },
  {
   "cell_type": "code",
   "execution_count": 16,
   "metadata": {},
   "outputs": [],
   "source": [
    "#def train_auxiliary_model_2(model, train_input, train_target, digit_target,\n",
    "#                          epochs, optimizer, optimizer_digit, loss_function = nn.BCELoss(), batch_size=10):\n",
    "#    # Inspired by exercise corrige \n",
    "#    model.train()\n",
    "#    \n",
    "#    losses = []\n",
    "#    digit_loss = nn.CrossEntropyLoss()\n",
    "#    \n",
    "#    for e in range(epochs):\n",
    "#        sum_loss = 0\n",
    "#        sum_loss_digit1 = 0\n",
    "#        sum_loss_digit2 = 0\n",
    "#        \n",
    "#        for x_batch, y_batch, y_digit_batch in zip(x_train.split(batch_size),\n",
    "#                                                    y_train.split(batch_size),\n",
    "#                                                    digit_target.split(batch_size)):\n",
    "#            \n",
    "#            output = model(x_batch)\n",
    "#            \n",
    "#            loss1 = digit_loss(model.digits1, y_digit_batch[..., 0])\n",
    "#            loss2 = digit_loss(model.digits2, y_digit_batch[..., 1])\n",
    "#            \n",
    "#            loss_digits = loss1 + loss2\n",
    "#            loss_usual  = loss_function(output, y_batch.float())\n",
    "#\n",
    "#            optimizer.zero_grad()         \n",
    "#            loss_usual.backward(retain_graph=True)  \n",
    "#            optimizer.step()\n",
    "#            \n",
    "#            optimizer_digit.zero_grad()\n",
    "#            loss_digits.backward()\n",
    "#            optimizer_digit.step()\n",
    "#            \n",
    "#            sum_loss_digit1 += loss1.item()\n",
    "#            sum_loss_digit2 += loss2.item()\n",
    "#            sum_loss += loss_usual.item()\n",
    "#            \n",
    "#            \n",
    "#        losses.append(sum_loss)\n",
    "#        print(\"Epoch %i : loss %.2f --- loss_digit1 %.2f --- loss_digit2 %.2f\" \\\n",
    "#              % (e,sum_loss, sum_loss_digit1, sum_loss_digit2), end=\"\\r\")\n",
    "#        \n",
    "#    return losses"
   ]
  },
  {
   "cell_type": "code",
   "execution_count": 17,
   "metadata": {},
   "outputs": [],
   "source": [
    "#def evaluate_model_2(model, test_input, test_target):\n",
    "#    model.eval()\n",
    "#    criterion = nn.BCELoss()\n",
    "#    preds_proba = model(test_input).view(-1)\n",
    "#    preds = preds_proba.masked_fill((preds_proba > 0.5), 1).masked_fill((preds_proba<0.5), 0)\n",
    "#    \n",
    "#    loss = criterion(preds_proba, test_target.float()).item()\n",
    "#    accuracy = (preds.float() == test_target.float()).sum().item()/preds.size(0)\n",
    "#    #accuracy = sum([pred == truth for pred, truth in zip(preds, test_target)])\n",
    "#    return loss, accuracy"
   ]
  },
  {
   "cell_type": "markdown",
   "metadata": {},
   "source": [
    "# Evaluate model functions"
   ]
  },
  {
   "cell_type": "code",
   "execution_count": 20,
   "metadata": {},
   "outputs": [],
   "source": [
    "def evaluate_model(model, test_input, test_target):\n",
    "    model.eval()\n",
    "    out = model(test_input) \n",
    "    preds_proba = out.view(-1)   \n",
    "    preds = preds_proba.masked_fill((preds_proba > 0.5), 1).masked_fill((preds_proba<0.5), 0)\n",
    "    accuracy = (preds.float() == test_target.float()).sum().item()/preds.size(0)\n",
    "    return accuracy"
   ]
  },
  {
   "cell_type": "code",
   "execution_count": 21,
   "metadata": {},
   "outputs": [],
   "source": [
    "def evaluate_model_tuple(model, test_input, test_target):\n",
    "    model.eval()\n",
    "    out = model(test_input)[0]       # [0] to catch the final output in case of models with auxilliary losses for which \n",
    "    preds_proba = out.view(-1)                           # intermediate results are returned \n",
    "    preds = preds_proba.masked_fill((preds_proba > 0.5), 1).masked_fill((preds_proba<0.5), 0)\n",
    "    accuracy = (preds.float() == test_target.float()).sum().item()/preds.size(0)\n",
    "    return accuracy"
   ]
  },
  {
   "cell_type": "markdown",
   "metadata": {},
   "source": [
    "## Experiment"
   ]
  },
  {
   "cell_type": "code",
   "execution_count": 23,
   "metadata": {},
   "outputs": [
    {
     "name": "stdout",
     "output_type": "stream",
     "text": [
      "Starting 10 training of 25 epochs, with model 'Simple Net' containing 61935 parameters. \n",
      "\n",
      "Attempt 1 - accuracy 78.60%\n",
      "Attempt 2 - accuracy 78.50%\n",
      "Attempt 3 - accuracy 79.20%\n",
      "Attempt 4 - accuracy 80.20%\n",
      "Attempt 5 - accuracy 74.70%\n",
      "Attempt 6 - accuracy 79.10%\n",
      "Attempt 7 - accuracy 79.20%\n",
      "Attempt 8 - accuracy 79.90%\n",
      "Attempt 9 - accuracy 80.70%\n",
      "Attempt 10 - accuracy 75.40%\n",
      "\n",
      "Experiment results :\n",
      "Accuracy mean : 78.55% (3.5)\n",
      "Average training time : 0.5 seconds (0.0)\n"
     ]
    }
   ],
   "source": [
    "################################ TRAINING PARAMETERS ################################################ \n",
    "\n",
    "number_training = 10\n",
    "epochs = 25\n",
    "\n",
    "#losses = [] <TODO> : usefulness of losses list ?\n",
    "train_losses = []\n",
    "accuracies = []\n",
    "times = []\n",
    "\n",
    "\n",
    "################################ CHOICE OF THE MODEL ################################################ \n",
    "\n",
    "auxiliary      = False\n",
    "weight_sharing = False\n",
    "\n",
    "\n",
    "if (not auxiliary) and (not weight_sharing):  # model will be\n",
    "    md = 'Simple Net'\n",
    "    build_model = model_0                        # MLP\n",
    "    #build_model = model_1                       # simple CNN\n",
    "    #build_model = model_2                       # complex CNN\n",
    "    \n",
    "\n",
    "if auxiliary:                                 # model will be \n",
    "    md = 'Auxiliary Loss'  \n",
    "    build_model = model_auxiliary_loss           # CNN with intermediate output for auxiliary loss\n",
    "                                                 # (useful for deep NN)   \n",
    "\n",
    "if weight_sharing:                            # model will be\n",
    "    md = 'Weight Sharing'\n",
    "    build_model = model_weight_sharing            # identical and independant treatment of each image  \n",
    "    \n",
    "    \n",
    "if (auxiliary and weight_sharing):            # model will be  \n",
    "    md = 'Auxiliary Loss + Weight Sharing'\n",
    "    build_model = model_weight_sharing_with_auxiliary_loss    # identical and independant treatment of each image  \n",
    "                                                              # with intermediate output of digit prediction \n",
    "                                                              # for auxiliary losses (per digit)\n",
    "\n",
    "\n",
    "################################ TRAINING  ################################################ \n",
    "\n",
    "print(\"Starting %i training of %i epochs, with model '%s' containing %i parameters. \\n\" % \n",
    "      (number_training, epochs, md, number_parameters(build_model())))\n",
    "\n",
    "for i_train in range(number_training):  \n",
    "    start = time.time()\n",
    "    \n",
    "    model = build_model()\n",
    "    optimizer = torch.optim.Adam(model.parameters(), lr=0.001)\n",
    "    indices_shuffle = torch.randperm(N)\n",
    "    \n",
    "    if not auxiliary :\n",
    "        train_loss = train_model(model, x_train[indices_shuffle], y_train[indices_shuffle], epochs = epochs,\n",
    "                                                                     optimizer=optimizer,batch_size = 50)\n",
    "        accuracy = evaluate_model(model, x_test, y_test)\n",
    "        \n",
    "    elif auxiliary and not weight_sharing:\n",
    "        train_loss = train_auxiliary_model(model,x_train[indices_shuffle], y_train[indices_shuffle], epochs = epochs,\n",
    "                                                                     optimizer=optimizer, batch_size = 50)\n",
    "        accuracy = evaluate_model_tuple(model, x_test, y_test)\n",
    "    \n",
    "    elif (auxiliary and weight_sharing):\n",
    "        train_loss = train_auxiliary_model_WS(model,x_train[indices_shuffle],y_train[indices_shuffle], y_train_classes[indices_shuffle],epochs = epochs,\n",
    "                                                                      optimizer=optimizer,batch_size = 50)\n",
    "        accuracy = evaluate_model_tuple(model, x_test, y_test)\n",
    "        \n",
    "    #accuracy = evaluate_model(model, x_test, y_test)\n",
    "    accuracy*=100\n",
    "    print(\"Attempt\", i_train + 1, \"- accuracy %.2f%%\"%accuracy)\n",
    "    #losses.append(loss)\n",
    "    #train_losses.append(train_loss)\n",
    "    accuracies.append(accuracy)\n",
    "    \n",
    "    times.append(time.time() - start)\n",
    "\n",
    "print(\"\\nExperiment results :\")\n",
    "#print(\"Loss mean : %.2f (%.3f)\" % (mean(losses), var(losses)))\n",
    "print(\"Accuracy mean : %.2f%% (%.1f)\" % (mean(accuracies), var(accuracies)))\n",
    "print(\"Average training time : %.1f seconds (%.1f)\" % (mean(times), var(times)))"
   ]
  }
 ],
 "metadata": {
  "kernelspec": {
   "display_name": "Python 3",
   "language": "python",
   "name": "python3"
  },
  "language_info": {
   "codemirror_mode": {
    "name": "ipython",
    "version": 3
   },
   "file_extension": ".py",
   "mimetype": "text/x-python",
   "name": "python",
   "nbconvert_exporter": "python",
   "pygments_lexer": "ipython3",
   "version": "3.7.3"
  }
 },
 "nbformat": 4,
 "nbformat_minor": 4
}
