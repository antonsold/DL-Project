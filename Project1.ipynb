{
 "cells": [
  {
   "cell_type": "markdown",
   "metadata": {},
   "source": [
    "## Imports"
   ]
  },
  {
   "cell_type": "code",
   "execution_count": 1,
   "metadata": {},
   "outputs": [],
   "source": [
    "import torch\n",
    "from torch import nn\n",
    "from torch.nn import functional as F\n",
    "import time\n",
    "from math import sqrt\n",
    "\n",
    "import matplotlib.pyplot as plt\n",
    "\n",
    "import dlc_practical_prologue"
   ]
  },
  {
   "cell_type": "markdown",
   "metadata": {},
   "source": [
    "## Useful functions"
   ]
  },
  {
   "cell_type": "code",
   "execution_count": 2,
   "metadata": {},
   "outputs": [],
   "source": [
    "def mean(x):\n",
    "    return sum(x)/len(x)\n",
    "\n",
    "def var(x):\n",
    "    u = mean(x)\n",
    "    return sum([(v-u)**2 for v in x])/len(x)"
   ]
  },
  {
   "cell_type": "code",
   "execution_count": 3,
   "metadata": {},
   "outputs": [],
   "source": [
    "def number_parameters(model):   # Returns the number of parameter of a given model\n",
    "    return sum(p.numel() for p in model.parameters())"
   ]
  },
  {
   "cell_type": "markdown",
   "metadata": {},
   "source": [
    "## Load data"
   ]
  },
  {
   "cell_type": "code",
   "execution_count": 4,
   "metadata": {},
   "outputs": [],
   "source": [
    "N = 1000\n",
    "\n",
    "x_train, y_train, y_train_classes, x_test, y_test, y_test_classes = \\\n",
    "dlc_practical_prologue.generate_pair_sets(N)\n",
    "\n",
    "assert x_train.shape == torch.Size([N, 2, 14, 14])    # float32\n",
    "assert y_train.shape == torch.Size([N])               # int64\n",
    "assert y_train_classes.shape == torch.Size([N, 2])    # int64\n",
    "\n",
    "assert x_test.shape == torch.Size([N, 2, 14, 14])\n",
    "assert y_test.shape == torch.Size([N])\n",
    "assert y_test_classes.shape == torch.Size([N, 2])"
   ]
  },
  {
   "cell_type": "code",
   "execution_count": 240,
   "metadata": {},
   "outputs": [],
   "source": [
    "if torch.cuda.is_available():  \n",
    "    dev = \"cuda:0\"\n",
    "else:  \n",
    "    dev = \"cpu\"  \n",
    "device = torch.device(dev)\n",
    "# x_train = x_train.to(device)\n",
    "# y_train = y_train.to(device)\n",
    "# y_train_classes = y_train_classes.to(device)\n",
    "# x_test = x_test.to(device)\n",
    "# y_test = y_test.to(device)\n",
    "# y_test_classes = y_test_classes.to(device)"
   ]
  },
  {
   "cell_type": "markdown",
   "metadata": {},
   "source": [
    "## Normalize input"
   ]
  },
  {
   "cell_type": "code",
   "execution_count": 6,
   "metadata": {},
   "outputs": [],
   "source": [
    "tmp_list = torch.flatten(x_train).tolist()\n",
    "\n",
    "x_train = x_train.sub(mean(tmp_list)).div(sqrt(var(tmp_list)))\n",
    "x_test = x_test.sub(mean(tmp_list)).div(sqrt(var(tmp_list)))"
   ]
  },
  {
   "cell_type": "markdown",
   "metadata": {},
   "source": [
    "## Define models"
   ]
  },
  {
   "cell_type": "code",
   "execution_count": 7,
   "metadata": {},
   "outputs": [
    {
     "name": "stdout",
     "output_type": "stream",
     "text": [
      "61935\n"
     ]
    }
   ],
   "source": [
    "## Is a Multi Layer Perceptron, composed of fully connected linear layers.\n",
    "## works well with lr=0.001  \n",
    "\n",
    "class model_0(nn.Module):   \n",
    "    def __init__(self, ns = [392,138,55,1]):\n",
    "        super().__init__()\n",
    "        layers = [nn.Linear(n_in, n_out) for n_in, n_out in zip(ns[:-1], ns[1:])]   \n",
    "        self.layers = nn.ModuleList(layers)\n",
    "\n",
    "    def forward(self, x):\n",
    "        x = torch.flatten(x,1)          # flatten the 2 images in one vector (but keeping batch size)\n",
    "        for layer in self.layers[:-1]:\n",
    "            x = layer(x).relu()\n",
    "            \n",
    "        x = self.layers[-1](x) \n",
    "        x = torch.flatten(torch.sigmoid(x))\n",
    "        return x\n",
    "print(number_parameters(model_0()))"
   ]
  },
  {
   "cell_type": "code",
   "execution_count": 277,
   "metadata": {},
   "outputs": [
    {
     "name": "stdout",
     "output_type": "stream",
     "text": [
      "33552\n"
     ]
    }
   ],
   "source": [
    "## Is a convolutional neural network poorly paramztrized\n",
    "## works well with lr=0.0001      \n",
    "\n",
    "class model_1(nn.Module):                 \n",
    "    def __init__(self):\n",
    "        super(model_1, self).__init__()\n",
    "        self.conv1 = nn.Conv2d(2, 16, kernel_size=2, padding=1)        \n",
    "        self.conv2 = nn.Conv2d(16, 32, kernel_size=2)\n",
    "        self.conv3 = nn.Conv2d(32, 64, kernel_size=2)\n",
    "\n",
    "        self.dense1 = nn.Linear(2304, 10)\n",
    "        self.dense2 = nn.Linear(10, 2)\n",
    "        \n",
    "    def forward(self, x):\n",
    "        x = F.leaky_relu(self.conv1(x))\n",
    "        x = F.leaky_relu(self.conv2(x))\n",
    "        x = F.leaky_relu(self.conv3(x))\n",
    "        x = F.max_pool2d(x, kernel_size=2) \n",
    "        \n",
    "        x = torch.flatten(x, 1)\n",
    "        \n",
    "        x = F.leaky_relu(self.dense1(x))\n",
    "        x = self.dense2(x)\n",
    "        return x\n",
    "\n",
    "model_test = model_1()\n",
    "model_test(x_train[0:2])\n",
    "print(number_parameters(model_test))"
   ]
  },
  {
   "cell_type": "code",
   "execution_count": 280,
   "metadata": {
    "scrolled": true
   },
   "outputs": [
    {
     "name": "stdout",
     "output_type": "stream",
     "text": [
      "107568\n"
     ]
    }
   ],
   "source": [
    "## Is a convolutional neural network more paramztrized\n",
    "## works well with lr=0.0001      \n",
    "\n",
    "\n",
    "class model_2(nn.Module):\n",
    "    def __init__(self):\n",
    "        super(model_2, self).__init__()\n",
    "        self.conv1 = nn.Conv2d(2, 16, kernel_size=3, padding=2)        \n",
    "        self.conv2 = nn.Conv2d(16, 32, kernel_size=3)\n",
    "        self.conv3 = nn.Conv2d(32, 64, kernel_size=3)\n",
    "        self.conv4 = nn.Conv2d(64, 64, kernel_size=3)\n",
    "        self.conv5 = nn.Conv2d(64, 64, kernel_size=3)\n",
    "\n",
    "        self.dense1 = nn.Linear(1024, 10)\n",
    "        self.dense2 = nn.Linear(10, 2)\n",
    "        \n",
    "    def forward(self, x):\n",
    "        x = F.leaky_relu(self.conv1(x))\n",
    "        x = F.leaky_relu(self.conv2(x))\n",
    "        x = F.leaky_relu(self.conv3(x))\n",
    "        x = F.leaky_relu(self.conv4(x))\n",
    "        x = F.leaky_relu(self.conv5(x))\n",
    "        x = F.max_pool2d(x, kernel_size=2) \n",
    "        \n",
    "        x = torch.flatten(x, 1)\n",
    "        \n",
    "        x = F.leaky_relu(self.dense1(x))\n",
    "        x = torch.sigmoid(self.dense2(x))\n",
    "        return x\n",
    "\n",
    "model_test = model_2()\n",
    "model_test(x_train[0:2])\n",
    "print(number_parameters(model_test))"
   ]
  },
  {
   "cell_type": "code",
   "execution_count": 10,
   "metadata": {},
   "outputs": [
    {
     "name": "stdout",
     "output_type": "stream",
     "text": [
      "48381\n"
     ]
    }
   ],
   "source": [
    "class model_weight_sharing(nn.Module):\n",
    "    def __init__(self):\n",
    "        super(model_weight_sharing, self).__init__()        \n",
    "        self.conv1 = nn.Conv2d(1, 20, kernel_size=3, padding = 2)\n",
    "        self.conv2 = nn.Conv2d(20, 40, kernel_size=3)       \n",
    "        self.conv3 = nn.Conv2d(40, 60, kernel_size=3)       \n",
    "\n",
    "        self.dense1 = nn.Linear(480, 40)                     \n",
    "        self.dense2 = nn.Linear(40, 1)\n",
    "        \n",
    "    def forward(self, x):\n",
    "        d1 = F.leaky_relu(self.conv1(x[:, 0:1, ...]))\n",
    "        d1 = F.max_pool2d(self.conv2(d1), kernel_size=2)\n",
    "        d1 = F.max_pool2d(self.conv3(d1), kernel_size=2)\n",
    "        d1 = torch.flatten(d1, 1)\n",
    "        \n",
    "        d2 = F.leaky_relu(self.conv1(x[:, 1:2, ...]))\n",
    "        d2 = F.max_pool2d(self.conv2(d2), kernel_size=2)\n",
    "        d2 = F.max_pool2d(self.conv3(d2), kernel_size=2)\n",
    "        d2 = torch.flatten(d2, 1)\n",
    "\n",
    "        x = torch.cat((d1, d2), 1)\n",
    "        x = F.leaky_relu(self.dense1(torch.flatten(x, 1)))\n",
    "        x = torch.flatten(torch.sigmoid(self.dense2(x)))\n",
    "        return x \n",
    "    \n",
    "model_test = model_weight_sharing()\n",
    "model_test(x_train[0:2])\n",
    "print(number_parameters(model_test))"
   ]
  },
  {
   "cell_type": "code",
   "execution_count": 11,
   "metadata": {},
   "outputs": [
    {
     "name": "stdout",
     "output_type": "stream",
     "text": [
      "69397\n"
     ]
    }
   ],
   "source": [
    "## Is a convolutional neural network that splits the input in 2 images\n",
    "##   and treats them identically and independantly \n",
    "## works well with lr=0.0001    \n",
    "\n",
    "\n",
    "class model_1_ws(nn.Module):                 \n",
    "    def __init__(self):\n",
    "        super(model_1_ws, self).__init__()\n",
    "        self.conv1 = nn.Conv2d(1, 16, kernel_size=3, padding=2)        \n",
    "        self.conv2 = nn.Conv2d(16, 32, kernel_size=3)\n",
    "        self.conv3 = nn.Conv2d(32, 64, kernel_size=3)\n",
    "\n",
    "        self.dense1 = nn.Linear(4608, 10)\n",
    "        self.dense2 = nn.Linear(10, 1)\n",
    "        \n",
    "    def forward(self, x):\n",
    "        x1 = x[:, 0:1, ...]\n",
    "        x2 = x[:, 1:2, ...]\n",
    "        \n",
    "        x1 = F.leaky_relu(self.conv1(x1))\n",
    "        x1 = F.leaky_relu(self.conv2(x1))\n",
    "        x1 = F.leaky_relu(self.conv3(x1))\n",
    "        x1 = F.max_pool2d(x1, kernel_size=2)\n",
    "        x1 = torch.flatten(x1, 1)\n",
    "        \n",
    "        x2 = F.leaky_relu(self.conv1(x2))\n",
    "        x2 = F.leaky_relu(self.conv2(x2))\n",
    "        x2 = F.leaky_relu(self.conv3(x2))\n",
    "        x2 = F.max_pool2d(x2, kernel_size=2) \n",
    "        x2 = torch.flatten(x2, 1)\n",
    "        \n",
    "        x = torch.cat((x1, x2), 1)\n",
    "        x = F.leaky_relu(self.dense1(torch.flatten(x, 1)))\n",
    "        x = torch.sigmoid(self.dense2(x))\n",
    "        return x\n",
    "    \n",
    "model_test = model_1_ws()\n",
    "model_test(x_train[0:2])\n",
    "print(number_parameters(model_test))"
   ]
  },
  {
   "cell_type": "code",
   "execution_count": 12,
   "metadata": {},
   "outputs": [
    {
     "name": "stdout",
     "output_type": "stream",
     "text": [
      "25983\n"
     ]
    }
   ],
   "source": [
    "## Is a convolutional neural network that splits the input in 2 images\n",
    "#    and trat them identically and independantly \n",
    "#    additionally, predictions about digits are returned for auxiliary losses\n",
    "## works well with lr=0.0001    \n",
    "\n",
    "class model_weight_sharing_with_auxiliary_loss(nn.Module):\n",
    "    def __init__(self):\n",
    "        super(model_weight_sharing_with_auxiliary_loss, self).__init__()\n",
    "        self.conv1 = nn.Conv2d(1, 20, kernel_size=3)        \n",
    "        self.conv2 = nn.Conv2d(20, 40, kernel_size=3)\n",
    "        self.conv3 = nn.Conv2d(40, 40, kernel_size=3)\n",
    "        \n",
    "        #Treatment of the auxiliary outputs (classifier for both digits)\n",
    "        self.dense1_digit = nn.Linear(40, 32)\n",
    "        self.dense2_digit = nn.Linear(32, 10)\n",
    "        \n",
    "        #Tratment of the final output \n",
    "        self.dense1 = nn.Linear(80, 30)\n",
    "        self.dense2 = nn.Linear(30, 1)\n",
    "        \n",
    "    def forward(self, x):\n",
    "        d1 = F.leaky_relu(self.conv1(x[:, 0:1, ...]))\n",
    "        d1 = F.max_pool2d(self.conv2(d1), kernel_size=2)\n",
    "        d1 = F.max_pool2d(self.conv3(d1), kernel_size=2)\n",
    "        d1 = torch.flatten(d1, 1)\n",
    "\n",
    "        d2 = F.leaky_relu(self.conv1(x[:, 1:2, ...]))\n",
    "        d2 = F.max_pool2d(self.conv2(d2), kernel_size=2)\n",
    "        d2 = F.max_pool2d(self.conv3(d2), kernel_size=2)\n",
    "        d2 = torch.flatten(d2, 1)\n",
    "        \n",
    "        x = torch.cat((d1, d2), 1)\n",
    "        \n",
    "        d1 = F.leaky_relu(self.dense1_digit(d1))\n",
    "        d1 = F.softmax(self.dense2_digit(d1), -1)\n",
    "        d2 = F.leaky_relu(self.dense1_digit(d2))\n",
    "        d2 = F.softmax(self.dense2_digit(d2), -1)\n",
    "\n",
    "        x = F.leaky_relu(self.dense1(torch.flatten(x, 1)))\n",
    "        x = torch.flatten(torch.sigmoid(self.dense2(x)))\n",
    "        \n",
    "        return x, d1, d2 \n",
    "    \n",
    "print(number_parameters(model_weight_sharing_with_auxiliary_loss()))"
   ]
  },
  {
   "cell_type": "code",
   "execution_count": 13,
   "metadata": {},
   "outputs": [
    {
     "name": "stdout",
     "output_type": "stream",
     "text": [
      "84362\n"
     ]
    }
   ],
   "source": [
    "## Is a convolutional neural network more paramztrized\n",
    "## works well with lr=0.0001      \n",
    "# Makes sense for deep networks !!! (to avoid vanishing gradient) <TODO> with or without WS for classifier ??\n",
    "\n",
    "class model_auxiliary_loss(nn.Module):\n",
    "    def __init__(self):\n",
    "        super(model_auxiliary_loss, self).__init__()\n",
    "        self.conv1 = nn.Conv2d(2, 20, kernel_size=5, padding=2)        \n",
    "        self.conv2 = nn.Conv2d(20, 40, kernel_size=5, padding=2)\n",
    "        self.conv3 = nn.Conv2d(40, 20, kernel_size=5, padding=2)\n",
    "        self.conv4 = nn.Conv2d(20, 40, kernel_size=5, padding=2)\n",
    "        \n",
    "        self.dense1_ = nn.Linear(1960, 10)\n",
    "        self.dense2_ = nn.Linear(10, 1)\n",
    "        \n",
    "        self.dense1 = nn.Linear(360, 10)\n",
    "        self.dense2 = nn.Linear(10, 1)\n",
    "        \n",
    "    def forward(self, x):\n",
    "        x = F.leaky_relu(self.conv1(x))\n",
    "        x = F.max_pool2d(F.leaky_relu(self.conv2(x)), kernel_size=2)\n",
    "        \n",
    "        x_ = F.leaky_relu(self.dense1_(torch.flatten(x, 1)))       #For the auxiliary output\n",
    "        x_ = torch.flatten(torch.sigmoid(self.dense2_(x_)))\n",
    "        \n",
    "        x = F.leaky_relu(self.conv3(x))\n",
    "        x = F.max_pool2d(self.conv4(x), kernel_size=2)        \n",
    "        \n",
    "        x = F.leaky_relu(self.dense1(torch.flatten(x, 1)))\n",
    "        x = torch.flatten(torch.sigmoid(self.dense2(x)))\n",
    "        return x, x_\n",
    "\n",
    "print(number_parameters(model_auxiliary_loss()))"
   ]
  },
  {
   "cell_type": "code",
   "execution_count": 14,
   "metadata": {},
   "outputs": [
    {
     "name": "stdout",
     "output_type": "stream",
     "text": [
      "71845\n"
     ]
    }
   ],
   "source": [
    "class model_1_aux(nn.Module):                 \n",
    "    def __init__(self):\n",
    "        super(model_1_aux, self).__init__()\n",
    "        self.conv1 = nn.Conv2d(2, 16, kernel_size=3, padding=2)        \n",
    "        self.conv2 = nn.Conv2d(16, 32, kernel_size=3)\n",
    "        self.conv3 = nn.Conv2d(32, 64, kernel_size=3)\n",
    "\n",
    "        self.dense_final = nn.Linear(2304, 1)\n",
    "        self.dense_d1 = nn.Linear(2304, 10)\n",
    "        self.dense_d2 = nn.Linear(2304, 10)\n",
    "        \n",
    "    def forward(self, x):\n",
    "        x = F.leaky_relu(self.conv1(x))\n",
    "        x = F.leaky_relu(self.conv2(x))\n",
    "        x = F.leaky_relu(self.conv3(x))\n",
    "        x = F.max_pool2d(x, kernel_size=2) \n",
    "        \n",
    "        x = torch.flatten(x, 1)\n",
    "        \n",
    "        d1 = torch.softmax(self.dense_d1(x), -1)\n",
    "        d2 = torch.softmax(self.dense_d2(x), -1)\n",
    "        x = torch.sigmoid(self.dense_final(x))\n",
    "        \n",
    "        return x, d1, d2\n",
    "\n",
    "model_test = model_1_aux()\n",
    "model_test(x_train[0:2])\n",
    "print(number_parameters(model_test))"
   ]
  },
  {
   "cell_type": "code",
   "execution_count": 246,
   "metadata": {},
   "outputs": [
    {
     "name": "stdout",
     "output_type": "stream",
     "text": [
      "506788\n"
     ]
    }
   ],
   "source": [
    "class model_best(nn.Module):\n",
    "    def __init__(self):\n",
    "        super(model_best, self).__init__()\n",
    "        self.conv1 = nn.Conv2d(1, 16, kernel_size=2)        \n",
    "        self.conv2 = nn.Conv2d(16, 32, kernel_size=2)\n",
    "        self.conv3 = nn.Conv2d(32, 64, kernel_size=2)\n",
    "        \n",
    "        self.dense1 = nn.Linear(7744, 64)\n",
    "        self.dense2 = nn.Linear(64, 10)\n",
    "        \n",
    "        self.dense3 = nn.Linear(20, 2)\n",
    "\n",
    "        \n",
    "    def forward(self, x):\n",
    "        d1 = F.leaky_relu(self.conv1(x[:, 0:1, ...]))\n",
    "        d1 = F.leaky_relu(self.conv2(d1))\n",
    "        d1 = self.conv3(d1)\n",
    "        d1 = torch.flatten(d1, 1)\n",
    "        d1 = F.leaky_relu(self.dense1(d1))\n",
    "        d1 = self.dense2(d1)\n",
    "\n",
    "        d2 = F.leaky_relu(self.conv1(x[:, 1:2, ...]))\n",
    "        d2 = F.leaky_relu(self.conv2(d2))\n",
    "        d2 = self.conv3(d2)\n",
    "        d2 = torch.flatten(d2, 1)\n",
    "        d2 = F.leaky_relu(self.dense1(d2))\n",
    "        d2 = self.dense2(d2)\n",
    "        \n",
    "        x = F.leaky_relu(torch.cat((torch.softmax(d1, -1), torch.softmax(d2, -1)), 1))\n",
    "#         x = F.leaky_relu(torch.cat((d1, d2), 1))\n",
    "#         d1 = torch.softmax(d1, -1)\n",
    "#         d2 = torch.softmax(d2, -1)\n",
    "        x = self.dense3(x)\n",
    "        return x, d1, d2\n",
    "\n",
    "model_test = model_best()\n",
    "model_test(x_train[0:2])\n",
    "print(number_parameters(model_test))"
   ]
  },
  {
   "cell_type": "markdown",
   "metadata": {},
   "source": [
    "## Training/Evaluation function"
   ]
  },
  {
   "cell_type": "code",
   "execution_count": 293,
   "metadata": {},
   "outputs": [],
   "source": [
    "def train_model(model, train_input, train_target, digit_target,\n",
    "                 epochs, optimizer,\n",
    "                 loss_function = nn.CrossEntropyLoss(), digit_loss = nn.CrossEntropyLoss(),\n",
    "                 batch_size=10,\n",
    "                 auxiliary = False,\n",
    "                 verbose = True):\n",
    "    \n",
    "    # Inspired by exercise corrige \n",
    "    model.train()\n",
    "    losses = []\n",
    "    \n",
    "    for e in range(epochs):\n",
    "        sum_loss = 0\n",
    "        \n",
    "        if auxiliary:\n",
    "            sum_loss_digit1 = 0\n",
    "            sum_loss_digit2 = 0\n",
    "        \n",
    "        for x_batch, y_batch, y_digit_batch in zip(train_input.split(batch_size),\n",
    "                                                    train_target.split(batch_size),\n",
    "                                                    digit_target.split(batch_size)):\n",
    "            \n",
    "            if auxiliary :\n",
    "                output, d1, d2 = model(x_batch)\n",
    "\n",
    "                loss_digit1 = digit_loss(d1, y_digit_batch[..., 0])\n",
    "                loss_digit2 = digit_loss(d2, y_digit_batch[..., 1])\n",
    "                loss_final  = loss_function(output, y_batch)\n",
    "\n",
    "                loss_total = loss_final + 0.4*(loss_digit1 + loss_digit2)\n",
    "                \n",
    "                sum_loss_digit1 += loss_digit1.item()\n",
    "                sum_loss_digit2 += loss_digit2.item()\n",
    "                \n",
    "            else :\n",
    "                output = model(x_batch)\n",
    "                loss_total = loss_function(output, y_batch)\n",
    "                \n",
    "            optimizer.zero_grad()\n",
    "            loss_total.backward()  \n",
    "            optimizer.step()\n",
    "\n",
    "            sum_loss += loss_total.item()\n",
    "            \n",
    "        losses.append(sum_loss)\n",
    "        \n",
    "        if verbose : \n",
    "            if auxiliary :\n",
    "                print(\"Epoch %i: loss %.3f --- loss_d1 %.2f --- loss_d2 %.2f\" \\\n",
    "                      % (e,sum_loss, sum_loss_digit1, sum_loss_digit2), end=\"\\r\")  \n",
    "            else :\n",
    "                print(\"Epoch %i : loss %.3f\" % (e, sum_loss), end = \"\\r\")\n",
    "    return losses"
   ]
  },
  {
   "cell_type": "code",
   "execution_count": 260,
   "metadata": {},
   "outputs": [],
   "source": [
    "def evaluate_model(model, test_input, test_target):\n",
    "    model.eval()\n",
    "    \n",
    "    with torch.no_grad():\n",
    "        out = model(test_input)   \n",
    "        preds = torch.argmax(out, -1)\n",
    "        accuracy = (preds.float() == test_target.float()).sum().item()/preds.size(0)\n",
    "    return accuracy * 100"
   ]
  },
  {
   "cell_type": "code",
   "execution_count": 115,
   "metadata": {},
   "outputs": [],
   "source": [
    "def evaluate_model_aux(model, test_input, test_target, test_digits = None):\n",
    "    model.eval()\n",
    "    \n",
    "    with torch.no_grad():\n",
    "        out = model(test_input) \n",
    "        \n",
    "        preds = torch.argmax(torch.softmax(out[0], -1), axis = -1)\n",
    "        d1 = torch.argmax(torch.softmax(out[1], -1), axis = -1)\n",
    "        d2 = torch.argmax(torch.softmax(out[2], -1), axis = -1)\n",
    "        \n",
    "        accuracy = (preds.float() == test_target.float()).sum().item()/preds.size(0)\n",
    "        accuracy_d1 = (d1.float() == test_digits[:, 0].float()).sum().item()/preds.size(0)\n",
    "        accuracy_d2 = (d2.float() == test_digits[:, 1].float()).sum().item()/preds.size(0)\n",
    "    return accuracy * 100, accuracy_d1 * 100, accuracy_d2 * 100"
   ]
  },
  {
   "cell_type": "markdown",
   "metadata": {},
   "source": [
    "## GridSearch"
   ]
  },
  {
   "cell_type": "code",
   "execution_count": 332,
   "metadata": {},
   "outputs": [
    {
     "name": "stdout",
     "output_type": "stream",
     "text": [
      "Starting 2 parameter grid search 2 times each over 25 epochs, with model 'model 1' containing 33552 parameters. \n",
      "\n",
      "Grid Search 1/2 : \n",
      "Fold 1/5: 79.250% mean accuracy\n",
      "Fold 2/5: 81.100% mean accuracy\n",
      "Fold 3/5: 80.350% mean accuracy\n",
      "Fold 4/5: 81.300% mean accuracy\n",
      "Fold 5/5: 80.800% mean accuracy\n",
      "All folds : 80.560% mean accuracy\n",
      "Grid Search 2/2 : \n",
      "Fold 1/5: 77.050% mean accuracy\n",
      "Fold 2/5: 80.100% mean accuracy\n",
      "Fold 3/5: 80.450% mean accuracy\n",
      "Fold 4/5: 81.550% mean accuracy\n",
      "Fold 5/5: 80.200% mean accuracy\n",
      "All folds : 79.870% mean accuracy\n",
      "\n",
      "Starting 2 parameter grid search 2 times each over 25 epochs, with model 'model best' containing 506788 parameters. \n",
      "\n",
      "Grid Search 1/2 : \n",
      "Fold 1/5"
     ]
    },
    {
     "ename": "KeyboardInterrupt",
     "evalue": "",
     "output_type": "error",
     "traceback": [
      "\u001b[1;31m---------------------------------------------------------------------------\u001b[0m",
      "\u001b[1;31mKeyboardInterrupt\u001b[0m                         Traceback (most recent call last)",
      "\u001b[1;32m<ipython-input-332-cb3e0c7e643f>\u001b[0m in \u001b[0;36m<module>\u001b[1;34m\u001b[0m\n\u001b[0;32m     64\u001b[0m \u001b[1;31m#                         indices_shuffle = torch.randperm(N)\u001b[0m\u001b[1;33m\u001b[0m\u001b[1;33m\u001b[0m\u001b[1;33m\u001b[0m\u001b[0m\n\u001b[0;32m     65\u001b[0m \u001b[1;33m\u001b[0m\u001b[0m\n\u001b[1;32m---> 66\u001b[1;33m                         train_loss = train_model(model, x_train[i_train].to(device),\n\u001b[0m\u001b[0;32m     67\u001b[0m                                      \u001b[0my_train\u001b[0m\u001b[1;33m[\u001b[0m\u001b[0mi_train\u001b[0m\u001b[1;33m]\u001b[0m\u001b[1;33m.\u001b[0m\u001b[0mto\u001b[0m\u001b[1;33m(\u001b[0m\u001b[0mdevice\u001b[0m\u001b[1;33m)\u001b[0m\u001b[1;33m,\u001b[0m\u001b[1;33m\u001b[0m\u001b[1;33m\u001b[0m\u001b[0m\n\u001b[0;32m     68\u001b[0m                                      \u001b[0my_train_classes\u001b[0m\u001b[1;33m[\u001b[0m\u001b[0mi_train\u001b[0m\u001b[1;33m]\u001b[0m\u001b[1;33m.\u001b[0m\u001b[0mto\u001b[0m\u001b[1;33m(\u001b[0m\u001b[0mdevice\u001b[0m\u001b[1;33m)\u001b[0m\u001b[1;33m,\u001b[0m\u001b[1;33m\u001b[0m\u001b[1;33m\u001b[0m\u001b[0m\n",
      "\u001b[1;32m<ipython-input-293-d51fa3089a30>\u001b[0m in \u001b[0;36mtrain_model\u001b[1;34m(model, train_input, train_target, digit_target, epochs, optimizer, loss_function, digit_loss, batch_size, auxiliary, verbose)\u001b[0m\n\u001b[0;32m     39\u001b[0m             \u001b[0moptimizer\u001b[0m\u001b[1;33m.\u001b[0m\u001b[0mzero_grad\u001b[0m\u001b[1;33m(\u001b[0m\u001b[1;33m)\u001b[0m\u001b[1;33m\u001b[0m\u001b[1;33m\u001b[0m\u001b[0m\n\u001b[0;32m     40\u001b[0m             \u001b[0mloss_total\u001b[0m\u001b[1;33m.\u001b[0m\u001b[0mbackward\u001b[0m\u001b[1;33m(\u001b[0m\u001b[1;33m)\u001b[0m\u001b[1;33m\u001b[0m\u001b[1;33m\u001b[0m\u001b[0m\n\u001b[1;32m---> 41\u001b[1;33m             \u001b[0moptimizer\u001b[0m\u001b[1;33m.\u001b[0m\u001b[0mstep\u001b[0m\u001b[1;33m(\u001b[0m\u001b[1;33m)\u001b[0m\u001b[1;33m\u001b[0m\u001b[1;33m\u001b[0m\u001b[0m\n\u001b[0m\u001b[0;32m     42\u001b[0m \u001b[1;33m\u001b[0m\u001b[0m\n\u001b[0;32m     43\u001b[0m             \u001b[0msum_loss\u001b[0m \u001b[1;33m+=\u001b[0m \u001b[0mloss_total\u001b[0m\u001b[1;33m.\u001b[0m\u001b[0mitem\u001b[0m\u001b[1;33m(\u001b[0m\u001b[1;33m)\u001b[0m\u001b[1;33m\u001b[0m\u001b[1;33m\u001b[0m\u001b[0m\n",
      "\u001b[1;32m~\\Anaconda3\\envs\\pytorch\\lib\\site-packages\\torch\\autograd\\grad_mode.py\u001b[0m in \u001b[0;36mdecorate_context\u001b[1;34m(*args, **kwargs)\u001b[0m\n\u001b[0;32m     13\u001b[0m         \u001b[1;32mdef\u001b[0m \u001b[0mdecorate_context\u001b[0m\u001b[1;33m(\u001b[0m\u001b[1;33m*\u001b[0m\u001b[0margs\u001b[0m\u001b[1;33m,\u001b[0m \u001b[1;33m**\u001b[0m\u001b[0mkwargs\u001b[0m\u001b[1;33m)\u001b[0m\u001b[1;33m:\u001b[0m\u001b[1;33m\u001b[0m\u001b[1;33m\u001b[0m\u001b[0m\n\u001b[0;32m     14\u001b[0m             \u001b[1;32mwith\u001b[0m \u001b[0mself\u001b[0m\u001b[1;33m:\u001b[0m\u001b[1;33m\u001b[0m\u001b[1;33m\u001b[0m\u001b[0m\n\u001b[1;32m---> 15\u001b[1;33m                 \u001b[1;32mreturn\u001b[0m \u001b[0mfunc\u001b[0m\u001b[1;33m(\u001b[0m\u001b[1;33m*\u001b[0m\u001b[0margs\u001b[0m\u001b[1;33m,\u001b[0m \u001b[1;33m**\u001b[0m\u001b[0mkwargs\u001b[0m\u001b[1;33m)\u001b[0m\u001b[1;33m\u001b[0m\u001b[1;33m\u001b[0m\u001b[0m\n\u001b[0m\u001b[0;32m     16\u001b[0m         \u001b[1;32mreturn\u001b[0m \u001b[0mdecorate_context\u001b[0m\u001b[1;33m\u001b[0m\u001b[1;33m\u001b[0m\u001b[0m\n\u001b[0;32m     17\u001b[0m \u001b[1;33m\u001b[0m\u001b[0m\n",
      "\u001b[1;32m~\\Anaconda3\\envs\\pytorch\\lib\\site-packages\\torch\\optim\\adam.py\u001b[0m in \u001b[0;36mstep\u001b[1;34m(self, closure)\u001b[0m\n\u001b[0;32m    105\u001b[0m                     \u001b[0mdenom\u001b[0m \u001b[1;33m=\u001b[0m \u001b[1;33m(\u001b[0m\u001b[0mmax_exp_avg_sq\u001b[0m\u001b[1;33m.\u001b[0m\u001b[0msqrt\u001b[0m\u001b[1;33m(\u001b[0m\u001b[1;33m)\u001b[0m \u001b[1;33m/\u001b[0m \u001b[0mmath\u001b[0m\u001b[1;33m.\u001b[0m\u001b[0msqrt\u001b[0m\u001b[1;33m(\u001b[0m\u001b[0mbias_correction2\u001b[0m\u001b[1;33m)\u001b[0m\u001b[1;33m)\u001b[0m\u001b[1;33m.\u001b[0m\u001b[0madd_\u001b[0m\u001b[1;33m(\u001b[0m\u001b[0mgroup\u001b[0m\u001b[1;33m[\u001b[0m\u001b[1;34m'eps'\u001b[0m\u001b[1;33m]\u001b[0m\u001b[1;33m)\u001b[0m\u001b[1;33m\u001b[0m\u001b[1;33m\u001b[0m\u001b[0m\n\u001b[0;32m    106\u001b[0m                 \u001b[1;32melse\u001b[0m\u001b[1;33m:\u001b[0m\u001b[1;33m\u001b[0m\u001b[1;33m\u001b[0m\u001b[0m\n\u001b[1;32m--> 107\u001b[1;33m                     \u001b[0mdenom\u001b[0m \u001b[1;33m=\u001b[0m \u001b[1;33m(\u001b[0m\u001b[0mexp_avg_sq\u001b[0m\u001b[1;33m.\u001b[0m\u001b[0msqrt\u001b[0m\u001b[1;33m(\u001b[0m\u001b[1;33m)\u001b[0m \u001b[1;33m/\u001b[0m \u001b[0mmath\u001b[0m\u001b[1;33m.\u001b[0m\u001b[0msqrt\u001b[0m\u001b[1;33m(\u001b[0m\u001b[0mbias_correction2\u001b[0m\u001b[1;33m)\u001b[0m\u001b[1;33m)\u001b[0m\u001b[1;33m.\u001b[0m\u001b[0madd_\u001b[0m\u001b[1;33m(\u001b[0m\u001b[0mgroup\u001b[0m\u001b[1;33m[\u001b[0m\u001b[1;34m'eps'\u001b[0m\u001b[1;33m]\u001b[0m\u001b[1;33m)\u001b[0m\u001b[1;33m\u001b[0m\u001b[1;33m\u001b[0m\u001b[0m\n\u001b[0m\u001b[0;32m    108\u001b[0m \u001b[1;33m\u001b[0m\u001b[0m\n\u001b[0;32m    109\u001b[0m                 \u001b[0mstep_size\u001b[0m \u001b[1;33m=\u001b[0m \u001b[0mgroup\u001b[0m\u001b[1;33m[\u001b[0m\u001b[1;34m'lr'\u001b[0m\u001b[1;33m]\u001b[0m \u001b[1;33m/\u001b[0m \u001b[0mbias_correction1\u001b[0m\u001b[1;33m\u001b[0m\u001b[1;33m\u001b[0m\u001b[0m\n",
      "\u001b[1;31mKeyboardInterrupt\u001b[0m: "
     ]
    }
   ],
   "source": [
    "models = [model_1, model_best]\n",
    "models_names = [\"model 1\", \"model best\"]\n",
    "models_best_cfg = []\n",
    "\n",
    "lrs = dict()\n",
    "\n",
    "# lrs[\"Adam\"] = [0.003, 0.002, 0.001, 0.0005]\n",
    "# lrs[\"SGD\"] = [0.1, 0.05, 0.01]\n",
    "# batchsizes = [16, 32, 64]\n",
    "\n",
    "lrs[\"Adam\"] = [0.002]\n",
    "lrs[\"SGD\"] = [0.2]\n",
    "batchsizes = [16]\n",
    "\n",
    "epochs = 25\n",
    "number_training = 2\n",
    "\n",
    "gridsearch_number = len(lrs[\"Adam\"]) * len(batchsizes) + len(lrs[\"SGD\"]) * len(batchsizes)\n",
    "\n",
    "model_accuracies = []\n",
    "model_vars = []\n",
    "model_parameters = []\n",
    "\n",
    "nfold = 5\n",
    "perm = torch.randperm(len(x_train))\n",
    "folds = perm.split(int(len(x_train) / nfold))\n",
    "\n",
    "for build_model, model_name in zip(models, models_names):\n",
    "    \n",
    "    dummy_model = build_model()\n",
    "    auxiliary = (type(dummy_model(x_train[0:1])) == tuple)\n",
    "    print(\"Starting %i parameter grid search %i times each over %i epochs, with model '%s' containing %i parameters. \\n\" % \n",
    "      (gridsearch_number, number_training, epochs, model_name, number_parameters(dummy_model)))\n",
    "    del dummy_model\n",
    "    \n",
    "    mean_accuracies = []\n",
    "    var_accuracies = []\n",
    "    parameters = []\n",
    "    \n",
    "    i_param = 0\n",
    "    for optim in [(torch.optim.Adam, \"Adam\"), (torch.optim.SGD, \"SGD\")]:\n",
    "        for lr in lrs[optim[1]]:\n",
    "            for batchsize in batchsizes :               \n",
    "                exp_accuracies = []\n",
    "                \n",
    "                print(\"\\rGrid Search %i/%i : \" % (i_param, gridsearch_number))\n",
    "                \n",
    "                for i_fold in range(nfold):\n",
    "                    print(\"Fold %i/%i\" % (i_fold+1, nfold), end = \"\")\n",
    "                    i_valid = folds[i_fold]\n",
    "                    i_train = torch.cat((*folds[:i_fold], *folds[i_fold+1:]))\n",
    "                    \n",
    "                    for i, rnd_exp in enumerate(range(number_training)):\n",
    "\n",
    "                        model = build_model()\n",
    "                        optimizer = optim[0](model.parameters(), lr)\n",
    "\n",
    "                        if torch.cuda.is_available():\n",
    "                            model.cuda()\n",
    "\n",
    "                        train_loss = train_model(model, x_train[i_train].to(device),\n",
    "                                     y_train[i_train].to(device),\n",
    "                                     y_train_classes[i_train].to(device),\n",
    "                                     epochs = epochs, optimizer=optimizer, batch_size=batchsize, \n",
    "                                                 auxiliary = auxiliary, verbose = False)\n",
    "\n",
    "\n",
    "                        if auxiliary :\n",
    "                            accuracy, accuracy_d1, accuracy_d2 = evaluate_model_aux(model, x_train[i_valid].to(device),\n",
    "                                                                                    y_train[i_valid].to(device),\n",
    "                                                                                    y_train_classes[i_valid].to(device))\n",
    "                        else :\n",
    "                            accuracy = evaluate_model(model,\n",
    "                                                      x_train[i_valid].to(device),\n",
    "                                                      y_train[i_valid].to(device))\n",
    "\n",
    "                        exp_accuracies.append(accuracy)\n",
    "                    \n",
    "                    print(\": %.2f%% mean accuracy\" % (mean(exp_accuracies[-number_training:])))\n",
    "                \n",
    "                print(\"All folds : %.2f%% mean accuracy\" % (mean(exp_accuracies)))\n",
    "                mean_accuracies.append(mean(exp_accuracies))\n",
    "                var_accuracies.append(var(exp_accuracies))\n",
    "                parameters.append((optim[1], lr, batchsize))\n",
    "    \n",
    "    print()\n",
    "    model_accuracies.append(mean_accuracies)\n",
    "    model_vars.append(var_accuracies)\n",
    "    model_parameters.append(parameters)\n"
   ]
  },
  {
   "cell_type": "markdown",
   "metadata": {},
   "source": [
    "## Experiment parametrization"
   ]
  },
  {
   "cell_type": "code",
   "execution_count": 282,
   "metadata": {},
   "outputs": [],
   "source": [
    "def experiment_model(model_name, build_model):\n",
    "    ################################ TRAINING PARAMETERS ################################################ \n",
    "\n",
    "    number_training = 10\n",
    "    epochs = 25\n",
    "\n",
    "    accuracies = []\n",
    "    times = []\n",
    "    \n",
    "    dummy_model = build_model()\n",
    "    auxiliary = (type(dummy_model(x_train[0:1])) == tuple)\n",
    "\n",
    "    print(\"Starting %i training of %i epochs, with model '%s' containing %i parameters. \\n\" % \n",
    "      (number_training, epochs, model_name, number_parameters(dummy_model)))\n",
    "\n",
    "    del dummy_model\n",
    "    ################################ TRAINING  ################################################ \n",
    "    \n",
    "    for i_train in range(number_training):  \n",
    "        start = time.time()\n",
    "\n",
    "        model = build_model()\n",
    "        if torch.cuda.is_available():\n",
    "            model.cuda()\n",
    "        optimizer = torch.optim.Adam(model.parameters(), lr=0.001)\n",
    "#         optimizer = torch.optim.SGD(model.parameters(), lr=0.05, momentum=.9, weight_decay=0)\n",
    "        indices_shuffle = torch.randperm(N)\n",
    "#         indices_shuffle = list(range(N))\n",
    "        \n",
    "        train_loss = train_model(model, x_train[indices_shuffle].to(device),\n",
    "                                 y_train[indices_shuffle].to(device),\n",
    "                                 y_train_classes[indices_shuffle].to(device),\n",
    "                                 epochs = epochs, optimizer=optimizer, batch_size = 64, auxiliary = auxiliary)\n",
    "                \n",
    "        if auxiliary :\n",
    "            accuracy, accuracy_d1, accuracy_d2 = evaluate_model_aux(model, x_test.to(device),\n",
    "                                                                    y_test.to(device),\n",
    "                                                                    y_test_classes.to(device))\n",
    "            print(\"Attempt\", i_train + 1, \"- accuracy %.2f%%\"%accuracy,\n",
    "                  \" -- d1 : %.2f%% , d2 : %.2f%%\" % (accuracy_d1, accuracy_d2))\n",
    "        else :\n",
    "            accuracy = evaluate_model(model, x_test.to(device), y_test.to(device))\n",
    "            print(\"Attempt\", i_train + 1, \"- accuracy %.2f%%\"%accuracy)\n",
    "\n",
    "        accuracies.append(accuracy)\n",
    "\n",
    "        times.append(time.time() - start)\n",
    "\n",
    "    print(\"\\nExperiment results :\")\n",
    "    print(\"Accuracy mean : %.2f%% (%.1f)\" % (mean(accuracies), var(accuracies)))\n",
    "    print(\"Average training time : %.1f seconds (%.1f)\\n\\n\" % (mean(times), var(times)))\n",
    "    \n",
    "    return accuracies"
   ]
  },
  {
   "cell_type": "markdown",
   "metadata": {},
   "source": [
    "## Run experiments"
   ]
  },
  {
   "cell_type": "code",
   "execution_count": 21,
   "metadata": {},
   "outputs": [],
   "source": [
    "results = []\n",
    "model_list = [('Simple Net', model_0),\n",
    "             ('Auxiliary Loss', model_auxiliary_loss),\n",
    "             ('Weight Sharing', model_weight_sharing),\n",
    "             ('Auxiliary Loss + Weight Sharing', model_weight_sharing_with_auxiliary_loss)]"
   ]
  },
  {
   "cell_type": "code",
   "execution_count": 283,
   "metadata": {
    "scrolled": false
   },
   "outputs": [
    {
     "name": "stdout",
     "output_type": "stream",
     "text": [
      "Starting 10 training of 25 epochs, with model 'Model best' containing 107568 parameters. \n",
      "\n",
      "Attempt 1 - accuracy 80.50%\n",
      "Attempt 2 - accuracy 81.50%\n",
      "Attempt 3 - accuracy 81.50%\n",
      "Attempt 4 - accuracy 77.40%\n",
      "Attempt 5 - accuracy 79.20%\n",
      "Attempt 6 - accuracy 78.20%\n",
      "Attempt 7 - accuracy 77.60%\n",
      "Attempt 8 - accuracy 81.80%\n",
      "Attempt 9 - accuracy 78.70%\n",
      "Attempt 10 - accuracy 78.50%\n",
      "\n",
      "Experiment results :\n",
      "Accuracy mean : 79.49% (2.6)\n",
      "Average training time : 3.5 seconds (0.0)\n",
      "\n",
      "\n"
     ]
    }
   ],
   "source": [
    "model_list = [('Model best', model_2)]\n",
    "\n",
    "for model_params in model_list :\n",
    "    results.append((experiment_model(*model_params), model_params))"
   ]
  },
  {
   "cell_type": "code",
   "execution_count": 234,
   "metadata": {
    "scrolled": true
   },
   "outputs": [
    {
     "name": "stdout",
     "output_type": "stream",
     "text": [
      "Epoch 24: loss 7.195 --- loss_d1 0.02 --- loss_d2 0.0289\r"
     ]
    },
    {
     "data": {
      "text/plain": [
       "(92.60000000000001, 94.6, 93.60000000000001)"
      ]
     },
     "execution_count": 234,
     "metadata": {},
     "output_type": "execute_result"
    }
   ],
   "source": [
    "model = model_best()\n",
    "# indices_shuffle = torch.randperm(N)\n",
    "# indices_shuffle = list(range(999, -1, -1))\n",
    "indices_shuffle = list(range(1000))\n",
    "epochs = 25\n",
    "optimizer = torch.optim.Adam(model.parameters(), lr=0.001)\n",
    "train_model(model, x_train[indices_shuffle], y_train[indices_shuffle], y_train_classes[indices_shuffle],\n",
    "                    epochs = 25, optimizer=optimizer, batch_size = 64, auxiliary = True)\n",
    "evaluate_model_aux(model, x_test, y_test, y_test_classes)"
   ]
  },
  {
   "cell_type": "code",
   "execution_count": 100,
   "metadata": {},
   "outputs": [
    {
     "name": "stdout",
     "output_type": "stream",
     "text": [
      "[1, 0, 0, 1, 1, 0, 1, 1, 1, 1]\n",
      "[1, 0, 0, 1, 0, 1, 0, 1, 1, 1]\n",
      "\n",
      "[0, 4, 8, 2, 5, 0, 7, 1, 6, 1]\n",
      "[0, 4, 8, 2, 5, 0, 7, 1, 6, 1]\n",
      "\n",
      "[7, 1, 7, 9, 4, 0, 6, 5, 8, 0]\n",
      "[7, 1, 7, 9, 4, 0, 6, 9, 8, 7]\n"
     ]
    }
   ],
   "source": [
    "x, d1, d2 = model(x_test[:10])\n",
    "print(torch.argmax(x, -1).tolist())\n",
    "print(y_test[:10].tolist())\n",
    "print()\n",
    "print(torch.argmax(d1, -1).tolist())\n",
    "print(y_test_classes[:10, 0].tolist())\n",
    "print()\n",
    "print(torch.argmax(d2, -1).tolist())\n",
    "print(y_test_classes[:10, 1].tolist())"
   ]
  },
  {
   "cell_type": "markdown",
   "metadata": {},
   "source": [
    "## Results comparision between models"
   ]
  },
  {
   "cell_type": "code",
   "execution_count": null,
   "metadata": {
    "scrolled": true
   },
   "outputs": [],
   "source": [
    "for i, (result, model_params) in enumerate(results):\n",
    "    plt.plot(result, label = model_params[0] + \"_\" + str(i))\n",
    "    plt.legend()\n",
    "    \n",
    "plt.show()"
   ]
  }
 ],
 "metadata": {
  "kernelspec": {
   "display_name": "pytorch",
   "language": "python",
   "name": "pytorch"
  },
  "language_info": {
   "codemirror_mode": {
    "name": "ipython",
    "version": 3
   },
   "file_extension": ".py",
   "mimetype": "text/x-python",
   "name": "python",
   "nbconvert_exporter": "python",
   "pygments_lexer": "ipython3",
   "version": "3.8.2"
  }
 },
 "nbformat": 4,
 "nbformat_minor": 4
}
