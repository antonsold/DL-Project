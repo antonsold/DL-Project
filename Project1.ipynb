{
 "cells": [
  {
   "cell_type": "markdown",
   "metadata": {},
   "source": [
    "## Imports"
   ]
  },
  {
   "cell_type": "code",
   "execution_count": 1,
   "metadata": {},
   "outputs": [],
   "source": [
    "import torch\n",
    "from torch import nn\n",
    "from torch.nn import functional as F\n",
    "import time\n",
    "from math import sqrt\n",
    "\n",
    "import matplotlib.pyplot as plt\n",
    "\n",
    "import dlc_practical_prologue"
   ]
  },
  {
   "cell_type": "markdown",
   "metadata": {},
   "source": [
    "## Useful functions"
   ]
  },
  {
   "cell_type": "code",
   "execution_count": 2,
   "metadata": {},
   "outputs": [],
   "source": [
    "def mean(x):\n",
    "    return sum(x)/len(x)\n",
    "\n",
    "def var(x):\n",
    "    u = mean(x)\n",
    "    return sum([(v-u)**2 for v in x])/len(x)"
   ]
  },
  {
   "cell_type": "code",
   "execution_count": 3,
   "metadata": {},
   "outputs": [],
   "source": [
    "def number_parameters(model):   # Returns the number of parameter of a given model\n",
    "    return sum(p.numel() for p in model.parameters())"
   ]
  },
  {
   "cell_type": "markdown",
   "metadata": {},
   "source": [
    "## Load data"
   ]
  },
  {
   "cell_type": "code",
   "execution_count": 4,
   "metadata": {},
   "outputs": [],
   "source": [
    "N = 1000\n",
    "\n",
    "x_train, y_train, y_train_classes, x_test, y_test, y_test_classes = \\\n",
    "dlc_practical_prologue.generate_pair_sets(N)\n",
    "\n",
    "assert x_train.shape == torch.Size([N, 2, 14, 14])    # float32\n",
    "assert y_train.shape == torch.Size([N])               # int64\n",
    "assert y_train_classes.shape == torch.Size([N, 2])    # int64\n",
    "\n",
    "assert x_test.shape == torch.Size([N, 2, 14, 14])\n",
    "assert y_test.shape == torch.Size([N])\n",
    "assert y_test_classes.shape == torch.Size([N, 2])"
   ]
  },
  {
   "cell_type": "code",
   "execution_count": 5,
   "metadata": {},
   "outputs": [],
   "source": [
    "if torch.cuda.is_available():  \n",
    "    dev = \"cuda:0\"\n",
    "else:  \n",
    "    dev = \"cpu\"  \n",
    "device = torch.device(dev)"
   ]
  },
  {
   "cell_type": "markdown",
   "metadata": {},
   "source": [
    "## Normalize input"
   ]
  },
  {
   "cell_type": "code",
   "execution_count": 6,
   "metadata": {},
   "outputs": [],
   "source": [
    "# Normalizing using ONLY x_train data\n",
    "\n",
    "x_list = torch.flatten(x_train).tolist()\n",
    "\n",
    "m = mean(x_list)\n",
    "v = var(x_list)\n",
    "x_train = x_train.sub(m).div(sqrt(v))\n",
    "x_test = x_test.sub(m).div(sqrt(v))"
   ]
  },
  {
   "cell_type": "markdown",
   "metadata": {},
   "source": [
    "## -----------------------------------------------------------------------------------------------"
   ]
  },
  {
   "cell_type": "markdown",
   "metadata": {},
   "source": [
    "## Define models "
   ]
  },
  {
   "cell_type": "markdown",
   "metadata": {},
   "source": [
    "# Model 0\n",
    "Is a naive MLP"
   ]
  },
  {
   "cell_type": "code",
   "execution_count": 7,
   "metadata": {},
   "outputs": [
    {
     "name": "stdout",
     "output_type": "stream",
     "text": [
      "58690\n"
     ]
    }
   ],
   "source": [
    "## Is a naive Multi Layer Perceptron, composed of fully connected linear layers.\n",
    "\n",
    "class model_0(nn.Module):   \n",
    "    def __init__(self, ns = [392,128,64,2]):\n",
    "        super().__init__()\n",
    "        layers = [nn.Linear(n_in, n_out) for n_in, n_out in zip(ns[:-1], ns[1:])]   \n",
    "        self.layers = nn.ModuleList(layers)\n",
    "\n",
    "    def forward(self, x):\n",
    "        x = torch.flatten(x,1)          # flatten the 2 images in one vector (but keeping batch size)\n",
    "        for layer in self.layers[:-1]:\n",
    "            x = layer(x).relu()\n",
    "            \n",
    "        x = self.layers[-1](x) \n",
    "        return x\n",
    "\n",
    "model_test = model_0()\n",
    "model_test(x_train[0:2])    \n",
    "print(number_parameters(model_0()))"
   ]
  },
  {
   "cell_type": "markdown",
   "metadata": {},
   "source": [
    "# MODEL 1\n",
    "\n",
    "Is a simple CNN of **2 Conv Layers** -- \n",
    "4 versions of it are implemented:\n",
    " * straightforward CNN (model_1)\n",
    " * **Finally, I think this one is to simple to justify an intermediate loss without digit prediction** -> Not present\n",
    " * with the two images composing the input treated identically and independently (model_1_ws)\n",
    " * with the two images composing the input treated identically and independently + Digit predictions for aux loss (model_1_ws_aux2)"
   ]
  },
  {
   "cell_type": "code",
   "execution_count": 48,
   "metadata": {},
   "outputs": [
    {
     "name": "stdout",
     "output_type": "stream",
     "text": [
      "13154\n"
     ]
    }
   ],
   "source": [
    "class model_1(nn.Module):                 \n",
    "    def __init__(self):\n",
    "        super(model_1, self).__init__()\n",
    "        self.conv1 = nn.Conv2d(2, 32, kernel_size=2, padding=1)        \n",
    "        self.conv2 = nn.Conv2d(32, 64, kernel_size=2)\n",
    "\n",
    "        self.dense1 = nn.Linear(2304, 2)\n",
    "        \n",
    "    def forward(self, x):\n",
    "        x = F.leaky_relu(self.conv1(x))\n",
    "        x = F.max_pool2d(x, kernel_size=2)\n",
    "        x = F.leaky_relu(self.conv2(x))\n",
    "        \n",
    "        x = torch.flatten(x, 1)\n",
    "        \n",
    "        x = self.dense1(x)\n",
    "        return x\n",
    "\n",
    "model_test = model_1()\n",
    "model_test(x_train[0:2])\n",
    "print(number_parameters(model_test))"
   ]
  },
  {
   "cell_type": "code",
   "execution_count": 49,
   "metadata": {},
   "outputs": [
    {
     "name": "stdout",
     "output_type": "stream",
     "text": [
      "54686\n"
     ]
    }
   ],
   "source": [
    "class model_1_aux2(nn.Module):                 \n",
    "    def __init__(self):\n",
    "        super(model_1_aux2, self).__init__()\n",
    "        self.conv1 = nn.Conv2d(2, 32, kernel_size=2, padding=1)        \n",
    "        self.conv2 = nn.Conv2d(32, 64, kernel_size=2)\n",
    "\n",
    "        self.dense_d1 = nn.Linear(2304, 10)\n",
    "        self.dense_d2 = nn.Linear(2304, 10)\n",
    "        self.dense = nn.Linear(20, 2)\n",
    "        \n",
    "    def forward(self, x):\n",
    "        x = F.leaky_relu(self.conv1(x))\n",
    "        x = F.max_pool2d(x, kernel_size=2)\n",
    "        x = F.leaky_relu(self.conv2(x))\n",
    "        \n",
    "        x = torch.flatten(x, 1)\n",
    "        \n",
    "        d1 = self.dense_d1(x)\n",
    "        d2 = self.dense_d2(x)\n",
    "        \n",
    "        x = torch.cat((torch.softmax(d1, -1), torch.softmax(d2, -1)), 1)\n",
    "        \n",
    "        x = self.dense(x)\n",
    "        return x, d1, d2\n",
    "\n",
    "model_test = model_1_aux2()\n",
    "model_test(x_train[0:2])\n",
    "print(number_parameters(model_test))"
   ]
  },
  {
   "cell_type": "code",
   "execution_count": 52,
   "metadata": {},
   "outputs": [
    {
     "name": "stdout",
     "output_type": "stream",
     "text": [
      "6770\n"
     ]
    }
   ],
   "source": [
    "class model_1_ws(nn.Module):    \n",
    "    def __init__(self):\n",
    "        super(model_1_ws, self).__init__()\n",
    "        self.conv1 = nn.Conv2d(1, 16, kernel_size=2, padding=1)        \n",
    "        self.conv2 = nn.Conv2d(16, 32, kernel_size=2)\n",
    "\n",
    "        self.dense1 = nn.Linear(2304, 2)\n",
    "        \n",
    "    def forward(self, x):\n",
    "        d1 = F.leaky_relu(self.conv1(x[:, 0:1, ...]))\n",
    "        d1 = F.max_pool2d(d1, kernel_size=2) \n",
    "        d1 = F.leaky_relu(self.conv2(d1))\n",
    "      \n",
    "        d2 = F.leaky_relu(self.conv1(x[:, 1:2, ...]))\n",
    "        d2 = F.max_pool2d(d2, kernel_size=2) \n",
    "        d2 = F.leaky_relu(self.conv2(d2))\n",
    "        \n",
    "        x = torch.cat((d1, d2), 2)\n",
    "        x = torch.flatten(x, 1)\n",
    "        \n",
    "        x = self.dense1(x)      \n",
    "        return x\n",
    "\n",
    "model_test = model_1_ws()\n",
    "model_test(x_train[0:2])\n",
    "print(number_parameters(model_test))"
   ]
  },
  {
   "cell_type": "code",
   "execution_count": 53,
   "metadata": {},
   "outputs": [
    {
     "name": "stdout",
     "output_type": "stream",
     "text": [
      "31508\n"
     ]
    }
   ],
   "source": [
    "class model_1_ws_aux2(nn.Module):                 \n",
    "    def __init__(self):\n",
    "        super(model_1_ws_aux2, self).__init__()\n",
    "        self.conv1 = nn.Conv2d(1, 32, kernel_size=2, padding=1)        \n",
    "        self.conv2 = nn.Conv2d(32, 64, kernel_size=2)\n",
    "\n",
    "        self.dense1 = nn.Linear(2304, 10)\n",
    "        self.dense2 = nn.Linear(20, 2)\n",
    "        \n",
    "    def forward(self, x):\n",
    "        d1 = F.leaky_relu(self.conv1(x[:, 0:1, ...]))\n",
    "        d1 = F.max_pool2d(d1, kernel_size=2) \n",
    "        d1 = F.leaky_relu(self.conv2(d1))\n",
    "        d1 = torch.flatten(d1, 1)\n",
    "        d1 = self.dense1(d1)\n",
    "        \n",
    "        d2 = F.leaky_relu(self.conv1(x[:, 1:2, ...]))\n",
    "        d2 = F.max_pool2d(d2, kernel_size=2) \n",
    "        d2 = F.leaky_relu(self.conv2(d2))\n",
    "        d2 = torch.flatten(d2, 1)\n",
    "        d2 = self.dense1(d2)\n",
    "        \n",
    "        x = F.leaky_relu(torch.cat((torch.softmax(d1, -1), torch.softmax(d2, -1)), 1))\n",
    "        x = torch.flatten(x, 1)\n",
    "        \n",
    "        x = F.leaky_relu(self.dense2(x))\n",
    "        \n",
    "        return x,d1,d2\n",
    "\n",
    "    \n",
    "model_test = model_1_ws_aux2()\n",
    "model_test(x_train[0:2])\n",
    "print(number_parameters(model_test))"
   ]
  },
  {
   "cell_type": "markdown",
   "metadata": {},
   "source": [
    "# MODEL 2\n",
    "\n",
    "Is a more complex CNN, of **3 conv Layers** -- \n",
    "4 versions of it are implemented:\n",
    " * straightforward CNN (model_2)\n",
    " * !!NOT WORKING!! with intermediate output for auxiliary loss (model_2_aux1)\n",
    " * with the two images composing the input treated identically and independently (model_2_ws)\n",
    " * with the two images composing the input treated identically and independently + Digit predictions for aux loss (model_2_ws_aux2) **currently our best model**"
   ]
  },
  {
   "cell_type": "code",
   "execution_count": 13,
   "metadata": {},
   "outputs": [
    {
     "name": "stdout",
     "output_type": "stream",
     "text": [
      "113506\n"
     ]
    }
   ],
   "source": [
    "class model_2(nn.Module):\n",
    "    def __init__(self):\n",
    "        super(model_2, self).__init__()\n",
    "        self.conv1 = nn.Conv2d(2, 32, kernel_size=2, padding = 1)        \n",
    "        self.conv2 = nn.Conv2d(32, 64, kernel_size=2) # NEW size\n",
    "        self.conv3 = nn.Conv2d(64, 128, kernel_size=2)\n",
    "        self.conv4 = nn.Conv2d(128, 128, kernel_size=2)\n",
    "        \n",
    "        self.dense1 = nn.Linear(3200, 2)\n",
    "\n",
    "        \n",
    "    def forward(self, x):\n",
    "        x = F.leaky_relu(self.conv1(x))\n",
    "        x = F.leaky_relu(self.conv2(x))\n",
    "        x = F.max_pool2d(x, kernel_size=2) \n",
    "        x = F.leaky_relu(self.conv3(x))\n",
    "        x = F.leaky_relu(self.conv4(x))\n",
    "        \n",
    "        x = torch.flatten(x, 1)\n",
    "        x = self.dense1(x)\n",
    "\n",
    "        return x\n",
    "\n",
    "model_test = model_2()\n",
    "model_test(x_train[0:2])\n",
    "print(number_parameters(model_test))"
   ]
  },
  {
   "cell_type": "code",
   "execution_count": 14,
   "metadata": {},
   "outputs": [
    {
     "name": "stdout",
     "output_type": "stream",
     "text": [
      "119780\n"
     ]
    }
   ],
   "source": [
    "class model_2_aux1(nn.Module):\n",
    "    def __init__(self):\n",
    "        super(model_2_aux1, self).__init__()\n",
    "        self.conv1 = nn.Conv2d(2, 32, kernel_size=2, padding = 1)        \n",
    "        self.conv2 = nn.Conv2d(32, 64, kernel_size=2) \n",
    "        self.conv3 = nn.Conv2d(64, 128, kernel_size=2)\n",
    "        self.conv4 = nn.Conv2d(128, 128, kernel_size=2)\n",
    "        \n",
    "        self.dense1_intermediate = nn.Linear(3136, 2)\n",
    "        self.dense1 = nn.Linear(3200, 2)\n",
    "\n",
    "        \n",
    "    def forward(self, x):\n",
    "        x = F.leaky_relu(self.conv1(x))\n",
    "        x = F.leaky_relu(self.conv2(x))\n",
    "        x = F.max_pool2d(x, kernel_size=2)\n",
    "                         \n",
    "        x_ = torch.flatten(x, 1)\n",
    "        x_ = self.dense1_intermediate(x_)                   \n",
    "         \n",
    "        x = F.leaky_relu(self.conv3(x))\n",
    "        x = F.leaky_relu(self.conv4(x))\n",
    "                         \n",
    "        x = torch.flatten(x, 1)\n",
    "        x = self.dense1(x)\n",
    "        \n",
    "        return x,x_\n",
    "\n",
    "model_test = model_2_aux1()\n",
    "model_test(x_train[0:2])\n",
    "print(number_parameters(model_test))"
   ]
  },
  {
   "cell_type": "code",
   "execution_count": 15,
   "metadata": {},
   "outputs": [
    {
     "name": "stdout",
     "output_type": "stream",
     "text": [
      "56114\n"
     ]
    }
   ],
   "source": [
    "class model_2_ws(nn.Module):  \n",
    "    def __init__(self):\n",
    "        super(model_2_ws, self).__init__()\n",
    "        self.conv1 = nn.Conv2d(1, 16, kernel_size=2, padding = 1)        \n",
    "        self.conv2 = nn.Conv2d(16, 32, kernel_size=2) \n",
    "        self.conv3 = nn.Conv2d(32, 64, kernel_size=2)\n",
    "        self.conv4 = nn.Conv2d(64, 128, kernel_size=2)\n",
    "        \n",
    "        self.dense1 = nn.Linear(6400, 2)\n",
    "\n",
    "    def forward(self, x):\n",
    "        d1 = F.leaky_relu(self.conv1(x[:, 0:1, ...]))\n",
    "        d1 = F.leaky_relu(self.conv2(d1))\n",
    "        d1 = F.max_pool2d(d1, kernel_size=2) \n",
    "        d1 = F.leaky_relu(self.conv3(d1))\n",
    "        d1 = F.leaky_relu(self.conv4(d1))\n",
    "\n",
    "        d2 = F.leaky_relu(self.conv1(x[:, 1:2, ...]))\n",
    "        d2 = F.leaky_relu(self.conv2(d2))\n",
    "        d2 = F.max_pool2d(d2, kernel_size=2)\n",
    "        d2 = F.leaky_relu(self.conv3(d2))\n",
    "        d2 = F.leaky_relu(self.conv4(d2))\n",
    "\n",
    "        x = torch.cat((d1, d2), 2)\n",
    "        x = torch.flatten(x, 1)\n",
    "        x = self.dense1(x)\n",
    "        return x\n",
    "\n",
    "model_test = model_2_ws()\n",
    "model_test(x_train[0:2])\n",
    "print(number_parameters(model_test))"
   ]
  },
  {
   "cell_type": "code",
   "execution_count": 16,
   "metadata": {},
   "outputs": [
    {
     "name": "stdout",
     "output_type": "stream",
     "text": [
      "171166\n"
     ]
    }
   ],
   "source": [
    "class model_2_aux2(nn.Module):\n",
    "    def __init__(self):\n",
    "        super(model_2_aux2, self).__init__()\n",
    "        self.conv1 = nn.Conv2d(2, 32, kernel_size=2, padding = 1)        \n",
    "        self.conv2 = nn.Conv2d(32, 64, kernel_size=2) \n",
    "        self.conv3 = nn.Conv2d(64, 128, kernel_size=2)\n",
    "        self.conv4 = nn.Conv2d(128, 128, kernel_size=2)\n",
    "        \n",
    "        self.dense_d1 = nn.Linear(3200, 10)\n",
    "        self.dense_d2 = nn.Linear(3200, 10)\n",
    "        \n",
    "        self.dense = nn.Linear(20, 2)\n",
    "        \n",
    "    def forward(self, x):\n",
    "        x = F.leaky_relu(self.conv1(x))\n",
    "        x = F.leaky_relu(self.conv2(x))\n",
    "        x = F.max_pool2d(x, kernel_size=2)\n",
    "        x = F.leaky_relu(self.conv3(x))\n",
    "        x = F.leaky_relu(self.conv4(x))\n",
    "        x = torch.flatten(x, 1)\n",
    "                \n",
    "        d1 = self.dense_d1(x)\n",
    "        d2 = self.dense_d2(x)\n",
    "        \n",
    "        x = F.leaky_relu(torch.cat((torch.softmax(d1, -1), torch.softmax(d2, -1)), 1))\n",
    "        x = self.dense(x)\n",
    "        return x, d1, d2\n",
    "\n",
    "model_test = model_2_aux2()\n",
    "model_test(x_train[0:2])\n",
    "print(number_parameters(model_test))"
   ]
  },
  {
   "cell_type": "code",
   "execution_count": 17,
   "metadata": {},
   "outputs": [
    {
     "name": "stdout",
     "output_type": "stream",
     "text": [
      "139028\n"
     ]
    }
   ],
   "source": [
    "class model_2_ws_aux2(nn.Module):\n",
    "    def __init__(self):\n",
    "        super(model_2_ws_aux2, self).__init__()\n",
    "        self.conv1 = nn.Conv2d(1, 32, kernel_size=2, padding = 1)        \n",
    "        self.conv2 = nn.Conv2d(32, 64, kernel_size=2) # NEW size\n",
    "        self.conv3 = nn.Conv2d(64, 128, kernel_size=2)\n",
    "        self.conv4 = nn.Conv2d(128, 128, kernel_size=2)\n",
    "        \n",
    "        self.dense1 = nn.Linear(3200, 10)\n",
    "        self.dense2 = nn.Linear(20, 2)\n",
    "        \n",
    "    def forward(self, x):\n",
    "        d1 = F.leaky_relu(self.conv1(x[:, 0:1, ...]))\n",
    "        d1 = F.leaky_relu(self.conv2(d1))\n",
    "        d1 = F.max_pool2d(d1, kernel_size=2)\n",
    "        d1 = F.leaky_relu(self.conv3(d1))\n",
    "        d1 = F.leaky_relu(self.conv4(d1))\n",
    "        d1 = torch.flatten(d1, 1)\n",
    "        d1 = self.dense1(d1)\n",
    "\n",
    "        d2 = F.leaky_relu(self.conv1(x[:, 1:2, ...]))\n",
    "        d2 = F.leaky_relu(self.conv2(d2))\n",
    "        d2 = F.max_pool2d(d2, kernel_size=2)\n",
    "        d2 = F.leaky_relu(self.conv3(d2))\n",
    "        d2 = F.leaky_relu(self.conv4(d2))\n",
    "        d2 = torch.flatten(d2, 1)\n",
    "        d2 = self.dense1(d2)\n",
    "        \n",
    "        x = torch.cat((torch.softmax(d1, -1), torch.softmax(d2, -1)), 1)\n",
    "        x = self.dense2(x)\n",
    "        return x, d1, d2\n",
    "\n",
    "model_test = model_2_ws_aux2()\n",
    "model_test(x_train[0:2])\n",
    "print(number_parameters(model_test))"
   ]
  },
  {
   "cell_type": "markdown",
   "metadata": {},
   "source": [
    "## Training/Evaluation function"
   ]
  },
  {
   "cell_type": "code",
   "execution_count": 68,
   "metadata": {},
   "outputs": [],
   "source": [
    "def train_model(model, \n",
    "                 train_input,\n",
    "                 train_target,\n",
    "                 digit_target,\n",
    "                 epochs, optimizer,\n",
    "                 loss_function = nn.CrossEntropyLoss(), digit_loss = nn.CrossEntropyLoss(),\n",
    "                 batch_size=16,\n",
    "                 output_length = 1,\n",
    "                 verbose = True):\n",
    "    \"\"\"\n",
    "    Train the given model on given inputs with given parameter\n",
    "    This training method works for the normal training (output_length ==1) and the 2 versions\n",
    "    Of auxiliary losses:\n",
    "    - v1 : one intermediary output that has same loss as final (output_length == 2)\n",
    "    - v2 : 2 additional outputs in the end corresponding to digits (output_length == 3)\n",
    "    Verbose parameter : lets you chose if you want to see the loss at each epoch\n",
    "    \n",
    "    Returns the training losses at each epoch\n",
    "    \"\"\"\n",
    "    model.train()\n",
    "    losses = []\n",
    "    \n",
    "    for e in range(epochs):\n",
    "        sum_loss = 0\n",
    "        \n",
    "        if output_length == 3:\n",
    "            sum_loss_digit1 = 0\n",
    "            sum_loss_digit2 = 0\n",
    "        \n",
    "        for x_batch, y_batch, y_digit_batch in zip(train_input.split(batch_size),\n",
    "                                                    train_target.split(batch_size),\n",
    "                                                    digit_target.split(batch_size)):\n",
    "            \n",
    "            if output_length == 1:\n",
    "                \n",
    "                output = model(x_batch)\n",
    "                loss_total = loss_function(output, y_batch)\n",
    "                \n",
    "            elif output_length == 2:\n",
    "                output, output_intermed = model(x_batch)\n",
    "                loss_intermed = loss_function(output_intermed, y_batch)\n",
    "                loss_final  = loss_function(output, y_batch)\n",
    "\n",
    "                loss_total = loss_final + 0.3*loss_intermed\n",
    "\n",
    "            elif output_length == 3:\n",
    "\n",
    "                output, d1, d2 = model(x_batch)\n",
    "\n",
    "                loss_digit1 = digit_loss(d1, y_digit_batch[..., 0])\n",
    "                loss_digit2 = digit_loss(d2, y_digit_batch[..., 1])\n",
    "                loss_final  = loss_function(output, y_batch)\n",
    "\n",
    "                loss_total = loss_final + 0.5*(loss_digit1 + loss_digit2)\n",
    "\n",
    "                sum_loss_digit1 += loss_digit1.item()\n",
    "                sum_loss_digit2 += loss_digit2.item()\n",
    "\n",
    "            optimizer.zero_grad()\n",
    "            loss_total.backward()  \n",
    "            optimizer.step()\n",
    "\n",
    "            sum_loss += loss_total.item()\n",
    "            \n",
    "        losses.append(sum_loss)\n",
    "        \n",
    "        if verbose : \n",
    "            if output_length == 3 :\n",
    "                print(\"Epoch %i: loss %.3f --- loss_d1 %.2f --- loss_d2 %.2f\" \\\n",
    "                      % (e,sum_loss, sum_loss_digit1, sum_loss_digit2), end=\"\\r\")  \n",
    "            else :\n",
    "                print(\"Epoch %i : loss %.3f\" % (e, sum_loss), end = \"\\r\")\n",
    "    return losses"
   ]
  },
  {
   "cell_type": "code",
   "execution_count": 67,
   "metadata": {},
   "outputs": [],
   "source": [
    "def evaluate_model(model, \n",
    "                   test_input, \n",
    "                   test_target, \n",
    "                   test_digits = None,\n",
    "                   output_length = 1):\n",
    "    \"\"\" \n",
    "    This evaluation method works for the normal training and the 2 versions\n",
    "    Of auxiliary losses:\n",
    "    - v1 : one intermediary output that has same loss as final\n",
    "    - v2 : 2 additional outputs in the end corresponding to digits\n",
    "    \n",
    "    Returns the accuracy on provided data for each output (all auxiliary ones too)\n",
    "    \"\"\"\n",
    "    model.eval()\n",
    "    \n",
    "    with torch.no_grad():\n",
    "        if output_length == 1:\n",
    "            # Basic training\n",
    "            out = model(test_input)   \n",
    "            preds = torch.argmax(out, -1)\n",
    "            accuracy = (preds.float() == test_target.float()).sum().item()/preds.size(0)\n",
    "            \n",
    "            return accuracy * 100, 0, 0\n",
    "        \n",
    "        elif output_length == 2:\n",
    "            # Intermediary loss (Aux v1)\n",
    "            out = model(test_input) \n",
    "        \n",
    "            preds = torch.argmax(torch.softmax(out[0], -1), axis = -1)\n",
    "            intermed_preds = torch.argmax(torch.softmax(out[1], -1), axis = -1)\n",
    "\n",
    "            accuracy = (preds.float() == test_target.float()).sum().item()/preds.size(0)\n",
    "            accuracy_intermed = (intermed_preds.float() == test_target.float()).sum().item()/preds.size(0)\n",
    "            \n",
    "            return accuracy * 100, accuracy_intermed * 100, 0\n",
    "        \n",
    "        elif output_length == 3:\n",
    "            # Digit loss (Aux v2)\n",
    "            out = model(test_input) \n",
    "        \n",
    "            preds = torch.argmax(torch.softmax(out[0], -1), axis = -1)\n",
    "            d1 = torch.argmax(torch.softmax(out[1], -1), axis = -1)\n",
    "            d2 = torch.argmax(torch.softmax(out[2], -1), axis = -1)\n",
    "\n",
    "            accuracy = (preds.float() == test_target.float()).sum().item()/preds.size(0)\n",
    "            accuracy_d1 = (d1.float() == test_digits[:, 0].float()).sum().item()/preds.size(0)\n",
    "            accuracy_d2 = (d2.float() == test_digits[:, 1].float()).sum().item()/preds.size(0)\n",
    "            \n",
    "            return accuracy * 100, accuracy_d1 * 100, accuracy_d2 * 100\n",
    "\n",
    "        else :\n",
    "            print(\"Wrong model output\")\n",
    "            return 0"
   ]
  },
  {
   "cell_type": "markdown",
   "metadata": {},
   "source": [
    "## GridSearch"
   ]
  },
  {
   "cell_type": "code",
   "execution_count": 69,
   "metadata": {},
   "outputs": [
    {
     "name": "stdout",
     "output_type": "stream",
     "text": [
      "Starting 6 parameter grid search 2 times each over 25 epochs, with model 'model 0' containing 58690 parameters. \n",
      "\n",
      "\r",
      "Grid Search 1/6 : \n",
      "Fold 1/5"
     ]
    },
    {
     "ename": "KeyboardInterrupt",
     "evalue": "",
     "output_type": "error",
     "traceback": [
      "\u001b[1;31m---------------------------------------------------------------------------\u001b[0m",
      "\u001b[1;31mKeyboardInterrupt\u001b[0m                         Traceback (most recent call last)",
      "\u001b[1;32m<ipython-input-69-7e223be1468b>\u001b[0m in \u001b[0;36m<module>\u001b[1;34m\u001b[0m\n\u001b[0;32m     79\u001b[0m                             \u001b[0mmodel\u001b[0m\u001b[1;33m.\u001b[0m\u001b[0mcuda\u001b[0m\u001b[1;33m(\u001b[0m\u001b[1;33m)\u001b[0m\u001b[1;33m\u001b[0m\u001b[1;33m\u001b[0m\u001b[0m\n\u001b[0;32m     80\u001b[0m \u001b[1;33m\u001b[0m\u001b[0m\n\u001b[1;32m---> 81\u001b[1;33m                         train_loss = train_model(model, \n\u001b[0m\u001b[0;32m     82\u001b[0m                                                  \u001b[0mx_train\u001b[0m\u001b[1;33m[\u001b[0m\u001b[0mi_train\u001b[0m\u001b[1;33m]\u001b[0m\u001b[1;33m.\u001b[0m\u001b[0mto\u001b[0m\u001b[1;33m(\u001b[0m\u001b[0mdevice\u001b[0m\u001b[1;33m)\u001b[0m\u001b[1;33m,\u001b[0m\u001b[1;33m\u001b[0m\u001b[1;33m\u001b[0m\u001b[0m\n\u001b[0;32m     83\u001b[0m                                                  \u001b[0my_train\u001b[0m\u001b[1;33m[\u001b[0m\u001b[0mi_train\u001b[0m\u001b[1;33m]\u001b[0m\u001b[1;33m.\u001b[0m\u001b[0mto\u001b[0m\u001b[1;33m(\u001b[0m\u001b[0mdevice\u001b[0m\u001b[1;33m)\u001b[0m\u001b[1;33m,\u001b[0m\u001b[1;33m\u001b[0m\u001b[1;33m\u001b[0m\u001b[0m\n",
      "\u001b[1;32m<ipython-input-68-cc0cc6cc9f34>\u001b[0m in \u001b[0;36mtrain_model\u001b[1;34m(model, train_input, train_target, digit_target, epochs, optimizer, loss_function, digit_loss, batch_size, output_length, verbose)\u001b[0m\n\u001b[0;32m     58\u001b[0m \u001b[1;33m\u001b[0m\u001b[0m\n\u001b[0;32m     59\u001b[0m             \u001b[0moptimizer\u001b[0m\u001b[1;33m.\u001b[0m\u001b[0mzero_grad\u001b[0m\u001b[1;33m(\u001b[0m\u001b[1;33m)\u001b[0m\u001b[1;33m\u001b[0m\u001b[1;33m\u001b[0m\u001b[0m\n\u001b[1;32m---> 60\u001b[1;33m             \u001b[0mloss_total\u001b[0m\u001b[1;33m.\u001b[0m\u001b[0mbackward\u001b[0m\u001b[1;33m(\u001b[0m\u001b[1;33m)\u001b[0m\u001b[1;33m\u001b[0m\u001b[1;33m\u001b[0m\u001b[0m\n\u001b[0m\u001b[0;32m     61\u001b[0m             \u001b[0moptimizer\u001b[0m\u001b[1;33m.\u001b[0m\u001b[0mstep\u001b[0m\u001b[1;33m(\u001b[0m\u001b[1;33m)\u001b[0m\u001b[1;33m\u001b[0m\u001b[1;33m\u001b[0m\u001b[0m\n\u001b[0;32m     62\u001b[0m \u001b[1;33m\u001b[0m\u001b[0m\n",
      "\u001b[1;32m~\\Anaconda3\\envs\\pytorch\\lib\\site-packages\\torch\\tensor.py\u001b[0m in \u001b[0;36mbackward\u001b[1;34m(self, gradient, retain_graph, create_graph)\u001b[0m\n\u001b[0;32m    196\u001b[0m                 \u001b[0mproducts\u001b[0m\u001b[1;33m.\u001b[0m \u001b[0mDefaults\u001b[0m \u001b[0mto\u001b[0m\u001b[0;31m \u001b[0m\u001b[0;31m`\u001b[0m\u001b[0;31m`\u001b[0m\u001b[1;32mFalse\u001b[0m\u001b[0;31m`\u001b[0m\u001b[0;31m`\u001b[0m\u001b[1;33m.\u001b[0m\u001b[1;33m\u001b[0m\u001b[1;33m\u001b[0m\u001b[0m\n\u001b[0;32m    197\u001b[0m         \"\"\"\n\u001b[1;32m--> 198\u001b[1;33m         \u001b[0mtorch\u001b[0m\u001b[1;33m.\u001b[0m\u001b[0mautograd\u001b[0m\u001b[1;33m.\u001b[0m\u001b[0mbackward\u001b[0m\u001b[1;33m(\u001b[0m\u001b[0mself\u001b[0m\u001b[1;33m,\u001b[0m \u001b[0mgradient\u001b[0m\u001b[1;33m,\u001b[0m \u001b[0mretain_graph\u001b[0m\u001b[1;33m,\u001b[0m \u001b[0mcreate_graph\u001b[0m\u001b[1;33m)\u001b[0m\u001b[1;33m\u001b[0m\u001b[1;33m\u001b[0m\u001b[0m\n\u001b[0m\u001b[0;32m    199\u001b[0m \u001b[1;33m\u001b[0m\u001b[0m\n\u001b[0;32m    200\u001b[0m     \u001b[1;32mdef\u001b[0m \u001b[0mregister_hook\u001b[0m\u001b[1;33m(\u001b[0m\u001b[0mself\u001b[0m\u001b[1;33m,\u001b[0m \u001b[0mhook\u001b[0m\u001b[1;33m)\u001b[0m\u001b[1;33m:\u001b[0m\u001b[1;33m\u001b[0m\u001b[1;33m\u001b[0m\u001b[0m\n",
      "\u001b[1;32m~\\Anaconda3\\envs\\pytorch\\lib\\site-packages\\torch\\autograd\\__init__.py\u001b[0m in \u001b[0;36mbackward\u001b[1;34m(tensors, grad_tensors, retain_graph, create_graph, grad_variables)\u001b[0m\n\u001b[0;32m     96\u001b[0m         \u001b[0mretain_graph\u001b[0m \u001b[1;33m=\u001b[0m \u001b[0mcreate_graph\u001b[0m\u001b[1;33m\u001b[0m\u001b[1;33m\u001b[0m\u001b[0m\n\u001b[0;32m     97\u001b[0m \u001b[1;33m\u001b[0m\u001b[0m\n\u001b[1;32m---> 98\u001b[1;33m     Variable._execution_engine.run_backward(\n\u001b[0m\u001b[0;32m     99\u001b[0m         \u001b[0mtensors\u001b[0m\u001b[1;33m,\u001b[0m \u001b[0mgrad_tensors\u001b[0m\u001b[1;33m,\u001b[0m \u001b[0mretain_graph\u001b[0m\u001b[1;33m,\u001b[0m \u001b[0mcreate_graph\u001b[0m\u001b[1;33m,\u001b[0m\u001b[1;33m\u001b[0m\u001b[1;33m\u001b[0m\u001b[0m\n\u001b[0;32m    100\u001b[0m         allow_unreachable=True)  # allow_unreachable flag\n",
      "\u001b[1;31mKeyboardInterrupt\u001b[0m: "
     ]
    }
   ],
   "source": [
    "\"\"\"\n",
    "The following section makes a quick grid search exploration using KFold (K=5) cross validation\n",
    "It makes *number_training* trains on each fold\n",
    "It explores different:\n",
    "- Optimizers : Adam / SGD\n",
    "- Learning rates (dependant on optimizer)\n",
    "- Batchsizes\n",
    "\"\"\"\n",
    "\n",
    "models = [model_0,\n",
    "          model_1, model_1_ws, model_1_aux2, model_1_ws_aux2,\n",
    "          model_2, model_2_ws, model_2_aux1, model_2_aux2, model_2_ws_aux2]\n",
    "models_names = [\"model 0\",\n",
    "                \"model 1\", \"model 1 WS\", \"model 1 AUX 2\", \"model 1 WS AUX 2\",\n",
    "                \"model 2\", \"model 2 WS\", \"model 2 AUX 1\", \"model 2 AUX 2\", \"model 2 WS AUX 2\"]\n",
    "models_best_cfg = []\n",
    "\n",
    "lrs = dict()\n",
    "\n",
    "# lrs[\"Adam\"] = [0.01, 0.005, 0.003, 0.002, 0.001, 0.0005]\n",
    "# lrs[\"SGD\"] = [0.1, 0.05, 0.01]\n",
    "# batchsizes = [16, 32]\n",
    "\n",
    "lrs[\"Adam\"] = [0.003, 0.002, 0.001, 0.0005, 0.0001]\n",
    "lrs[\"SGD\"] = [0.01]\n",
    "batchsizes = [16]\n",
    "\n",
    "epochs = 25\n",
    "number_training = 2\n",
    "\n",
    "gridsearch_number = len(lrs[\"Adam\"]) * len(batchsizes) + len(lrs[\"SGD\"]) * len(batchsizes)\n",
    "\n",
    "model_accuracies = []\n",
    "model_vars = []\n",
    "model_parameters = []\n",
    "\n",
    "nfold = 5\n",
    "perm = torch.randperm(len(x_train))\n",
    "folds = perm.split(int(len(x_train) / nfold))\n",
    "\n",
    "for build_model, model_name in zip(models, models_names):\n",
    "    \n",
    "    # Just to evaluate model parameters / output shape\n",
    "    dummy_model = build_model()\n",
    "    dummy_output = dummy_model(x_train[0:1])\n",
    "    if (type(dummy_output) == tuple):\n",
    "        output_length = len(dummy_output)\n",
    "    else : \n",
    "        output_length = 1\n",
    "        \n",
    "    print(\"Starting %i parameter grid search %i times each over %i epochs, with model '%s' containing %i parameters. \\n\" % \n",
    "      (gridsearch_number, number_training, epochs, model_name, number_parameters(dummy_model)))\n",
    "    del dummy_model\n",
    "    \n",
    "    mean_accuracies = []\n",
    "    var_accuracies = []\n",
    "    parameters = []\n",
    "    \n",
    "    i_param = 0\n",
    "    for optim in [(torch.optim.Adam, \"Adam\"), (torch.optim.SGD, \"SGD\")]:\n",
    "        for lr in lrs[optim[1]]:\n",
    "            for batchsize in batchsizes :               \n",
    "                exp_accuracies = []\n",
    "                \n",
    "                i_param+=1\n",
    "                print(\"\\rGrid Search %i/%i : \" % (i_param, gridsearch_number))\n",
    "                \n",
    "                for i_fold in range(nfold):\n",
    "                    print(\"Fold %i/%i\" % (i_fold+1, nfold), end = \"\")\n",
    "                    i_valid = folds[i_fold]\n",
    "                    i_train = torch.cat((*folds[:i_fold], *folds[i_fold+1:]))\n",
    "                    \n",
    "                    for i, rnd_exp in enumerate(range(number_training)):\n",
    "\n",
    "                        model = build_model()\n",
    "                        optimizer = optim[0](model.parameters(), lr)\n",
    "\n",
    "                        if torch.cuda.is_available():\n",
    "                            model.cuda()\n",
    "\n",
    "                        train_loss = train_model(model, \n",
    "                                                 x_train[i_train].to(device),\n",
    "                                                 y_train[i_train].to(device),\n",
    "                                                 y_train_classes[i_train].to(device),\n",
    "                                                 epochs = epochs, optimizer=optimizer, batch_size=batchsize, \n",
    "                                                 output_length = output_length,\n",
    "                                                 verbose = False)\n",
    "\n",
    "                        accuracy, _, _ = evaluate_model(model, \n",
    "                                                        x_train[i_valid].to(device),\n",
    "                                                        y_train[i_valid].to(device),\n",
    "                                                        y_train_classes[i_valid].to(device),\n",
    "                                                        output_length = output_length)\n",
    "\n",
    "                        exp_accuracies.append(accuracy)\n",
    "                    \n",
    "                    print(\": %.2f%% mean accuracy\" % (mean(exp_accuracies[-number_training:])), end = \"\")\n",
    "                \n",
    "                print(\"\\nAll folds : %.2f%% mean accuracy\" % (mean(exp_accuracies)))\n",
    "                mean_accuracies.append(mean(exp_accuracies))\n",
    "                var_accuracies.append(var(exp_accuracies))\n",
    "                parameters.append((optim[1], lr, batchsize))\n",
    "    \n",
    "    print()\n",
    "    model_accuracies.append(mean_accuracies)\n",
    "    model_vars.append(var_accuracies)\n",
    "    model_parameters.append(parameters)\n"
   ]
  },
  {
   "cell_type": "code",
   "execution_count": 59,
   "metadata": {},
   "outputs": [
    {
     "name": "stdout",
     "output_type": "stream",
     "text": [
      "Best accuracy 79.85 (2.502) with params for model model 0 : optim : Adam, lr : 0.0020, batchsize : 16\n",
      "Best accuracy 80.80 (3.460) with params for model model 1 : optim : Adam, lr : 0.0020, batchsize : 16\n"
     ]
    }
   ],
   "source": [
    "# Print best model parameters from grid search\n",
    "for model, model_accs, m_vars, params in zip(models_names, model_accuracies, model_vars, model_parameters):\n",
    "    i_max = model_accs.index(max(model_accs))\n",
    "    print(\"Best accuracy %.2f (%.3f) with params for model %s :\" % (model_accs[i_max], m_vars[i_max], model),\n",
    "          \"optim : %s, lr : %.4f, batchsize : %i\" % (params[i_max]))"
   ]
  },
  {
   "cell_type": "markdown",
   "metadata": {},
   "source": [
    "## Experiment parametrization"
   ]
  },
  {
   "cell_type": "code",
   "execution_count": 55,
   "metadata": {},
   "outputs": [],
   "source": [
    "def experiment_model(model_name, build_model, params):  # params= \n",
    "    \n",
    "    \"\"\"\n",
    "    This function launches an experiment on model given its name\n",
    "    a function that builds an instance of the model, and parameters tuple (Optimizer, lr, batch size)\n",
    "    \n",
    "    It trains the model *number_training* times, records the accuracies, trainin / evluation time,\n",
    "    and prints accuracy metrics for each attempt. Training data is shuffled before each attempt.\n",
    "    \n",
    "    It returns the training accuracies over each attempt on the final binary classification task\n",
    "    \"\"\"\n",
    "    \n",
    "    ################################ TRAINING PARAMETERS ################################################ \n",
    "    \n",
    "    number_training = 20\n",
    "    epochs = 25\n",
    "\n",
    "    accuracies = []\n",
    "    train_times = []\n",
    "    eval_times = []\n",
    "    \n",
    "    # Just to evaluate model parameters / output shape\n",
    "    dummy_model = build_model()\n",
    "    dummy_output = dummy_model(x_train[0:1])\n",
    "\n",
    "    if (type(dummy_output) == tuple):\n",
    "        output_length = len(dummy_output)\n",
    "    else :\n",
    "        output_length = 1 # 2 types of model with aux loss are implemented : \n",
    "                                                       # Aux 1 (only one intermediate output) -> len = 1\n",
    "                                                       # Aux 2 (2 outputs corresponding to the digits)-> len = 2\n",
    "    \n",
    "    print(\"Starting %i training of %i epochs, with model  '%s' containing %i parameters. \\n\" % \n",
    "      (number_training, epochs, model_name, number_parameters(dummy_model)))\n",
    "\n",
    "    del dummy_model\n",
    "    \n",
    "    ################################ TRAINING  ################################################ \n",
    "    \n",
    "    for i_train in range(number_training):  \n",
    "        start_train = time.time()\n",
    "\n",
    "        model = build_model()\n",
    "        if torch.cuda.is_available():\n",
    "            model.cuda()\n",
    "            \n",
    "        if params[0] == \"Adam\":\n",
    "            optimizer = torch.optim.Adam(model.parameters(), lr=params[1])\n",
    "        else :\n",
    "            optimizer = torch.optim.SGD(model.parameters(), lr=params[1], momentum=0.9, weight_decay=0)\n",
    "            \n",
    "        indices_shuffle = torch.randperm(N)\n",
    "        \n",
    "        train_loss = train_model(model, x_train[indices_shuffle].to(device),\n",
    "                                 y_train[indices_shuffle].to(device),\n",
    "                                 y_train_classes[indices_shuffle].to(device),\n",
    "                                 epochs = epochs, optimizer=optimizer, batch_size = params[2],\n",
    "                                 output_length = output_length)\n",
    "        end_train = time.time()\n",
    "        \n",
    "        \n",
    "        accuracy, acc1, acc2 = evaluate_model(model, \n",
    "                                                x_test.to(device),\n",
    "                                                y_test.to(device),\n",
    "                                                y_test_classes.to(device),\n",
    "                                                output_length = output_length)\n",
    "        \n",
    "        if output_length == 1:\n",
    "            # Only one final output (no auxiliary)            \n",
    "            print(\"Attempt\", i_train + 1, \"- accuracy %.2f%%\"%accuracy)\n",
    "        elif output_length == 2:\n",
    "            # 1 final output + 1 intermediate output\n",
    "            print(\"Attempt\", i_train + 1, \"- accuracy %.2f%%\" % accuracy,\n",
    "                      \" -- intermed_accuracy : %.2f%%\" % acc1)\n",
    "        elif output_length == 3:\n",
    "            # 1 final output + 2 digits output\n",
    "            print(\"Attempt\", i_train + 1, \"- accuracy %.2f%%\"%accuracy,\n",
    "                      \" -- d1 : %.2f%% , d2 : %.2f%%\" % (acc1, acc2))           \n",
    "        \n",
    "        accuracies.append(accuracy)\n",
    "        \n",
    "        eval_times.append(time.time() - end_train)\n",
    "        train_times.append(end_train - start_train)\n",
    "\n",
    "    print(\"\\nExperiment results :\")\n",
    "    print(\"Accuracy mean : %.2f%% (%.1f)\" % (mean(accuracies), var(accuracies)))\n",
    "    print(\"Average training time : %.1f seconds (%.1f)\" % (mean(train_times), var(train_times)))\n",
    "    print(\"Average inference time : %.4f seconds (%.4f)\" % (mean(eval_times), var(eval_times)))\n",
    "    print(\"================================================================================\")\n",
    "    return accuracies"
   ]
  },
  {
   "cell_type": "markdown",
   "metadata": {},
   "source": [
    "## Run experiments"
   ]
  },
  {
   "cell_type": "code",
   "execution_count": 72,
   "metadata": {},
   "outputs": [],
   "source": [
    "# Run experiment over all the model configurations in model_list\n",
    "# These parameter configurations have been found using our grid search tool above.\n",
    "# They have been manually typed in to avoid recomputation each time, but you can load them from\n",
    "# *models_names*, *models* and *model_parameters* defined in the gridsearch\n",
    "\n",
    "results = []    \n",
    "model_list = [\n",
    "             ('MLP', model_0, (\"Adam\", 0.001, 16)),\n",
    "             ('Model 1', model_1, (\"Adam\", 0.002, 16)),\n",
    "             ('Model 1 WS', model_1_ws, (\"Adam\", 0.003, 16)),\n",
    "             ('Model 1 AUX2', model_1_aux2, (\"Adam\", 0.003, 16)),\n",
    "             ('Model 1 WS AUX2', model_1_ws_aux2, (\"Adam\", 0.003, 16)),\n",
    "             ('Model 2', model_2, (\"Adam\", 0.0005, 16)),\n",
    "             ('Model 2 WS', model_2_ws, (\"Adam\", 0.0005, 16)),\n",
    "             ('Model 2 AUX1', model_2_aux1, (\"Adam\", 0.001, 16)),\n",
    "             ('Model 2 AUX2', model_2_aux2, (\"Adam\", 0.002, 16)),\n",
    "             ('Model 2 WS AUX2', model_2_ws_aux2, (\"Adam\", 0.003, 16)),\n",
    "            ]"
   ]
  },
  {
   "cell_type": "code",
   "execution_count": 73,
   "metadata": {
    "scrolled": true
   },
   "outputs": [
    {
     "name": "stdout",
     "output_type": "stream",
     "text": [
      "Starting 20 training of 25 epochs, with model  'MLP' containing 58690 parameters. \n",
      "\n",
      "Attempt 1 - accuracy 82.40%\n",
      "Attempt 2 - accuracy 81.70%\n",
      "Attempt 3 - accuracy 80.10%\n",
      "Attempt 4 - accuracy 81.60%\n",
      "Attempt 5 - accuracy 81.50%\n",
      "Attempt 6 - accuracy 81.70%\n",
      "Attempt 7 - accuracy 81.50%\n",
      "Attempt 8 - accuracy 82.20%\n",
      "Attempt 9 - accuracy 80.20%\n",
      "Attempt 10 - accuracy 80.40%\n",
      "Attempt 11 - accuracy 81.20%\n",
      "Attempt 12 - accuracy 80.40%\n",
      "Attempt 13 - accuracy 81.20%\n",
      "Attempt 14 - accuracy 80.40%\n",
      "Attempt 15 - accuracy 81.30%\n",
      "Attempt 16 - accuracy 81.30%\n",
      "Attempt 17 - accuracy 82.00%\n",
      "Attempt 18 - accuracy 80.90%\n",
      "Attempt 19 - accuracy 80.40%\n",
      "Attempt 20 - accuracy 80.70%\n",
      "\n",
      "Experiment results :\n",
      "Accuracy mean : 81.16% (0.5)\n",
      "Average training time : 4.4 seconds (0.0)\n",
      "Average inference time : 0.0018 seconds (0.0000)\n",
      "================================================================================\n",
      "Starting 20 training of 25 epochs, with model  'Model 1' containing 13154 parameters. \n",
      "\n",
      "Attempt 1 - accuracy 81.90%\n",
      "Attempt 2 - accuracy 81.90%\n",
      "Attempt 3 - accuracy 82.80%\n",
      "Attempt 4 - accuracy 81.40%\n",
      "Attempt 5 - accuracy 83.20%\n",
      "Attempt 6 - accuracy 83.30%\n",
      "Attempt 7 - accuracy 82.70%\n",
      "Attempt 8 - accuracy 82.20%\n",
      "Attempt 9 - accuracy 83.70%\n",
      "Attempt 10 - accuracy 81.10%\n",
      "Attempt 11 - accuracy 82.80%\n",
      "Attempt 12 - accuracy 83.20%\n",
      "Attempt 13 - accuracy 82.50%\n",
      "Attempt 14 - accuracy 81.60%\n",
      "Attempt 15 - accuracy 81.00%\n",
      "Attempt 16 - accuracy 80.80%\n",
      "Attempt 17 - accuracy 82.50%\n",
      "Attempt 18 - accuracy 81.00%\n",
      "Attempt 19 - accuracy 82.70%\n",
      "Attempt 20 - accuracy 76.70%\n",
      "\n",
      "Experiment results :\n",
      "Accuracy mean : 81.95% (2.2)\n",
      "Average training time : 5.1 seconds (0.0)\n",
      "Average inference time : 0.0023 seconds (0.0000)\n",
      "================================================================================\n",
      "Starting 20 training of 25 epochs, with model  'Model 1 WS' containing 6770 parameters. \n",
      "\n",
      "Attempt 1 - accuracy 80.80%\n",
      "Attempt 2 - accuracy 83.10%\n",
      "Attempt 3 - accuracy 82.40%\n",
      "Attempt 4 - accuracy 83.30%\n",
      "Attempt 5 - accuracy 79.70%\n",
      "Attempt 6 - accuracy 80.50%\n",
      "Attempt 7 - accuracy 81.00%\n",
      "Attempt 8 - accuracy 81.80%\n",
      "Attempt 9 - accuracy 80.60%\n",
      "Attempt 10 - accuracy 82.10%\n",
      "Attempt 11 - accuracy 83.50%\n",
      "Attempt 12 - accuracy 81.70%\n",
      "Attempt 13 - accuracy 82.30%\n",
      "Attempt 14 - accuracy 83.30%\n",
      "Attempt 15 - accuracy 82.00%\n",
      "Attempt 16 - accuracy 80.30%\n",
      "Attempt 17 - accuracy 81.90%\n",
      "Attempt 18 - accuracy 81.90%\n",
      "Attempt 19 - accuracy 82.20%\n",
      "Attempt 20 - accuracy 80.60%\n",
      "\n",
      "Experiment results :\n",
      "Accuracy mean : 81.75% (1.1)\n",
      "Average training time : 7.1 seconds (0.0)\n",
      "Average inference time : 0.0027 seconds (0.0000)\n",
      "================================================================================\n",
      "Starting 20 training of 25 epochs, with model  'Model 1 AUX2' containing 54686 parameters. \n",
      "\n",
      "Attempt 1 - accuracy 88.80%  -- d1 : 82.20% , d2 : 84.60%\n",
      "Attempt 2 - accuracy 88.40%  -- d1 : 82.50% , d2 : 86.00%\n",
      "Attempt 3 - accuracy 90.10%  -- d1 : 84.60% , d2 : 84.80%\n",
      "Attempt 4 - accuracy 91.30%  -- d1 : 83.50% , d2 : 88.10%\n",
      "Attempt 5 - accuracy 87.90%  -- d1 : 83.90% , d2 : 83.50%\n",
      "Attempt 6 - accuracy 92.10%  -- d1 : 87.10% , d2 : 85.30%\n",
      "Attempt 7 - accuracy 90.90%  -- d1 : 83.60% , d2 : 87.90%\n",
      "Attempt 8 - accuracy 91.60%  -- d1 : 85.30% , d2 : 89.80%\n",
      "Attempt 9 - accuracy 89.70%  -- d1 : 84.40% , d2 : 85.80%\n",
      "Attempt 10 - accuracy 90.20%  -- d1 : 86.50% , d2 : 88.10%\n",
      "Attempt 11 - accuracy 90.80%  -- d1 : 84.00% , d2 : 88.30%\n",
      "Attempt 12 - accuracy 91.30%  -- d1 : 85.40% , d2 : 87.20%\n",
      "Attempt 13 - accuracy 90.60%  -- d1 : 84.80% , d2 : 85.40%\n",
      "Attempt 14 - accuracy 91.30%  -- d1 : 88.40% , d2 : 86.00%\n",
      "Attempt 15 - accuracy 91.20%  -- d1 : 83.20% , d2 : 87.80%\n",
      "Attempt 16 - accuracy 91.50%  -- d1 : 85.70% , d2 : 86.60%\n",
      "Attempt 17 - accuracy 90.90%  -- d1 : 86.30% , d2 : 86.30%\n",
      "Attempt 18 - accuracy 89.90%  -- d1 : 87.00% , d2 : 82.60%\n",
      "Attempt 19 - accuracy 90.70%  -- d1 : 85.70% , d2 : 86.30%\n",
      "Attempt 20 - accuracy 91.50%  -- d1 : 85.80% , d2 : 85.60%\n",
      "\n",
      "Experiment results :\n",
      "Accuracy mean : 90.54% (1.2)\n",
      "Average training time : 9.5 seconds (0.0)\n",
      "Average inference time : 0.0032 seconds (0.0000)\n",
      "================================================================================\n",
      "Starting 20 training of 25 epochs, with model  'Model 1 WS AUX2' containing 31508 parameters. \n",
      "\n",
      "Attempt 1 - accuracy 97.10%  -- d1 : 96.50% , d2 : 95.50%\n",
      "Attempt 2 - accuracy 96.80%  -- d1 : 95.60% , d2 : 95.70%\n",
      "Attempt 3 - accuracy 97.00%  -- d1 : 95.70% , d2 : 95.30%\n",
      "Attempt 4 - accuracy 96.50%  -- d1 : 95.70% , d2 : 95.40%\n",
      "Attempt 5 - accuracy 96.30%  -- d1 : 94.50% , d2 : 94.70%\n",
      "Attempt 6 - accuracy 96.50%  -- d1 : 95.90% , d2 : 94.70%\n",
      "Attempt 7 - accuracy 94.20%  -- d1 : 93.30% , d2 : 91.50%\n",
      "Attempt 8 - accuracy 95.40%  -- d1 : 92.80% , d2 : 93.80%\n",
      "Attempt 9 - accuracy 95.00%  -- d1 : 93.60% , d2 : 93.10%\n",
      "Attempt 10 - accuracy 96.70%  -- d1 : 95.80% , d2 : 94.60%\n",
      "Attempt 11 - accuracy 96.70%  -- d1 : 95.40% , d2 : 94.80%\n",
      "Attempt 12 - accuracy 96.20%  -- d1 : 94.50% , d2 : 93.90%\n",
      "Attempt 13 - accuracy 95.10%  -- d1 : 94.60% , d2 : 93.90%\n",
      "Attempt 14 - accuracy 96.80%  -- d1 : 94.80% , d2 : 95.00%\n",
      "Attempt 15 - accuracy 95.40%  -- d1 : 93.90% , d2 : 92.60%\n",
      "Attempt 16 - accuracy 97.40%  -- d1 : 96.20% , d2 : 95.20%\n",
      "Attempt 17 - accuracy 93.60%  -- d1 : 94.10% , d2 : 92.80%\n",
      "Attempt 18 - accuracy 96.30%  -- d1 : 95.70% , d2 : 95.30%\n",
      "Attempt 19 - accuracy 96.20%  -- d1 : 95.30% , d2 : 95.00%\n",
      "Attempt 20 - accuracy 96.70%  -- d1 : 95.20% , d2 : 94.30%\n",
      "\n",
      "Experiment results :\n",
      "Accuracy mean : 96.09% (1.0)\n",
      "Average training time : 11.0 seconds (0.7)\n",
      "Average inference time : 0.0044 seconds (0.0000)\n",
      "================================================================================\n",
      "Starting 20 training of 25 epochs, with model  'Model 2' containing 113506 parameters. \n",
      "\n",
      "Attempt 1 - accuracy 83.20%\n",
      "Attempt 2 - accuracy 81.10%\n",
      "Attempt 3 - accuracy 84.30%\n",
      "Attempt 4 - accuracy 82.10%\n",
      "Attempt 5 - accuracy 81.20%\n",
      "Attempt 6 - accuracy 82.70%\n",
      "Attempt 7 - accuracy 83.80%\n",
      "Attempt 8 - accuracy 83.60%\n",
      "Attempt 9 - accuracy 80.40%\n",
      "Attempt 10 - accuracy 80.70%\n",
      "Attempt 11 - accuracy 83.50%\n",
      "Attempt 12 - accuracy 81.70%\n",
      "Attempt 13 - accuracy 81.90%\n",
      "Attempt 14 - accuracy 84.10%\n",
      "Attempt 15 - accuracy 82.50%\n",
      "Attempt 16 - accuracy 82.50%\n",
      "Attempt 17 - accuracy 82.10%\n",
      "Attempt 18 - accuracy 82.30%\n",
      "Attempt 19 - accuracy 81.40%\n",
      "Attempt 20 - accuracy 81.70%\n",
      "\n",
      "Experiment results :\n",
      "Accuracy mean : 82.34% (1.2)\n",
      "Average training time : 8.1 seconds (0.0)\n",
      "Average inference time : 0.0046 seconds (0.0000)\n",
      "================================================================================\n",
      "Starting 20 training of 25 epochs, with model  'Model 2 WS' containing 56114 parameters. \n",
      "\n",
      "Attempt 1 - accuracy 84.00%\n",
      "Attempt 2 - accuracy 83.60%\n",
      "Attempt 3 - accuracy 84.70%\n",
      "Attempt 4 - accuracy 85.40%\n",
      "Attempt 5 - accuracy 83.00%\n",
      "Attempt 6 - accuracy 83.50%\n",
      "Attempt 7 - accuracy 82.70%\n",
      "Attempt 8 - accuracy 83.70%\n",
      "Attempt 9 - accuracy 84.60%\n",
      "Attempt 10 - accuracy 84.40%\n",
      "Attempt 11 - accuracy 85.20%\n",
      "Attempt 12 - accuracy 84.20%\n",
      "Attempt 13 - accuracy 85.20%\n",
      "Attempt 14 - accuracy 84.80%\n",
      "Attempt 15 - accuracy 83.90%\n",
      "Attempt 16 - accuracy 83.90%\n",
      "Attempt 17 - accuracy 86.80%\n",
      "Attempt 18 - accuracy 84.20%\n",
      "Attempt 19 - accuracy 82.90%\n",
      "Attempt 20 - accuracy 84.50%\n",
      "\n",
      "Experiment results :\n",
      "Accuracy mean : 84.26% (0.9)\n",
      "Average training time : 11.3 seconds (0.1)\n",
      "Average inference time : 0.0054 seconds (0.0000)\n",
      "================================================================================\n",
      "Starting 20 training of 25 epochs, with model  'Model 2 AUX1' containing 119780 parameters. \n",
      "\n",
      "Attempt 1 - accuracy 83.40%  -- intermed_accuracy : 83.60%\n",
      "Attempt 2 - accuracy 83.40%  -- intermed_accuracy : 83.10%\n",
      "Attempt 3 - accuracy 81.70%  -- intermed_accuracy : 82.50%\n",
      "Attempt 4 - accuracy 82.70%  -- intermed_accuracy : 80.40%\n",
      "Attempt 5 - accuracy 84.60%  -- intermed_accuracy : 83.70%\n",
      "Attempt 6 - accuracy 82.70%  -- intermed_accuracy : 81.10%\n",
      "Attempt 7 - accuracy 82.40%  -- intermed_accuracy : 83.80%\n",
      "Attempt 8 - accuracy 84.20%  -- intermed_accuracy : 84.10%\n",
      "Attempt 9 - accuracy 82.20%  -- intermed_accuracy : 83.90%\n",
      "Attempt 10 - accuracy 83.90%  -- intermed_accuracy : 81.40%\n",
      "Attempt 11 - accuracy 83.60%  -- intermed_accuracy : 83.20%\n",
      "Attempt 12 - accuracy 82.30%  -- intermed_accuracy : 82.30%\n"
     ]
    },
    {
     "name": "stdout",
     "output_type": "stream",
     "text": [
      "Attempt 13 - accuracy 83.30%  -- intermed_accuracy : 80.00%\n",
      "Attempt 14 - accuracy 82.30%  -- intermed_accuracy : 81.60%\n",
      "Attempt 15 - accuracy 82.40%  -- intermed_accuracy : 81.60%\n",
      "Attempt 16 - accuracy 83.60%  -- intermed_accuracy : 82.00%\n",
      "Attempt 17 - accuracy 82.10%  -- intermed_accuracy : 83.50%\n",
      "Attempt 18 - accuracy 82.40%  -- intermed_accuracy : 83.80%\n",
      "Attempt 19 - accuracy 83.20%  -- intermed_accuracy : 82.80%\n",
      "Attempt 20 - accuracy 82.40%  -- intermed_accuracy : 82.70%\n",
      "\n",
      "Experiment results :\n",
      "Accuracy mean : 82.94% (0.6)\n",
      "Average training time : 9.9 seconds (0.1)\n",
      "Average inference time : 0.0053 seconds (0.0000)\n",
      "================================================================================\n",
      "Starting 20 training of 25 epochs, with model  'Model 2 AUX2' containing 171166 parameters. \n",
      "\n",
      "Attempt 1 - accuracy 90.40%  -- d1 : 86.90% , d2 : 85.30%\n",
      "Attempt 2 - accuracy 90.50%  -- d1 : 85.90% , d2 : 88.50%\n",
      "Attempt 3 - accuracy 91.50%  -- d1 : 86.20% , d2 : 86.60%\n",
      "Attempt 4 - accuracy 90.30%  -- d1 : 86.00% , d2 : 84.80%3\n",
      "Attempt 5 - accuracy 90.80%  -- d1 : 83.20% , d2 : 86.40%\n",
      "Attempt 6 - accuracy 89.80%  -- d1 : 84.50% , d2 : 85.60%8\n",
      "Attempt 7 - accuracy 91.80%  -- d1 : 89.90% , d2 : 88.10%\n",
      "Attempt 8 - accuracy 91.40%  -- d1 : 87.20% , d2 : 87.90%7\n",
      "Attempt 9 - accuracy 91.10%  -- d1 : 88.20% , d2 : 86.00%9\n",
      "Attempt 10 - accuracy 91.20%  -- d1 : 86.40% , d2 : 87.60%\n",
      "Attempt 11 - accuracy 90.70%  -- d1 : 86.30% , d2 : 85.00%\n",
      "Attempt 12 - accuracy 91.00%  -- d1 : 87.10% , d2 : 90.30%\n",
      "Attempt 13 - accuracy 88.50%  -- d1 : 84.10% , d2 : 83.40%\n",
      "Attempt 14 - accuracy 90.60%  -- d1 : 83.80% , d2 : 87.60%\n",
      "Attempt 15 - accuracy 91.80%  -- d1 : 88.50% , d2 : 88.50%\n",
      "Attempt 16 - accuracy 90.50%  -- d1 : 85.40% , d2 : 85.20%\n",
      "Attempt 17 - accuracy 90.80%  -- d1 : 85.50% , d2 : 88.90%\n",
      "Attempt 18 - accuracy 92.30%  -- d1 : 89.40% , d2 : 88.00%\n",
      "Attempt 19 - accuracy 88.90%  -- d1 : 84.10% , d2 : 85.80%\n",
      "Attempt 20 - accuracy 89.50%  -- d1 : 82.70% , d2 : 88.00%\n",
      "\n",
      "Experiment results :\n",
      "Accuracy mean : 90.67% (0.9)\n",
      "Average training time : 12.8 seconds (0.1)\n",
      "Average inference time : 0.0058 seconds (0.0000)\n",
      "================================================================================\n",
      "Starting 20 training of 25 epochs, with model  'Model 2 WS AUX2' containing 139028 parameters. \n",
      "\n",
      "Attempt 1 - accuracy 97.10%  -- d1 : 95.80% , d2 : 95.40%\n",
      "Attempt 2 - accuracy 96.30%  -- d1 : 95.70% , d2 : 95.40%\n",
      "Attempt 3 - accuracy 96.50%  -- d1 : 96.70% , d2 : 94.80%\n",
      "Attempt 4 - accuracy 96.60%  -- d1 : 95.60% , d2 : 96.00%\n",
      "Attempt 5 - accuracy 97.50%  -- d1 : 96.10% , d2 : 95.70%\n",
      "Attempt 6 - accuracy 97.10%  -- d1 : 96.20% , d2 : 94.80%\n",
      "Attempt 7 - accuracy 96.30%  -- d1 : 96.10% , d2 : 95.10%\n",
      "Attempt 8 - accuracy 96.70%  -- d1 : 95.70% , d2 : 96.10%\n",
      "Attempt 9 - accuracy 97.00%  -- d1 : 96.10% , d2 : 95.40%\n",
      "Attempt 10 - accuracy 96.20%  -- d1 : 95.80% , d2 : 95.90%\n",
      "Attempt 11 - accuracy 96.90%  -- d1 : 96.10% , d2 : 95.80%\n",
      "Attempt 12 - accuracy 95.10%  -- d1 : 94.30% , d2 : 93.70%\n",
      "Attempt 13 - accuracy 95.50%  -- d1 : 95.00% , d2 : 93.90%\n",
      "Attempt 14 - accuracy 96.30%  -- d1 : 93.80% , d2 : 94.40%\n",
      "Attempt 15 - accuracy 96.90%  -- d1 : 96.40% , d2 : 95.90%\n",
      "Attempt 16 - accuracy 96.90%  -- d1 : 96.10% , d2 : 95.30%\n",
      "Attempt 17 - accuracy 97.20%  -- d1 : 95.80% , d2 : 96.20%\n",
      "Attempt 18 - accuracy 95.20%  -- d1 : 92.70% , d2 : 92.80%\n",
      "Attempt 19 - accuracy 97.80%  -- d1 : 96.50% , d2 : 95.90%\n",
      "Attempt 20 - accuracy 96.00%  -- d1 : 95.50% , d2 : 95.30%\n",
      "\n",
      "Experiment results :\n",
      "Accuracy mean : 96.56% (0.5)\n",
      "Average training time : 14.4 seconds (0.2)\n",
      "Average inference time : 0.0087 seconds (0.0000)\n",
      "================================================================================\n",
      "1870.679057598114\n"
     ]
    }
   ],
   "source": [
    "start = time.time()\n",
    "for model_params in model_list :\n",
    "    results.append((experiment_model(*model_params), model_params))\n",
    "print(time.time() - start)"
   ]
  },
  {
   "cell_type": "markdown",
   "metadata": {},
   "source": [
    "## Results comparision between models"
   ]
  },
  {
   "cell_type": "code",
   "execution_count": 109,
   "metadata": {},
   "outputs": [
    {
     "data": {
      "image/png": "[encoded data removed]",
      "text/plain": [
       "<Figure size 1152x576 with 1 Axes>"
      ]
     },
     "metadata": {
      "needs_background": "light"
     },
     "output_type": "display_data"
    }
   ],
   "source": [
    "# Make a boxplot of the model experiments above\n",
    "plt.figure(figsize=(16, 8))\n",
    "plt.boxplot([x[0] for x in results], labels = [\"_\".join(x[1][0].replace(\"Model\", \"\").strip().split(\" \")) for x in results])\n",
    "plt.grid(True)\n",
    "plt.xlabel(\"Model_\", fontsize= 15, fontweight = \"bold\")\n",
    "plt.ylabel(\"Accuracy\", fontsize= 15, fontweight = \"bold\")\n",
    "plt.xticks(fontsize=15)\n",
    "plt.yticks(fontsize=20)\n",
    "plt.savefig(\"boxplot.png\")\n",
    "plt.show()"
   ]
  },
  {
   "cell_type": "code",
   "execution_count": 145,
   "metadata": {
    "scrolled": true
   },
   "outputs": [
    {
     "name": "stdout",
     "output_type": "stream",
     "text": [
      "Epoch 24: loss 27.515 --- loss_d1 0.88 --- loss_d2 1.2949\r"
     ]
    }
   ],
   "source": [
    "m = model_1_ws_aux2()\n",
    "m.cuda()\n",
    "\n",
    "accs = train_model(m, \n",
    "            x_train[list(range(1000))].to(device),\n",
    "            y_train[list(range(1000))].to(device),\n",
    "            y_train_classes[list(range(1000))].to(device),\n",
    "            epochs = 25, \n",
    "            optimizer= torch.optim.Adam(m.parameters(), lr=0.0005), \n",
    "            batch_size = 16,\n",
    "            output_length = 3)"
   ]
  },
  {
   "cell_type": "code",
   "execution_count": 146,
   "metadata": {},
   "outputs": [
    {
     "data": {
      "text/plain": [
       "(93.7, 95.0, 93.89999999999999)"
      ]
     },
     "execution_count": 146,
     "metadata": {},
     "output_type": "execute_result"
    }
   ],
   "source": [
    "evaluate_model(m, \n",
    "                x_test.to(device),\n",
    "                y_test.to(device),\n",
    "                y_test_classes.to(device),\n",
    "                output_length = 3)"
   ]
  },
  {
   "cell_type": "code",
   "execution_count": 140,
   "metadata": {},
   "outputs": [],
   "source": [
    "zeros = torch.Tensor([0, 0, 0, 0, 0, 0, 0, 0, 0, 0])\n",
    "heat = torch.zeros(10, 10)\n",
    "\n",
    "for i in range(10):\n",
    "    for j in range(10):\n",
    "        l = zeros.clone()\n",
    "        l[i] = 1\n",
    "        r = zeros.clone()\n",
    "        r[j] = 1\n",
    "        v = torch.softmax(m.dense2.forward(torch.cat((l, r), 0).to(device)), -1)[1].item()\n",
    "        heat[i][j] = v"
   ]
  },
  {
   "cell_type": "code",
   "execution_count": 174,
   "metadata": {},
   "outputs": [],
   "source": [
    "zeros = torch.Tensor([0, 0, 0, 0, 0, 0, 0, 0, 0, 0])\n",
    "heat2 = torch.zeros(10, 10)\n",
    "\n",
    "for i in range(10):\n",
    "    for j in range(10):\n",
    "        l = zeros.clone()\n",
    "        if i == 0:\n",
    "            l[i+1] += 0.25\n",
    "        else:\n",
    "            l[i-1] += 0.25\n",
    "            \n",
    "        if i == 9:\n",
    "            l[i-1] += 0.25\n",
    "        else :\n",
    "            l[i+1] += 0.25\n",
    "        l[i] += 0.5\n",
    "        \n",
    "        r = zeros.clone()\n",
    "        if j == 0:\n",
    "            r[j+1] += 0.25\n",
    "        else:\n",
    "            r[j-1] += 0.25\n",
    "            \n",
    "        if j == 9:\n",
    "            r[j-1] += 0.25\n",
    "        else :\n",
    "            r[j+1] += 0.25\n",
    "        r[j] += 0.5\n",
    "        \n",
    "        v = torch.softmax(m.dense2.forward(torch.cat((l, r), 0).to(device)), -1)[1].item()\n",
    "        heat2[i][j] = v"
   ]
  },
  {
   "cell_type": "code",
   "execution_count": 180,
   "metadata": {},
   "outputs": [],
   "source": [
    "left = torch.Tensor([0, 0, 0, 0.5, 0, 0, 0, 0, 0, 0])\n",
    "right = torch.Tensor([0, 0, 0, 0, 0, 0, 0.5, 0, 0, 0])\n",
    "heat3 = torch.zeros(10, 10)\n",
    "\n",
    "for i in range(10):\n",
    "    for j in range(10):\n",
    "        l = left.clone()\n",
    "        l[i] += 0.5\n",
    "        \n",
    "        r = right.clone()\n",
    "        r[j] += 0.5\n",
    "        \n",
    "        v = torch.softmax(m.dense2.forward(torch.cat((l, r), 0).to(device)), -1)[1].item()\n",
    "        heat3[i][j] = v"
   ]
  },
  {
   "cell_type": "code",
   "execution_count": 181,
   "metadata": {},
   "outputs": [
    {
     "data": {
      "image/png": "[encoded data removed]",
      "text/plain": [
       "<Figure size 432x360 with 2 Axes>"
      ]
     },
     "metadata": {
      "needs_background": "light"
     },
     "output_type": "display_data"
    }
   ],
   "source": [
    "plt.figure(figsize=(6,5))\n",
    "\n",
    "ax = sns.heatmap(heat3)\n",
    "ax.invert_yaxis()\n",
    "ax.set_title(\"Output probability of left <= right digit\", fontsize= 16)\n",
    "ax.set_xlabel(\"Right Digit\", fontsize= 14)\n",
    "ax.set_ylabel(\"Left Digit\", fontsize= 14)\n",
    "None\n",
    "# plt.savefig(\"output_prob.png\")"
   ]
  },
  {
   "cell_type": "code",
   "execution_count": 150,
   "metadata": {},
   "outputs": [],
   "source": [
    "import seaborn as sns"
   ]
  },
  {
   "cell_type": "code",
   "execution_count": 176,
   "metadata": {},
   "outputs": [
    {
     "data": {
      "image/png": "[encoded data removed]",
      "text/plain": [
       "<Figure size 432x360 with 2 Axes>"
      ]
     },
     "metadata": {
      "needs_background": "light"
     },
     "output_type": "display_data"
    }
   ],
   "source": [
    "plt.figure(figsize=(6,5))\n",
    "\n",
    "ax = sns.heatmap(heat2)\n",
    "ax.invert_yaxis()\n",
    "ax.set_title(\"Output probability of left <= right digit\", fontsize= 16)\n",
    "ax.set_xlabel(\"Right Digit\", fontsize= 14)\n",
    "ax.set_ylabel(\"Left Digit\", fontsize= 14)\n",
    "None\n",
    "# plt.savefig(\"output_prob.png\")"
   ]
  },
  {
   "cell_type": "code",
   "execution_count": 182,
   "metadata": {
    "scrolled": false
   },
   "outputs": [
    {
     "data": {
      "image/png": "[encoded data removed]",
      "text/plain": [
       "<Figure size 432x360 with 2 Axes>"
      ]
     },
     "metadata": {
      "needs_background": "light"
     },
     "output_type": "display_data"
    }
   ],
   "source": [
    "plt.figure(figsize=(6,5))\n",
    "\n",
    "ax = sns.heatmap(heat)\n",
    "ax.invert_yaxis()\n",
    "ax.set_title(\"Output probability of left <= right digit\", fontsize= 16)\n",
    "ax.set_xlabel(\"Right Digit\", fontsize= 14)\n",
    "ax.set_ylabel(\"Left Digit\", fontsize= 14)\n",
    "\n",
    "plt.savefig(\"output_prob.png\")"
   ]
  },
  {
   "cell_type": "code",
   "execution_count": 129,
   "metadata": {},
   "outputs": [
    {
     "data": {
      "text/plain": [
       "tensor([1., 0., 0., 0., 0., 0., 0., 0., 0., 0.])"
      ]
     },
     "execution_count": 129,
     "metadata": {},
     "output_type": "execute_result"
    }
   ],
   "source": [
    "test = zeros.clone()\n",
    "test[0] = 1\n",
    "test"
   ]
  },
  {
   "cell_type": "code",
   "execution_count": 179,
   "metadata": {
    "scrolled": true
   },
   "outputs": [
    {
     "data": {
      "text/plain": [
       "0.8415480256080627"
      ]
     },
     "execution_count": 179,
     "metadata": {},
     "output_type": "execute_result"
    }
   ],
   "source": [
    "t1 = torch.Tensor([0.5, 0, 0, 0, 0.5, 0, 0, 0, 0, 0])\n",
    "t2 = torch.Tensor([0, 0, 0, 0, 0, 0, 0, 0, 0.5, 0.5])\n",
    "\n",
    "torch.softmax(m.dense2.forward(torch.cat((t1, t2), 0).to(device)), -1)[1].item()"
   ]
  },
  {
   "cell_type": "code",
   "execution_count": null,
   "metadata": {},
   "outputs": [],
   "source": [
    "t1 = torch.Tensor([0.5, 0, 0, 0, 0.5, 0, 0, 0, 0, 0])\n",
    "t2 = torch.Tensor([0, 0, 0, 0, 0, 0, 0, 0, 0.5, 0.5])\n",
    "\n",
    "torch.softmax(m.dense2.forward(torch.cat((t1, t2), 0).to(device)), -1)[1].item()"
   ]
  },
  {
   "cell_type": "code",
   "execution_count": 120,
   "metadata": {},
   "outputs": [
    {
     "data": {
      "text/plain": [
       "tensor([1., 0., 0., 0., 0., 0., 0., 0., 0., 0.])"
      ]
     },
     "execution_count": 120,
     "metadata": {},
     "output_type": "execute_result"
    }
   ],
   "source": [
    "t1 = torch.Tensor([0, 0, 0, 0, 0, 0, 0, 0, 0, 0])\n",
    "t1[0] = 1\n",
    "t1"
   ]
  }
 ],
 "metadata": {
  "kernelspec": {
   "display_name": "Python 3",
   "language": "python",
   "name": "python3"
  },
  "language_info": {
   "codemirror_mode": {
    "name": "ipython",
    "version": 3
   },
   "file_extension": ".py",
   "mimetype": "text/x-python",
   "name": "python",
   "nbconvert_exporter": "python",
   "pygments_lexer": "ipython3",
   "version": "3.8.2"
  }
 },
 "nbformat": 4,
 "nbformat_minor": 4
}
