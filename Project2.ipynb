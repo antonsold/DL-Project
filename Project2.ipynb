{
 "cells": [
  {
   "cell_type": "markdown",
   "metadata": {},
   "source": [
    "# Project 2"
   ]
  },
  {
   "cell_type": "code",
   "execution_count": 1,
   "metadata": {},
   "outputs": [
    {
     "data": {
      "text/plain": [
       "<torch.autograd.grad_mode.set_grad_enabled at 0x189004afa08>"
      ]
     },
     "execution_count": 1,
     "metadata": {},
     "output_type": "execute_result"
    }
   ],
   "source": [
    "import torch\n",
    "import math\n",
    "torch.set_grad_enabled(False)"
   ]
  },
  {
   "cell_type": "code",
   "execution_count": 2,
   "metadata": {},
   "outputs": [],
   "source": [
    "class Module(object):\n",
    "    def __init__(self):\n",
    "        self.parameters = []\n",
    "        \n",
    "    def forward(self, *input):\n",
    "        raise NotImplementedError\n",
    "        \n",
    "    def backward(self, *gradwrtoutput):\n",
    "        raise NotImplementedError\n",
    "        \n",
    "    def param(self):\n",
    "        return self.parameters"
   ]
  },
  {
   "cell_type": "code",
   "execution_count": 3,
   "metadata": {},
   "outputs": [],
   "source": [
    "class Linear(Module):\n",
    "    def __init__(self, in_features, out_features, bias=False):\n",
    "        init_range = math.sqrt(in_features)\n",
    "        self.weights = torch.Tensor(in_features, out_features).uniform_(-init_range, init_range)\n",
    "        self.grad_w = torch.zeros((in_features, out_features))\n",
    "        self.parameters = [(self.weights, self.grad_w)]\n",
    "        if bias:\n",
    "            self.bias = torch.Tensor(out_features).uniform_(-init_range, init_range)\n",
    "            self.grad_b = torch.zeros(out_features)\n",
    "            self.parameters.append((self.bias, self.grad_b))\n",
    "        else:\n",
    "            self.bias = None\n",
    "        \n",
    "    def forward(self, input_):\n",
    "        self.input = input_\n",
    "        if self.bias != None:\n",
    "            return torch.addmm(self.bias, input_, self.weights)\n",
    "        else:\n",
    "            return input_.matmul(self.weights)\n",
    "        \n",
    "    def backward(self, grad_output):\n",
    "        self.grad_w += self.input.t().matmul(grad_output)\n",
    "        grad_input = grad_output.matmul(self.weights.t())\n",
    "        if self.bias != None:\n",
    "            self.grad_b += grad_output.sum(dim=0)\n",
    "        return grad_input"
   ]
  },
  {
   "cell_type": "code",
   "execution_count": 4,
   "metadata": {},
   "outputs": [],
   "source": [
    "class ReLU(Module):\n",
    "    \n",
    "    def forward(self, input_):\n",
    "        self.input = input_\n",
    "        return torch.relu(input_)\n",
    "    \n",
    "    def backward(self, grad_output):\n",
    "        return torch.mul((self.input > 0).int(), grad_output)"
   ]
  },
  {
   "cell_type": "code",
   "execution_count": 5,
   "metadata": {},
   "outputs": [],
   "source": [
    "class MSELoss(Module):\n",
    "    def __init__(self):\n",
    "        pass\n",
    "    \n",
    "    def forward(self, input_, target):\n",
    "        if target.dim() == 1:\n",
    "            target = target.view(target.size(0), 1)\n",
    "        return (input_ - target).pow(2).sum()\n",
    "    \n",
    "    def backward(self, input_, target):\n",
    "        if target.dim() == 1:\n",
    "            target = target.view(target.size(0), 1)\n",
    "        \n",
    "        return (input_ - target).mul(2)"
   ]
  },
  {
   "cell_type": "code",
   "execution_count": 6,
   "metadata": {},
   "outputs": [],
   "source": [
    "class Sequential(Module):\n",
    "    def __init__(self, *args):\n",
    "        self.parameters = []\n",
    "        for module in args:\n",
    "            self.parameters += module.parameters"
   ]
  },
  {
   "cell_type": "code",
   "execution_count": 7,
   "metadata": {},
   "outputs": [],
   "source": [
    "def generate_set(size):\n",
    "    input_ = torch.Tensor(size, 2).uniform_(0, 1)\n",
    "    target = input_.sub(0.5).pow(2).sum(axis=1).sub(1 / math.pi ** 2).sign().add(1).div(2)\n",
    "    return input_, target\n",
    "\n",
    "train_input, train_target = generate_set(20)\n",
    "test_input, test_target = generate_set(20)"
   ]
  },
  {
   "cell_type": "code",
   "execution_count": 8,
   "metadata": {},
   "outputs": [],
   "source": [
    "class Model:\n",
    "    def __init__(self, layers):\n",
    "        self.layers = layers\n",
    "        self.parameters = []\n",
    "        for layer in layers:\n",
    "            self.parameters += layer.parameters\n",
    "    \n",
    "    def zero_grad(self):\n",
    "        for w, dw in self.parameters:\n",
    "            dw.zero_()\n",
    "    \n",
    "    def forward(self, input_):\n",
    "        x = input_\n",
    "        for layer in self.layers:\n",
    "            x = layer.forward(x)\n",
    "        return x\n",
    "    \n",
    "    def backward(self, loss_grad):\n",
    "        y = loss_grad\n",
    "        for layer in reversed(self.layers):\n",
    "            y = layer.backward(y)\n",
    "        return"
   ]
  },
  {
   "cell_type": "code",
   "execution_count": 9,
   "metadata": {},
   "outputs": [],
   "source": [
    "class SGD:\n",
    "    def __init__(self, parameters, learning_rate):\n",
    "        self.parameters = parameters\n",
    "        self.learning_rate = learning_rate\n",
    "        \n",
    "    def step(self):\n",
    "        for w, dw in self.parameters:\n",
    "            w -= self.learning_rate * dw"
   ]
  },
  {
   "cell_type": "code",
   "execution_count": 10,
   "metadata": {},
   "outputs": [],
   "source": [
    "layers = [Linear(2, 10), ReLU(), Linear(10, 5), ReLU(), Linear(5, 1)]\n",
    "model = Model(layers)\n",
    "sgd = SGD(model.parameters, 0.0001)\n",
    "loss = MSELoss()"
   ]
  },
  {
   "cell_type": "code",
   "execution_count": 11,
   "metadata": {},
   "outputs": [
    {
     "name": "stdout",
     "output_type": "stream",
     "text": [
      "0\n",
      "40.804527282714844\n",
      "1\n",
      "38.16957092285156\n",
      "2\n",
      "35.781131744384766\n",
      "3\n",
      "33.610416412353516\n",
      "4\n",
      "31.632753372192383\n",
      "5\n",
      "29.82686996459961\n",
      "6\n",
      "28.174400329589844\n",
      "7\n",
      "26.65934944152832\n",
      "8\n",
      "25.267751693725586\n",
      "9\n",
      "23.97368621826172\n",
      "10\n",
      "22.728851318359375\n",
      "11\n",
      "21.584157943725586\n",
      "12\n",
      "20.52997398376465\n",
      "13\n",
      "19.55377960205078\n",
      "14\n",
      "18.647554397583008\n",
      "15\n",
      "17.809160232543945\n",
      "16\n",
      "17.032548904418945\n",
      "17\n",
      "16.31233024597168\n",
      "18\n",
      "15.643628120422363\n",
      "19\n",
      "15.022071838378906\n",
      "20\n",
      "14.44438648223877\n",
      "21\n",
      "13.908090591430664\n",
      "22\n",
      "13.407808303833008\n",
      "23\n",
      "12.935386657714844\n",
      "24\n",
      "12.489516258239746\n"
     ]
    }
   ],
   "source": [
    "for epoch in range(25):\n",
    "    print(epoch)\n",
    "    model.zero_grad()\n",
    "    output = model.forward(train_input)\n",
    "    print(loss.forward(output, train_target).item())\n",
    "    loss_grad = loss.backward(output, train_target)\n",
    "    model.backward(loss_grad)\n",
    "    sgd.step()"
   ]
  },
  {
   "cell_type": "code",
   "execution_count": null,
   "metadata": {},
   "outputs": [],
   "source": []
  }
 ],
 "metadata": {
  "kernelspec": {
   "display_name": "Python 3",
   "language": "python",
   "name": "python3"
  },
  "language_info": {
   "codemirror_mode": {
    "name": "ipython",
    "version": 3
   },
   "file_extension": ".py",
   "mimetype": "text/x-python",
   "name": "python",
   "nbconvert_exporter": "python",
   "pygments_lexer": "ipython3",
   "version": "3.7.5"
  }
 },
 "nbformat": 4,
 "nbformat_minor": 2
}
